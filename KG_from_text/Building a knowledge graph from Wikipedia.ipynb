{
 "cells": [
  {
   "cell_type": "markdown",
   "id": "e036a61f",
   "metadata": {},
   "source": [
    "[https://neptune.ai/blog/web-scraping-and-knowledge-graphs-machine-learning]"
   ]
  },
  {
   "cell_type": "code",
   "execution_count": 1,
   "id": "6e70fe18",
   "metadata": {},
   "outputs": [
    {
     "name": "stdout",
     "output_type": "stream",
     "text": [
      "Collecting wikipedia-api\n",
      "  Using cached Wikipedia_API-0.6.0-py3-none-any.whl (14 kB)\n",
      "Requirement already satisfied: requests in /home/ismail/anaconda3/lib/python3.9/site-packages (from wikipedia-api) (2.27.1)\n",
      "Requirement already satisfied: urllib3<1.27,>=1.21.1 in /home/ismail/anaconda3/lib/python3.9/site-packages (from requests->wikipedia-api) (1.26.9)\n",
      "Requirement already satisfied: certifi>=2017.4.17 in /home/ismail/anaconda3/lib/python3.9/site-packages (from requests->wikipedia-api) (2021.10.8)\n",
      "Requirement already satisfied: idna<4,>=2.5 in /home/ismail/anaconda3/lib/python3.9/site-packages (from requests->wikipedia-api) (3.3)\n",
      "Requirement already satisfied: charset-normalizer~=2.0.0 in /home/ismail/anaconda3/lib/python3.9/site-packages (from requests->wikipedia-api) (2.0.4)\n",
      "Installing collected packages: wikipedia-api\n",
      "Successfully installed wikipedia-api-0.6.0\n"
     ]
    }
   ],
   "source": [
    "! pip install wikipedia-api"
   ]
  },
  {
   "cell_type": "code",
   "execution_count": 6,
   "id": "7afaf1e2",
   "metadata": {},
   "outputs": [],
   "source": [
    "import wikipediaapi\n",
    "import pandas as pd\n",
    "import concurrent.futures\n",
    "from tqdm import tqdm\n",
    "\n",
    "import spacy\n",
    "import pandas as pd\n",
    "import requests"
   ]
  },
  {
   "cell_type": "code",
   "execution_count": 7,
   "id": "b5d506e8",
   "metadata": {},
   "outputs": [],
   "source": [
    "def scrape_wikipedia(name_topic, verbose=True, user_agent='Mozilla/5.0 (compatible; Googlebot/2.1; +http://www.google.com/bot.html)'):\n",
    "    def link_to_wikipedia(link):\n",
    "        try:\n",
    "            page = api_wikipedia.page(link)\n",
    "            if page.exists():\n",
    "                return {'page': link, 'text': page.text, 'link': page.fullurl, 'categories': list(page.categories.keys())}\n",
    "        except:\n",
    "            return None\n",
    "\n",
    "    api_wikipedia = wikipediaapi.Wikipedia(language='en', extract_format=wikipediaapi.ExtractFormat.WIKI, user_agent=user_agent)\n",
    "    name_of_page = api_wikipedia.page(name_topic)\n",
    "    if not name_of_page.exists():\n",
    "        print('Page {} is not present'.format(name_of_page))\n",
    "        return\n",
    "\n",
    "    links_to_page = list(name_of_page.links.keys())\n",
    "    procceed = tqdm(desc='Scraped links', unit='', total=len(links_to_page)) if verbose else None\n",
    "    origin = [{'page': name_topic, 'text': name_of_page.text, 'link': name_of_page.fullurl, 'categories': list(name_of_page.categories.keys())}]\n",
    "\n",
    "    with concurrent.futures.ThreadPoolExecutor(max_workers=8) as executor:\n",
    "        links_future = {executor.submit(link_to_wikipedia, link): link for link in links_to_page}\n",
    "        for future in concurrent.futures.as_completed(links_future):\n",
    "            info = future.result()\n",
    "            origin.append(info) if info else None\n",
    "            procceed.update(1) if verbose else None\n",
    "    procceed.close() if verbose else None\n",
    "\n",
    "    namespaces = ('Wikipedia', 'Special', 'Talk', 'LyricWiki', 'File', 'MediaWiki',\n",
    "                 'Template', 'Help', 'User', 'Category talk', 'Portal talk')\n",
    "    origin = pd.DataFrame(origin)\n",
    "    origin = origin[(len(origin['text']) > 20)\n",
    "                     & ~(origin['page'].str.startswith(namespaces, na=True))]\n",
    "    origin['categories'] = origin.categories.apply(lambda a: [b[9:] for b in a])\n",
    "\n",
    "    origin['topic'] = name_topic\n",
    "    print('Scraped pages', len(origin))\n",
    "\n",
    "    return origin"
   ]
  },
  {
   "cell_type": "code",
   "execution_count": 8,
   "id": "fac99631",
   "metadata": {},
   "outputs": [
    {
     "name": "stderr",
     "output_type": "stream",
     "text": [
      "Scraped links: 100%|██████████████████████████| 2389/2389 [02:39<00:00, 14.95/s]"
     ]
    },
    {
     "name": "stdout",
     "output_type": "stream",
     "text": [
      "Scraped pages 2138\n"
     ]
    },
    {
     "name": "stderr",
     "output_type": "stream",
     "text": [
      "\n"
     ]
    }
   ],
   "source": [
    "data_wikipedia = scrape_wikipedia('COVID 19')"
   ]
  },
  {
   "cell_type": "code",
   "execution_count": 11,
   "id": "2399fb8f",
   "metadata": {},
   "outputs": [],
   "source": [
    "data_wikipedia.to_csv('data/scraped_data.csv')"
   ]
  },
  {
   "cell_type": "code",
   "execution_count": 15,
   "id": "2238e3b9",
   "metadata": {},
   "outputs": [],
   "source": [
    "# ! python -m spacy download en_core_web_sm"
   ]
  },
  {
   "cell_type": "code",
   "execution_count": 16,
   "id": "bceda686",
   "metadata": {},
   "outputs": [],
   "source": [
    "from spacy import displacy\n",
    "from spacy.tokens import Span\n",
    "from spacy.matcher import Matcher\n",
    "\n",
    "nlp = spacy.load('en_core_web_sm')"
   ]
  },
  {
   "cell_type": "code",
   "execution_count": 17,
   "id": "4e59e6c6",
   "metadata": {},
   "outputs": [],
   "source": [
    "import networkx as ntx\n",
    "%matplotlib inline"
   ]
  },
  {
   "cell_type": "code",
   "execution_count": 19,
   "id": "97fad29f",
   "metadata": {},
   "outputs": [],
   "source": [
    "def extract_entities(sents):\n",
    "    # chunk one\n",
    "    enti_one = \"\"\n",
    "    enti_two = \"\"\n",
    "\n",
    "    dep_prev_token = \"\" # dependency tag of previous token in sentence\n",
    "\n",
    "    txt_prev_token = \"\" # previous token in sentence\n",
    "\n",
    "    prefix = \"\"\n",
    "    modifier = \"\"\n",
    "\n",
    "\n",
    "\n",
    "    for tokn in nlp(sents):\n",
    "       # chunk two\n",
    "       ## move to next token if token is punctuation\n",
    "\n",
    "        if tokn.dep_ != \"punct\":\n",
    "            #  check if token is compound word or not\n",
    "            if tokn.dep_ == \"compound\":\n",
    "                prefix = tokn.text\n",
    "                # add the current word to it if the previous word is 'compound’\n",
    "                if dep_prev_token == \"compound\":\n",
    "                    prefix = txt_prev_token + \" \"+ tokn.text\n",
    "\n",
    "            # verify if token is modifier or not\n",
    "            if tokn.dep_.endswith(\"mod\") == True:\n",
    "                modifier = tokn.text\n",
    "                # add it to the current word if the previous word is 'compound'\n",
    "                if dep_prev_token == \"compound\":\n",
    "                    modifier = txt_prev_token + \" \"+ tokn.text\n",
    "\n",
    "            # chunk3\n",
    "            if tokn.dep_.find(\"subj\") == True:\n",
    "                enti_one = modifier +\" \"+ prefix + \" \"+ tokn.text\n",
    "                prefix = \"\"\n",
    "                modifier = \"\"\n",
    "                dep_prev_token = \"\"\n",
    "                txt_prev_token = \"\"\n",
    "\n",
    "            # chunk4\n",
    "            if tokn.dep_.find(\"obj\") == True:\n",
    "                enti_two = modifier +\" \"+ prefix +\" \"+ tokn.text\n",
    "\n",
    "            # chunk 5\n",
    "            # update variable\n",
    "            dep_prev_token = tokn.dep_\n",
    "            txt_prev_token = tokn.text\n",
    "\n",
    "    return [enti_one.strip(), enti_two.strip()]"
   ]
  },
  {
   "cell_type": "code",
   "execution_count": 21,
   "id": "67ab206d",
   "metadata": {},
   "outputs": [
    {
     "name": "stderr",
     "output_type": "stream",
     "text": [
      "100%|███████████████████████████████████████████| 10/10 [00:15<00:00,  1.55s/it]\n"
     ]
    }
   ],
   "source": [
    "pairs_of_entities = []\n",
    "for i in tqdm(data_wikipedia['text'][:10]):\n",
    "    pairs_of_entities.append(extract_entities(i))"
   ]
  },
  {
   "cell_type": "code",
   "execution_count": 22,
   "id": "9a427396",
   "metadata": {},
   "outputs": [
    {
     "data": {
      "text/plain": [
       "[['2019 Novel Coronavirus', 'COVID syndrome assessment clinics'],\n",
       " ['= = =', '= = Notes'],\n",
       " ['who', 'Kary Cookies'],\n",
       " ['Tablighi thousands', 'Official Nizamuddin Markaz'],\n",
       " ['relevant SARS that', 'time'],\n",
       " ['Bara Kahu', 'pandemic Malaysia Pakistan'],\n",
       " ['stock  market', 'pandemic stock market Russia'],\n",
       " ['chimeric protein candidate', 'clinical  trials'],\n",
       " ['medical  who', '= = ='],\n",
       " ['August Internet method', 'Oral Education education']]"
      ]
     },
     "execution_count": 22,
     "metadata": {},
     "output_type": "execute_result"
    }
   ],
   "source": [
    "pairs_of_entities"
   ]
  },
  {
   "cell_type": "code",
   "execution_count": null,
   "id": "f96fc689",
   "metadata": {},
   "outputs": [],
   "source": []
  }
 ],
 "metadata": {
  "kernelspec": {
   "display_name": "Python 3 (ipykernel)",
   "language": "python",
   "name": "python3"
  },
  "language_info": {
   "codemirror_mode": {
    "name": "ipython",
    "version": 3
   },
   "file_extension": ".py",
   "mimetype": "text/x-python",
   "name": "python",
   "nbconvert_exporter": "python",
   "pygments_lexer": "ipython3",
   "version": "3.9.12"
  }
 },
 "nbformat": 4,
 "nbformat_minor": 5
}
