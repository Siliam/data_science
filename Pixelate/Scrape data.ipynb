{
 "cells": [
  {
   "cell_type": "markdown",
   "id": "8f3e1ef0",
   "metadata": {},
   "source": [
    "# Find the cards"
   ]
  },
  {
   "cell_type": "code",
   "execution_count": 3,
   "id": "aa3d9c69",
   "metadata": {},
   "outputs": [],
   "source": [
    "# ! pip install beautifulsoup4"
   ]
  },
  {
   "cell_type": "code",
   "execution_count": 1,
   "id": "4b9a78e8",
   "metadata": {},
   "outputs": [],
   "source": [
    "import os\n",
    "import requests\n",
    "from bs4 import BeautifulSoup"
   ]
  },
  {
   "cell_type": "code",
   "execution_count": 38,
   "id": "9065d890",
   "metadata": {},
   "outputs": [],
   "source": [
    "contents = {}\n",
    "for set_file in os.listdir('sets/'):\n",
    "    with open('sets/'+set_file) as f:\n",
    "        set_name = set_file[:-4]\n",
    "        contents[set_name] = ' '.join(l for l in f)"
   ]
  },
  {
   "cell_type": "code",
   "execution_count": 45,
   "id": "85f3245b",
   "metadata": {},
   "outputs": [],
   "source": [
    "set_cards = {}\n",
    "errors = []\n",
    "for set_name in contents:\n",
    "    set_cards[set_name] = []\n",
    "    soup = BeautifulSoup(contents[set_name])\n",
    "    results = soup.find('table').find('tbody').find_all('tr')\n",
    "    for r in results:\n",
    "        try:\n",
    "            e = r.find_all('td')[2].find('a')\n",
    "            card_name = e['title']\n",
    "            card_url = 'https://bulbapedia.bulbagarden.net' + e['href']\n",
    "            set_cards[set_name].append({\"name\": card_name, \"url\":card_url})\n",
    "        except Exception as e:\n",
    "            errors.append((str(r), str(e)))"
   ]
  },
  {
   "cell_type": "markdown",
   "id": "21c633da",
   "metadata": {},
   "source": [
    "# Donwload the images"
   ]
  },
  {
   "cell_type": "code",
   "execution_count": 59,
   "id": "acda5cf2",
   "metadata": {},
   "outputs": [
    {
     "name": "stdout",
     "output_type": "stream",
     "text": [
      "Aerodactyl (Fossil 1)\n",
      "/wiki/File:AerodactylFossil16.jpg\n",
      "/wiki/File:TCG1_C34_Aerodactyl.png\n",
      "/wiki/File:TCG2_G33_Aerodactyl.png\n",
      "Alakazam (Base Set 1)\n",
      "/wiki/File:AlakazamBaseSet1.jpg\n",
      "/wiki/File:TCG1_C35_Alakazam.png\n",
      "/wiki/File:TCG2_C40_Alakazam.png\n",
      "Bulbasaur (Expansion Pack)\n",
      "/wiki/File:BulbasaurSnapBestPhotoContest.jpg\n",
      "/wiki/File:BulbasaurBaseSet44.jpg\n",
      "/wiki/File:BulbasaurSnapBestPhotoContest.jpg\n",
      "/wiki/File:TCG1_B01_Bulbasaur.png\n",
      "/wiki/File:TCG2_H01_Bulbasaur.png\n",
      "Alakazam (Base Set 2 1)\n",
      "/wiki/File:AlakazamBaseSet1.jpg\n",
      "/wiki/File:TCG1_C35_Alakazam.png\n",
      "/wiki/File:TCG2_C40_Alakazam.png\n",
      "Clefable (Jungle 1)\n",
      "/wiki/File:ClefableJungle1.jpg\n",
      "/wiki/File:TCG1_D39_Clefable.png\n",
      "/wiki/File:TCG2_C48_Clefable.png\n",
      "Dark Alakazam (Team Rocket 1)\n",
      "/wiki/File:DarkAlakazamTeamRocket1.jpg\n",
      "/wiki/File:TCG2_G36_Dark_Alakazam.png\n"
     ]
    }
   ],
   "source": [
    "for set_name in set_cards:\n",
    "    for card in set_cards[set_name]:\n",
    "        print(card['name'])\n",
    "        response = requests.get(card['url'])\n",
    "        pokemon = card['name'].split(' ')[0]\n",
    "        soup = BeautifulSoup(response.text, 'html.parser')\n",
    "\n",
    "        for link in soup.find_all('a'):\n",
    "            if link.find('img') and pokemon in link['href']:\n",
    "                print(link['href'])\n",
    "        break"
   ]
  },
  {
   "cell_type": "code",
   "execution_count": 43,
   "id": "73263f14",
   "metadata": {},
   "outputs": [
    {
     "data": {
      "text/plain": [
       "[('Alakazam (Base Set 1)',\n",
       "  'https://bulbapedia.bulbagarden.net/wiki/Alakazam_(Base_Set_1)'),\n",
       " ('Blastoise (Base Set 2)',\n",
       "  'https://bulbapedia.bulbagarden.net/wiki/Blastoise_(Base_Set_2)'),\n",
       " ('Chansey (Base Set 3)',\n",
       "  'https://bulbapedia.bulbagarden.net/wiki/Chansey_(Base_Set_3)'),\n",
       " ('Charizard (Base Set 4)',\n",
       "  'https://bulbapedia.bulbagarden.net/wiki/Charizard_(Base_Set_4)'),\n",
       " ('Clefairy (Base Set 5)',\n",
       "  'https://bulbapedia.bulbagarden.net/wiki/Clefairy_(Base_Set_5)'),\n",
       " ('Gyarados (Base Set 6)',\n",
       "  'https://bulbapedia.bulbagarden.net/wiki/Gyarados_(Base_Set_6)'),\n",
       " ('Hitmonchan (Base Set 7)',\n",
       "  'https://bulbapedia.bulbagarden.net/wiki/Hitmonchan_(Base_Set_7)'),\n",
       " ('Machamp (Base Set 8)',\n",
       "  'https://bulbapedia.bulbagarden.net/wiki/Machamp_(Base_Set_8)'),\n",
       " ('Magneton (Base Set 9)',\n",
       "  'https://bulbapedia.bulbagarden.net/wiki/Magneton_(Base_Set_9)'),\n",
       " ('Mewtwo (Base Set 10)',\n",
       "  'https://bulbapedia.bulbagarden.net/wiki/Mewtwo_(Base_Set_10)'),\n",
       " ('Nidoking (Base Set 11)',\n",
       "  'https://bulbapedia.bulbagarden.net/wiki/Nidoking_(Base_Set_11)'),\n",
       " ('Ninetales (Base Set 12)',\n",
       "  'https://bulbapedia.bulbagarden.net/wiki/Ninetales_(Base_Set_12)'),\n",
       " ('Poliwrath (Base Set 13)',\n",
       "  'https://bulbapedia.bulbagarden.net/wiki/Poliwrath_(Base_Set_13)'),\n",
       " ('Raichu (Base Set 14)',\n",
       "  'https://bulbapedia.bulbagarden.net/wiki/Raichu_(Base_Set_14)'),\n",
       " ('Venusaur (Base Set 15)',\n",
       "  'https://bulbapedia.bulbagarden.net/wiki/Venusaur_(Base_Set_15)'),\n",
       " ('Zapdos (Base Set 16)',\n",
       "  'https://bulbapedia.bulbagarden.net/wiki/Zapdos_(Base_Set_16)'),\n",
       " ('Beedrill (Base Set 17)',\n",
       "  'https://bulbapedia.bulbagarden.net/wiki/Beedrill_(Base_Set_17)'),\n",
       " ('Dragonair (Base Set 18)',\n",
       "  'https://bulbapedia.bulbagarden.net/wiki/Dragonair_(Base_Set_18)'),\n",
       " ('Dugtrio (Base Set 19)',\n",
       "  'https://bulbapedia.bulbagarden.net/wiki/Dugtrio_(Base_Set_19)'),\n",
       " ('Electabuzz (Base Set 20)',\n",
       "  'https://bulbapedia.bulbagarden.net/wiki/Electabuzz_(Base_Set_20)'),\n",
       " ('Electrode (Base Set 21)',\n",
       "  'https://bulbapedia.bulbagarden.net/wiki/Electrode_(Base_Set_21)'),\n",
       " ('Pidgeotto (Base Set 22)',\n",
       "  'https://bulbapedia.bulbagarden.net/wiki/Pidgeotto_(Base_Set_22)'),\n",
       " ('Arcanine (Base Set 23)',\n",
       "  'https://bulbapedia.bulbagarden.net/wiki/Arcanine_(Base_Set_23)'),\n",
       " ('Charmeleon (Base Set 24)',\n",
       "  'https://bulbapedia.bulbagarden.net/wiki/Charmeleon_(Base_Set_24)'),\n",
       " ('Dewgong (Base Set 25)',\n",
       "  'https://bulbapedia.bulbagarden.net/wiki/Dewgong_(Base_Set_25)'),\n",
       " ('Dratini (Base Set 26)',\n",
       "  'https://bulbapedia.bulbagarden.net/wiki/Dratini_(Base_Set_26)'),\n",
       " (\"Farfetch'd (Base Set 27)\",\n",
       "  'https://bulbapedia.bulbagarden.net/wiki/Farfetch%27d_(Base_Set_27)'),\n",
       " ('Growlithe (Base Set 28)',\n",
       "  'https://bulbapedia.bulbagarden.net/wiki/Growlithe_(Base_Set_28)'),\n",
       " ('Haunter (Base Set 29)',\n",
       "  'https://bulbapedia.bulbagarden.net/wiki/Haunter_(Base_Set_29)'),\n",
       " ('Ivysaur (Base Set 30)',\n",
       "  'https://bulbapedia.bulbagarden.net/wiki/Ivysaur_(Base_Set_30)'),\n",
       " ('Jynx (Base Set 31)',\n",
       "  'https://bulbapedia.bulbagarden.net/wiki/Jynx_(Base_Set_31)'),\n",
       " ('Kadabra (Base Set 32)',\n",
       "  'https://bulbapedia.bulbagarden.net/wiki/Kadabra_(Base_Set_32)'),\n",
       " ('Kakuna (Base Set 33)',\n",
       "  'https://bulbapedia.bulbagarden.net/wiki/Kakuna_(Base_Set_33)'),\n",
       " ('Machoke (Base Set 34)',\n",
       "  'https://bulbapedia.bulbagarden.net/wiki/Machoke_(Base_Set_34)'),\n",
       " ('Magikarp (Base Set 35)',\n",
       "  'https://bulbapedia.bulbagarden.net/wiki/Magikarp_(Base_Set_35)'),\n",
       " ('Magmar (Base Set 36)',\n",
       "  'https://bulbapedia.bulbagarden.net/wiki/Magmar_(Base_Set_36)'),\n",
       " ('Nidorino (Base Set 37)',\n",
       "  'https://bulbapedia.bulbagarden.net/wiki/Nidorino_(Base_Set_37)'),\n",
       " ('Poliwhirl (Base Set 38)',\n",
       "  'https://bulbapedia.bulbagarden.net/wiki/Poliwhirl_(Base_Set_38)'),\n",
       " ('Porygon (Base Set 39)',\n",
       "  'https://bulbapedia.bulbagarden.net/wiki/Porygon_(Base_Set_39)'),\n",
       " ('Raticate (Base Set 40)',\n",
       "  'https://bulbapedia.bulbagarden.net/wiki/Raticate_(Base_Set_40)'),\n",
       " ('Seel (Base Set 41)',\n",
       "  'https://bulbapedia.bulbagarden.net/wiki/Seel_(Base_Set_41)'),\n",
       " ('Wartortle (Base Set 42)',\n",
       "  'https://bulbapedia.bulbagarden.net/wiki/Wartortle_(Base_Set_42)'),\n",
       " ('Abra (Base Set 43)',\n",
       "  'https://bulbapedia.bulbagarden.net/wiki/Abra_(Base_Set_43)'),\n",
       " ('Bulbasaur (Base Set 44)',\n",
       "  'https://bulbapedia.bulbagarden.net/wiki/Bulbasaur_(Base_Set_44)'),\n",
       " ('Caterpie (Base Set 45)',\n",
       "  'https://bulbapedia.bulbagarden.net/wiki/Caterpie_(Base_Set_45)'),\n",
       " ('Charmander (Base Set 46)',\n",
       "  'https://bulbapedia.bulbagarden.net/wiki/Charmander_(Base_Set_46)'),\n",
       " ('Diglett (Base Set 47)',\n",
       "  'https://bulbapedia.bulbagarden.net/wiki/Diglett_(Base_Set_47)'),\n",
       " ('Doduo (Base Set 48)',\n",
       "  'https://bulbapedia.bulbagarden.net/wiki/Doduo_(Base_Set_48)'),\n",
       " ('Drowzee (Base Set 49)',\n",
       "  'https://bulbapedia.bulbagarden.net/wiki/Drowzee_(Base_Set_49)'),\n",
       " ('Gastly (Base Set 50)',\n",
       "  'https://bulbapedia.bulbagarden.net/wiki/Gastly_(Base_Set_50)'),\n",
       " ('Koffing (Base Set 51)',\n",
       "  'https://bulbapedia.bulbagarden.net/wiki/Koffing_(Base_Set_51)'),\n",
       " ('Machop (Base Set 52)',\n",
       "  'https://bulbapedia.bulbagarden.net/wiki/Machop_(Base_Set_52)'),\n",
       " ('Magnemite (Base Set 53)',\n",
       "  'https://bulbapedia.bulbagarden.net/wiki/Magnemite_(Base_Set_53)'),\n",
       " ('Metapod (Base Set 54)',\n",
       "  'https://bulbapedia.bulbagarden.net/wiki/Metapod_(Base_Set_54)'),\n",
       " ('Nidoran♂ (Base Set 55)',\n",
       "  'https://bulbapedia.bulbagarden.net/wiki/Nidoran%E2%99%82_(Base_Set_55)'),\n",
       " ('Onix (Base Set 56)',\n",
       "  'https://bulbapedia.bulbagarden.net/wiki/Onix_(Base_Set_56)'),\n",
       " ('Pidgey (Base Set 57)',\n",
       "  'https://bulbapedia.bulbagarden.net/wiki/Pidgey_(Base_Set_57)'),\n",
       " ('Pikachu (Base Set 58)',\n",
       "  'https://bulbapedia.bulbagarden.net/wiki/Pikachu_(Base_Set_58)'),\n",
       " ('Poliwag (Base Set 59)',\n",
       "  'https://bulbapedia.bulbagarden.net/wiki/Poliwag_(Base_Set_59)'),\n",
       " ('Ponyta (Base Set 60)',\n",
       "  'https://bulbapedia.bulbagarden.net/wiki/Ponyta_(Base_Set_60)'),\n",
       " ('Rattata (Base Set 61)',\n",
       "  'https://bulbapedia.bulbagarden.net/wiki/Rattata_(Base_Set_61)'),\n",
       " ('Sandshrew (Base Set 62)',\n",
       "  'https://bulbapedia.bulbagarden.net/wiki/Sandshrew_(Base_Set_62)'),\n",
       " ('Squirtle (Base Set 63)',\n",
       "  'https://bulbapedia.bulbagarden.net/wiki/Squirtle_(Base_Set_63)'),\n",
       " ('Starmie (Base Set 64)',\n",
       "  'https://bulbapedia.bulbagarden.net/wiki/Starmie_(Base_Set_64)'),\n",
       " ('Staryu (Base Set 65)',\n",
       "  'https://bulbapedia.bulbagarden.net/wiki/Staryu_(Base_Set_65)'),\n",
       " ('Tangela (Base Set 66)',\n",
       "  'https://bulbapedia.bulbagarden.net/wiki/Tangela_(Base_Set_66)'),\n",
       " ('Voltorb (Base Set 67)',\n",
       "  'https://bulbapedia.bulbagarden.net/wiki/Voltorb_(Base_Set_67)'),\n",
       " ('Vulpix (Base Set 68)',\n",
       "  'https://bulbapedia.bulbagarden.net/wiki/Vulpix_(Base_Set_68)'),\n",
       " ('Weedle (Base Set 69)',\n",
       "  'https://bulbapedia.bulbagarden.net/wiki/Weedle_(Base_Set_69)'),\n",
       " ('Clefairy Doll (Base Set 70)',\n",
       "  'https://bulbapedia.bulbagarden.net/wiki/Clefairy_Doll_(Base_Set_70)'),\n",
       " ('Computer Search (Base Set 71)',\n",
       "  'https://bulbapedia.bulbagarden.net/wiki/Computer_Search_(Base_Set_71)'),\n",
       " ('Devolution Spray (Base Set 72)',\n",
       "  'https://bulbapedia.bulbagarden.net/wiki/Devolution_Spray_(Base_Set_72)'),\n",
       " ('Imposter Professor Oak (Base Set 73)',\n",
       "  'https://bulbapedia.bulbagarden.net/wiki/Imposter_Professor_Oak_(Base_Set_73)'),\n",
       " ('Item Finder (Base Set 74)',\n",
       "  'https://bulbapedia.bulbagarden.net/wiki/Item_Finder_(Base_Set_74)'),\n",
       " ('Lass (Base Set 75)',\n",
       "  'https://bulbapedia.bulbagarden.net/wiki/Lass_(Base_Set_75)'),\n",
       " ('Pokémon Breeder (Base Set 76)',\n",
       "  'https://bulbapedia.bulbagarden.net/wiki/Pok%C3%A9mon_Breeder_(Base_Set_76)'),\n",
       " ('Pokémon Trader (Base Set 77)',\n",
       "  'https://bulbapedia.bulbagarden.net/wiki/Pok%C3%A9mon_Trader_(Base_Set_77)'),\n",
       " ('Scoop Up (Base Set 78)',\n",
       "  'https://bulbapedia.bulbagarden.net/wiki/Scoop_Up_(Base_Set_78)'),\n",
       " ('Super Energy Removal (Base Set 79)',\n",
       "  'https://bulbapedia.bulbagarden.net/wiki/Super_Energy_Removal_(Base_Set_79)'),\n",
       " ('Defender (Base Set 80)',\n",
       "  'https://bulbapedia.bulbagarden.net/wiki/Defender_(Base_Set_80)'),\n",
       " ('Energy Retrieval (Base Set 81)',\n",
       "  'https://bulbapedia.bulbagarden.net/wiki/Energy_Retrieval_(Base_Set_81)'),\n",
       " ('Full Heal (Base Set 82)',\n",
       "  'https://bulbapedia.bulbagarden.net/wiki/Full_Heal_(Base_Set_82)'),\n",
       " ('Maintenance (Base Set 83)',\n",
       "  'https://bulbapedia.bulbagarden.net/wiki/Maintenance_(Base_Set_83)'),\n",
       " ('PlusPower (Base Set 84)',\n",
       "  'https://bulbapedia.bulbagarden.net/wiki/PlusPower_(Base_Set_84)'),\n",
       " ('Pokémon Center (Base Set 85)',\n",
       "  'https://bulbapedia.bulbagarden.net/wiki/Pok%C3%A9mon_Center_(Base_Set_85)'),\n",
       " ('Pokémon Flute (Base Set 86)',\n",
       "  'https://bulbapedia.bulbagarden.net/wiki/Pok%C3%A9mon_Flute_(Base_Set_86)'),\n",
       " ('Pokédex (Base Set 87)',\n",
       "  'https://bulbapedia.bulbagarden.net/wiki/Pok%C3%A9dex_(Base_Set_87)'),\n",
       " ('Professor Oak (Base Set 88)',\n",
       "  'https://bulbapedia.bulbagarden.net/wiki/Professor_Oak_(Base_Set_88)'),\n",
       " ('Revive (Base Set 89)',\n",
       "  'https://bulbapedia.bulbagarden.net/wiki/Revive_(Base_Set_89)'),\n",
       " ('Super Potion (Base Set 90)',\n",
       "  'https://bulbapedia.bulbagarden.net/wiki/Super_Potion_(Base_Set_90)'),\n",
       " ('Bill (Base Set 91)',\n",
       "  'https://bulbapedia.bulbagarden.net/wiki/Bill_(Base_Set_91)'),\n",
       " ('Energy Removal (Base Set 92)',\n",
       "  'https://bulbapedia.bulbagarden.net/wiki/Energy_Removal_(Base_Set_92)'),\n",
       " ('Gust of Wind (Base Set 93)',\n",
       "  'https://bulbapedia.bulbagarden.net/wiki/Gust_of_Wind_(Base_Set_93)'),\n",
       " ('Potion (Base Set 94)',\n",
       "  'https://bulbapedia.bulbagarden.net/wiki/Potion_(Base_Set_94)'),\n",
       " ('Switch (Base Set 95)',\n",
       "  'https://bulbapedia.bulbagarden.net/wiki/Switch_(Base_Set_95)'),\n",
       " ('Double Colorless Energy (Base Set 96)',\n",
       "  'https://bulbapedia.bulbagarden.net/wiki/Double_Colorless_Energy_(Base_Set_96)'),\n",
       " ('Fighting Energy (Base Set 97)',\n",
       "  'https://bulbapedia.bulbagarden.net/wiki/Fighting_Energy_(Base_Set_97)'),\n",
       " ('Fire Energy (Base Set 98)',\n",
       "  'https://bulbapedia.bulbagarden.net/wiki/Fire_Energy_(Base_Set_98)'),\n",
       " ('Grass Energy (Base Set 99)',\n",
       "  'https://bulbapedia.bulbagarden.net/wiki/Grass_Energy_(Base_Set_99)'),\n",
       " ('Lightning Energy (Base Set 100)',\n",
       "  'https://bulbapedia.bulbagarden.net/wiki/Lightning_Energy_(Base_Set_100)'),\n",
       " ('Psychic Energy (Base Set 101)',\n",
       "  'https://bulbapedia.bulbagarden.net/wiki/Psychic_Energy_(Base_Set_101)'),\n",
       " ('Water Energy (Base Set 102)',\n",
       "  'https://bulbapedia.bulbagarden.net/wiki/Water_Energy_(Base_Set_102)')]"
      ]
     },
     "execution_count": 43,
     "metadata": {},
     "output_type": "execute_result"
    }
   ],
   "source": [
    "set_cards['base_set']"
   ]
  },
  {
   "cell_type": "code",
   "execution_count": 37,
   "id": "5eb7801d",
   "metadata": {},
   "outputs": [
    {
     "data": {
      "text/plain": [
       "('/wiki/Clefairy_(Base_Set_5)', 'Clefairy (Base Set 5)')"
      ]
     },
     "execution_count": 37,
     "metadata": {},
     "output_type": "execute_result"
    }
   ],
   "source": [
    "e = results[5].find_all('td')[2].find('a')\n",
    "e['href'], e['title']"
   ]
  },
  {
   "cell_type": "code",
   "execution_count": 25,
   "id": "eea1580d",
   "metadata": {},
   "outputs": [
    {
     "data": {
      "text/plain": [
       "<span class=\"mw-headline\" id=\"Set_lists\">Set lists</span>"
      ]
     },
     "execution_count": 25,
     "metadata": {},
     "output_type": "execute_result"
    }
   ],
   "source": [
    "results[0]"
   ]
  },
  {
   "cell_type": "code",
   "execution_count": null,
   "id": "d3641343",
   "metadata": {},
   "outputs": [],
   "source": []
  }
 ],
 "metadata": {
  "kernelspec": {
   "display_name": "Python 3 (ipykernel)",
   "language": "python",
   "name": "python3"
  },
  "language_info": {
   "codemirror_mode": {
    "name": "ipython",
    "version": 3
   },
   "file_extension": ".py",
   "mimetype": "text/x-python",
   "name": "python",
   "nbconvert_exporter": "python",
   "pygments_lexer": "ipython3",
   "version": "3.11.4"
  }
 },
 "nbformat": 4,
 "nbformat_minor": 5
}
