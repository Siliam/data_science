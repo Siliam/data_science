{
 "cells": [
  {
   "cell_type": "code",
   "execution_count": 4,
   "id": "8d6db847",
   "metadata": {},
   "outputs": [
    {
     "name": "stdout",
     "output_type": "stream",
     "text": [
      "Fri Dec  8 20:10:48 2023       \n",
      "+---------------------------------------------------------------------------------------+\n",
      "| NVIDIA-SMI 536.67                 Driver Version: 536.67       CUDA Version: 12.2     |\n",
      "|-----------------------------------------+----------------------+----------------------+\n",
      "| GPU  Name                     TCC/WDDM  | Bus-Id        Disp.A | Volatile Uncorr. ECC |\n",
      "| Fan  Temp   Perf          Pwr:Usage/Cap |         Memory-Usage | GPU-Util  Compute M. |\n",
      "|                                         |                      |               MIG M. |\n",
      "|=========================================+======================+======================|\n",
      "|   0  NVIDIA GeForce RTX 4070      WDDM  | 00000000:24:00.0  On |                  N/A |\n",
      "|  0%   34C    P8              10W / 200W |    797MiB / 12282MiB |      0%      Default |\n",
      "|                                         |                      |                  N/A |\n",
      "+-----------------------------------------+----------------------+----------------------+\n",
      "                                                                                         \n",
      "+---------------------------------------------------------------------------------------+\n",
      "| Processes:                                                                            |\n",
      "|  GPU   GI   CI        PID   Type   Process name                            GPU Memory |\n",
      "|        ID   ID                                                             Usage      |\n",
      "|=======================================================================================|\n",
      "|    0   N/A  N/A      2220    C+G   ...5n1h2txyewy\\ShellExperienceHost.exe    N/A      |\n",
      "|    0   N/A  N/A      3240    C+G   ...oogle\\Chrome\\Application\\chrome.exe    N/A      |\n",
      "|    0   N/A  N/A      3244    C+G   C:\\Windows\\explorer.exe                   N/A      |\n",
      "|    0   N/A  N/A      7496    C+G   ...CBS_cw5n1h2txyewy\\TextInputHost.exe    N/A      |\n",
      "|    0   N/A  N/A     10288    C+G   ...siveControlPanel\\SystemSettings.exe    N/A      |\n",
      "|    0   N/A  N/A     13928    C+G   ...on\\119.0.2151.72\\msedgewebview2.exe    N/A      |\n",
      "|    0   N/A  N/A     14728    C+G   ...cal\\Microsoft\\OneDrive\\OneDrive.exe    N/A      |\n",
      "|    0   N/A  N/A     16148    C+G   ...\\cef\\cef.win7x64\\steamwebhelper.exe    N/A      |\n",
      "|    0   N/A  N/A     17928    C+G   ...pdnekdrzrea0\\XboxGameBarSpotify.exe    N/A      |\n",
      "|    0   N/A  N/A     19364    C+G   ...2txyewy\\StartMenuExperienceHost.exe    N/A      |\n",
      "|    0   N/A  N/A     22476    C+G   ...11.0_x64__zpdnekdrzrea0\\Spotify.exe    N/A      |\n",
      "|    0   N/A  N/A     23540    C+G   ...\\AMD\\CNext\\CNext\\RadeonSoftware.exe    N/A      |\n",
      "|    0   N/A  N/A     24148    C+G   ...__8wekyb3d8bbwe\\WindowsTerminal.exe    N/A      |\n",
      "|    0   N/A  N/A     26460    C+G   ...aming\\Telegram Desktop\\Telegram.exe    N/A      |\n",
      "|    0   N/A  N/A     27228    C+G   C:\\Windows\\explorer.exe                   N/A      |\n",
      "|    0   N/A  N/A     30536    C+G   ...crosoft\\Edge\\Application\\msedge.exe    N/A      |\n",
      "|    0   N/A  N/A     31200    C+G   ...ekyb3d8bbwe\\PhoneExperienceHost.exe    N/A      |\n",
      "|    0   N/A  N/A     32060    C+G   ....0_x64__8wekyb3d8bbwe\\HxOutlook.exe    N/A      |\n",
      "|    0   N/A  N/A     33800    C+G   ...nt.CBS_cw5n1h2txyewy\\SearchHost.exe    N/A      |\n",
      "|    0   N/A  N/A     35088    C+G   ...1.0_x64__cv1g1gvanyjgm\\WhatsApp.exe    N/A      |\n",
      "+---------------------------------------------------------------------------------------+\n"
     ]
    }
   ],
   "source": [
    "!nvidia-smi"
   ]
  },
  {
   "cell_type": "code",
   "execution_count": 12,
   "id": "441ead93",
   "metadata": {},
   "outputs": [],
   "source": [
    "import pickle\n",
    "from sklearn.model_selection import train_test_split"
   ]
  },
  {
   "cell_type": "code",
   "execution_count": 37,
   "id": "b6c1068b",
   "metadata": {},
   "outputs": [],
   "source": [
    "lyrics = pickle.load(open('only_french_lyrics.pickle', 'rb'))"
   ]
  },
  {
   "cell_type": "code",
   "execution_count": 41,
   "id": "eb9d4bb3",
   "metadata": {},
   "outputs": [],
   "source": [
    "song_lyrics = ['\\n'.join(lines) for artist, songs in lyrics.items() for title, lines in songs.items()]"
   ]
  },
  {
   "cell_type": "code",
   "execution_count": 42,
   "id": "642977f5",
   "metadata": {},
   "outputs": [
    {
     "name": "stdout",
     "output_type": "stream",
     "text": [
      "Et nous, plebeiens d'a-present\n",
      "Anciens Egyptiens, nouveaux roturiers bohemiens\n",
      "En aspirant a la justice, nous n'aspirames qu'au statut d'humain\n",
      "Et nous demain, vilains d'aujourd'hui, manants d'avant-hier\n",
      "Fils honni par ses propres peres\n",
      "En aspirant a l'egalite, nous n'aspirames qu'au statut d'humain\n",
      "Et nous, proletaires en bas de l'echelle alimentaire\n",
      "Animal servile se revant prince de la ville\n",
      "En aspirant a la fraternite, nous n'aspirames qu'au statut d'humain\n",
      "C'est comme si ma peau finissait jaunie a cause de mon gilet noir\n",
      "Le malheur ne discrimine point, te voila maintenant parlant de moi\n",
      "O ciel, quelle meprisable condition qu'est devenue la mienne\n",
      "Je ne peux plus dire a qui que ce soit que j'aime\n",
      "C'est comme si ma peau finissait jaunie a cause de mon gilet noir\n",
      "Le malheur ne discrimine point, te voila maintenant parlant de moi\n",
      "C'est la vie, c'est la France, c'est le monde\n",
      "C'est la fronde, la galere qui nous poussent a l'extreme\n",
      "C'est l'enfance qu'on regrette, plus personne dit je t'aime\n",
      "C'est la vie, c'est la France, c'est le monde\n",
      "C'est la fronde, la galere qui nous poussent a l'extreme\n",
      "C'est l'enfance qu'on regrette, plus personne dit je t'aime\n",
      "Et nous, migrants sans papiers\n",
      "Ancien Congo, apatrides a nouveau\n",
      "En aspirant a la justice, nous n'aspirames qu'au statut d'humain\n",
      "Et nous, Europeens demain, Africains aujourd'hui\n",
      "Citoyens illicites, couleur de peau anthracite\n",
      "En aspirant a l'egalite, nous n'aspirames qu'au statut d'humain\n",
      "C'est comme si ma peau finissait jaunie a cause de mon gilet noir\n",
      "Le malheur ne discrimine point, te voila maintenant parlant de moi\n",
      "O ciel, quelle meprisable condition qu'est devenue la mienne\n",
      "Je ne peux plus dire a qui que ce soit que j'aime\n",
      "C'est comme si ma peau finissait jaunie a cause de mon gilet noir\n",
      "Le malheur ne discrimine point, te voila maintenant parlant de moi\n",
      "C'est la vie, c'est la France, c'est le monde\n",
      "C'est la fronde, la galere qui nous poussent a l'extreme\n",
      "C'est l'enfance qu'on regrette, plus personne dit je t'aime\n",
      "C'est la vie, c'est la France, c'est le monde\n",
      "C'est la fronde, la galere qui nous poussent a l'extreme\n",
      "C'est l'enfance qu'on regrette, plus personne dit je t'aime\n",
      "Et nous, plebeiens d'a-present\n",
      "Anciens Egyptiens, nouveaux roturiers bohemiens\n",
      "En aspirant a la justice, nous n'aspirames qu'au statut d'humain\n",
      "Et nous demain, vilains d'aujourd'hui, manants d'avant-hier\n",
      "Fils honni par ses propres peres\n",
      "En aspirant a l'egalite, nous n'aspirames qu'au statut d'humain\n",
      "C'est comme si ma peau finissait jaunie a cause de mon gilet noir\n",
      "Le malheur ne discrimine point, te voila maintenant parlant de moi\n",
      "O ciel, quelle meprisable condition qu'est devenue la mienne\n",
      "Je ne peux plus dire a qui que ce soit que j'aime\n",
      "C'est comme si ma peau finissait jaunie a cause de mon gilet noir\n",
      "Le malheur ne discrimine point, te voila maintenant parlant de moi\n",
      "[Benediction de Charles Baudelaire]\n",
      "Elle ravale ainsi l'ecume de sa haine\n",
      "Et, ne comprenant pas les desseins eternels\n",
      "Elle-meme prepare au fond de la Gehenne\n",
      "Les buchers consacres aux crimes maternels\n",
      "Pourtant, sous la tutelle invisible d'un Ange\n",
      "L'Enfant desherite s'enivre de soleil\n",
      "Et dans tout ce qu'il boit et dans tout ce qu'il mange\n",
      "Retrouve l'ambroisie et le nectar vermeil\n"
     ]
    }
   ],
   "source": [
    "print(song_lyrics[1])"
   ]
  },
  {
   "cell_type": "code",
   "execution_count": 43,
   "id": "785afffb",
   "metadata": {},
   "outputs": [],
   "source": [
    "train, test = train_test_split(song_lyrics,test_size=0.15)"
   ]
  },
  {
   "cell_type": "code",
   "execution_count": null,
   "id": "b5de3327",
   "metadata": {},
   "outputs": [],
   "source": []
  }
 ],
 "metadata": {
  "kernelspec": {
   "display_name": "Python 3 (ipykernel)",
   "language": "python",
   "name": "python3"
  },
  "language_info": {
   "codemirror_mode": {
    "name": "ipython",
    "version": 3
   },
   "file_extension": ".py",
   "mimetype": "text/x-python",
   "name": "python",
   "nbconvert_exporter": "python",
   "pygments_lexer": "ipython3",
   "version": "3.11.5"
  }
 },
 "nbformat": 4,
 "nbformat_minor": 5
}
