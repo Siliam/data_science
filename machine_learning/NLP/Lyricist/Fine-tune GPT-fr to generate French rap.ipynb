{
 "cells": [
  {
   "cell_type": "code",
   "execution_count": 44,
   "id": "8d6db847",
   "metadata": {},
   "outputs": [
    {
     "name": "stdout",
     "output_type": "stream",
     "text": [
      "Sat Dec  9 10:17:39 2023       \n",
      "+---------------------------------------------------------------------------------------+\n",
      "| NVIDIA-SMI 536.67                 Driver Version: 536.67       CUDA Version: 12.2     |\n",
      "|-----------------------------------------+----------------------+----------------------+\n",
      "| GPU  Name                     TCC/WDDM  | Bus-Id        Disp.A | Volatile Uncorr. ECC |\n",
      "| Fan  Temp   Perf          Pwr:Usage/Cap |         Memory-Usage | GPU-Util  Compute M. |\n",
      "|                                         |                      |               MIG M. |\n",
      "|=========================================+======================+======================|\n",
      "|   0  NVIDIA GeForce RTX 4070      WDDM  | 00000000:24:00.0  On |                  N/A |\n",
      "|  0%   24C    P8               9W / 200W |    507MiB / 12282MiB |      1%      Default |\n",
      "|                                         |                      |                  N/A |\n",
      "+-----------------------------------------+----------------------+----------------------+\n",
      "                                                                                         \n",
      "+---------------------------------------------------------------------------------------+\n",
      "| Processes:                                                                            |\n",
      "|  GPU   GI   CI        PID   Type   Process name                            GPU Memory |\n",
      "|        ID   ID                                                             Usage      |\n",
      "|=======================================================================================|\n",
      "|    0   N/A  N/A       328    C+G   ...4.0_x64__cv1g1gvanyjgm\\WhatsApp.exe    N/A      |\n",
      "|    0   N/A  N/A      2220    C+G   ...5n1h2txyewy\\ShellExperienceHost.exe    N/A      |\n",
      "|    0   N/A  N/A      3240    C+G   ...oogle\\Chrome\\Application\\chrome.exe    N/A      |\n",
      "|    0   N/A  N/A      3244    C+G   C:\\Windows\\explorer.exe                   N/A      |\n",
      "|    0   N/A  N/A      4304    C+G   ...t.LockApp_cw5n1h2txyewy\\LockApp.exe    N/A      |\n",
      "|    0   N/A  N/A      7496    C+G   ...CBS_cw5n1h2txyewy\\TextInputHost.exe    N/A      |\n",
      "|    0   N/A  N/A      7648    C+G   ....0_x64__8wekyb3d8bbwe\\HxOutlook.exe    N/A      |\n",
      "|    0   N/A  N/A     10288    C+G   ...siveControlPanel\\SystemSettings.exe    N/A      |\n",
      "|    0   N/A  N/A     13028    C+G   ...crosoft\\Edge\\Application\\msedge.exe    N/A      |\n",
      "|    0   N/A  N/A     13928    C+G   ...on\\119.0.2151.72\\msedgewebview2.exe    N/A      |\n",
      "|    0   N/A  N/A     14728    C+G   ...cal\\Microsoft\\OneDrive\\OneDrive.exe    N/A      |\n",
      "|    0   N/A  N/A     16148    C+G   ...\\cef\\cef.win7x64\\steamwebhelper.exe    N/A      |\n",
      "|    0   N/A  N/A     17928    C+G   ...pdnekdrzrea0\\XboxGameBarSpotify.exe    N/A      |\n",
      "|    0   N/A  N/A     19364    C+G   ...2txyewy\\StartMenuExperienceHost.exe    N/A      |\n",
      "|    0   N/A  N/A     22476    C+G   ...11.0_x64__zpdnekdrzrea0\\Spotify.exe    N/A      |\n",
      "|    0   N/A  N/A     23540    C+G   ...\\AMD\\CNext\\CNext\\RadeonSoftware.exe    N/A      |\n",
      "|    0   N/A  N/A     24148    C+G   ...__8wekyb3d8bbwe\\WindowsTerminal.exe    N/A      |\n",
      "|    0   N/A  N/A     26460    C+G   ...aming\\Telegram Desktop\\Telegram.exe    N/A      |\n",
      "|    0   N/A  N/A     27228    C+G   C:\\Windows\\explorer.exe                   N/A      |\n",
      "|    0   N/A  N/A     31200    C+G   ...ekyb3d8bbwe\\PhoneExperienceHost.exe    N/A      |\n",
      "|    0   N/A  N/A     33800    C+G   ...nt.CBS_cw5n1h2txyewy\\SearchHost.exe    N/A      |\n",
      "+---------------------------------------------------------------------------------------+\n"
     ]
    }
   ],
   "source": [
    "!nvidia-smi"
   ]
  },
  {
   "cell_type": "code",
   "execution_count": 45,
   "id": "8360e500",
   "metadata": {},
   "outputs": [],
   "source": [
    "import pickle\n",
    "from sklearn.model_selection import train_test_split"
   ]
  },
  {
   "cell_type": "code",
   "execution_count": 46,
   "id": "5b377ab1",
   "metadata": {},
   "outputs": [],
   "source": [
    "lyrics = pickle.load(open('french_lyrics_only_v2.pickle', 'rb'))"
   ]
  },
  {
   "cell_type": "code",
   "execution_count": 47,
   "id": "63d9150b",
   "metadata": {},
   "outputs": [],
   "source": [
    "song_lyrics = ['\\n'.join(lines) for artist, songs in lyrics.items() for title, lines in songs.items()]"
   ]
  },
  {
   "cell_type": "code",
   "execution_count": 48,
   "id": "d09f9ab2",
   "metadata": {},
   "outputs": [
    {
     "name": "stdout",
     "output_type": "stream",
     "text": [
      "Et nous, plébéiens d'à-présent\n",
      "Anciens Egyptiens, nouveaux roturiers bohémiens\n",
      "En aspirant à la justice, nous n’aspirâmes qu'au statut d'humain\n",
      "\n",
      "Et nous demain, vilains d’aujourd'hui, manants d'avant-hier\n",
      "Fils honni par ses propres pères\n",
      "En aspirant à l'égalité, nous n'aspirâmes qu'au statut d'humain\n",
      "\n",
      "Et nous, prolétaires en bas de l'échelle alimentaire\n",
      "Animal servile se rêvant prince de la ville\n",
      "En aspirant à la fraternité, nous n’aspirâmes qu’au statut d'humain\n",
      "C’est comme si ma peau finissait jaunie à cause de mon gilet noir\n",
      "Le malheur ne discrimine point, te voilà maintenant parlant de moi\n",
      "Ô ciel, quelle méprisable condition qu'est devenue la mienne\n",
      "Je ne peux plus dire à qui que ce soit que j'aime\n",
      "C'est comme si ma peau finissait jaunie à cause de mon gilet noir\n",
      "Le malheur ne discrimine point, te voilà maintenant parlant de moi\n",
      "C’est la vie, c'est la France, c'est le monde\n",
      "C'est la fronde, la galère qui nous poussent à l'extrême\n",
      "C'est l'enfance qu'on regrette, plus personne dit je t'aime\n",
      "C'est la vie, c'est la France, c'est le monde\n",
      "C'est la fronde, la galère qui nous poussent à l'extrême\n",
      "C'est l'enfance qu'on regrette, plus personne dit je t'aime\n",
      "\n",
      "Et nous, migrants sans papiers\n",
      "Ancien Congo, apatrides à nouveau\n",
      "En aspirant à la justice, nous n'aspirâmes qu'au statut d'humain\n",
      "\n",
      "Et nous, Européens demain, Africains aujourd'hui\n",
      "Citoyens illicites, couleur de peau anthracite\n",
      "En aspirant à l'égalité, nous n'aspirâmes qu'au statut d'humain\n",
      "\n",
      "C'est comme si ma peau finissait jaunie à cause de mon gilet noir\n",
      "Le malheur ne discrimine point, te voilà maintenant parlant de moi\n",
      "Ô ciel, quelle méprisable condition qu'est devenue la mienne\n",
      "Je ne peux plus dire à qui que ce soit que j'aime\n",
      "C'est comme si ma peau finissait jaunie à cause de mon gilet noir\n",
      "Le malheur ne discrimine point, te voilà maintenant parlant de moi\n",
      "C'est la vie, c'est la France, c'est le monde\n",
      "C'est la fronde, la galère qui nous poussent à l'extrême\n",
      "C'est l'enfance qu'on regrette, plus personne dit je t'aime\n",
      "C'est la vie, c'est la France, c'est le monde\n",
      "C'est la fronde, la galère qui nous poussent à l'extrême\n",
      "C'est l'enfance qu'on regrette, plus personne dit je t'aime\n",
      "\n",
      "Et nous, plébéiens d'à-présent\n",
      "Anciens Egyptiens, nouveaux roturiers bohémiens\n",
      "En aspirant à la justice, nous n'aspirâmes qu'au statut d'humain\n",
      "\n",
      "Et nous demain, vilains d'aujourd'hui, manants d'avant-hier\n",
      "Fils honni par ses propres pères\n",
      "En aspirant à l'égalité, nous n'aspirâmes qu'au statut d'humain\n",
      "\n",
      "C'est comme si ma peau finissait jaunie à cause de mon gilet noir\n",
      "Le malheur ne discrimine point, te voilà maintenant parlant de moi\n",
      "Ô ciel, quelle méprisable condition qu'est devenue la mienne\n",
      "Je ne peux plus dire à qui que ce soit que j'aime\n",
      "C'est comme si ma peau finissait jaunie à cause de mon gilet noir\n",
      "Le malheur ne discrimine point, te voilà maintenant parlant de moi\n",
      "\n",
      "[Bénédiction de Charles Baudelaire]\n",
      "Elle ravale ainsi l'écume de sa haine\n",
      "Et, ne comprenant pas les desseins éternels\n",
      "Elle-même prépare au fond de la Géhenne\n",
      "Les bûchers consacrés aux crimes maternels\n",
      "\n",
      "Pourtant, sous la tutelle invisible d'un Ange\n",
      "L'Enfant déshérité s'enivre de soleil\n",
      "Et dans tout ce qu'il boit et dans tout ce qu'il mange\n",
      "Retrouve l'ambroisie et le nectar vermeil\n"
     ]
    }
   ],
   "source": [
    "print(song_lyrics[1])"
   ]
  },
  {
   "cell_type": "code",
   "execution_count": 43,
   "id": "ef3838e1",
   "metadata": {},
   "outputs": [],
   "source": [
    "train, test = train_test_split(song_lyrics,test_size=0.15)"
   ]
  },
  {
   "cell_type": "code",
   "execution_count": null,
   "id": "3af0bb59",
   "metadata": {},
   "outputs": [],
   "source": [
    "def build_text_files(data_text, dest_path):\n",
    "    f = open(dest_path, 'w')\n",
    "    data = ''\n",
    "    for text in data_text:\n",
    "        data += text + ' '\n",
    "    f.write(data)"
   ]
  }
 ],
 "metadata": {
  "kernelspec": {
   "display_name": "Python 3 (ipykernel)",
   "language": "python",
   "name": "python3"
  },
  "language_info": {
   "codemirror_mode": {
    "name": "ipython",
    "version": 3
   },
   "file_extension": ".py",
   "mimetype": "text/x-python",
   "name": "python",
   "nbconvert_exporter": "python",
   "pygments_lexer": "ipython3",
   "version": "3.11.5"
  }
 },
 "nbformat": 4,
 "nbformat_minor": 5
}
