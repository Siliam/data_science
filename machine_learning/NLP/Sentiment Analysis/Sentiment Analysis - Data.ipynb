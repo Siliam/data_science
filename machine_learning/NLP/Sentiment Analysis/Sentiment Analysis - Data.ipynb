{
 "cells": [
  {
   "cell_type": "code",
   "execution_count": 1,
   "id": "aad13b49",
   "metadata": {},
   "outputs": [],
   "source": [
    "import json\n",
    "import datasets\n",
    "import pandas as pd\n",
    "import numpy as np\n",
    "from pprint import pprint\n",
    "from tqdm.notebook import tqdm\n",
    "from datasets import load_dataset"
   ]
  },
  {
   "cell_type": "code",
   "execution_count": 2,
   "id": "aaa90fc0",
   "metadata": {},
   "outputs": [],
   "source": [
    "# ! pip install fsspec=2023.4.0"
   ]
  },
  {
   "cell_type": "code",
   "execution_count": 3,
   "id": "a1f2a869",
   "metadata": {},
   "outputs": [],
   "source": [
    "# dataset = load_dataset('alsubari/Israel-palestine-war')"
   ]
  },
  {
   "cell_type": "code",
   "execution_count": 4,
   "id": "ca82166f",
   "metadata": {},
   "outputs": [],
   "source": [
    "# print(dataset)"
   ]
  },
  {
   "cell_type": "raw",
   "id": "91d7bc61",
   "metadata": {
    "scrolled": false
   },
   "source": [
    "metadata = []\n",
    "for d in tqdm(dataset['train']):\n",
    "    md = {}\n",
    "    for k in d:\n",
    "        if k != \"comments\":\n",
    "            md[k] = d[k]\n",
    "    metadata.append(md)\n",
    "\n",
    "df_metadata = pd.DataFrame(metadata)"
   ]
  },
  {
   "cell_type": "raw",
   "id": "3620a37f",
   "metadata": {},
   "source": [
    "comments_data = []\n",
    "for d in tqdm(dataset['train']):\n",
    "    for k in d:\n",
    "        if k == \"comments\":\n",
    "            for c in d[k]:\n",
    "                c['video_id'] = d['id']\n",
    "                comments_data.append(c)\n",
    "\n",
    "df_comments = pd.DataFrame(comments_data)"
   ]
  },
  {
   "cell_type": "raw",
   "id": "881bf57d",
   "metadata": {},
   "source": [
    "df_metadata.head()"
   ]
  },
  {
   "cell_type": "raw",
   "id": "433806a7",
   "metadata": {},
   "source": [
    "len(df_metadata.id.unique())"
   ]
  },
  {
   "cell_type": "raw",
   "id": "2da96b4e",
   "metadata": {},
   "source": [
    "len(df_comments.author.unique())"
   ]
  },
  {
   "cell_type": "raw",
   "id": "3aca6f5e",
   "metadata": {},
   "source": [
    "df_metadata.to_csv('data/alsubari_videos_metadata.csv')"
   ]
  },
  {
   "cell_type": "raw",
   "id": "f9286a01",
   "metadata": {},
   "source": [
    "df_comments.to_csv('data/alsubari_videos_comments.csv')"
   ]
  },
  {
   "cell_type": "code",
   "execution_count": null,
   "id": "60d3b2e1",
   "metadata": {},
   "outputs": [],
   "source": [
    "pd."
   ]
  }
 ],
 "metadata": {
  "kernelspec": {
   "display_name": "Python 3 (ipykernel)",
   "language": "python",
   "name": "python3"
  },
  "language_info": {
   "codemirror_mode": {
    "name": "ipython",
    "version": 3
   },
   "file_extension": ".py",
   "mimetype": "text/x-python",
   "name": "python",
   "nbconvert_exporter": "python",
   "pygments_lexer": "ipython3",
   "version": "3.11.5"
  }
 },
 "nbformat": 4,
 "nbformat_minor": 5
}
