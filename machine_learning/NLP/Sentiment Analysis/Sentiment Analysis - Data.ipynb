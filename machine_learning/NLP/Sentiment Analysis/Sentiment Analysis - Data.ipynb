{
 "cells": [
  {
   "cell_type": "code",
   "execution_count": 43,
   "id": "aad13b49",
   "metadata": {},
   "outputs": [],
   "source": [
    "import json\n",
    "import datasets\n",
    "import pandas as pd\n",
    "import numpy as np\n",
    "from pprint import pprint\n",
    "from tqdm.notebook import tqdm\n",
    "from collections import Counter\n",
    "from datasets import load_dataset\n",
    "from time import strftime, localtime\n",
    "\n",
    "pd.set_option('display.max_colwidth', 200)"
   ]
  },
  {
   "cell_type": "code",
   "execution_count": 2,
   "id": "64f82f61",
   "metadata": {},
   "outputs": [],
   "source": [
    "# ! pip install fsspec=2023.4.0"
   ]
  },
  {
   "cell_type": "code",
   "execution_count": 3,
   "id": "a1f2a869",
   "metadata": {},
   "outputs": [],
   "source": [
    "# dataset = load_dataset('alsubari/Israel-palestine-war')"
   ]
  },
  {
   "cell_type": "code",
   "execution_count": 4,
   "id": "ca82166f",
   "metadata": {},
   "outputs": [],
   "source": [
    "# print(dataset)"
   ]
  },
  {
   "cell_type": "raw",
   "id": "bb80081d",
   "metadata": {
    "scrolled": false
   },
   "source": [
    "metadata = []\n",
    "for d in tqdm(dataset['train']):\n",
    "    md = {}\n",
    "    for k in d:\n",
    "        if k != \"comments\":\n",
    "            md[k] = d[k]\n",
    "    metadata.append(md)\n",
    "\n",
    "df_metadata = pd.DataFrame(metadata)"
   ]
  },
  {
   "cell_type": "raw",
   "id": "73294e4a",
   "metadata": {},
   "source": [
    "comments_data = []\n",
    "for d in tqdm(dataset['train']):\n",
    "    for k in d:\n",
    "        if k == \"comments\":\n",
    "            for c in d[k]:\n",
    "                c['video_id'] = d['id']\n",
    "                comments_data.append(c)\n",
    "\n",
    "df_comments = pd.DataFrame(comments_data)"
   ]
  },
  {
   "cell_type": "raw",
   "id": "a73ca809",
   "metadata": {},
   "source": [
    "df_metadata.head()"
   ]
  },
  {
   "cell_type": "raw",
   "id": "de3df965",
   "metadata": {},
   "source": [
    "len(df_metadata.id.unique())"
   ]
  },
  {
   "cell_type": "raw",
   "id": "1e4f8390",
   "metadata": {},
   "source": [
    "len(df_comments.author.unique())"
   ]
  },
  {
   "cell_type": "raw",
   "id": "0daa7917",
   "metadata": {},
   "source": [
    "df_metadata.to_csv('data/alsubari_videos_metadata.csv')"
   ]
  },
  {
   "cell_type": "raw",
   "id": "afb08c53",
   "metadata": {},
   "source": [
    "df_comments.to_csv('data/alsubari_videos_comments.csv')"
   ]
  },
  {
   "cell_type": "markdown",
   "id": "89c5ac4a",
   "metadata": {},
   "source": [
    "# Exploratory Data Analysis"
   ]
  },
  {
   "cell_type": "markdown",
   "id": "5dd8ba6c",
   "metadata": {},
   "source": [
    "### Stats about videos"
   ]
  },
  {
   "cell_type": "code",
   "execution_count": 5,
   "id": "60d3b2e1",
   "metadata": {},
   "outputs": [],
   "source": [
    "df_metadata = pd.read_csv('data/alsubari_videos_metadata.csv')"
   ]
  },
  {
   "cell_type": "code",
   "execution_count": 6,
   "id": "66ee5296",
   "metadata": {},
   "outputs": [
    {
     "data": {
      "text/html": [
       "<div>\n",
       "<style scoped>\n",
       "    .dataframe tbody tr th:only-of-type {\n",
       "        vertical-align: middle;\n",
       "    }\n",
       "\n",
       "    .dataframe tbody tr th {\n",
       "        vertical-align: top;\n",
       "    }\n",
       "\n",
       "    .dataframe thead th {\n",
       "        text-align: right;\n",
       "    }\n",
       "</style>\n",
       "<table border=\"1\" class=\"dataframe\">\n",
       "  <thead>\n",
       "    <tr style=\"text-align: right;\">\n",
       "      <th></th>\n",
       "      <th>Unnamed: 0</th>\n",
       "      <th>id</th>\n",
       "      <th>publish_channel</th>\n",
       "      <th>title</th>\n",
       "      <th>start_duration</th>\n",
       "      <th>end_duration</th>\n",
       "      <th>lengthSeconds</th>\n",
       "      <th>total_comments</th>\n",
       "      <th>total_unique_users</th>\n",
       "    </tr>\n",
       "  </thead>\n",
       "  <tbody>\n",
       "    <tr>\n",
       "      <th>0</th>\n",
       "      <td>0</td>\n",
       "      <td>FUzLx1l37RE</td>\n",
       "      <td>NBCNews</td>\n",
       "      <td>Blinken reiterates Israel support but urges re...</td>\n",
       "      <td>2023-11-03 19:38:34</td>\n",
       "      <td>2023-11-04 17:38:34</td>\n",
       "      <td>241</td>\n",
       "      <td>25</td>\n",
       "      <td>21</td>\n",
       "    </tr>\n",
       "    <tr>\n",
       "      <th>1</th>\n",
       "      <td>1</td>\n",
       "      <td>PcQaG4sC9BM</td>\n",
       "      <td>NBCNews</td>\n",
       "      <td>Full Special Report: Israel declares war after...</td>\n",
       "      <td>2023-10-07 19:42:03</td>\n",
       "      <td>2023-11-04 12:38:36</td>\n",
       "      <td>1484</td>\n",
       "      <td>21905</td>\n",
       "      <td>14860</td>\n",
       "    </tr>\n",
       "    <tr>\n",
       "      <th>2</th>\n",
       "      <td>2</td>\n",
       "      <td>X2t6NyGP1-w</td>\n",
       "      <td>NBCNews</td>\n",
       "      <td>Hamas official claims it's their 'legal right'...</td>\n",
       "      <td>2023-11-03 19:49:36</td>\n",
       "      <td>2023-11-04 19:46:34</td>\n",
       "      <td>335</td>\n",
       "      <td>1853</td>\n",
       "      <td>1170</td>\n",
       "    </tr>\n",
       "    <tr>\n",
       "      <th>3</th>\n",
       "      <td>3</td>\n",
       "      <td>cd24N0tF-jY</td>\n",
       "      <td>NBCNews</td>\n",
       "      <td>FBI director warns of growing domestic threat ...</td>\n",
       "      <td>2023-11-01 19:50:24</td>\n",
       "      <td>2023-11-04 18:50:41</td>\n",
       "      <td>143</td>\n",
       "      <td>987</td>\n",
       "      <td>670</td>\n",
       "    </tr>\n",
       "    <tr>\n",
       "      <th>4</th>\n",
       "      <td>4</td>\n",
       "      <td>ICR5ml2YPkI</td>\n",
       "      <td>NBCNews</td>\n",
       "      <td>Israel’s president: 23-year-old Israeli hostag...</td>\n",
       "      <td>2023-10-31 19:51:23</td>\n",
       "      <td>2023-11-04 19:44:35</td>\n",
       "      <td>162</td>\n",
       "      <td>5275</td>\n",
       "      <td>3475</td>\n",
       "    </tr>\n",
       "  </tbody>\n",
       "</table>\n",
       "</div>"
      ],
      "text/plain": [
       "   Unnamed: 0           id publish_channel  \\\n",
       "0           0  FUzLx1l37RE         NBCNews   \n",
       "1           1  PcQaG4sC9BM         NBCNews   \n",
       "2           2  X2t6NyGP1-w         NBCNews   \n",
       "3           3  cd24N0tF-jY         NBCNews   \n",
       "4           4  ICR5ml2YPkI         NBCNews   \n",
       "\n",
       "                                               title       start_duration  \\\n",
       "0  Blinken reiterates Israel support but urges re...  2023-11-03 19:38:34   \n",
       "1  Full Special Report: Israel declares war after...  2023-10-07 19:42:03   \n",
       "2  Hamas official claims it's their 'legal right'...  2023-11-03 19:49:36   \n",
       "3  FBI director warns of growing domestic threat ...  2023-11-01 19:50:24   \n",
       "4  Israel’s president: 23-year-old Israeli hostag...  2023-10-31 19:51:23   \n",
       "\n",
       "          end_duration  lengthSeconds  total_comments  total_unique_users  \n",
       "0  2023-11-04 17:38:34            241              25                  21  \n",
       "1  2023-11-04 12:38:36           1484           21905               14860  \n",
       "2  2023-11-04 19:46:34            335            1853                1170  \n",
       "3  2023-11-04 18:50:41            143             987                 670  \n",
       "4  2023-11-04 19:44:35            162            5275                3475  "
      ]
     },
     "execution_count": 6,
     "metadata": {},
     "output_type": "execute_result"
    }
   ],
   "source": [
    "df_metadata.head()"
   ]
  },
  {
   "cell_type": "code",
   "execution_count": 7,
   "id": "cc696925",
   "metadata": {},
   "outputs": [],
   "source": [
    "df_metadata['start_duration'] = pd.to_datetime(df_metadata['start_duration'])\n",
    "df_metadata['end_duration'] = pd.to_datetime(df_metadata['end_duration'])"
   ]
  },
  {
   "cell_type": "code",
   "execution_count": 8,
   "id": "d3c78bea",
   "metadata": {},
   "outputs": [
    {
     "name": "stdout",
     "output_type": "stream",
     "text": [
      "Number of videos: 310\n",
      "Number of channels: 6\n",
      "Total duration: 134468 seconds\n",
      "Total number of comments: 1028346\n",
      "Total number of unique users: 689753\n",
      "\n",
      " Time interval: 2023-10-04 22:01:46 to 2023-11-06 19:42:46 (totaling 32 days)\n"
     ]
    }
   ],
   "source": [
    "print(\"Number of videos:\", len(df_metadata))\n",
    "print(\"Number of channels:\", len(df_metadata.publish_channel.unique()))\n",
    "print(\"Total duration:\", sum(df_metadata.lengthSeconds), \"seconds\")\n",
    "print(\"Total number of comments:\", sum(df_metadata.total_comments))\n",
    "print(\"Total number of unique users:\", sum(df_metadata.total_unique_users))\n",
    "\n",
    "first_post = min(df_metadata.start_duration)\n",
    "last_post = max(df_metadata.start_duration)\n",
    "print('\\n', \"Time interval:\", first_post, 'to', last_post, '(totaling', (last_post - first_post).days, 'days)')"
   ]
  },
  {
   "cell_type": "markdown",
   "id": "2cc2f548",
   "metadata": {},
   "source": [
    "### Stats about comments"
   ]
  },
  {
   "cell_type": "code",
   "execution_count": 9,
   "id": "93be9175",
   "metadata": {},
   "outputs": [],
   "source": [
    "df_comments = pd.read_csv('data/alsubari_videos_comments.csv')"
   ]
  },
  {
   "cell_type": "code",
   "execution_count": 10,
   "id": "5b3c5b93",
   "metadata": {},
   "outputs": [
    {
     "data": {
      "text/html": [
       "<div>\n",
       "<style scoped>\n",
       "    .dataframe tbody tr th:only-of-type {\n",
       "        vertical-align: middle;\n",
       "    }\n",
       "\n",
       "    .dataframe tbody tr th {\n",
       "        vertical-align: top;\n",
       "    }\n",
       "\n",
       "    .dataframe thead th {\n",
       "        text-align: right;\n",
       "    }\n",
       "</style>\n",
       "<table border=\"1\" class=\"dataframe\">\n",
       "  <thead>\n",
       "    <tr style=\"text-align: right;\">\n",
       "      <th></th>\n",
       "      <th>Unnamed: 0</th>\n",
       "      <th>author</th>\n",
       "      <th>channel</th>\n",
       "      <th>cid</th>\n",
       "      <th>heart</th>\n",
       "      <th>reply</th>\n",
       "      <th>text</th>\n",
       "      <th>time</th>\n",
       "      <th>time_parsed</th>\n",
       "      <th>votes</th>\n",
       "      <th>video_id</th>\n",
       "    </tr>\n",
       "  </thead>\n",
       "  <tbody>\n",
       "    <tr>\n",
       "      <th>0</th>\n",
       "      <td>0</td>\n",
       "      <td>@LMLewis</td>\n",
       "      <td>UCNUa3f8nwYg-Kn1v4u5wrtQ</td>\n",
       "      <td>UgxbXce9xz7a27nVOyl4AaABAg</td>\n",
       "      <td>False</td>\n",
       "      <td>False</td>\n",
       "      <td>Blinken deserves to be known as the Butcher of...</td>\n",
       "      <td>2 hours ago</td>\n",
       "      <td>1.699120e+09</td>\n",
       "      <td>0</td>\n",
       "      <td>FUzLx1l37RE</td>\n",
       "    </tr>\n",
       "    <tr>\n",
       "      <th>1</th>\n",
       "      <td>1</td>\n",
       "      <td>@lovellewilliams5531</td>\n",
       "      <td>UCm9ztdJUAMpUNipdNxAHN_g</td>\n",
       "      <td>Ugx7aiPfji7zYkmV1k54AaABAg</td>\n",
       "      <td>False</td>\n",
       "      <td>False</td>\n",
       "      <td>The United States are supporting the killing o...</td>\n",
       "      <td>4 hours ago</td>\n",
       "      <td>1.699112e+09</td>\n",
       "      <td>0</td>\n",
       "      <td>FUzLx1l37RE</td>\n",
       "    </tr>\n",
       "    <tr>\n",
       "      <th>2</th>\n",
       "      <td>2</td>\n",
       "      <td>@noryaminmatariffin3029</td>\n",
       "      <td>UCCyvX_gd5zANsFYXnDBpuXw</td>\n",
       "      <td>UgywKu6FT8TWbssFsnJ4AaABAg</td>\n",
       "      <td>False</td>\n",
       "      <td>False</td>\n",
       "      <td>So why hospitals, ambulance, civiliance, refug...</td>\n",
       "      <td>16 hours ago</td>\n",
       "      <td>1.699069e+09</td>\n",
       "      <td>0</td>\n",
       "      <td>FUzLx1l37RE</td>\n",
       "    </tr>\n",
       "    <tr>\n",
       "      <th>3</th>\n",
       "      <td>3</td>\n",
       "      <td>@Not_Today___</td>\n",
       "      <td>UCmicKai8OhhPUpOfG3VTFvA</td>\n",
       "      <td>UgwXQG7Qt7HVKsSTC7F4AaABAg</td>\n",
       "      <td>False</td>\n",
       "      <td>False</td>\n",
       "      <td>I'm an American. I think this war started on O...</td>\n",
       "      <td>1 day ago</td>\n",
       "      <td>1.699040e+09</td>\n",
       "      <td>0</td>\n",
       "      <td>FUzLx1l37RE</td>\n",
       "    </tr>\n",
       "    <tr>\n",
       "      <th>4</th>\n",
       "      <td>4</td>\n",
       "      <td>@benzo2632</td>\n",
       "      <td>UCA0boZvrgR4mbnQ2Bi65QKQ</td>\n",
       "      <td>UgxnJo7jgnD3Qcg6aAB4AaABAg</td>\n",
       "      <td>False</td>\n",
       "      <td>False</td>\n",
       "      <td>WAR CRIMES SUPORTED BY USA ,,,,</td>\n",
       "      <td>1 day ago</td>\n",
       "      <td>1.699040e+09</td>\n",
       "      <td>0</td>\n",
       "      <td>FUzLx1l37RE</td>\n",
       "    </tr>\n",
       "  </tbody>\n",
       "</table>\n",
       "</div>"
      ],
      "text/plain": [
       "   Unnamed: 0                   author                   channel  \\\n",
       "0           0                 @LMLewis  UCNUa3f8nwYg-Kn1v4u5wrtQ   \n",
       "1           1     @lovellewilliams5531  UCm9ztdJUAMpUNipdNxAHN_g   \n",
       "2           2  @noryaminmatariffin3029  UCCyvX_gd5zANsFYXnDBpuXw   \n",
       "3           3            @Not_Today___  UCmicKai8OhhPUpOfG3VTFvA   \n",
       "4           4               @benzo2632  UCA0boZvrgR4mbnQ2Bi65QKQ   \n",
       "\n",
       "                          cid  heart  reply  \\\n",
       "0  UgxbXce9xz7a27nVOyl4AaABAg  False  False   \n",
       "1  Ugx7aiPfji7zYkmV1k54AaABAg  False  False   \n",
       "2  UgywKu6FT8TWbssFsnJ4AaABAg  False  False   \n",
       "3  UgwXQG7Qt7HVKsSTC7F4AaABAg  False  False   \n",
       "4  UgxnJo7jgnD3Qcg6aAB4AaABAg  False  False   \n",
       "\n",
       "                                                text          time  \\\n",
       "0  Blinken deserves to be known as the Butcher of...   2 hours ago   \n",
       "1  The United States are supporting the killing o...   4 hours ago   \n",
       "2  So why hospitals, ambulance, civiliance, refug...  16 hours ago   \n",
       "3  I'm an American. I think this war started on O...     1 day ago   \n",
       "4                    WAR CRIMES SUPORTED BY USA ,,,,     1 day ago   \n",
       "\n",
       "    time_parsed votes     video_id  \n",
       "0  1.699120e+09     0  FUzLx1l37RE  \n",
       "1  1.699112e+09     0  FUzLx1l37RE  \n",
       "2  1.699069e+09     0  FUzLx1l37RE  \n",
       "3  1.699040e+09     0  FUzLx1l37RE  \n",
       "4  1.699040e+09     0  FUzLx1l37RE  "
      ]
     },
     "execution_count": 10,
     "metadata": {},
     "output_type": "execute_result"
    }
   ],
   "source": [
    "df_comments.head()"
   ]
  },
  {
   "cell_type": "code",
   "execution_count": 11,
   "id": "45a97fd0",
   "metadata": {},
   "outputs": [],
   "source": [
    "epoch_to_date = lambda d: strftime('%Y-%m-%d %H:%M:%S', localtime(d))\n",
    "df_comments['date'] = pd.to_datetime(df_comments['time_parsed'].apply(epoch_to_date))"
   ]
  },
  {
   "cell_type": "code",
   "execution_count": 12,
   "id": "5710cac8",
   "metadata": {},
   "outputs": [
    {
     "name": "stdout",
     "output_type": "stream",
     "text": [
      "Number of comments: 1028346\n",
      "Total number of unique posters: 457373\n",
      "Average number of comments per video: 3317\n",
      "\n",
      " Time interval: 2023-10-04 23:01:46 to 2023-11-07 01:41:49 (totaling 33 days)\n"
     ]
    }
   ],
   "source": [
    "print(\"Number of comments:\", len(df_comments))\n",
    "print(\"Total number of unique posters:\", len(df_comments.author.unique()))\n",
    "print(\"Average number of comments per video:\", int(df_comments['video_id'].value_counts().mean()))\n",
    "\n",
    "first_post = min(df_comments.date)\n",
    "last_post = max(df_comments.date)\n",
    "print('\\n', \"Time interval:\", first_post, 'to', last_post, '(totaling', (last_post - first_post).days, 'days)')"
   ]
  },
  {
   "cell_type": "markdown",
   "id": "fc2917aa",
   "metadata": {},
   "source": [
    "# Sentiment Analysis"
   ]
  },
  {
   "cell_type": "code",
   "execution_count": 13,
   "id": "1b645386",
   "metadata": {},
   "outputs": [],
   "source": [
    "from transformers import pipeline"
   ]
  },
  {
   "cell_type": "code",
   "execution_count": 14,
   "id": "72dbce03",
   "metadata": {},
   "outputs": [
    {
     "name": "stderr",
     "output_type": "stream",
     "text": [
      "No model was supplied, defaulted to distilbert-base-uncased-finetuned-sst-2-english and revision af0f99b (https://huggingface.co/distilbert-base-uncased-finetuned-sst-2-english).\n",
      "Using a pipeline without specifying a model name and revision in production is not recommended.\n"
     ]
    },
    {
     "data": {
      "text/plain": [
       "[{'label': 'POSITIVE', 'score': 0.9998656511306763},\n",
       " {'label': 'NEGATIVE', 'score': 0.9991129040718079}]"
      ]
     },
     "execution_count": 14,
     "metadata": {},
     "output_type": "execute_result"
    }
   ],
   "source": [
    "# No model was supplied, defaulted to distilbert-base-uncased-finetuned-sst-2-english \n",
    "sentiment_pipeline = pipeline(\"sentiment-analysis\", device=\"cuda\")\n",
    "data = [\"I love you\", \"I hate you\"]\n",
    "sentiment_pipeline(data)"
   ]
  },
  {
   "cell_type": "code",
   "execution_count": 15,
   "id": "9abdcf5b",
   "metadata": {},
   "outputs": [
    {
     "data": {
      "text/plain": [
       "video_id\n",
       "4idQbwsvtUo    128093\n",
       "6FVUxvp6Ah0     26252\n",
       "svOc4Ki68_U     24391\n",
       "FXrVtabZggI     23255\n",
       "PcQaG4sC9BM     21905\n",
       "                ...  \n",
       "ktAc39_WaTI        71\n",
       "ivXS0Fnzpns        44\n",
       "KwWz3wQtV5Y        42\n",
       "zZGtLXxQhjQ        25\n",
       "FUzLx1l37RE        25\n",
       "Name: count, Length: 310, dtype: int64"
      ]
     },
     "execution_count": 15,
     "metadata": {},
     "output_type": "execute_result"
    }
   ],
   "source": [
    "df_comments['video_id'].value_counts()"
   ]
  },
  {
   "cell_type": "code",
   "execution_count": 16,
   "id": "4591e147",
   "metadata": {},
   "outputs": [
    {
     "name": "stdout",
     "output_type": "stream",
     "text": [
      "HEATED DEBATE: Cornel West, Alan Dershowitz spar over Israel-Hamas war\n",
      "It's a debate\n"
     ]
    }
   ],
   "source": [
    "video_title = df_metadata[df_metadata.id == 'svOc4Ki68_U']['title'].values[0]\n",
    "print(video_title)\n",
    "print(\"It's a debate\" if \"debate\" in video_title.lower() else \"It's not a debate\")"
   ]
  },
  {
   "cell_type": "code",
   "execution_count": 17,
   "id": "ce052a3b",
   "metadata": {},
   "outputs": [],
   "source": [
    "video_id = 'svOc4Ki68_U'\n",
    "video_comments =  df_comments[df_comments['video_id'] == video_id]"
   ]
  },
  {
   "cell_type": "code",
   "execution_count": 33,
   "id": "3a6ccaf0",
   "metadata": {},
   "outputs": [
    {
     "data": {
      "application/vnd.jupyter.widget-view+json": {
       "model_id": "352bb39b618446fa9e54a4fde5a475f4",
       "version_major": 2,
       "version_minor": 0
      },
      "text/plain": [
       "  0%|          | 0/24391 [00:00<?, ?it/s]"
      ]
     },
     "metadata": {},
     "output_type": "display_data"
    },
    {
     "name": "stderr",
     "output_type": "stream",
     "text": [
      "C:\\Users\\harri\\anaconda3\\Lib\\site-packages\\transformers\\pipelines\\base.py:1101: UserWarning: You seem to be using the pipelines sequentially on GPU. In order to maximize efficiency please use a dataset\n",
      "  warnings.warn(\n"
     ]
    },
    {
     "name": "stdout",
     "output_type": "stream",
     "text": [
      "Problem with comment #4259\n",
      "Problem with comment #5677\n",
      "Problem with comment #8797\n",
      "Problem with comment #10560\n",
      "Problem with comment #10563\n",
      "Problem with comment #10564\n",
      "Problem with comment #10577\n",
      "Problem with comment #12412\n",
      "Problem with comment #14575\n",
      "Problem with comment #14658\n",
      "Problem with comment #18113\n",
      "Problem with comment #21035\n",
      "Problem with comment #22076\n",
      "Problem with comment #24162\n",
      "CPU times: total: 1min 55s\n",
      "Wall time: 2min 12s\n"
     ]
    }
   ],
   "source": [
    "%%time\n",
    "comment_sentiments = []\n",
    "for i, comment in enumerate(tqdm(video_comments['text'].tolist())):\n",
    "    try:\n",
    "        comment_sentiments.append(sentiment_pipeline(comment))\n",
    "    except:\n",
    "        print(f'Problem with comment #{i}')\n",
    "        comment_sentiments.append([{'label': 'UNKNOWN', 'score': 1.}])"
   ]
  },
  {
   "cell_type": "code",
   "execution_count": 34,
   "id": "7382c673",
   "metadata": {},
   "outputs": [
    {
     "data": {
      "text/plain": [
       "'ليسن فاكس نيوز اذا كنت تفهم الصحافه واذا كنت تفهم القراءه والكتابه هل تعلم ان اسرائيل محتله الاراضي الفلسطينيه اكثر من 75 عام تعلم ان اسرائيل تقتل الفلسطينيين يوميا وتقول ان حماس هي ارهابيه حماس نينجا جو هما فلسطينيين يدافعون عن عرضهم وعن كرامتهم وعن حقوقهم من حق كل فلسطينيه حماس اي انسان فلسطيني ان يدافع على حقوقه في الدول العربيه والاسلاميه هي ليست بالخمسينات احنا فهمنا الكثير منكم وعلى عبر قناتكم فاكس نيوز تعلمنا الكثير العنصريه حقكم من الاضطهاد من الظلم من الكهنوت انت من حق اي فلسطيني ان يدافع وان يقتل الجيش الاسرائيلي كله وفي مثل بيقول بالعربي اي شيء يؤخذ منك بالقوه ما يعاد الا بالقوه نحن نعرف الكثير ان اسرائيل هي ولايه من الولايات المتحده الامريكيه تدعمها بالمال بالاسلحه وتقتلون شعبنا العزيز فجاء الحق وزهق الباطل ان الباطل كان زهوقا والنصر والعزه لابناء فلسطين ونحن واقفين معهم بالمال والسلاح والرجال وفي كل شيء رغم انفكم'"
      ]
     },
     "execution_count": 34,
     "metadata": {},
     "output_type": "execute_result"
    }
   ],
   "source": [
    "video_comments['text'].tolist()[8797]"
   ]
  },
  {
   "cell_type": "code",
   "execution_count": 24,
   "id": "ee0676d2",
   "metadata": {},
   "outputs": [
    {
     "name": "stdout",
     "output_type": "stream",
     "text": [
      "24377\n"
     ]
    },
    {
     "data": {
      "text/plain": [
       "[{'label': 'NEGATIVE', 'score': 0.99345463514328}]"
      ]
     },
     "execution_count": 24,
     "metadata": {},
     "output_type": "execute_result"
    }
   ],
   "source": [
    "print(len(comment_sentiments))\n",
    "comment_sentiments[0]"
   ]
  },
  {
   "cell_type": "code",
   "execution_count": 35,
   "id": "9b06f492",
   "metadata": {},
   "outputs": [],
   "source": [
    "# Drop low-confidence (<80%) classifications\n",
    "sentiment_counter = Counter([s[0]['label'] for s in comment_sentiments if s[0]['score'] > 0.8])"
   ]
  },
  {
   "cell_type": "code",
   "execution_count": 36,
   "id": "aba592b9",
   "metadata": {},
   "outputs": [
    {
     "name": "stdout",
     "output_type": "stream",
     "text": [
      "22886\n"
     ]
    },
    {
     "data": {
      "text/plain": [
       "[('NEGATIVE', 17094), ('POSITIVE', 5778), ('UNKNOWN', 14)]"
      ]
     },
     "execution_count": 36,
     "metadata": {},
     "output_type": "execute_result"
    }
   ],
   "source": [
    "print(sum(sentiment_counter.values()))\n",
    "sentiment_counter.most_common()"
   ]
  },
  {
   "cell_type": "code",
   "execution_count": 38,
   "id": "5531731c",
   "metadata": {},
   "outputs": [
    {
     "name": "stderr",
     "output_type": "stream",
     "text": [
      "C:\\Users\\harri\\AppData\\Local\\Temp\\ipykernel_22936\\724003131.py:1: SettingWithCopyWarning: \n",
      "A value is trying to be set on a copy of a slice from a DataFrame.\n",
      "Try using .loc[row_indexer,col_indexer] = value instead\n",
      "\n",
      "See the caveats in the documentation: https://pandas.pydata.org/pandas-docs/stable/user_guide/indexing.html#returning-a-view-versus-a-copy\n",
      "  video_comments['sentiment'] = [s[0]['label'] if s[0]['score'] > 0.8 else 'UNCERTAIN' for s in comment_sentiments]\n"
     ]
    }
   ],
   "source": [
    "video_comments['sentiment'] = [s[0]['label'] if s[0]['score'] > 0.8 else 'UNCERTAIN' for s in comment_sentiments]"
   ]
  },
  {
   "cell_type": "code",
   "execution_count": 40,
   "id": "ddf47a4c",
   "metadata": {},
   "outputs": [
    {
     "data": {
      "text/plain": [
       "sentiment\n",
       "NEGATIVE     17094\n",
       "POSITIVE      5778\n",
       "UNCERTAIN     1505\n",
       "UNKNOWN         14\n",
       "Name: count, dtype: int64"
      ]
     },
     "execution_count": 40,
     "metadata": {},
     "output_type": "execute_result"
    }
   ],
   "source": [
    "video_comments['sentiment'].value_counts()"
   ]
  },
  {
   "cell_type": "code",
   "execution_count": 44,
   "id": "4a2cb479",
   "metadata": {},
   "outputs": [
    {
     "data": {
      "text/plain": [
       "823034                                                                                                                                                    Doctor West!!!! One of the greatest humans of our time.\n",
       "823036                                                                                                                      Alan was Epsteins best friend…. If you support Israel you support evil child grapeist\n",
       "823037                                                                                                                                             Fox news all of your media outlets are sellouts for the dollar\n",
       "823040                                                                                                                     Dr. West always keeps it real keep going brother speaking that truth we got your back.\n",
       "823042    Even Biden took his words back, his accusations or beheaded babies. Yet they feel comfortable to us it as a fact and win this way and argument or shame other voices. Waauw, these days journalists ...\n",
       "Name: text, dtype: object"
      ]
     },
     "execution_count": 44,
     "metadata": {},
     "output_type": "execute_result"
    }
   ],
   "source": [
    "video_comments[video_comments['sentiment'] == 'POSITIVE']['text'].head()"
   ]
  },
  {
   "cell_type": "code",
   "execution_count": null,
   "id": "42e822e5",
   "metadata": {},
   "outputs": [],
   "source": []
  }
 ],
 "metadata": {
  "kernelspec": {
   "display_name": "Python 3 (ipykernel)",
   "language": "python",
   "name": "python3"
  },
  "language_info": {
   "codemirror_mode": {
    "name": "ipython",
    "version": 3
   },
   "file_extension": ".py",
   "mimetype": "text/x-python",
   "name": "python",
   "nbconvert_exporter": "python",
   "pygments_lexer": "ipython3",
   "version": "3.11.5"
  }
 },
 "nbformat": 4,
 "nbformat_minor": 5
}
