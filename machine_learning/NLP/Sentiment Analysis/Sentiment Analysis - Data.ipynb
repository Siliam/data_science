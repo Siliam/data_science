{
 "cells": [
  {
   "cell_type": "code",
   "execution_count": 13,
   "id": "aad13b49",
   "metadata": {},
   "outputs": [],
   "source": [
    "import json\n",
    "import datasets\n",
    "import pandas as pd\n",
    "import numpy as np\n",
    "from pprint import pprint\n",
    "from tqdm.notebook import tqdm\n",
    "from datasets import load_dataset"
   ]
  },
  {
   "cell_type": "code",
   "execution_count": 2,
   "id": "a1f2a869",
   "metadata": {},
   "outputs": [
    {
     "name": "stderr",
     "output_type": "stream",
     "text": [
      "Found cached dataset parquet (C:/Users/harri/.cache/huggingface/datasets/alsubari___parquet/alsubari--Israel-palestine-war-bcbb3b19f11f72aa/0.0.0/2a3b91fbd88a2c90d1dbbb32b460cf621d31bd5b05b934492fdef7d8d6f236ec)\n"
     ]
    },
    {
     "data": {
      "application/vnd.jupyter.widget-view+json": {
       "model_id": "06762384ca264053bcc409bd539a7d9b",
       "version_major": 2,
       "version_minor": 0
      },
      "text/plain": [
       "  0%|          | 0/1 [00:00<?, ?it/s]"
      ]
     },
     "metadata": {},
     "output_type": "display_data"
    }
   ],
   "source": [
    "dataset = load_dataset('alsubari/Israel-palestine-war')"
   ]
  },
  {
   "cell_type": "code",
   "execution_count": 3,
   "id": "ca82166f",
   "metadata": {},
   "outputs": [
    {
     "name": "stdout",
     "output_type": "stream",
     "text": [
      "DatasetDict({\n",
      "    train: Dataset({\n",
      "        features: ['id', 'publish_channel', 'title', 'start_duration', 'end_duration', 'lengthSeconds', 'total_comments', 'total_unique_users', 'comments'],\n",
      "        num_rows: 310\n",
      "    })\n",
      "})\n"
     ]
    }
   ],
   "source": [
    "print(dataset)"
   ]
  },
  {
   "cell_type": "code",
   "execution_count": 14,
   "id": "209093a7",
   "metadata": {
    "scrolled": false
   },
   "outputs": [
    {
     "data": {
      "application/vnd.jupyter.widget-view+json": {
       "model_id": "ea13104821f64f29949004dd370c216e",
       "version_major": 2,
       "version_minor": 0
      },
      "text/plain": [
       "  0%|          | 0/310 [00:00<?, ?it/s]"
      ]
     },
     "metadata": {},
     "output_type": "display_data"
    }
   ],
   "source": [
    "metadata = []\n",
    "for d in tqdm(dataset['train']):\n",
    "    md = {}\n",
    "    for k in d:\n",
    "        if k != \"comments\":\n",
    "            md[k] = d[k]\n",
    "    metadata.append(md)\n",
    "\n",
    "df_metadata = pd.DataFrame(metadata)"
   ]
  },
  {
   "cell_type": "code",
   "execution_count": 16,
   "id": "8f0b8d28",
   "metadata": {},
   "outputs": [
    {
     "data": {
      "application/vnd.jupyter.widget-view+json": {
       "model_id": "887df1cfa9bf4d99ac076a6fbe98e936",
       "version_major": 2,
       "version_minor": 0
      },
      "text/plain": [
       "  0%|          | 0/310 [00:00<?, ?it/s]"
      ]
     },
     "metadata": {},
     "output_type": "display_data"
    }
   ],
   "source": [
    "comments_data = []\n",
    "for d in tqdm(dataset['train']):\n",
    "    for k in d:\n",
    "        if k == \"comments\":\n",
    "            for c in d[k]:\n",
    "                c['video_id'] = d['id']\n",
    "                comments_data.append(c)\n",
    "\n",
    "df_comments = pd.DataFrame(comments_data)"
   ]
  },
  {
   "cell_type": "code",
   "execution_count": 17,
   "id": "c092e60b",
   "metadata": {},
   "outputs": [
    {
     "data": {
      "text/html": [
       "<div>\n",
       "<style scoped>\n",
       "    .dataframe tbody tr th:only-of-type {\n",
       "        vertical-align: middle;\n",
       "    }\n",
       "\n",
       "    .dataframe tbody tr th {\n",
       "        vertical-align: top;\n",
       "    }\n",
       "\n",
       "    .dataframe thead th {\n",
       "        text-align: right;\n",
       "    }\n",
       "</style>\n",
       "<table border=\"1\" class=\"dataframe\">\n",
       "  <thead>\n",
       "    <tr style=\"text-align: right;\">\n",
       "      <th></th>\n",
       "      <th>id</th>\n",
       "      <th>publish_channel</th>\n",
       "      <th>title</th>\n",
       "      <th>start_duration</th>\n",
       "      <th>end_duration</th>\n",
       "      <th>lengthSeconds</th>\n",
       "      <th>total_comments</th>\n",
       "      <th>total_unique_users</th>\n",
       "    </tr>\n",
       "  </thead>\n",
       "  <tbody>\n",
       "    <tr>\n",
       "      <th>0</th>\n",
       "      <td>FUzLx1l37RE</td>\n",
       "      <td>NBCNews</td>\n",
       "      <td>Blinken reiterates Israel support but urges re...</td>\n",
       "      <td>2023-11-03 19:38:34</td>\n",
       "      <td>2023-11-04 17:38:34</td>\n",
       "      <td>241</td>\n",
       "      <td>25</td>\n",
       "      <td>21</td>\n",
       "    </tr>\n",
       "    <tr>\n",
       "      <th>1</th>\n",
       "      <td>PcQaG4sC9BM</td>\n",
       "      <td>NBCNews</td>\n",
       "      <td>Full Special Report: Israel declares war after...</td>\n",
       "      <td>2023-10-07 19:42:03</td>\n",
       "      <td>2023-11-04 12:38:36</td>\n",
       "      <td>1484</td>\n",
       "      <td>21905</td>\n",
       "      <td>14860</td>\n",
       "    </tr>\n",
       "    <tr>\n",
       "      <th>2</th>\n",
       "      <td>X2t6NyGP1-w</td>\n",
       "      <td>NBCNews</td>\n",
       "      <td>Hamas official claims it's their 'legal right'...</td>\n",
       "      <td>2023-11-03 19:49:36</td>\n",
       "      <td>2023-11-04 19:46:34</td>\n",
       "      <td>335</td>\n",
       "      <td>1853</td>\n",
       "      <td>1170</td>\n",
       "    </tr>\n",
       "    <tr>\n",
       "      <th>3</th>\n",
       "      <td>cd24N0tF-jY</td>\n",
       "      <td>NBCNews</td>\n",
       "      <td>FBI director warns of growing domestic threat ...</td>\n",
       "      <td>2023-11-01 19:50:24</td>\n",
       "      <td>2023-11-04 18:50:41</td>\n",
       "      <td>143</td>\n",
       "      <td>987</td>\n",
       "      <td>670</td>\n",
       "    </tr>\n",
       "    <tr>\n",
       "      <th>4</th>\n",
       "      <td>ICR5ml2YPkI</td>\n",
       "      <td>NBCNews</td>\n",
       "      <td>Israel’s president: 23-year-old Israeli hostag...</td>\n",
       "      <td>2023-10-31 19:51:23</td>\n",
       "      <td>2023-11-04 19:44:35</td>\n",
       "      <td>162</td>\n",
       "      <td>5275</td>\n",
       "      <td>3475</td>\n",
       "    </tr>\n",
       "  </tbody>\n",
       "</table>\n",
       "</div>"
      ],
      "text/plain": [
       "            id publish_channel  \\\n",
       "0  FUzLx1l37RE         NBCNews   \n",
       "1  PcQaG4sC9BM         NBCNews   \n",
       "2  X2t6NyGP1-w         NBCNews   \n",
       "3  cd24N0tF-jY         NBCNews   \n",
       "4  ICR5ml2YPkI         NBCNews   \n",
       "\n",
       "                                               title       start_duration  \\\n",
       "0  Blinken reiterates Israel support but urges re...  2023-11-03 19:38:34   \n",
       "1  Full Special Report: Israel declares war after...  2023-10-07 19:42:03   \n",
       "2  Hamas official claims it's their 'legal right'...  2023-11-03 19:49:36   \n",
       "3  FBI director warns of growing domestic threat ...  2023-11-01 19:50:24   \n",
       "4  Israel’s president: 23-year-old Israeli hostag...  2023-10-31 19:51:23   \n",
       "\n",
       "          end_duration  lengthSeconds  total_comments  total_unique_users  \n",
       "0  2023-11-04 17:38:34            241              25                  21  \n",
       "1  2023-11-04 12:38:36           1484           21905               14860  \n",
       "2  2023-11-04 19:46:34            335            1853                1170  \n",
       "3  2023-11-04 18:50:41            143             987                 670  \n",
       "4  2023-11-04 19:44:35            162            5275                3475  "
      ]
     },
     "execution_count": 17,
     "metadata": {},
     "output_type": "execute_result"
    }
   ],
   "source": [
    "df_metadata.head()"
   ]
  },
  {
   "cell_type": "code",
   "execution_count": 22,
   "id": "9d64d99b",
   "metadata": {},
   "outputs": [
    {
     "data": {
      "text/plain": [
       "310"
      ]
     },
     "execution_count": 22,
     "metadata": {},
     "output_type": "execute_result"
    }
   ],
   "source": [
    "len(df_metadata.id.unique())"
   ]
  },
  {
   "cell_type": "code",
   "execution_count": 23,
   "id": "42b25a6e",
   "metadata": {},
   "outputs": [
    {
     "data": {
      "text/plain": [
       "457373"
      ]
     },
     "execution_count": 23,
     "metadata": {},
     "output_type": "execute_result"
    }
   ],
   "source": [
    "len(df_comments.author.unique())"
   ]
  },
  {
   "cell_type": "code",
   "execution_count": 24,
   "id": "aa22192d",
   "metadata": {},
   "outputs": [],
   "source": [
    "df_metadata.to_csv('data/alsubari_videos_metadata.csv')"
   ]
  },
  {
   "cell_type": "code",
   "execution_count": 25,
   "id": "7c5bac35",
   "metadata": {},
   "outputs": [],
   "source": [
    "df_comments.to_csv('data/alsubari_videos_comments.csv')"
   ]
  },
  {
   "cell_type": "code",
   "execution_count": null,
   "id": "60d3b2e1",
   "metadata": {},
   "outputs": [],
   "source": []
  }
 ],
 "metadata": {
  "kernelspec": {
   "display_name": "Python 3 (ipykernel)",
   "language": "python",
   "name": "python3"
  },
  "language_info": {
   "codemirror_mode": {
    "name": "ipython",
    "version": 3
   },
   "file_extension": ".py",
   "mimetype": "text/x-python",
   "name": "python",
   "nbconvert_exporter": "python",
   "pygments_lexer": "ipython3",
   "version": "3.11.5"
  }
 },
 "nbformat": 4,
 "nbformat_minor": 5
}
