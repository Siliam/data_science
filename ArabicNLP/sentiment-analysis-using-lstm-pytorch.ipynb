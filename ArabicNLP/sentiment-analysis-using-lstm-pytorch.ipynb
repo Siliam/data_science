{
 "cells": [
  {
   "cell_type": "markdown",
   "metadata": {},
   "source": [
    "Inspired by: https://www.kaggle.com/code/arunmohan003/sentiment-analysis-using-lstm-pytorch "
   ]
  },
  {
   "cell_type": "code",
   "execution_count": 1,
   "metadata": {
    "_cell_guid": "b1076dfc-b9ad-4769-8c92-a6c4dae69d19",
    "_uuid": "8f2839f25d086af736a60e9eeb907d3b93b6e0e5"
   },
   "outputs": [],
   "source": [
    "import numpy as np # linear algebra\n",
    "import pandas as pd # data processing, CSV file I/O (e.g. pd.read_csv)\n",
    "import torch\n",
    "import torch.nn as nn\n",
    "import torch.nn.functional as F\n",
    "from nltk.corpus import stopwords \n",
    "from collections import Counter\n",
    "import string\n",
    "import re\n",
    "import seaborn as sns\n",
    "from tqdm import tqdm\n",
    "import matplotlib.pyplot as plt\n",
    "from torch.utils.data import TensorDataset, DataLoader\n",
    "from sklearn.model_selection import train_test_split"
   ]
  },
  {
   "cell_type": "code",
   "execution_count": 2,
   "metadata": {},
   "outputs": [
    {
     "name": "stdout",
     "output_type": "stream",
     "text": [
      "GPU is available\n"
     ]
    }
   ],
   "source": [
    "is_cuda = torch.cuda.is_available()\n",
    "\n",
    "# If we have a GPU available, we'll set our device to GPU. We'll use this device variable later in our code.\n",
    "if is_cuda:\n",
    "    device = torch.device(\"cuda\")\n",
    "    print(\"GPU is available\")\n",
    "else:\n",
    "    device = torch.device(\"cpu\")\n",
    "    print(\"GPU not available, CPU used\")"
   ]
  },
  {
   "cell_type": "code",
   "execution_count": 12,
   "metadata": {
    "_cell_guid": "79c7e3d0-c299-4dcb-8224-4455121ee9b0",
    "_uuid": "d629ff2d2480ee46fbb7e2d37f6b5fab8052498a"
   },
   "outputs": [
    {
     "data": {
      "application/vnd.jupyter.widget-view+json": {
       "model_id": "b75738bcb85b4e8daab0da88fc2afaf7",
       "version_major": 2,
       "version_minor": 0
      },
      "text/plain": [
       "Downloading data:   0%|          | 0.00/1.89M [00:00<?, ?B/s]"
      ]
     },
     "metadata": {},
     "output_type": "display_data"
    },
    {
     "data": {
      "application/vnd.jupyter.widget-view+json": {
       "model_id": "d67717fbf8d54c59932f508b1c5823cb",
       "version_major": 2,
       "version_minor": 0
      },
      "text/plain": [
       "Generating train split:   0%|          | 0/8364 [00:00<?, ? examples/s]"
      ]
     },
     "metadata": {},
     "output_type": "display_data"
    }
   ],
   "source": [
    "from datasets import load_dataset\n",
    "\n",
    "dataset = load_dataset('ar_res_reviews')"
   ]
  },
  {
   "cell_type": "code",
   "execution_count": 13,
   "metadata": {},
   "outputs": [
    {
     "data": {
      "text/plain": [
       "['__class__',\n",
       " '__class_getitem__',\n",
       " '__contains__',\n",
       " '__delattr__',\n",
       " '__delitem__',\n",
       " '__dict__',\n",
       " '__dir__',\n",
       " '__doc__',\n",
       " '__enter__',\n",
       " '__eq__',\n",
       " '__exit__',\n",
       " '__format__',\n",
       " '__ge__',\n",
       " '__getattribute__',\n",
       " '__getitem__',\n",
       " '__getstate__',\n",
       " '__gt__',\n",
       " '__hash__',\n",
       " '__init__',\n",
       " '__init_subclass__',\n",
       " '__ior__',\n",
       " '__iter__',\n",
       " '__le__',\n",
       " '__len__',\n",
       " '__lt__',\n",
       " '__module__',\n",
       " '__ne__',\n",
       " '__new__',\n",
       " '__or__',\n",
       " '__reduce__',\n",
       " '__reduce_ex__',\n",
       " '__repr__',\n",
       " '__reversed__',\n",
       " '__ror__',\n",
       " '__setattr__',\n",
       " '__setitem__',\n",
       " '__sizeof__',\n",
       " '__str__',\n",
       " '__subclasshook__',\n",
       " '__weakref__',\n",
       " '_check_values_features',\n",
       " '_check_values_type',\n",
       " 'align_labels_with_mapping',\n",
       " 'cache_files',\n",
       " 'cast',\n",
       " 'cast_column',\n",
       " 'class_encode_column',\n",
       " 'cleanup_cache_files',\n",
       " 'clear',\n",
       " 'column_names',\n",
       " 'copy',\n",
       " 'data',\n",
       " 'filter',\n",
       " 'flatten',\n",
       " 'flatten_indices',\n",
       " 'formatted_as',\n",
       " 'from_csv',\n",
       " 'from_json',\n",
       " 'from_parquet',\n",
       " 'from_text',\n",
       " 'fromkeys',\n",
       " 'get',\n",
       " 'items',\n",
       " 'keys',\n",
       " 'load_from_disk',\n",
       " 'map',\n",
       " 'num_columns',\n",
       " 'num_rows',\n",
       " 'pop',\n",
       " 'popitem',\n",
       " 'prepare_for_task',\n",
       " 'push_to_hub',\n",
       " 'remove_columns',\n",
       " 'rename_column',\n",
       " 'rename_columns',\n",
       " 'reset_format',\n",
       " 'save_to_disk',\n",
       " 'select_columns',\n",
       " 'set_format',\n",
       " 'set_transform',\n",
       " 'setdefault',\n",
       " 'shape',\n",
       " 'shuffle',\n",
       " 'sort',\n",
       " 'unique',\n",
       " 'update',\n",
       " 'values',\n",
       " 'with_format',\n",
       " 'with_transform']"
      ]
     },
     "execution_count": 13,
     "metadata": {},
     "output_type": "execute_result"
    }
   ],
   "source": [
    "dir(dataset)"
   ]
  },
  {
   "cell_type": "code",
   "execution_count": 14,
   "metadata": {},
   "outputs": [
    {
     "data": {
      "text/plain": [
       "dict_keys(['train'])"
      ]
     },
     "execution_count": 14,
     "metadata": {},
     "output_type": "execute_result"
    }
   ],
   "source": [
    "dataset.keys()"
   ]
  },
  {
   "cell_type": "code",
   "execution_count": 15,
   "metadata": {},
   "outputs": [
    {
     "data": {
      "text/plain": [
       "8364"
      ]
     },
     "execution_count": 15,
     "metadata": {},
     "output_type": "execute_result"
    }
   ],
   "source": [
    "len(dataset['train'])"
   ]
  },
  {
   "cell_type": "code",
   "execution_count": 16,
   "metadata": {},
   "outputs": [
    {
     "data": {
      "text/plain": [
       "{'polarity': 0,\n",
       " 'text': 'اولا: المنيو تغير الشورما اصبحت اعتياديه بأختفاء الصلصات والخيارات  \\n ثانيا : في المره الاولي لطلبي وجدنا قطعه من قفاز الايدي في الدجاج واعتقدنا مبدأيا بأنه من جلد الدجاج  حتي تأكدنا ومنه قررنا ان لا نشتري منه لكن -للبطن احكام :-) \\n ثالثا : طلبت بالمره الاخيره الطبق المفضل لي صحن الشورما (شورما بالتر ) فجاء الطلب من غير خبز او صلصه ولا مجال للعوده للمحل والشكوي  \\n قرار اخير لا اطلب من اكسبرس مجددا',\n",
       " 'restaurant_id': '296',\n",
       " 'user_id': '423'}"
      ]
     },
     "execution_count": 16,
     "metadata": {},
     "output_type": "execute_result"
    }
   ],
   "source": [
    "dataset['train'][0]"
   ]
  },
  {
   "cell_type": "code",
   "execution_count": 17,
   "metadata": {},
   "outputs": [
    {
     "data": {
      "text/html": [
       "<div>\n",
       "<style scoped>\n",
       "    .dataframe tbody tr th:only-of-type {\n",
       "        vertical-align: middle;\n",
       "    }\n",
       "\n",
       "    .dataframe tbody tr th {\n",
       "        vertical-align: top;\n",
       "    }\n",
       "\n",
       "    .dataframe thead th {\n",
       "        text-align: right;\n",
       "    }\n",
       "</style>\n",
       "<table border=\"1\" class=\"dataframe\">\n",
       "  <thead>\n",
       "    <tr style=\"text-align: right;\">\n",
       "      <th></th>\n",
       "      <th>polarity</th>\n",
       "      <th>text</th>\n",
       "      <th>restaurant_id</th>\n",
       "      <th>user_id</th>\n",
       "    </tr>\n",
       "  </thead>\n",
       "  <tbody>\n",
       "    <tr>\n",
       "      <th>0</th>\n",
       "      <td>0</td>\n",
       "      <td>اولا: المنيو تغير الشورما اصبحت اعتياديه بأختف...</td>\n",
       "      <td>296</td>\n",
       "      <td>423</td>\n",
       "    </tr>\n",
       "    <tr>\n",
       "      <th>1</th>\n",
       "      <td>0</td>\n",
       "      <td>من محلات الشاورما ذات الشعبيه لتميز الصلصات ال...</td>\n",
       "      <td>296</td>\n",
       "      <td>423</td>\n",
       "    </tr>\n",
       "    <tr>\n",
       "      <th>2</th>\n",
       "      <td>1</td>\n",
       "      <td>دجاج طازج يحضر امامك على الطلب لا يقوم باعدة ا...</td>\n",
       "      <td>5027</td>\n",
       "      <td>39580</td>\n",
       "    </tr>\n",
       "    <tr>\n",
       "      <th>3</th>\n",
       "      <td>1</td>\n",
       "      <td>فكما تعرف أستراليا بالكنغر والكوالا. فإنها تعر...</td>\n",
       "      <td>642</td>\n",
       "      <td>444</td>\n",
       "    </tr>\n",
       "    <tr>\n",
       "      <th>4</th>\n",
       "      <td>0</td>\n",
       "      <td>إسمحو لي أن أقيم مطعم هاشم بصفتي فلسطيني عشت ف...</td>\n",
       "      <td>434</td>\n",
       "      <td>2191</td>\n",
       "    </tr>\n",
       "  </tbody>\n",
       "</table>\n",
       "</div>"
      ],
      "text/plain": [
       "   polarity                                               text restaurant_id  \\\n",
       "0         0  اولا: المنيو تغير الشورما اصبحت اعتياديه بأختف...           296   \n",
       "1         0  من محلات الشاورما ذات الشعبيه لتميز الصلصات ال...           296   \n",
       "2         1  دجاج طازج يحضر امامك على الطلب لا يقوم باعدة ا...          5027   \n",
       "3         1  فكما تعرف أستراليا بالكنغر والكوالا. فإنها تعر...           642   \n",
       "4         0  إسمحو لي أن أقيم مطعم هاشم بصفتي فلسطيني عشت ف...           434   \n",
       "\n",
       "  user_id  \n",
       "0     423  \n",
       "1     423  \n",
       "2   39580  \n",
       "3     444  \n",
       "4    2191  "
      ]
     },
     "execution_count": 17,
     "metadata": {},
     "output_type": "execute_result"
    }
   ],
   "source": [
    "df = pd.DataFrame(dataset['train'])\n",
    "df.head()"
   ]
  },
  {
   "cell_type": "code",
   "execution_count": 18,
   "metadata": {},
   "outputs": [],
   "source": [
    "df['sentiment'] = df['polarity'].map(lambda polarity: \"negative\" if polarity == 0 else \"positive\")"
   ]
  },
  {
   "cell_type": "markdown",
   "metadata": {},
   "source": [
    "### Splitting to train and test data"
   ]
  },
  {
   "cell_type": "markdown",
   "metadata": {},
   "source": [
    "We will split data to train and test initially. Doing this on earlier stage allows to avoid data lekage.\n"
   ]
  },
  {
   "cell_type": "code",
   "execution_count": 94,
   "metadata": {},
   "outputs": [
    {
     "name": "stdout",
     "output_type": "stream",
     "text": [
      "shape of train data is (6273,)\n",
      "shape of test data is (2091,)\n"
     ]
    }
   ],
   "source": [
    "X,y = df['text'].values,df['sentiment'].values\n",
    "x_train,x_test,y_train,y_test = train_test_split(X,y,stratify=y)\n",
    "print(f'shape of train data is {x_train.shape}')\n",
    "print(f'shape of test data is {x_test.shape}')"
   ]
  },
  {
   "cell_type": "markdown",
   "metadata": {},
   "source": [
    "### Analysing sentiment"
   ]
  },
  {
   "cell_type": "code",
   "execution_count": 95,
   "metadata": {},
   "outputs": [
    {
     "data": {
      "image/png": "[encoded data removed]",
      "text/plain": [
       "<Figure size 640x480 with 1 Axes>"
      ]
     },
     "metadata": {},
     "output_type": "display_data"
    }
   ],
   "source": [
    "dd = pd.Series(y_train).value_counts()\n",
    "sns.barplot(x=np.array(['negative','positive']),y=dd.values)\n",
    "plt.show()"
   ]
  },
  {
   "cell_type": "markdown",
   "metadata": {},
   "source": [
    "### Tockenization"
   ]
  },
  {
   "cell_type": "code",
   "execution_count": 96,
   "metadata": {},
   "outputs": [
    {
     "name": "stderr",
     "output_type": "stream",
     "text": [
      "[nltk_data] Downloading package stopwords to\n",
      "[nltk_data]     C:\\Users\\harri\\AppData\\Roaming\\nltk_data...\n",
      "[nltk_data]   Package stopwords is already up-to-date!\n"
     ]
    },
    {
     "data": {
      "text/plain": [
       "['إذ', 'إذا', 'إذما', 'إذن', 'أف', 'أقل', 'أكثر', 'ألا', 'إلا', 'التي']"
      ]
     },
     "execution_count": 96,
     "metadata": {},
     "output_type": "execute_result"
    }
   ],
   "source": [
    "import nltk\n",
    "nltk.download('stopwords')\n",
    "\n",
    "stopwords.words('arabic')[:10]"
   ]
  },
  {
   "cell_type": "code",
   "execution_count": 97,
   "metadata": {},
   "outputs": [],
   "source": [
    "def preprocess_string(s):\n",
    "    # Remove all non-word characters (everything except numbers and letters)\n",
    "    s = re.sub(r\"[^\\w\\s]\", '', s)\n",
    "    # Replace all runs of whitespaces with no space\n",
    "    s = re.sub(r\"\\s+\", ' ', s)\n",
    "    # replace digits with no space\n",
    "    s = re.sub(r\"\\d\", '', s)\n",
    "\n",
    "    return s"
   ]
  },
  {
   "cell_type": "code",
   "execution_count": 98,
   "metadata": {},
   "outputs": [
    {
     "data": {
      "text/plain": [
       "['الدجاج',\n",
       " 'واعتقدنا',\n",
       " 'مبدأيا',\n",
       " 'بأنه',\n",
       " 'من',\n",
       " 'جلد',\n",
       " 'الدجاج',\n",
       " 'حتي',\n",
       " 'تأكدنا',\n",
       " 'ومنه',\n",
       " 'قررنا',\n",
       " 'ان',\n",
       " 'لا',\n",
       " 'نشتري',\n",
       " 'منه',\n",
       " 'لكن',\n",
       " '-للبطن',\n",
       " 'احكام']"
      ]
     },
     "execution_count": 98,
     "metadata": {},
     "output_type": "execute_result"
    }
   ],
   "source": [
    "\"الدجاج واعتقدنا مبدأيا بأنه من جلد الدجاج    حتي تأكدنا ومنه قررنا ان لا نشتري منه لكن -للبطن احكام\".split()"
   ]
  },
  {
   "cell_type": "code",
   "execution_count": 109,
   "metadata": {},
   "outputs": [],
   "source": [
    "def tokenize(x_train,y_train,x_val,y_val):\n",
    "    word_list = []\n",
    "\n",
    "    stop_words = set(stopwords.words('arabic')) \n",
    "    for sent in x_train:\n",
    "        for word in sent.split():\n",
    "            word = preprocess_string(word)\n",
    "            if word not in stop_words and word != '':\n",
    "                word_list.append(word)\n",
    "  \n",
    "    corpus = Counter(word_list)\n",
    "    # sorting on the basis of most common words\n",
    "    corpus_ = sorted(corpus,key=corpus.get,reverse=True)[:1000]\n",
    "    # creating a dict\n",
    "    onehot_dict = {w:i+1 for i,w in enumerate(corpus_)}\n",
    "    \n",
    "    # tockenize\n",
    "    final_list_train, final_list_test = [],[]\n",
    "    for sent in x_train:\n",
    "            final_list_train.append([onehot_dict[preprocess_string(word)] for word in sent.split() \n",
    "                                     if preprocess_string(word) in onehot_dict.keys()])\n",
    "    for sent in x_val:\n",
    "            final_list_test.append([onehot_dict[preprocess_string(word)] for word in sent.split() \n",
    "                                    if preprocess_string(word) in onehot_dict.keys()])\n",
    "            \n",
    "    encoded_train = [1 if label =='positive' else 0 for label in y_train]  \n",
    "    encoded_test = [1 if label =='positive' else 0 for label in y_val] \n",
    "    \n",
    "    #train_ids = np.array(final_list_train)\n",
    "    #test_ids = np.array(final_list_test)\n",
    "    train_y = np.array(encoded_train)\n",
    "    \n",
    "    test_y = np.array(encoded_test)\n",
    "    \n",
    "    return final_list_train, train_y, final_list_test, test_y,onehot_dict"
   ]
  },
  {
   "cell_type": "code",
   "execution_count": 100,
   "metadata": {
    "scrolled": false
   },
   "outputs": [
    {
     "name": "stdout",
     "output_type": "stream",
     "text": [
      "[[201, 419], [949], [636, 379, 328, 575], [847], [176, 74, 847, 22, 17], [53, 478, 33, 24, 35, 478, 20, 3, 599, 334, 93, 600, 248, 26, 328, 26, 194, 10], [37, 10, 4, 576, 437, 362, 67, 70, 67, 14, 2, 201, 249, 780, 479, 230, 673, 95, 331, 674, 9, 89, 491, 89, 15], [577, 38, 13, 178, 141, 20, 20, 807, 53, 398, 903, 309, 754, 904, 451, 310, 117, 950, 807, 35, 114, 904, 451, 114, 728, 185, 688, 141, 262, 388, 25, 47, 925, 578, 40, 291, 206, 45, 466, 138, 152, 262, 480, 53], [3, 299, 20], [1, 223, 80, 637, 35, 179, 2, 61]] <class 'list'>\n",
      "[1, 0, 1, 1, 1, 1, 1, 1, 1, 0]\n",
      "[[116, 13, 178, 70, 21, 442, 32, 7, 2, 71, 60, 10, 700, 761], [71, 11, 320, 262, 585, 605, 645, 260, 31, 10, 886], [820], [63], [202, 387, 244], [263, 219, 109], [5, 291], [40, 13, 715, 11, 58, 21, 5], [66, 114, 53, 182, 119], [53, 126, 2, 84, 77, 14, 551, 478, 337, 815, 70, 906, 173, 173]]\n",
      "[1, 1, 1, 1, 1, 1, 1, 1, 1, 0]\n",
      "{'المطعم': 1, 'جدا': 2, 'مطعم': 3, 'اللي': 4, 'عندهم': 5, 'ان': 6, 'لذيذ': 7, 'شي': 8, 'كانت': 9, 'المطاعم': 10, 'ممتاز': 11, 'انا': 12, 'فرع': 13, 'الاكل': 14, 'مره': 15, 'انه': 16, 'الي': 17, 'او': 18, 'الله': 19, 'مرة': 20, 'رائع': 21, 'افضل': 22, 'الدجاج': 23, 'جيد': 24, 'طعم': 25, 'دجاج': 26, 'يعني': 27, 'حلو': 28, 'المكان': 29, 'عادي': 30, 'مو': 31, 'الأكل': 32, 'الطعم': 33, 'بشكل': 34, 'الخدمة': 35, 'اللحم': 36, 'أفضل': 37, 'الى': 38, 'الطلب': 39, 'جربت': 40, 'الرياض': 41, 'لحم': 42, 'اكثر': 43, 'برجر': 44, 'فقط': 45, 'ممتازة': 46, 'طلبت': 47, 'الاسعار': 48, 'بيتزا': 49, 'الطعام': 50, 'الا': 51, 'اذا': 52, 'السعر': 53, 'كنت': 54, 'مطاعم': 55, 'البرجر': 56, 'طبعا': 57, 'بالنسبة': 58, 'اول': 59, 'يكون': 60, 'انصح': 61, 'الطلبات': 62, 'مميز': 63, 'عنده': 64, 'يوم': 65, 'البيتزا': 66, 'شوي': 67, 'لذيذة': 68, 'وكان': 69, 'الديكور': 70, 'بصراحة': 71, 'جيدة': 72, 'سيء': 73, 'مكان': 74, 'نظيف': 75, 'البطاطس': 76, 'اي': 77, 'اني': 78, 'والله': 79, 'اكل': 80, 'خصوصا': 81, 'quot': 82, 'شيء': 83, 'بدون': 84, 'الأسعار': 85, 'وجبة': 86, 'طبق': 87, 'جميل': 88, 'حلوه': 89, 'كثير': 90, 'النظافة': 91, 'اما': 92, 'مافيه': 93, 'المنيو': 94, 'بصراحه': 95, 'يقدم': 96, 'الجلسات': 97, 'المحل': 98, 'قسم': 99, 'سيئة': 100, 'الخبز': 101, 'عشان': 102, 'طعمه': 103, 'شارع': 104, 'يمكن': 105, 'تقريبا': 106, 'جربته': 107, 'عام': 108, 'الوجبات': 109, 'طلبنا': 110, 'يستحق': 111, 'يوجد': 112, 'وقت': 113, 'رائعة': 114, 'أنه': 115, 'يعجبني': 116, 'للمطعم': 117, 'للأسف': 118, 'نوعا': 119, 'ناحية': 120, 'تجربة': 121, 'اسعاره': 122, 'التجربة': 123, 'احد': 124, 'الاطباق': 125, 'غالي': 126, 'صغير': 127, 'الخدمه': 128, 'ممتازه': 129, 'التقييم': 130, 'جودة': 131, 'خبز': 132, 'الطبق': 133, 'خدمة': 134, 'صراحه': 135, 'الأطباق': 136, 'زي': 137, 'شوربة': 138, 'لذيذه': 139, 'رحت': 140, 'لديهم': 141, 'تكون': 142, 'ستيك': 143, 'اكله': 144, 'قائمة': 145, 'المقبلات': 146, 'ممكن': 147, 'شاورما': 148, 'الفرع': 149, 'الرز': 150, 'بالنسبه': 151, 'سلطة': 152, 'الشاورما': 153, 'كبير': 154, 'جديد': 155, 'بكل': 156, 'وانا': 157, 'بارد': 158, 'كيك': 159, 'لان': 160, 'الناس': 161, 'أنصح': 162, 'جيده': 163, 'لازم': 164, 'اليوم': 165, 'دائما': 166, 'منهم': 167, 'اكلهم': 168, 'رائعه': 169, 'صوص': 170, 'عليها': 171, 'مستوى': 172, 'ابدا': 173, 'انواع': 174, 'نوع': 175, 'فعلا': 176, 'يعتبر': 177, 'بالرياض': 178, 'عادية': 179, 'كلها': 180, 'مقارنة': 181, 'مبالغ': 182, 'حلوة': 183, 'للاسف': 184, 'الوحيد': 185, 'داخل': 186, 'طريق': 187, 'الجودة': 188, 'بـ': 189, 'شئ': 190, 'علي': 191, 'يستاهل': 192, 'وهذا': 193, 'وجبات': 194, 'زيت': 195, 'المشوي': 196, 'هالمطعم': 197, 'رز': 198, 'سمك': 199, 'سعره': 200, 'روعه': 201, 'احلى': 202, 'سيئ': 203, 'اقل': 204, 'اتمنى': 205, 'طلب': 206, 'فروع': 207, 'والخدمة': 208, 'وفيه': 209, 'كله': 210, 'انهم': 211, 'الملك': 212, 'قلت': 213, 'عصير': 214, 'العوائل': 215, 'وكانت': 216, 'العام': 217, 'اسمه': 218, 'عليكم': 219, 'لأن': 220, 'البيك': 221, 'لانه': 222, 'جلسات': 223, 'فهو': 224, 'زرت': 225, 'القهوة': 226, 'ايضا': 227, 'بطاطس': 228, 'قال': 229, 'طعمها': 230, 'احسن': 231, 'تحس': 232, 'وش': 233, 'اطلب': 234, 'الزيارة': 235, 'انها': 236, 'يتميز': 237, 'سعر': 238, 'يجي': 239, 'وفي': 240, 'مناسبة': 241, 'انك': 242, 'الخبر': 243, 'عندي': 244, 'اخر': 245, 'الثاني': 246, 'فترة': 247, 'لأنه': 248, 'ولذيذ': 249, 'اخرى': 250, 'احب': 251, 'وجود': 252, 'اعجبني': 253, 'مشوي': 254, 'صحن': 255, 'تجربتي': 256, 'مميزة': 257, 'طيب': 258, 'قطع': 259, 'تطلب': 260, 'عنه': 261, 'الوجبة': 262, 'السلام': 263, 'مدري': 264, 'معقولة': 265, 'الوقت': 266, 'مش': 267, 'نظافة': 268, 'مافي': 269, 'مرتين': 270, 'عليهم': 271, 'زحمة': 272, 'السمك': 273, 'طازج': 274, 'وهي': 275, 'بسبب': 276, 'حمص': 277, 'هندي': 278, 'الطاولات': 279, 'ألذ': 280, 'برقر': 281, 'مناسب': 282, 'باقي': 283, 'اعتقد': 284, 'مرره': 285, 'الجبن': 286, 'تم': 287, 'مرات': 288, 'ونظيف': 289, 'مول': 290, 'أنواع': 291, 'الواحد': 292, 'الجو': 293, 'ثانية': 294, 'الموظفين': 295, 'سيئه': 296, 'كباب': 297, 'الحمص': 298, 'آخر': 299, 'جو': 300, 'ولم': 301, 'كبيرة': 302, 'كثيرة': 303, 'راقي': 304, 'طريقة': 305, 'المهم': 306, 'جد': 307, 'التوصيل': 308, 'بوفيه': 309, 'تقييمي': 310, 'وكل': 311, 'الصوص': 312, 'وغير': 313, 'وخصوصا': 314, 'المشروبات': 315, 'مرتفعة': 316, 'الستيك': 317, 'زحمه': 318, 'القائمة': 319, 'رغم': 320, 'غالية': 321, 'عدم': 322, 'ساعة': 323, 'تقديم': 324, 'فى': 325, 'اطباق': 326, 'اسعار': 327, 'وليس': 328, 'شاء': 329, 'الهندي': 330, 'الاستقبال': 331, 'ثانيه': 332, 'تشيز': 333, 'يقول': 334, 'وحده': 335, 'أخرى': 336, 'اكلت': 337, 'الفلافل': 338, 'شكل': 339, 'وطعم': 340, 'الباستا': 341, 'النظافه': 342, 'سنوات': 343, 'جميلة': 344, 'أكله': 345, 'جبن': 346, 'عموما': 347, 'الفروع': 348, 'زيارة': 349, 'زرته': 350, 'بتجربته': 351, 'وسط': 352, 'اروح': 353, 'العاملين': 354, 'جدة': 355, 'ديكور': 356, 'كريم': 357, 'للي': 358, 'التجربه': 359, 'نفسي': 360, 'حقهم': 361, 'جلساته': 362, 'العشاء': 363, 'أسعاره': 364, 'البرقر': 365, 'لكنه': 366, 'خاصه': 367, 'خفيف': 368, 'غيره': 369, 'وبعد': 370, 'صح': 371, 'والطعم': 372, 'النعمه': 373, 'والاكل': 374, 'مقبلات': 375, 'حق': 376, 'اللحوم': 377, 'جدآ': 378, 'الجميع': 379, 'أكل': 380, 'عاديه': 381, 'لاكن': 382, 'بكثير': 383, 'عبارة': 384, 'كويس': 385, 'الموقع': 386, 'محل': 387, 'نكهة': 388, 'الغداء': 389, 'نص': 390, 'وجبه': 391, 'عجبني': 392, 'موجود': 393, 'الان': 394, 'يحتاج': 395, 'لمن': 396, 'تقدم': 397, 'معقول': 398, 'كلام': 399, 'D': 400, 'تاكل': 401, 'تجربه': 402, 'حي': 403, 'أعتقد': 404, 'الشي': 405, 'مشكلة': 406, 'الزحمة': 407, 'فلافل': 408, 'بالمطعم': 409, 'قليل': 410, 'لدرجة': 411, 'عيبه': 412, 'أكلهم': 413, 'مقلي': 414, '_': 415, 'الثانية': 416, 'نظري': 417, 'واسعاره': 418, 'بالدجاج': 419, 'معه': 420, 'التقديم': 421, 'المقلي': 422, 'تعجبني': 423, 'الزيت': 424, 'الذ': 425, 'أطباق': 426, 'صاحب': 427, 'الكثير': 428, 'الزبائن': 429, 'زيادة': 430, 'عدة': 431, 'معقوله': 432, 'الحلويات': 433, 'كمان': 434, 'المشكلة': 435, 'والديكور': 436, 'يعيبه': 437, 'البحرية': 438, 'ورق': 439, 'العمال': 440, 'اسعارهم': 441, 'وكذلك': 442, 'واللي': 443, 'الكباب': 444, 'يفتح': 445, 'المفضل': 446, 'طلبي': 447, 'جديدة': 448, 'السعودية': 449, 'الطاولة': 450, 'السلطات': 451, 'روعة': 452, 'تقول': 453, 'برياني': 454, 'نفسه': 455, 'رايق': 456, 'والدجاج': 457, 'الطبخ': 458, 'وحتى': 459, 'ايش': 460, 'أعجبني': 461, 'الاخرى': 462, 'وايضا': 463, 'البروستد': 464, 'ماله': 465, 'البوفيه': 466, 'وخاصة': 467, 'اقول': 468, 'تغير': 469, 'يكن': 470, 'اغلب': 471, 'الأولى': 472, 'ادري': 473, 'الرائع': 474, 'شخص': 475, 'رخيص': 476, 'لديه': 477, 'المتوسط': 478, 'المشاوي': 479, 'الرئيسية': 480, 'البيت': 481, 'هت': 482, 'ساندوتش': 483, 'زيارتي': 484, 'متوسط': 485, 'غريب': 486, 'سئ': 487, 'وطلبت': 488, 'الجرسون': 489, 'بنفس': 490, 'والاسعار': 491, 'صغيرة': 492, 'الربيان': 493, 'الثوم': 494, 'بلا': 495, 'مميزه': 496, 'مناسبه': 497, 'لهذا': 498, 'فكرة': 499, 'قهوة': 500, 'صحيح': 501, 'الاول': 502, 'متوسطة': 503, 'والبطاطس': 504, 'قريب': 505, 'متنوعة': 506, 'الزياره': 507, 'بيت': 508, 'للغاية': 509, 'فتح': 510, 'الشيء': 511, 'واضح': 512, 'الوجبه': 513, 'الافضل': 514, 'الساعة': 515, 'هرفي': 516, 'المشويات': 517, 'شكله': 518, 'اخذ': 519, 'كنتاكي': 520, 'فهي': 521, 'ليش': 522, 'الشباب': 523, 'مرتفع': 524, 'الفطور': 525, 'اتوقع': 526, 'وعلى': 527, 'ربيان': 528, 'السلطة': 529, 'الأخرى': 530, 'والسعر': 531, 'مقابل': 532, 'حد': 533, 'أسعار': 534, 'دخلت': 535, 'الصراحة': 536, 'رهيب': 537, 'والأكل': 538, 'أنها': 539, 'المقهى': 540, 'الحين': 541, 'طازجة': 542, 'حقيقه': 543, 'ضيق': 544, 'سواء': 545, 'حياتي': 546, 'خدمتهم': 547, 'يروح': 548, 'أحب': 549, 'مثلا': 550, 'مستواه': 551, 'والي': 552, 'سعودي': 553, 'للعوائل': 554, 'اروع': 555, 'مريحة': 556, 'لايوجد': 557, 'شفت': 558, 'ليه': 559, 'تجي': 560, 'بن': 561, 'غاليه': 562, 'خدمه': 563, 'بعدها': 564, 'الدمام': 565, 'التعامل': 566, 'مرتفعه': 567, 'لمطعم': 568, 'شيك': 569, 'مررره': 570, 'المرة': 571, 'جده': 572, 'مجمع': 573, 'تشكن': 574, 'الزبون': 575, 'جربتها': 576, 'ذهبت': 577, 'أني': 578, 'باختصار': 579, 'إضافة': 580, 'الاكلات': 581, 'تعامل': 582, 'البيبسي': 583, 'وطعمه': 584, 'سعرها': 585, 'أحسن': 586, 'ايام': 587, 'واللحم': 588, 'الكاشير': 589, 'بزيارته': 590, 'اعرف': 591, 'الأول': 592, 'طول': 593, 'حجم': 594, 'يكفي': 595, 'انصحكم': 596, 'خلال': 597, 'صيني': 598, 'أطلب': 599, 'هاوس': 600, 'السلبيات': 601, 'قليلة': 602, 'وقد': 603, 'عالية': 604, 'حوالي': 605, 'مرتب': 606, 'دايم': 607, 'خيار': 608, 'خاص': 609, 'واي': 610, 'صب': 611, 'ذقته': 612, 'ساعه': 613, 'طبيعي': 614, 'الزحمه': 615, 'مشاوي': 616, 'المميز': 617, 'الصراحه': 618, 'الجلسة': 619, 'خضار': 620, 'عبدالله': 621, 'بأن': 622, 'يكرم': 623, 'عرض': 624, 'مشكل': 625, 'التحلية': 626, 'نكهه': 627, 'الثانيه': 628, 'العامل': 629, 'فتره': 630, 'بالله': 631, 'زمان': 632, 'المطبخ': 633, 'the': 634, 'باستا': 635, 'المفروض': 636, 'المستوى': 637, 'قديم': 638, 'فيهم': 639, 'السريعة': 640, 'كمية': 641, 'اسمها': 642, 'فرايز': 643, 'قمت': 644, 'تقدر': 645, 'تحياتي': 646, 'تشيكن': 647, 'يبي': 648, 'البرياني': 649, 'دقيقة': 650, 'مشروب': 651, 'الشارع': 652, 'كثر': 653, 'ماراح': 654, 'وطلبنا': 655, 'تعتبر': 656, 'ومع': 657, 'سنة': 658, 'سريعة': 659, 'الخيارات': 660, 'بالجبن': 661, 'تبي': 662, 'العالم': 663, 'تماما': 664, 'امس': 665, 'مشكلته': 666, 'الخارجية': 667, 'فروعه': 668, 'مشويات': 669, 'لمحبي': 670, 'بأس': 671, 'يتم': 672, 'خيالي': 673, 'والخدمه': 674, 'المميزة': 675, 'كأنه': 676, 'بطعم': 677, 'كنا': 678, 'طلبات': 679, 'خيارات': 680, 'ربما': 681, 'انت': 682, 'اشوف': 683, 'مقبول': 684, 'المأكولات': 685, 'عدد': 686, 'بروستد': 687, 'شخصيا': 688, 'موقعه': 689, 'وانت': 690, 'تقييم': 691, 'ماكان': 692, 'ريحة': 693, 'لاحظت': 694, 'قليلا': 695, 'نوعية': 696, 'نسيت': 697, 'المذاق': 698, 'عندما': 699, 'المفضلة': 700, 'متميز': 701, 'أتمنى': 702, 'والنظافة': 703, 'بسيط': 704, 'تروح': 705, 'المشكله': 706, 'يجيك': 707, 'أحلى': 708, 'حقتهم': 709, 'إليه': 710, 'المملكة': 711, 'الباقي': 712, 'ساندويتش': 713, 'دبل': 714, 'التخصصي': 715, 'تقيمي': 716, 'يطلع': 717, 'اجرب': 718, 'واذا': 719, 'وجهة': 720, 'روبيان': 721, 'ال': 722, 'النوع': 723, 'مختلف': 724, 'الشيف': 725, 'والمكان': 726, 'الدور': 727, 'عيب': 728, 'العيوب': 729, 'ماشاء': 730, 'القهوه': 731, 'ديكوره': 732, 'زين': 733, 'درجة': 734, 'ابو': 735, 'خطير': 736, 'الصيني': 737, 'هادئ': 738, 'موقع': 739, 'تستحق': 740, 'مدينة': 741, 'الدونات': 742, 'البحر': 743, 'النادل': 744, 'سيزر': 745, 'عندنا': 746, 'واحدة': 747, 'الخميس': 748, 'الـ': 749, 'ياخذ': 750, 'تشكيلة': 751, 'دومينوز': 752, 'بوصة': 753, 'مفتوح': 754, 'والمطعم': 755, 'ام': 756, 'طاولة': 757, 'خفيفة': 758, 'تنوع': 759, 'رائحة': 760, 'لدي': 761, 'نصف': 762, 'تجد': 763, 'العمل': 764, 'لكل': 765, 'تاخذ': 766, 'رأيي': 767, 'لفرع': 768, 'الحجم': 769, 'جرب': 770, 'كبيره': 771, 'ماك': 772, 'وعندهم': 773, 'الطاوله': 774, 'المكونات': 775, 'السوشي': 776, 'وين': 777, 'عباره': 778, 'ودجاج': 779, 'بالذات': 780, 'العصير': 781, 'ناس': 782, 'ذقت': 783, 'مجانا': 784, 'ابد': 785, 'المواقف': 786, 'سي': 787, 'أتوقع': 788, 'قمة': 789, 'حقيقة': 790, 'العربي': 791, 'طلعت': 792, 'شغل': 793, 'خرافي': 794, 'الفول': 795, 'علشان': 796, 'كامل': 797, 'الأفضل': 798, 'ربع': 799, 'الهندية': 800, 'بالمطاعم': 801, 'مقارنه': 802, 'وخدمة': 803, 'بطريقة': 804, 'العنب': 805, 'العائلات': 806, 'رمضان': 807, 'جميله': 808, 'نوعين': 809, 'الفاتورة': 810, 'سريعه': 811, 'جبنة': 812, 'شهر': 813, 'احيانا': 814, 'تغيير': 815, 'العادي': 816, 'وانصح': 817, 'مريح': 818, 'الحساب': 819, 'يجنن': 820, 'بعيد': 821, 'طاقم': 822, 'الاسبوع': 823, 'خارج': 824, 'مذاق': 825, 'لأني': 826, 'بالإضافة': 827, 'الكلمة': 828, 'اصناف': 829, 'طاولات': 830, 'سفري': 831, 'موب': 832, 'أسعارهم': 833, 'صلصة': 834, 'اسم': 835, 'والأسعار': 836, 'الخضار': 837, 'العمالة': 838, 'يجيب': 839, 'طلع': 840, 'الخاصة': 841, 'الحقيقة': 842, 'لله': 843, 'يحب': 844, 'اشخاص': 845, 'النعمة': 846, 'احس': 847, 'أكلت': 848, 'اذكر': 849, 'بيض': 850, 'للأكل': 851, 'الشاي': 852, 'لين': 853, 'الجمبري': 854, 'الاسم': 855, 'الصغير': 856, 'الصحية': 857, 'الجديد': 858, 'بجانب': 859, 'الانتظار': 860, 'اعطيه': 861, 'رقم': 862, 'بالطعم': 863, 'شوية': 864, 'عربي': 865, 'الأكلات': 866, 'بتجربة': 867, 'توصيل': 868, 'رسوم': 869, 'يمي': 870, 'اختيار': 871, 'بمعنى': 872, 'النوعية': 873, 'الداخل': 874, 'إني': 875, 'بعدين': 876, 'لاني': 877, 'كأنك': 878, 'مقهى': 879, 'سريع': 880, 'سبايسي': 881, 'المره': 882, 'عوائل': 883, 'الرئيسي': 884, 'وان': 885, 'برا': 886, 'نظيفة': 887, 'الموجود': 888, 'عندك': 889, 'and': 890, 'البصل': 891, 'برضو': 892, 'فرعهم': 893, 'المعجنات': 894, 'ونص': 895, 'اجربه': 896, 'ولما': 897, 'عنب': 898, 'فول': 899, 'كودو': 900, 'الخارج': 901, 'اهم': 902, 'الشخص': 903, 'الشوربة': 904, 'وأنا': 905, 'ولن': 906, 'إللي': 907, 'قررت': 908, 'يصير': 909, 'فطور': 910, 'مكة': 911, 'سلطه': 912, 'كثيره': 913, 'أحيانا': 914, 'الحار': 915, 'باللحم': 916, 'بالاضافة': 917, 'أغلب': 918, 'الطازج': 919, 'فاشل': 920, 'اكرر': 921, 'شوربه': 922, 'حقت': 923, 'ارجع': 924, 'الفطر': 925, 'شعبي': 926, 'بحكم': 927, 'وطريقة': 928, 'موقف': 929, 'بالثوم': 930, 'الكوفي': 931, 'مشكله': 932, 'الحلى': 933, 'قطعة': 934, 'اتكلم': 935, 'المدير': 936, 'الكبير': 937, 'الأصناف': 938, 'فطيرة': 939, 'كانه': 940, 'الاصناف': 941, 'السابق': 942, 'والجلسات': 943, 'دسم': 944, 'مستحيل': 945, 'فود': 946, 'لذلك': 947, 'الصاج': 948, 'الموضوع': 949, 'يختلف': 950, 'سرعة': 951, 'انو': 952, 'بيز': 953, 'منافس': 954, 'أخذت': 955, 'فطائر': 956, 'لقيت': 957, 'وجباته': 958, 'قليله': 959, 'تحصل': 960, 'البحريه': 961, 'معي': 962, 'كلهم': 963, 'الزود': 964, 'وخاصه': 965, 'البحرين': 966, 'نصيحة': 967, 'قدامك': 968, 'وجربت': 969, 'ميزة': 970, 'العصيرات': 971, 'الروبيان': 972, 'اخذت': 973, 'مؤخرا': 974, 'الأقل': 975, 'فرق': 976, 'موجودة': 977, 'وطبعا': 978, 'طلبك': 979, 'مكانه': 980, 'مكرونة': 981, 'ايطالي': 982, 'أسوأ': 983, 'ناشف': 984, 'الطماطم': 985, 'سكر': 986, 'ابي': 987, 'بيبسي': 988, 'تختار': 989, 'أنصحكم': 990, 'طعام': 991, 'اكبر': 992, 'حبات': 993, 'أكبر': 994, 'حسيت': 995, 'السيزر': 996, 'الصور': 997, 'يم': 998, 'النفس': 999, 'مرررره': 1000}\n"
     ]
    }
   ],
   "source": [
    "x_train,y_train,x_test,y_test,vocab = tokenize(x_train,y_train,x_test,y_test)"
   ]
  },
  {
   "cell_type": "code",
   "execution_count": 101,
   "metadata": {},
   "outputs": [
    {
     "name": "stdout",
     "output_type": "stream",
     "text": [
      "Length of vocabulary is 1000\n"
     ]
    }
   ],
   "source": [
    "print(f'Length of vocabulary is {len(vocab)}')"
   ]
  },
  {
   "cell_type": "markdown",
   "metadata": {},
   "source": [
    "### Analysing review length"
   ]
  },
  {
   "cell_type": "code",
   "execution_count": 102,
   "metadata": {},
   "outputs": [
    {
     "data": {
      "image/png": "[encoded data removed]",
      "text/plain": [
       "<Figure size 640x480 with 1 Axes>"
      ]
     },
     "metadata": {},
     "output_type": "display_data"
    },
    {
     "data": {
      "text/plain": [
       "count    6273.000000\n",
       "mean       15.484617\n",
       "std        17.817844\n",
       "min         0.000000\n",
       "25%         5.000000\n",
       "50%        10.000000\n",
       "75%        19.000000\n",
       "max       250.000000\n",
       "dtype: float64"
      ]
     },
     "execution_count": 102,
     "metadata": {},
     "output_type": "execute_result"
    }
   ],
   "source": [
    "rev_len = [len(i) for i in x_train]\n",
    "pd.Series(rev_len).hist()\n",
    "plt.show()\n",
    "pd.Series(rev_len).describe()"
   ]
  },
  {
   "cell_type": "markdown",
   "metadata": {},
   "source": [
    "Observations : <br>a) Mean review length = around 18.<br> b) minimum length of reviews is 0.<br>c)There are quite a few reviews that are extremely long, we can manually investigate them to check whether we need to include or exclude them from our analysis."
   ]
  },
  {
   "cell_type": "code",
   "execution_count": 103,
   "metadata": {},
   "outputs": [
    {
     "data": {
      "text/plain": [
       "118"
      ]
     },
     "execution_count": 103,
     "metadata": {},
     "output_type": "execute_result"
    }
   ],
   "source": [
    "len([s for s in x_train if len(s) == 0])"
   ]
  },
  {
   "cell_type": "code",
   "execution_count": 104,
   "metadata": {},
   "outputs": [],
   "source": [
    "x_train_not_empty = []\n",
    "y_train_not_empty = []\n",
    "x_test_not_empty = []\n",
    "y_test_not_empty = []\n",
    "\n",
    "for i, x in enumerate(x_train):\n",
    "    if len(x) > 0:\n",
    "        x_train_not_empty.append(x)\n",
    "        y_train_not_empty.append(y_train[i])\n",
    "\n",
    "for i, x in enumerate(x_test):\n",
    "    if len(x) > 0:\n",
    "        x_test_not_empty.append(x)\n",
    "        y_test_not_empty.append(y_test[i])"
   ]
  },
  {
   "cell_type": "code",
   "execution_count": 106,
   "metadata": {},
   "outputs": [
    {
     "data": {
      "text/plain": [
       "(6155, 2051)"
      ]
     },
     "execution_count": 106,
     "metadata": {},
     "output_type": "execute_result"
    }
   ],
   "source": [
    "len(x_train_not_empty), len(x_test_not_empty)"
   ]
  },
  {
   "cell_type": "markdown",
   "metadata": {},
   "source": [
    "### Padding"
   ]
  },
  {
   "cell_type": "markdown",
   "metadata": {},
   "source": [
    "Now we will pad each of the sequence to max length "
   ]
  },
  {
   "cell_type": "code",
   "execution_count": 110,
   "metadata": {},
   "outputs": [],
   "source": [
    "def padding_(sentences, seq_len):\n",
    "    features = np.zeros((len(sentences), seq_len),dtype=int)\n",
    "    for ii, review in enumerate(sentences):\n",
    "        if len(review) != 0:\n",
    "            features[ii, -len(review):] = np.array(review)[:seq_len]\n",
    "    return features"
   ]
  },
  {
   "cell_type": "code",
   "execution_count": 111,
   "metadata": {},
   "outputs": [],
   "source": [
    "#we have very less number of reviews with length > 500.\n",
    "#So we will consideronly those below it.\n",
    "x_train_pad = padding_(x_train_not_empty, 500)\n",
    "x_test_pad = padding_(x_test_not_empty, 500)"
   ]
  },
  {
   "cell_type": "code",
   "execution_count": 112,
   "metadata": {},
   "outputs": [
    {
     "data": {
      "text/plain": [
       "((6155, 500), (2051, 500))"
      ]
     },
     "execution_count": 112,
     "metadata": {},
     "output_type": "execute_result"
    }
   ],
   "source": [
    "x_train_pad.shape, x_test_pad.shape"
   ]
  },
  {
   "cell_type": "code",
   "execution_count": 114,
   "metadata": {},
   "outputs": [],
   "source": [
    "y_train = np.array(y_train_not_empty)\n",
    "y_test = np.array(y_test_not_empty)"
   ]
  },
  {
   "cell_type": "markdown",
   "metadata": {},
   "source": [
    "### Batching and loading as tensor"
   ]
  },
  {
   "cell_type": "code",
   "execution_count": 127,
   "metadata": {},
   "outputs": [],
   "source": [
    "# create Tensor datasets\n",
    "train_data = TensorDataset(torch.from_numpy(x_train_pad), torch.from_numpy(y_train))\n",
    "valid_data = TensorDataset(torch.from_numpy(x_test_pad), torch.from_numpy(y_test))\n",
    "\n",
    "# dataloaders\n",
    "batch_size = 50\n",
    "\n",
    "# make sure to SHUFFLE your data\n",
    "train_loader = DataLoader(train_data, shuffle=True, batch_size=batch_size, drop_last=True)\n",
    "valid_loader = DataLoader(valid_data, shuffle=True, batch_size=batch_size, drop_last=True)"
   ]
  },
  {
   "cell_type": "code",
   "execution_count": 128,
   "metadata": {},
   "outputs": [
    {
     "name": "stdout",
     "output_type": "stream",
     "text": [
      "Sample input size:  torch.Size([50, 500])\n",
      "Sample input: \n",
      " tensor([[  0,   0,   0,  ...,  56,   2, 176],\n",
      "        [  0,   0,   0,  ..., 816, 442, 228],\n",
      "        [  0,   0,   0,  ..., 649, 457,   7],\n",
      "        ...,\n",
      "        [  0,   0,   0,  ...,   4, 420, 548],\n",
      "        [  0,   0,   0,  ...,  66, 798, 112],\n",
      "        [  0,   0,   0,  ..., 113, 147, 415]], dtype=torch.int32)\n",
      "Sample input: \n",
      " tensor([1, 1, 1, 0, 1, 1, 1, 1, 1, 1, 1, 1, 1, 1, 1, 1, 1, 0, 0, 0, 1, 0, 0, 1,\n",
      "        1, 1, 1, 0, 1, 1, 1, 1, 1, 1, 1, 1, 0, 1, 1, 1, 1, 1, 1, 1, 1, 1, 1, 0,\n",
      "        1, 1], dtype=torch.int32)\n"
     ]
    }
   ],
   "source": [
    "# obtain one batch of training data\n",
    "dataiter = iter(train_loader)\n",
    "sample_x, sample_y = next(dataiter)\n",
    "\n",
    "print('Sample input size: ', sample_x.size()) # batch_size, seq_length\n",
    "print('Sample input: \\n', sample_x)\n",
    "print('Sample input: \\n', sample_y)"
   ]
  },
  {
   "cell_type": "markdown",
   "metadata": {},
   "source": [
    "We need to add an embedding layer because there are less words in our vocabulary. It is massively inefficient to one-hot encode that many classes. So, instead of one-hot encoding, we can have an embedding layer and use that layer as a lookup table. You could train an embedding layer using Word2Vec, then load it here. But, it's fine to just make a new layer, using it for only dimensionality reduction, and let the network learn the weights."
   ]
  },
  {
   "cell_type": "markdown",
   "metadata": {},
   "source": [
    "### Model"
   ]
  },
  {
   "cell_type": "code",
   "execution_count": 129,
   "metadata": {},
   "outputs": [],
   "source": [
    "class SentimentRNN(nn.Module):\n",
    "    def __init__(self,no_layers,vocab_size,hidden_dim,embedding_dim,drop_prob=0.5):\n",
    "        super(SentimentRNN,self).__init__()\n",
    " \n",
    "        self.output_dim = output_dim\n",
    "        self.hidden_dim = hidden_dim\n",
    " \n",
    "        self.no_layers = no_layers\n",
    "        self.vocab_size = vocab_size\n",
    "    \n",
    "        # embedding and LSTM layers\n",
    "        self.embedding = nn.Embedding(vocab_size, embedding_dim)\n",
    "        \n",
    "        #lstm\n",
    "        self.lstm = nn.LSTM(input_size=embedding_dim,hidden_size=self.hidden_dim,\n",
    "                           num_layers=no_layers, batch_first=True)\n",
    "        \n",
    "        \n",
    "        # dropout layer\n",
    "        self.dropout = nn.Dropout(0.3)\n",
    "    \n",
    "        # linear and sigmoid layer\n",
    "        self.fc = nn.Linear(self.hidden_dim, output_dim)\n",
    "        self.sig = nn.Sigmoid()\n",
    "        \n",
    "    def forward(self,x,hidden):\n",
    "        batch_size = x.size(0)\n",
    "        # embeddings and lstm_out\n",
    "        embeds = self.embedding(x)  # shape: B x S x Feature   since batch = True\n",
    "        #print(embeds.shape)  #[50, 500, 1000]\n",
    "        lstm_out, hidden = self.lstm(embeds, hidden)\n",
    "        \n",
    "        lstm_out = lstm_out.contiguous().view(-1, self.hidden_dim) \n",
    "        \n",
    "        # dropout and fully connected layer\n",
    "        out = self.dropout(lstm_out)\n",
    "        out = self.fc(out)\n",
    "        \n",
    "        # sigmoid function\n",
    "        sig_out = self.sig(out)\n",
    "        \n",
    "        # reshape to be batch_size first\n",
    "        sig_out = sig_out.view(batch_size, -1)\n",
    "\n",
    "        sig_out = sig_out[:, -1] # get last batch of labels\n",
    "        \n",
    "        # return last sigmoid output and hidden state\n",
    "        return sig_out, hidden\n",
    "        \n",
    "        \n",
    "        \n",
    "    def init_hidden(self, batch_size):\n",
    "        ''' Initializes hidden state '''\n",
    "        # Create two new tensors with sizes n_layers x batch_size x hidden_dim,\n",
    "        # initialized to zero, for hidden state and cell state of LSTM\n",
    "        h0 = torch.zeros((self.no_layers,batch_size,self.hidden_dim)).to(device)\n",
    "        c0 = torch.zeros((self.no_layers,batch_size,self.hidden_dim)).to(device)\n",
    "        hidden = (h0,c0)\n",
    "        return hidden\n",
    "\n",
    "              "
   ]
  },
  {
   "cell_type": "code",
   "execution_count": 130,
   "metadata": {},
   "outputs": [
    {
     "name": "stdout",
     "output_type": "stream",
     "text": [
      "SentimentRNN(\n",
      "  (embedding): Embedding(1001, 64)\n",
      "  (lstm): LSTM(64, 256, num_layers=2, batch_first=True)\n",
      "  (dropout): Dropout(p=0.3, inplace=False)\n",
      "  (fc): Linear(in_features=256, out_features=1, bias=True)\n",
      "  (sig): Sigmoid()\n",
      ")\n"
     ]
    }
   ],
   "source": [
    "no_layers = 2\n",
    "vocab_size = len(vocab) + 1 #extra 1 for padding\n",
    "embedding_dim = 64\n",
    "output_dim = 1\n",
    "hidden_dim = 256\n",
    "\n",
    "\n",
    "model = SentimentRNN(no_layers,vocab_size,hidden_dim,embedding_dim,drop_prob=0.5)\n",
    "\n",
    "#moving to gpu\n",
    "model.to(device)\n",
    "\n",
    "print(model)"
   ]
  },
  {
   "cell_type": "markdown",
   "metadata": {},
   "source": [
    "### Training"
   ]
  },
  {
   "cell_type": "code",
   "execution_count": 131,
   "metadata": {},
   "outputs": [],
   "source": [
    "# loss and optimization functions\n",
    "lr=0.001\n",
    "\n",
    "criterion = nn.BCELoss()\n",
    "\n",
    "optimizer = torch.optim.Adam(model.parameters(), lr=lr)\n",
    "\n",
    "# function to predict accuracy\n",
    "def acc(pred,label):\n",
    "    pred = torch.round(pred.squeeze())\n",
    "    return torch.sum(pred == label.squeeze()).item()\n"
   ]
  },
  {
   "cell_type": "code",
   "execution_count": 135,
   "metadata": {},
   "outputs": [
    {
     "name": "stderr",
     "output_type": "stream",
     "text": [
      " 20%|████████████████▊                                                                   | 1/5 [00:06<00:26,  6.74s/it]"
     ]
    },
    {
     "name": "stdout",
     "output_type": "stream",
     "text": [
      "Epoch 1\n",
      "train_loss : 0.4268687867779073 val_loss : 0.47625031340412977\n",
      "train_accuracy : 81.65718927701056 val_accuracy : 78.49829351535837\n",
      "Validation loss decreased (inf --> 0.476250).  Saving model ...\n",
      "==================================================\n"
     ]
    },
    {
     "name": "stderr",
     "output_type": "stream",
     "text": [
      "\r",
      " 40%|█████████████████████████████████▌                                                  | 2/5 [00:13<00:19,  6.57s/it]"
     ]
    },
    {
     "name": "stdout",
     "output_type": "stream",
     "text": [
      "Epoch 2\n",
      "train_loss : 0.37300405318174906 val_loss : 0.4664211789282357\n",
      "train_accuracy : 84.46791226645004 val_accuracy : 79.13213066796685\n",
      "Validation loss decreased (0.476250 --> 0.466421).  Saving model ...\n",
      "==================================================\n"
     ]
    },
    {
     "name": "stderr",
     "output_type": "stream",
     "text": [
      "\r",
      " 60%|██████████████████████████████████████████████████▍                                 | 3/5 [00:19<00:13,  6.52s/it]"
     ]
    },
    {
     "name": "stdout",
     "output_type": "stream",
     "text": [
      "Epoch 3\n",
      "train_loss : 0.3228743235027887 val_loss : 0.48111739463922454\n",
      "train_accuracy : 86.7587327376117 val_accuracy : 79.13213066796685\n",
      "==================================================\n"
     ]
    },
    {
     "name": "stderr",
     "output_type": "stream",
     "text": [
      "\r",
      " 80%|███████████████████████████████████████████████████████████████████▏                | 4/5 [00:26<00:06,  6.50s/it]"
     ]
    },
    {
     "name": "stdout",
     "output_type": "stream",
     "text": [
      "Epoch 4\n",
      "train_loss : 0.2616120769483287 val_loss : 0.5455558772494153\n",
      "train_accuracy : 89.53696181965881 val_accuracy : 78.69332033154559\n",
      "==================================================\n"
     ]
    },
    {
     "name": "stderr",
     "output_type": "stream",
     "text": [
      "100%|████████████████████████████████████████████████████████████████████████████████████| 5/5 [00:32<00:00,  6.52s/it]"
     ]
    },
    {
     "name": "stdout",
     "output_type": "stream",
     "text": [
      "Epoch 5\n",
      "train_loss : 0.20480101404151296 val_loss : 0.6066433492957092\n",
      "train_accuracy : 91.82778229082047 val_accuracy : 78.69332033154559\n",
      "==================================================\n"
     ]
    },
    {
     "name": "stderr",
     "output_type": "stream",
     "text": [
      "\n"
     ]
    }
   ],
   "source": [
    "clip = 5\n",
    "epochs = 10\n",
    "valid_loss_min = np.Inf\n",
    "# train for some number of epochs\n",
    "epoch_tr_loss, epoch_vl_loss = [],[]\n",
    "epoch_tr_acc, epoch_vl_acc = [],[]\n",
    "\n",
    "for epoch in tqdm(range(epochs)):\n",
    "    train_losses = []\n",
    "    train_acc = 0.0\n",
    "    model.train()\n",
    "    # initialize hidden state \n",
    "    h = model.init_hidden(batch_size)\n",
    "    for inputs, labels in train_loader:\n",
    "        \n",
    "        inputs, labels = inputs.to(device), labels.to(device)   \n",
    "        # Creating new variables for the hidden state, otherwise\n",
    "        # we'd backprop through the entire training history\n",
    "        h = tuple([each.data for each in h])\n",
    "        \n",
    "        model.zero_grad()\n",
    "        output, h = model(inputs, h)\n",
    "        \n",
    "        # calculate the loss and perform backprop\n",
    "        loss = criterion(output.squeeze(), labels.float())\n",
    "        loss.backward()\n",
    "        train_losses.append(loss.item())\n",
    "        # calculating accuracy\n",
    "        accuracy = acc(output,labels)\n",
    "        train_acc += accuracy\n",
    "        #`clip_grad_norm` helps prevent the exploding gradient problem in RNNs / LSTMs.\n",
    "        nn.utils.clip_grad_norm_(model.parameters(), clip)\n",
    "        optimizer.step()\n",
    " \n",
    "    \n",
    "        \n",
    "    val_h = model.init_hidden(batch_size)\n",
    "    val_losses = []\n",
    "    val_acc = 0.0\n",
    "    model.eval()\n",
    "    for inputs, labels in valid_loader:\n",
    "            val_h = tuple([each.data for each in val_h])\n",
    "\n",
    "            inputs, labels = inputs.to(device), labels.to(device)\n",
    "\n",
    "            output, val_h = model(inputs, val_h)\n",
    "            val_loss = criterion(output.squeeze(), labels.float())\n",
    "\n",
    "            val_losses.append(val_loss.item())\n",
    "            \n",
    "            accuracy = acc(output,labels)\n",
    "            val_acc += accuracy\n",
    "            \n",
    "    epoch_train_loss = np.mean(train_losses)\n",
    "    epoch_val_loss = np.mean(val_losses)\n",
    "    epoch_train_acc = train_acc/len(train_loader.dataset)\n",
    "    epoch_val_acc = val_acc/len(valid_loader.dataset)\n",
    "    epoch_tr_loss.append(epoch_train_loss)\n",
    "    epoch_vl_loss.append(epoch_val_loss)\n",
    "    epoch_tr_acc.append(epoch_train_acc)\n",
    "    epoch_vl_acc.append(epoch_val_acc)\n",
    "    print(f'Epoch {epoch+1}') \n",
    "    print(f'train_loss : {epoch_train_loss} val_loss : {epoch_val_loss}')\n",
    "    print(f'train_accuracy : {epoch_train_acc*100} val_accuracy : {epoch_val_acc*100}')\n",
    "    if epoch_val_loss <= valid_loss_min:\n",
    "        torch.save(model.state_dict(), 'working/state_dict.pt')\n",
    "        print('Validation loss decreased ({:.6f} --> {:.6f}).  Saving model ...'.format(valid_loss_min,epoch_val_loss))\n",
    "        valid_loss_min = epoch_val_loss\n",
    "    print(25*'==')"
   ]
  },
  {
   "cell_type": "code",
   "execution_count": 136,
   "metadata": {},
   "outputs": [
    {
     "data": {
      "image/png": "[encoded data removed]",
      "text/plain": [
       "<Figure size 2000x600 with 2 Axes>"
      ]
     },
     "metadata": {},
     "output_type": "display_data"
    }
   ],
   "source": [
    "fig = plt.figure(figsize = (20, 6))\n",
    "plt.subplot(1, 2, 1)\n",
    "plt.plot(epoch_tr_acc, label='Train Acc')\n",
    "plt.plot(epoch_vl_acc, label='Validation Acc')\n",
    "plt.title(\"Accuracy\")\n",
    "plt.legend()\n",
    "plt.grid()\n",
    "\n",
    "plt.subplot(1, 2, 2)\n",
    "plt.plot(epoch_tr_loss, label='Train loss')\n",
    "plt.plot(epoch_vl_loss, label='Validation loss')\n",
    "plt.title(\"Loss\")\n",
    "plt.legend()\n",
    "plt.grid()\n",
    "\n",
    "plt.show()"
   ]
  },
  {
   "cell_type": "markdown",
   "metadata": {},
   "source": [
    "### Inference"
   ]
  },
  {
   "cell_type": "code",
   "execution_count": 137,
   "metadata": {},
   "outputs": [],
   "source": [
    "def predict_text(text):\n",
    "        word_seq = np.array([vocab[preprocess_string(word)] for word in text.split() \n",
    "                         if preprocess_string(word) in vocab.keys()])\n",
    "        word_seq = np.expand_dims(word_seq,axis=0)\n",
    "        pad =  torch.from_numpy(padding_(word_seq,500))\n",
    "        inputs = pad.to(device)\n",
    "        batch_size = 1\n",
    "        h = model.init_hidden(batch_size)\n",
    "        h = tuple([each.data for each in h])\n",
    "        output, h = model(inputs, h)\n",
    "        return(output.item())"
   ]
  },
  {
   "cell_type": "code",
   "execution_count": 139,
   "metadata": {},
   "outputs": [
    {
     "name": "stdout",
     "output_type": "stream",
     "text": [
      "سلاام \n",
      "  \n",
      "   \n",
      " حلو أنك تشوف جميع مكونات الساندويتش وتختارها بنفسك . \n",
      "  \n",
      " الخبز عندهم مُغري (بالنسبة لي على الأقل ), خاصة الـبر . \n",
      "  \n",
      " الهوت دوق لذيذ .... التونة حلوه !! \n",
      "  \n",
      " أهم شي لاتنسى تاخذ الكرت اللي اذا أكملت جميع الستيكرات فيه بإمكانك تاخذ ساندويتش مجانية في المرة القادمة .\n",
      "======================================================================\n",
      "Actual sentiment is  : positive\n",
      "======================================================================\n",
      "Predicted sentiment is positive with a probability of 0.9868302941322327\n"
     ]
    }
   ],
   "source": [
    "index = 30\n",
    "print(df['text'][index])\n",
    "print('='*70)\n",
    "print(f'Actual sentiment is  : {df[\"sentiment\"][index]}')\n",
    "print('='*70)\n",
    "pro = predict_text(df['text'][index])\n",
    "status = \"positive\" if pro > 0.5 else \"negative\"\n",
    "pro = (1 - pro) if status == \"negative\" else pro\n",
    "print(f'Predicted sentiment is {status} with a probability of {pro}')"
   ]
  },
  {
   "cell_type": "code",
   "execution_count": 142,
   "metadata": {},
   "outputs": [
    {
     "name": "stdout",
     "output_type": "stream",
     "text": [
      "اولا: المنيو تغير الشورما اصبحت اعتياديه بأختفاء الصلصات والخيارات  \n",
      " ثانيا : في المره الاولي لطلبي وجدنا قطعه من قفاز الايدي في الدجاج واعتقدنا مبدأيا بأنه من جلد الدجاج  حتي تأكدنا ومنه قررنا ان لا نشتري منه لكن -للبطن احكام :-) \n",
      " ثالثا : طلبت بالمره الاخيره الطبق المفضل لي صحن الشورما (شورما بالتر ) فجاء الطلب من غير خبز او صلصه ولا مجال للعوده للمحل والشكوي  \n",
      " قرار اخير لا اطلب من اكسبرس مجددا\n",
      "======================================================================\n",
      "Actual sentiment is  : negative\n",
      "======================================================================\n",
      "predicted sentiment is positive with a probability of 0.5117054581642151\n"
     ]
    }
   ],
   "source": [
    "index = 0\n",
    "print(df['text'][index])\n",
    "print('='*70)\n",
    "print(f'Actual sentiment is  : {df[\"sentiment\"][index]}')\n",
    "print('='*70)\n",
    "pro = predict_text(df['text'][index])\n",
    "status = \"positive\" if pro > 0.5 else \"negative\"\n",
    "pro = (1 - pro) if status == \"negative\" else pro\n",
    "print(f'predicted sentiment is {status} with a probability of {pro}')"
   ]
  },
  {
   "cell_type": "markdown",
   "metadata": {},
   "source": [
    "Some improvement suggestions are as follow:\n",
    "\n",
    "* Running a hyperparameter search to optimize your configurations.\n",
    "* Using pretraned word embeddings like Glove word embeddings\n",
    "* Increasing the model complexity like adding more layers/ using bidirectional LSTMs\n"
   ]
  }
 ],
 "metadata": {
  "kernelspec": {
   "display_name": "Python 3 (ipykernel)",
   "language": "python",
   "name": "python3"
  },
  "language_info": {
   "codemirror_mode": {
    "name": "ipython",
    "version": 3
   },
   "file_extension": ".py",
   "mimetype": "text/x-python",
   "name": "python",
   "nbconvert_exporter": "python",
   "pygments_lexer": "ipython3",
   "version": "3.11.5"
  }
 },
 "nbformat": 4,
 "nbformat_minor": 4
}
