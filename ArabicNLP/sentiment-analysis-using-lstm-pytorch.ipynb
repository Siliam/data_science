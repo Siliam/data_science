{
 "cells": [
  {
   "cell_type": "markdown",
   "metadata": {},
   "source": [
    "Inspired by: https://www.kaggle.com/code/arunmohan003/sentiment-analysis-using-lstm-pytorch "
   ]
  },
  {
   "cell_type": "code",
   "execution_count": 1,
   "metadata": {
    "_cell_guid": "b1076dfc-b9ad-4769-8c92-a6c4dae69d19",
    "_uuid": "8f2839f25d086af736a60e9eeb907d3b93b6e0e5"
   },
   "outputs": [],
   "source": [
    "import numpy as np # linear algebra\n",
    "import pandas as pd # data processing, CSV file I/O (e.g. pd.read_csv)\n",
    "import torch\n",
    "import torch.nn as nn\n",
    "import torch.nn.functional as F\n",
    "from nltk.corpus import stopwords \n",
    "from collections import Counter\n",
    "import string\n",
    "import re\n",
    "import seaborn as sns\n",
    "from tqdm import tqdm\n",
    "import matplotlib.pyplot as plt\n",
    "from torch.utils.data import TensorDataset, DataLoader\n",
    "from sklearn.model_selection import train_test_split"
   ]
  },
  {
   "cell_type": "code",
   "execution_count": 2,
   "metadata": {},
   "outputs": [
    {
     "name": "stdout",
     "output_type": "stream",
     "text": [
      "GPU is available\n"
     ]
    }
   ],
   "source": [
    "is_cuda = torch.cuda.is_available()\n",
    "\n",
    "# If we have a GPU available, we'll set our device to GPU. We'll use this device variable later in our code.\n",
    "if is_cuda:\n",
    "    device = torch.device(\"cuda\")\n",
    "    print(\"GPU is available\")\n",
    "else:\n",
    "    device = torch.device(\"cpu\")\n",
    "    print(\"GPU not available, CPU used\")"
   ]
  },
  {
   "cell_type": "code",
   "execution_count": 12,
   "metadata": {
    "_cell_guid": "79c7e3d0-c299-4dcb-8224-4455121ee9b0",
    "_uuid": "d629ff2d2480ee46fbb7e2d37f6b5fab8052498a"
   },
   "outputs": [
    {
     "data": {
      "application/vnd.jupyter.widget-view+json": {
       "model_id": "b75738bcb85b4e8daab0da88fc2afaf7",
       "version_major": 2,
       "version_minor": 0
      },
      "text/plain": [
       "Downloading data:   0%|          | 0.00/1.89M [00:00<?, ?B/s]"
      ]
     },
     "metadata": {},
     "output_type": "display_data"
    },
    {
     "data": {
      "application/vnd.jupyter.widget-view+json": {
       "model_id": "d67717fbf8d54c59932f508b1c5823cb",
       "version_major": 2,
       "version_minor": 0
      },
      "text/plain": [
       "Generating train split:   0%|          | 0/8364 [00:00<?, ? examples/s]"
      ]
     },
     "metadata": {},
     "output_type": "display_data"
    }
   ],
   "source": [
    "from datasets import load_dataset\n",
    "\n",
    "dataset = load_dataset('ar_res_reviews')"
   ]
  },
  {
   "cell_type": "code",
   "execution_count": 13,
   "metadata": {},
   "outputs": [
    {
     "data": {
      "text/plain": [
       "['__class__',\n",
       " '__class_getitem__',\n",
       " '__contains__',\n",
       " '__delattr__',\n",
       " '__delitem__',\n",
       " '__dict__',\n",
       " '__dir__',\n",
       " '__doc__',\n",
       " '__enter__',\n",
       " '__eq__',\n",
       " '__exit__',\n",
       " '__format__',\n",
       " '__ge__',\n",
       " '__getattribute__',\n",
       " '__getitem__',\n",
       " '__getstate__',\n",
       " '__gt__',\n",
       " '__hash__',\n",
       " '__init__',\n",
       " '__init_subclass__',\n",
       " '__ior__',\n",
       " '__iter__',\n",
       " '__le__',\n",
       " '__len__',\n",
       " '__lt__',\n",
       " '__module__',\n",
       " '__ne__',\n",
       " '__new__',\n",
       " '__or__',\n",
       " '__reduce__',\n",
       " '__reduce_ex__',\n",
       " '__repr__',\n",
       " '__reversed__',\n",
       " '__ror__',\n",
       " '__setattr__',\n",
       " '__setitem__',\n",
       " '__sizeof__',\n",
       " '__str__',\n",
       " '__subclasshook__',\n",
       " '__weakref__',\n",
       " '_check_values_features',\n",
       " '_check_values_type',\n",
       " 'align_labels_with_mapping',\n",
       " 'cache_files',\n",
       " 'cast',\n",
       " 'cast_column',\n",
       " 'class_encode_column',\n",
       " 'cleanup_cache_files',\n",
       " 'clear',\n",
       " 'column_names',\n",
       " 'copy',\n",
       " 'data',\n",
       " 'filter',\n",
       " 'flatten',\n",
       " 'flatten_indices',\n",
       " 'formatted_as',\n",
       " 'from_csv',\n",
       " 'from_json',\n",
       " 'from_parquet',\n",
       " 'from_text',\n",
       " 'fromkeys',\n",
       " 'get',\n",
       " 'items',\n",
       " 'keys',\n",
       " 'load_from_disk',\n",
       " 'map',\n",
       " 'num_columns',\n",
       " 'num_rows',\n",
       " 'pop',\n",
       " 'popitem',\n",
       " 'prepare_for_task',\n",
       " 'push_to_hub',\n",
       " 'remove_columns',\n",
       " 'rename_column',\n",
       " 'rename_columns',\n",
       " 'reset_format',\n",
       " 'save_to_disk',\n",
       " 'select_columns',\n",
       " 'set_format',\n",
       " 'set_transform',\n",
       " 'setdefault',\n",
       " 'shape',\n",
       " 'shuffle',\n",
       " 'sort',\n",
       " 'unique',\n",
       " 'update',\n",
       " 'values',\n",
       " 'with_format',\n",
       " 'with_transform']"
      ]
     },
     "execution_count": 13,
     "metadata": {},
     "output_type": "execute_result"
    }
   ],
   "source": [
    "dir(dataset)"
   ]
  },
  {
   "cell_type": "code",
   "execution_count": 14,
   "metadata": {},
   "outputs": [
    {
     "data": {
      "text/plain": [
       "dict_keys(['train'])"
      ]
     },
     "execution_count": 14,
     "metadata": {},
     "output_type": "execute_result"
    }
   ],
   "source": [
    "dataset.keys()"
   ]
  },
  {
   "cell_type": "code",
   "execution_count": 15,
   "metadata": {},
   "outputs": [
    {
     "data": {
      "text/plain": [
       "8364"
      ]
     },
     "execution_count": 15,
     "metadata": {},
     "output_type": "execute_result"
    }
   ],
   "source": [
    "len(dataset['train'])"
   ]
  },
  {
   "cell_type": "code",
   "execution_count": 16,
   "metadata": {},
   "outputs": [
    {
     "data": {
      "text/plain": [
       "{'polarity': 0,\n",
       " 'text': 'اولا: المنيو تغير الشورما اصبحت اعتياديه بأختفاء الصلصات والخيارات  \\n ثانيا : في المره الاولي لطلبي وجدنا قطعه من قفاز الايدي في الدجاج واعتقدنا مبدأيا بأنه من جلد الدجاج  حتي تأكدنا ومنه قررنا ان لا نشتري منه لكن -للبطن احكام :-) \\n ثالثا : طلبت بالمره الاخيره الطبق المفضل لي صحن الشورما (شورما بالتر ) فجاء الطلب من غير خبز او صلصه ولا مجال للعوده للمحل والشكوي  \\n قرار اخير لا اطلب من اكسبرس مجددا',\n",
       " 'restaurant_id': '296',\n",
       " 'user_id': '423'}"
      ]
     },
     "execution_count": 16,
     "metadata": {},
     "output_type": "execute_result"
    }
   ],
   "source": [
    "dataset['train'][0]"
   ]
  },
  {
   "cell_type": "code",
   "execution_count": 17,
   "metadata": {},
   "outputs": [
    {
     "data": {
      "text/html": [
       "<div>\n",
       "<style scoped>\n",
       "    .dataframe tbody tr th:only-of-type {\n",
       "        vertical-align: middle;\n",
       "    }\n",
       "\n",
       "    .dataframe tbody tr th {\n",
       "        vertical-align: top;\n",
       "    }\n",
       "\n",
       "    .dataframe thead th {\n",
       "        text-align: right;\n",
       "    }\n",
       "</style>\n",
       "<table border=\"1\" class=\"dataframe\">\n",
       "  <thead>\n",
       "    <tr style=\"text-align: right;\">\n",
       "      <th></th>\n",
       "      <th>polarity</th>\n",
       "      <th>text</th>\n",
       "      <th>restaurant_id</th>\n",
       "      <th>user_id</th>\n",
       "    </tr>\n",
       "  </thead>\n",
       "  <tbody>\n",
       "    <tr>\n",
       "      <th>0</th>\n",
       "      <td>0</td>\n",
       "      <td>اولا: المنيو تغير الشورما اصبحت اعتياديه بأختف...</td>\n",
       "      <td>296</td>\n",
       "      <td>423</td>\n",
       "    </tr>\n",
       "    <tr>\n",
       "      <th>1</th>\n",
       "      <td>0</td>\n",
       "      <td>من محلات الشاورما ذات الشعبيه لتميز الصلصات ال...</td>\n",
       "      <td>296</td>\n",
       "      <td>423</td>\n",
       "    </tr>\n",
       "    <tr>\n",
       "      <th>2</th>\n",
       "      <td>1</td>\n",
       "      <td>دجاج طازج يحضر امامك على الطلب لا يقوم باعدة ا...</td>\n",
       "      <td>5027</td>\n",
       "      <td>39580</td>\n",
       "    </tr>\n",
       "    <tr>\n",
       "      <th>3</th>\n",
       "      <td>1</td>\n",
       "      <td>فكما تعرف أستراليا بالكنغر والكوالا. فإنها تعر...</td>\n",
       "      <td>642</td>\n",
       "      <td>444</td>\n",
       "    </tr>\n",
       "    <tr>\n",
       "      <th>4</th>\n",
       "      <td>0</td>\n",
       "      <td>إسمحو لي أن أقيم مطعم هاشم بصفتي فلسطيني عشت ف...</td>\n",
       "      <td>434</td>\n",
       "      <td>2191</td>\n",
       "    </tr>\n",
       "  </tbody>\n",
       "</table>\n",
       "</div>"
      ],
      "text/plain": [
       "   polarity                                               text restaurant_id  \\\n",
       "0         0  اولا: المنيو تغير الشورما اصبحت اعتياديه بأختف...           296   \n",
       "1         0  من محلات الشاورما ذات الشعبيه لتميز الصلصات ال...           296   \n",
       "2         1  دجاج طازج يحضر امامك على الطلب لا يقوم باعدة ا...          5027   \n",
       "3         1  فكما تعرف أستراليا بالكنغر والكوالا. فإنها تعر...           642   \n",
       "4         0  إسمحو لي أن أقيم مطعم هاشم بصفتي فلسطيني عشت ف...           434   \n",
       "\n",
       "  user_id  \n",
       "0     423  \n",
       "1     423  \n",
       "2   39580  \n",
       "3     444  \n",
       "4    2191  "
      ]
     },
     "execution_count": 17,
     "metadata": {},
     "output_type": "execute_result"
    }
   ],
   "source": [
    "df = pd.DataFrame(dataset['train'])\n",
    "df.head()"
   ]
  },
  {
   "cell_type": "code",
   "execution_count": 18,
   "metadata": {},
   "outputs": [],
   "source": [
    "df['sentiment'] = df['polarity'].map(lambda polarity: \"negative\" if polarity == 0 else \"positive\")"
   ]
  },
  {
   "cell_type": "markdown",
   "metadata": {},
   "source": [
    "### Splitting to train and test data"
   ]
  },
  {
   "cell_type": "markdown",
   "metadata": {},
   "source": [
    "We will split data to train and test initially. Doing this on earlier stage allows to avoid data lekage.\n"
   ]
  },
  {
   "cell_type": "code",
   "execution_count": 20,
   "metadata": {},
   "outputs": [
    {
     "name": "stdout",
     "output_type": "stream",
     "text": [
      "shape of train data is (6273,)\n",
      "shape of test data is (2091,)\n"
     ]
    }
   ],
   "source": [
    "X,y = df['text'].values,df['sentiment'].values\n",
    "x_train,x_test,y_train,y_test = train_test_split(X,y,stratify=y)\n",
    "print(f'shape of train data is {x_train.shape}')\n",
    "print(f'shape of test data is {x_test.shape}')"
   ]
  },
  {
   "cell_type": "markdown",
   "metadata": {},
   "source": [
    "### Analysing sentiment"
   ]
  },
  {
   "cell_type": "code",
   "execution_count": 21,
   "metadata": {},
   "outputs": [
    {
     "data": {
      "image/png": "[encoded data removed]",
      "text/plain": [
       "<Figure size 640x480 with 1 Axes>"
      ]
     },
     "metadata": {},
     "output_type": "display_data"
    }
   ],
   "source": [
    "dd = pd.Series(y_train).value_counts()\n",
    "sns.barplot(x=np.array(['negative','positive']),y=dd.values)\n",
    "plt.show()"
   ]
  },
  {
   "cell_type": "markdown",
   "metadata": {},
   "source": [
    "### Tockenization"
   ]
  },
  {
   "cell_type": "code",
   "execution_count": 24,
   "metadata": {},
   "outputs": [
    {
     "name": "stderr",
     "output_type": "stream",
     "text": [
      "[nltk_data] Downloading package stopwords to\n",
      "[nltk_data]     C:\\Users\\harri\\AppData\\Roaming\\nltk_data...\n",
      "[nltk_data]   Package stopwords is already up-to-date!\n"
     ]
    },
    {
     "data": {
      "text/plain": [
       "['إذ', 'إذا', 'إذما', 'إذن', 'أف', 'أقل', 'أكثر', 'ألا', 'إلا', 'التي']"
      ]
     },
     "execution_count": 24,
     "metadata": {},
     "output_type": "execute_result"
    }
   ],
   "source": [
    "import nltk\n",
    "nltk.download('stopwords')\n",
    "\n",
    "stopwords.words('arabic')[:10]"
   ]
  },
  {
   "cell_type": "code",
   "execution_count": 52,
   "metadata": {},
   "outputs": [],
   "source": [
    "def preprocess_string(s):\n",
    "    # Remove all non-word characters (everything except numbers and letters)\n",
    "    s = re.sub(r\"[^\\w\\s]\", '', s)\n",
    "    # Replace all runs of whitespaces with no space\n",
    "    s = re.sub(r\"\\s+\", ' ', s)\n",
    "    # replace digits with no space\n",
    "    s = re.sub(r\"\\d\", '', s)\n",
    "\n",
    "    return s"
   ]
  },
  {
   "cell_type": "code",
   "execution_count": 53,
   "metadata": {},
   "outputs": [
    {
     "data": {
      "text/plain": [
       "['الدجاج',\n",
       " 'واعتقدنا',\n",
       " 'مبدأيا',\n",
       " 'بأنه',\n",
       " 'من',\n",
       " 'جلد',\n",
       " 'الدجاج',\n",
       " 'حتي',\n",
       " 'تأكدنا',\n",
       " 'ومنه',\n",
       " 'قررنا',\n",
       " 'ان',\n",
       " 'لا',\n",
       " 'نشتري',\n",
       " 'منه',\n",
       " 'لكن',\n",
       " '-للبطن',\n",
       " 'احكام']"
      ]
     },
     "execution_count": 53,
     "metadata": {},
     "output_type": "execute_result"
    }
   ],
   "source": [
    "\"الدجاج واعتقدنا مبدأيا بأنه من جلد الدجاج    حتي تأكدنا ومنه قررنا ان لا نشتري منه لكن -للبطن احكام\".split()"
   ]
  },
  {
   "cell_type": "code",
   "execution_count": 58,
   "metadata": {},
   "outputs": [],
   "source": [
    "def tockenize(x_train,y_train,x_val,y_val):\n",
    "    word_list = []\n",
    "\n",
    "    stop_words = set(stopwords.words('arabic')) \n",
    "    for sent in x_train:\n",
    "        for word in sent.split():\n",
    "            word = preprocess_string(word)\n",
    "            if word not in stop_words and word != '':\n",
    "                word_list.append(word)\n",
    "  \n",
    "    corpus = Counter(word_list)\n",
    "    # sorting on the basis of most common words\n",
    "    corpus_ = sorted(corpus,key=corpus.get,reverse=True)[:1000]\n",
    "    # creating a dict\n",
    "    onehot_dict = {w:i+1 for i,w in enumerate(corpus_)}\n",
    "    \n",
    "    # tockenize\n",
    "    final_list_train, final_list_test = [],[]\n",
    "    for sent in x_train:\n",
    "            final_list_train.append([onehot_dict[preprocess_string(word)] for word in sent.split() \n",
    "                                     if preprocess_string(word) in onehot_dict.keys()])\n",
    "    for sent in x_val:\n",
    "            final_list_test.append([onehot_dict[preprocess_string(word)] for word in sent.split() \n",
    "                                    if preprocess_string(word) in onehot_dict.keys()])\n",
    "            \n",
    "    encoded_train = [1 if label =='positive' else 0 for label in y_train]  \n",
    "    encoded_test = [1 if label =='positive' else 0 for label in y_val] \n",
    "    \n",
    "    print(final_list_train[:10], type(final_list_train))\n",
    "    print(encoded_train[:10])\n",
    "    print(final_list_test[:10])\n",
    "    print(encoded_test[:10])\n",
    "    print(onehot_dict)\n",
    "    \n",
    "    return np.array(final_list_train), np.array(encoded_train),np.array(final_list_test), np.array(encoded_test),onehot_dict\n"
   ]
  },
  {
   "cell_type": "code",
   "execution_count": 59,
   "metadata": {
    "scrolled": false
   },
   "outputs": [
    {
     "name": "stdout",
     "output_type": "stream",
     "text": [
      "[[387, 262, 1, 11, 965, 12, 28, 194, 448, 129, 32, 86, 194, 1, 7, 241, 688, 40, 472], [192, 11, 689, 70, 519, 13, 316], [614, 13, 316, 282, 173, 76, 81, 131, 1, 70, 1, 13], [3, 23, 129, 50, 129, 228, 5, 579, 661], [263, 781, 125, 672, 94, 290, 59, 266, 87, 33, 111, 448, 59, 485, 580, 9, 9, 449, 66, 934, 109, 303, 721, 704, 33, 9, 704, 59, 303, 89, 214, 1, 266, 520, 66, 99, 313, 992, 72, 60, 146, 334, 900, 825, 188, 83, 31, 115, 283, 100, 341, 782, 218, 197, 270, 450, 581, 4, 851, 602, 450, 29, 6, 30, 58, 6, 30, 8, 69, 722, 673, 804, 189, 408, 28, 751, 116, 582, 73, 901, 130, 38, 182, 119, 335, 148, 2, 198, 50, 60, 50, 277, 50, 112, 40, 341, 826, 783, 388, 17, 52], [64, 90, 27, 1, 197, 8, 466, 548], [3, 109, 101, 662, 11, 567, 85, 473, 397, 34, 44, 111, 307, 214, 242, 649, 314, 31, 104, 429, 23, 2, 2, 307, 827, 31], [3, 27, 21], [1, 89, 10, 73, 58, 966, 852, 34, 86, 117, 46, 2, 473, 146, 615, 752, 872, 993], [209, 6, 2, 451, 193]] <class 'list'>\n",
      "[1, 1, 0, 1, 1, 1, 1, 1, 1, 1]\n",
      "[[375, 15, 175, 79, 93, 138, 55, 4, 211, 365], [], [31, 1, 648, 181, 205, 207, 431, 121, 590, 997, 121, 181, 111, 5, 471, 4, 636, 372, 67, 70], [1, 25, 326, 514, 601, 959, 810, 514, 375, 76, 749, 662, 497, 1, 75], [268, 2, 2, 851, 52, 603, 128, 851], [538], [436, 810, 765], [496, 109, 844, 260, 640, 333, 156, 64, 6, 27, 64, 651, 258, 893, 9, 68, 7, 496, 982, 53, 30, 4, 115, 2, 275, 704, 33, 704, 2, 80, 363, 443, 746, 348, 644], [90, 414, 277], [1, 211, 10, 351, 205, 956, 944, 195, 195, 195, 685, 32]]\n",
      "[1, 1, 1, 0, 1, 1, 1, 0, 1, 1]\n",
      "{'المطعم': 1, 'جدا': 2, 'مطعم': 3, 'اللي': 4, 'عندهم': 5, 'لذيذ': 6, 'ان': 7, 'شي': 8, 'كانت': 9, 'ممتاز': 10, 'المطاعم': 11, 'الاكل': 12, 'مره': 13, 'انا': 14, 'انه': 15, 'فرع': 16, 'الله': 17, 'او': 18, 'افضل': 19, 'الي': 20, 'مرة': 21, 'الدجاج': 22, 'رائع': 23, 'جيد': 24, 'طعم': 25, 'يعني': 26, 'حلو': 27, 'عادي': 28, 'دجاج': 29, 'مو': 30, 'الأكل': 31, 'الطعم': 32, 'المكان': 33, 'الخدمة': 34, 'بشكل': 35, 'لحم': 36, 'اللحم': 37, 'أفضل': 38, 'جربت': 39, 'الطلب': 40, 'اكثر': 41, 'الى': 42, 'الرياض': 43, 'ممتازة': 44, 'الا': 45, 'الاسعار': 46, 'كنت': 47, 'اذا': 48, 'بالنسبة': 49, 'السعر': 50, 'طلبت': 51, 'يكون': 52, 'فقط': 53, 'بيتزا': 54, 'برجر': 55, 'مطاعم': 56, 'الطعام': 57, 'مميز': 58, 'شوي': 59, 'طبعا': 60, 'اول': 61, 'سيء': 62, 'عنده': 63, 'البرجر': 64, 'جيدة': 65, 'يوم': 66, 'نظيف': 67, 'الطلبات': 68, 'البيتزا': 69, 'انصح': 70, 'اي': 71, 'وكان': 72, 'مكان': 73, 'لذيذة': 74, 'بصراحة': 75, 'اني': 76, 'الديكور': 77, 'خصوصا': 78, 'شيء': 79, 'والله': 80, 'اكل': 81, 'البطاطس': 82, 'حلوه': 83, 'كثير': 84, 'الأسعار': 85, 'النظافة': 86, 'بدون': 87, 'جميل': 88, 'عام': 89, 'طعمه': 90, 'المنيو': 91, 'وجبة': 92, 'طبق': 93, 'عشان': 94, 'يوجد': 95, 'اما': 96, 'الخبز': 97, 'بصراحه': 98, 'المحل': 99, 'الوجبات': 100, 'يستحق': 101, 'جربته': 102, 'سيئة': 103, 'يقدم': 104, 'مافيه': 105, 'قسم': 106, 'يمكن': 107, 'غالي': 108, 'وقت': 109, 'quot': 110, 'الجلسات': 111, 'تقريبا': 112, 'للمطعم': 113, 'نوعا': 114, 'طلبنا': 115, 'للأسف': 116, 'الاطباق': 117, 'ممتازه': 118, 'الخدمه': 119, 'صغير': 120, 'شارع': 121, 'التجربة': 122, 'تجربة': 123, 'زي': 124, 'رحت': 125, 'رائعة': 126, 'اسعاره': 127, 'يعجبني': 128, 'ناحية': 129, 'أنه': 130, 'خبز': 131, 'خدمة': 132, 'لذيذه': 133, 'صراحه': 134, 'التقييم': 135, 'احد': 136, 'كبير': 137, 'المقبلات': 138, 'الأطباق': 139, 'جودة': 140, 'ابدا': 141, 'لازم': 142, 'الرز': 143, 'وانا': 144, 'شاورما': 145, 'أنصح': 146, 'لان': 147, 'جيده': 148, 'اكلهم': 149, 'كيك': 150, 'اكله': 151, 'الشاورما': 152, 'ستيك': 153, 'ممكن': 154, 'شوربة': 155, 'بارد': 156, 'تكون': 157, 'عليها': 158, 'كلها': 159, 'بالنسبه': 160, 'الناس': 161, 'نوع': 162, 'سلطة': 163, 'قائمة': 164, 'بكل': 165, 'الطبق': 166, 'رائعه': 167, 'جديد': 168, 'هالمطعم': 169, 'بـ': 170, 'اليوم': 171, 'انواع': 172, 'منهم': 173, 'الوحيد': 174, 'احلى': 175, 'حلوة': 176, 'فعلا': 177, 'لديهم': 178, 'صوص': 179, 'دائما': 180, 'وهذا': 181, 'بالرياض': 182, 'مقارنة': 183, 'وفيه': 184, 'يستاهل': 185, 'مبالغ': 186, 'عادية': 187, 'وكانت': 188, 'وش': 189, 'مستوى': 190, 'قلت': 191, 'احسن': 192, 'فروع': 193, 'اقل': 194, 'سيئ': 195, 'داخل': 196, 'زيت': 197, 'طلب': 198, 'المشوي': 199, 'وفي': 200, 'لأن': 201, 'للاسف': 202, 'وجبات': 203, 'عصير': 204, 'الفرع': 205, 'سعره': 206, 'الثاني': 207, 'عليكم': 208, 'برقر': 209, 'طريق': 210, 'فهو': 211, 'الزيارة': 212, 'طعمها': 213, 'جلسات': 214, 'يعتبر': 215, 'روعه': 216, 'رز': 217, 'كله': 218, 'والخدمة': 219, 'انها': 220, 'اتمنى': 221, 'علي': 222, 'بطاطس': 223, 'قال': 224, 'سعر': 225, 'القهوة': 226, 'صحن': 227, 'الجودة': 228, 'سمك': 229, 'عندي': 230, 'البيك': 231, 'لانه': 232, 'اطلب': 233, 'شئ': 234, 'العام': 235, 'احب': 236, 'ايضا': 237, 'مافي': 238, 'يجي': 239, 'زحمة': 240, 'تطلب': 241, 'العوائل': 242, 'مميزة': 243, 'تحس': 244, 'انك': 245, 'مش': 246, 'عليهم': 247, 'اسمه': 248, 'يتميز': 249, 'فترة': 250, 'الملك': 251, 'زرت': 252, 'حمص': 253, 'معقولة': 254, 'السلام': 255, 'قطع': 256, 'انهم': 257, 'مشوي': 258, 'الوجبة': 259, 'زحمه': 260, 'وهي': 261, 'بسبب': 262, 'طيب': 263, 'مرتين': 264, 'الوقت': 265, 'لأنه': 266, 'نظافة': 267, 'اعجبني': 268, 'الخبر': 269, 'ألذ': 270, 'مدري': 271, 'عنه': 272, 'وجود': 273, 'اعتقد': 274, 'سيئه': 275, 'الحمص': 276, 'مناسب': 277, 'التوصيل': 278, 'ولذيذ': 279, 'تجربتي': 280, 'وكل': 281, 'اكلت': 282, 'أنواع': 283, 'كباب': 284, 'هندي': 285, 'كثيرة': 286, 'ساعة': 287, 'ونظيف': 288, 'اخر': 289, 'جو': 290, 'مناسبة': 291, 'آخر': 292, 'المهم': 293, 'التجربه': 294, 'تشيز': 295, 'مرره': 296, 'طازج': 297, 'الواحد': 298, 'الموظفين': 299, 'باقي': 300, 'اروح': 301, 'راقي': 302, 'الجو': 303, 'عبارة': 304, 'اخرى': 305, 'أسعاره': 306, 'وخصوصا': 307, 'كويس': 308, 'تم': 309, 'شاء': 310, 'السمك': 311, 'مرات': 312, 'المشروبات': 313, 'كبيرة': 314, 'the': 315, 'وحده': 316, 'البرقر': 317, 'الطاولات': 318, 'سنوات': 319, 'اطباق': 320, 'كنتاكي': 321, 'ثانيه': 322, 'طريقة': 323, 'يقول': 324, 'تقييمي': 325, 'الستيك': 326, 'جدة': 327, 'بوفيه': 328, 'الباستا': 329, 'زيارة': 330, 'ثانية': 331, 'الموقع': 332, 'والاكل': 333, 'للي': 334, 'عموما': 335, 'اسعار': 336, 'الصوص': 337, 'غيره': 338, 'الاستقبال': 339, 'غالية': 340, 'مقبلات': 341, 'عدم': 342, 'العاملين': 343, 'وغير': 344, 'الفلافل': 345, 'الجبن': 346, 'جلساته': 347, 'تجربه': 348, 'معقوله': 349, 'فى': 350, 'أخرى': 351, 'أكل': 352, 'خفيف': 353, 'حقهم': 354, 'الزيت': 355, 'المشكلة': 356, 'محل': 357, 'ديكور': 358, 'الهندي': 359, 'جميلة': 360, 'وسط': 361, 'مول': 362, 'تغير': 363, 'كريم': 364, 'D': 365, 'عجبني': 366, 'الان': 367, 'البروستد': 368, 'لدرجة': 369, 'وخاصة': 370, 'أكله': 371, 'أكلهم': 372, 'موجود': 373, 'رايق': 374, 'رغم': 375, 'جد': 376, 'الفروع': 377, 'حجم': 378, 'بتجربته': 379, 'عاديه': 380, 'وطعم': 381, 'شكل': 382, 'فلافل': 383, 'تقديم': 384, 'الثانية': 385, 'الذ': 386, 'ادري': 387, 'أطباق': 388, 'زرته': 389, 'صح': 390, 'ولم': 391, 'والدجاج': 392, 'قليل': 393, 'مررره': 394, 'أعتقد': 395, 'الساعة': 396, 'الجميع': 397, 'جبن': 398, 'متوسط': 399, 'لمن': 400, 'تاكل': 401, 'نظري': 402, 'عيبه': 403, 'مرتفعة': 404, 'الحلويات': 405, 'ماك': 406, 'النظافه': 407, 'والطعم': 408, 'وحتى': 409, 'الثوم': 410, 'عالية': 411, 'وكذلك': 412, 'اللحوم': 413, 'معقول': 414, 'مشكلة': 415, 'وبعد': 416, 'وجبه': 417, 'متنوعة': 418, 'الشي': 419, 'تقول': 420, 'بكثير': 421, 'المشويات': 422, 'مقلي': 423, 'تعجبني': 424, 'حق': 425, 'وليس': 426, 'القائمة': 427, 'الزحمة': 428, 'البوفيه': 429, 'ليش': 430, 'حي': 431, 'معه': 432, 'التقديم': 433, 'النعمه': 434, 'واسعاره': 435, 'برياني': 436, 'العشاء': 437, 'نكهة': 438, 'الحين': 439, 'سعودي': 440, 'كمان': 441, 'طلبي': 442, 'البيت': 443, 'نفسي': 444, 'خاصه': 445, 'لديه': 446, 'العمال': 447, 'المتوسط': 448, 'مناسبه': 449, 'ساندوتش': 450, 'يحتاج': 451, 'واللي': 452, 'غاليه': 453, 'الطاولة': 454, 'صغيرة': 455, 'لكنه': 456, 'شخص': 457, 'نص': 458, 'الربيان': 459, 'صحيح': 460, 'تقدم': 461, 'فهي': 462, 'تعامل': 463, 'البحرية': 464, 'الغداء': 465, 'غريب': 466, 'رخيص': 467, 'المقلي': 468, 'السلطات': 469, 'بلا': 470, 'للعوائل': 471, 'زيادة': 472, 'متوسطة': 473, 'الافضل': 474, 'أحب': 475, 'بالمطعم': 476, 'لاكن': 477, 'صاحب': 478, 'جربتها': 479, 'الأولى': 480, 'السعودية': 481, 'قريب': 482, 'الرئيسية': 483, 'ماله': 484, 'ضيق': 485, 'روعة': 486, 'الزبائن': 487, 'احيانا': 488, 'الاخرى': 489, 'بعدها': 490, 'رهيب': 491, 'بالدجاج': 492, 'عدة': 493, 'جدآ': 494, 'حد': 495, 'الزياره': 496, 'لهذا': 497, 'الشيء': 498, 'اتوقع': 499, 'قهوة': 500, 'أعجبني': 501, 'بنفس': 502, 'هت': 503, 'المشاوي': 504, 'المطبخ': 505, 'سواء': 506, 'ايش': 507, 'الطبخ': 508, 'جديدة': 509, 'دايم': 510, 'اسعارهم': 511, 'اسمها': 512, 'والسعر': 513, 'كلام': 514, 'وطلبت': 515, 'مرتفعه': 516, 'والبطاطس': 517, 'اغلب': 518, 'الشباب': 519, 'شكله': 520, 'مرتفع': 521, 'سئ': 522, 'اقول': 523, 'الكباب': 524, 'هرفي': 525, 'والديكور': 526, 'والاسعار': 527, 'مستواه': 528, 'زيارتي': 529, 'باختصار': 530, 'واللحم': 531, 'واضح': 532, 'فتح': 533, 'بالله': 534, 'نفسه': 535, 'دخلت': 536, 'خاص': 537, 'المفضل': 538, 'يفتح': 539, 'اخذ': 540, 'خدمه': 541, 'فكرة': 542, '_': 543, 'السلطة': 544, 'شفت': 545, 'خدمتهم': 546, 'الكثير': 547, 'الصراحة': 548, 'مرتب': 549, 'مريحة': 550, 'يكرم': 551, 'ربيان': 552, 'ذقته': 553, 'اروع': 554, 'حقتهم': 555, 'فرايز': 556, 'هاوس': 557, 'أحسن': 558, 'الاول': 559, 'مميزه': 560, 'سريعة': 561, 'خلال': 562, 'وعلى': 563, 'زمان': 564, 'وطعمه': 565, 'تشكن': 566, 'الأخرى': 567, 'يعيبه': 568, 'يروح': 569, 'العالم': 570, 'الجرسون': 571, 'وايضا': 572, 'مثلا': 573, 'شيك': 574, 'بزيارته': 575, 'أنها': 576, 'ورق': 577, 'أطلب': 578, 'البيبسي': 579, 'كنا': 580, 'الوجبه': 581, 'الصراحه': 582, 'حياتي': 583, 'يكن': 584, 'وانت': 585, 'مشكلته': 586, 'طبيعي': 587, 'حوالي': 588, 'والأكل': 589, 'بن': 590, 'والي': 591, 'خطير': 592, 'بيت': 593, 'تعتبر': 594, 'ليه': 595, 'سعرها': 596, 'برا': 597, 'الجلسة': 598, 'أسعار': 599, 'تحياتي': 600, 'and': 601, 'الفطور': 602, 'بروستد': 603, 'متميز': 604, 'صب': 605, 'اعرف': 606, 'ذهبت': 607, 'تماما': 608, 'مشاوي': 609, 'يكفي': 610, 'العيوب': 611, 'تقدر': 612, 'كودو': 613, 'حقيقه': 614, 'تشيكن': 615, 'الدونات': 616, 'لمطعم': 617, 'التعامل': 618, 'تاخذ': 619, 'مذاق': 620, 'طول': 621, 'ايام': 622, 'قليلة': 623, 'يتم': 624, 'خيالي': 625, 'طازجة': 626, 'الرائع': 627, 'مقابل': 628, 'بالذات': 629, 'قديم': 630, 'مجمع': 631, 'الدمام': 632, 'باستا': 633, 'ومع': 634, 'بالجبن': 635, 'مشويات': 636, 'مقارنه': 637, 'يجيك': 638, 'النعمة': 639, 'والخدمه': 640, 'الاكلات': 641, 'جده': 642, 'وجهة': 643, 'ماراح': 644, 'فتره': 645, 'لايوجد': 646, 'جرب': 647, 'الأول': 648, 'تشكيلة': 649, 'تنوع': 650, 'كأنه': 651, 'فيهم': 652, 'بأس': 653, 'نكهه': 654, 'عرض': 655, 'نوعية': 656, 'يبي': 657, 'صيني': 658, 'أني': 659, 'إضافة': 660, 'مجانا': 661, 'الأفضل': 662, 'ربع': 663, 'قمة': 664, 'مشكل': 665, 'المميزة': 666, 'واذا': 667, 'كمية': 668, 'عندما': 669, 'ام': 670, 'النوع': 671, 'الخميس': 672, 'انت': 673, 'الاسبوع': 674, 'زين': 675, 'إني': 676, 'ساعه': 677, 'شخصيا': 678, 'والنظافة': 679, 'والمكان': 680, 'اعطيه': 681, 'المملكة': 682, 'الشيف': 683, 'ابو': 684, 'للغاية': 685, 'الحقيقة': 686, 'اجرب': 687, 'تجد': 688, 'السريعة': 689, 'بأن': 690, 'خضار': 691, 'تجي': 692, 'ياخذ': 693, 'المرة': 694, 'وقد': 695, 'العمالة': 696, 'المأكولات': 697, 'امس': 698, 'المقهى': 699, 'تقيمي': 700, 'يمي': 701, 'قمت': 702, 'عدد': 703, 'ريحة': 704, 'السلبيات': 705, 'والمطعم': 706, 'الخيارات': 707, 'موب': 708, 'علشان': 709, 'تبي': 710, 'المذاق': 711, 'الزبون': 712, 'نسيت': 713, 'موقع': 714, 'الفول': 715, 'ال': 716, 'الخاصة': 717, 'لدي': 718, 'الكاشير': 719, 'بوصة': 720, 'أحلى': 721, 'المميز': 722, 'خيار': 723, 'مواقف': 724, 'رأيي': 725, 'اذكر': 726, 'الفاتورة': 727, 'حبيت': 728, 'فروعه': 729, 'سنة': 730, 'انو': 731, 'شغل': 732, 'تغيير': 733, 'الثانيه': 734, 'اشوف': 735, 'يطلع': 736, 'الشوربة': 737, 'وعندهم': 738, 'البحر': 739, 'درجة': 740, 'المستوى': 741, 'العربي': 742, 'وخدمة': 743, 'اسم': 744, 'بمعنى': 745, 'كثر': 746, 'طلبات': 747, 'الزحمه': 748, 'أتمنى': 749, 'الخارجية': 750, 'الحلى': 751, 'سيزر': 752, 'مفتوح': 753, 'نوعين': 754, 'انصحكم': 755, 'دقيقة': 756, 'موقعه': 757, 'الهندية': 758, 'عندنا': 759, 'ونص': 760, 'الانتظار': 761, 'واي': 762, 'المفضلة': 763, 'شهر': 764, 'ودجاج': 765, 'عربي': 766, 'خيارات': 767, 'الصحن': 768, 'ولما': 769, 'قليله': 770, 'الشارع': 771, 'التحلية': 772, 'العنب': 773, 'تروح': 774, 'وانصح': 775, 'مرررره': 776, 'مدينة': 777, 'بعيد': 778, 'يجنن': 779, 'الباقي': 780, 'وين': 781, 'مقبول': 782, 'سلطه': 783, 'المواقف': 784, 'اصناف': 785, 'العائلات': 786, 'طاولات': 787, 'هادئ': 788, 'بالمطاعم': 789, 'قطعة': 790, 'صلصة': 791, 'عباره': 792, 'قليلا': 793, 'عندك': 794, 'رمضان': 795, 'بطعم': 796, 'لين': 797, 'ماشاء': 798, 'والأسعار': 799, 'أسوأ': 800, 'العامل': 801, 'مشروب': 802, 'السوشي': 803, 'تختار': 804, 'قررت': 805, 'ذقت': 806, 'المفروض': 807, 'الحار': 808, 'بالطعم': 809, 'الجمبري': 810, 'التخصصي': 811, 'فاشل': 812, 'أسعارهم': 813, 'كامل': 814, 'الخضار': 815, 'عيب': 816, 'تقييم': 817, 'اجربه': 818, 'مختلف': 819, 'إليه': 820, 'سريعه': 821, 'يختلف': 822, 'نصف': 823, 'عبدالله': 824, 'العصيرات': 825, 'مشكله': 826, 'لمحبي': 827, 'كثيره': 828, 'لحد': 829, 'يصير': 830, 'إللي': 831, 'الصغير': 832, 'الموضوع': 833, 'اشخاص': 834, 'شوربه': 835, 'لاحظت': 836, 'المشكله': 837, 'دبل': 838, 'كلهم': 839, 'بحكم': 840, 'وكمان': 841, 'احس': 842, 'الكلمة': 843, 'ماكان': 844, 'جبنة': 845, 'جميله': 846, 'مستحيل': 847, 'ناس': 848, 'لكل': 849, 'طاقم': 850, 'المره': 851, 'العمل': 852, 'الحجم': 853, 'العادي': 854, 'طاولة': 855, 'يم': 856, 'أنصحكم': 857, 'الطاوله': 858, 'ولن': 859, 'بسيط': 860, 'الدور': 861, 'حقيقة': 862, 'سبايسي': 863, 'البرياني': 864, 'طلعت': 865, 'كبيره': 866, 'وخاصه': 867, 'فطيرة': 868, 'الشاي': 869, 'القهوه': 870, 'والجو': 871, 'ساندويتش': 872, 'فيليه': 873, 'لفرع': 874, 'عوائل': 875, 'برضو': 876, 'طلع': 877, 'بطريقة': 878, 'مؤخرا': 879, 'كوفي': 880, 'اختيار': 881, 'الكل': 882, 'طلبك': 883, 'خفيفة': 884, 'بالاضافة': 885, 'نصيحة': 886, 'الأصناف': 887, 'يجيب': 888, 'ماعجبني': 889, 'عنب': 890, 'لله': 891, 'شوية': 892, 'ابد': 893, 'زياره': 894, 'الاصناف': 895, 'روبيان': 896, 'أكلت': 897, 'to': 898, 'معي': 899, 'يحب': 900, 'سمعت': 901, 'الحساب': 902, 'وجلساته': 903, 'لاني': 904, 'سريع': 905, 'الاسم': 906, 'اكرر': 907, 'بجد': 908, 'مريح': 909, 'بالإضافة': 910, 'واحدة': 911, 'الهنديه': 912, 'فرعهم': 913, 'أخذت': 914, 'العيب': 915, 'سبب': 916, 'ltlt': 917, 'ايطالي': 918, 'بجانب': 919, 'المكونات': 920, 'الصيني': 921, 'فطور': 922, 'حبات': 923, 'فول': 924, 'لأني': 925, 'خارج': 926, 'الصور': 927, 'ماهو': 928, 'تستحق': 929, 'الطازج': 930, 'البصل': 931, 'بالثوم': 932, 'رائحة': 933, 'جاء': 934, 'المدير': 935, 'العصير': 936, 'الفرن': 937, 'توصيل': 938, 'الصباح': 939, 'شغلهم': 940, 'الزود': 941, 'ديكوره': 942, 'للأكل': 943, 'مكة': 944, 'ربما': 945, 'سفري': 946, 'اهتمام': 947, 'لذلك': 948, 'سابقا': 949, 'يقع': 950, 'المكسيكي': 951, 'معك': 952, 'الشخص': 953, 'وطلبنا': 954, 'ويستحق': 955, 'الموجود': 956, 'حسيت': 957, 'بعدين': 958, 'جاني': 959, 'أغلب': 960, 'باردة': 961, 'وان': 962, 'والجلسات': 963, 'I': 964, 'الاولى': 965, 'غداء': 966, 'نهاية': 967, 'نطلب': 968, 'السيزر': 969, 'الخارج': 970, 'الكوفي': 971, 'يصلح': 972, 'مجرد': 973, 'لقيت': 974, 'صحي': 975, 'رقم': 976, 'وقال': 977, 'مخرج': 978, 'النادل': 979, 'متخصص': 980, 'تحصل': 981, 'لشخصين': 982, 'التدخين': 983, 'محلات': 984, 'اكيد': 985, 'أصناف': 986, 'اهم': 987, 'شباب': 988, 'دايما': 989, 'الصاج': 990, 'اخذت': 991, 'جربنا': 992, 'ثوم': 993, 'ذقتها': 994, 'التشيز': 995, 'ناشف': 996, 'ابي': 997, 'اكبر': 998, 'تسمم': 999, 'حارة': 1000}\n"
     ]
    },
    {
     "ename": "ValueError",
     "evalue": "setting an array element with a sequence. The requested array has an inhomogeneous shape after 1 dimensions. The detected shape was (6273,) + inhomogeneous part.",
     "output_type": "error",
     "traceback": [
      "\u001b[1;31m---------------------------------------------------------------------------\u001b[0m",
      "\u001b[1;31mValueError\u001b[0m                                Traceback (most recent call last)",
      "Cell \u001b[1;32mIn[59], line 1\u001b[0m\n\u001b[1;32m----> 1\u001b[0m x_train,y_train,x_test,y_test,vocab \u001b[38;5;241m=\u001b[39m tockenize(x_train,y_train,x_test,y_test)\n",
      "Cell \u001b[1;32mIn[58], line 35\u001b[0m, in \u001b[0;36mtockenize\u001b[1;34m(x_train, y_train, x_val, y_val)\u001b[0m\n\u001b[0;32m     32\u001b[0m \u001b[38;5;28mprint\u001b[39m(encoded_test[:\u001b[38;5;241m10\u001b[39m])\n\u001b[0;32m     33\u001b[0m \u001b[38;5;28mprint\u001b[39m(onehot_dict)\n\u001b[1;32m---> 35\u001b[0m \u001b[38;5;28;01mreturn\u001b[39;00m np\u001b[38;5;241m.\u001b[39marray(final_list_train), np\u001b[38;5;241m.\u001b[39marray(encoded_train),np\u001b[38;5;241m.\u001b[39marray(final_list_test), np\u001b[38;5;241m.\u001b[39marray(encoded_test),onehot_dict\n",
      "\u001b[1;31mValueError\u001b[0m: setting an array element with a sequence. The requested array has an inhomogeneous shape after 1 dimensions. The detected shape was (6273,) + inhomogeneous part."
     ]
    }
   ],
   "source": [
    "x_train,y_train,x_test,y_test,vocab = tockenize(x_train,y_train,x_test,y_test)"
   ]
  },
  {
   "cell_type": "code",
   "execution_count": 8,
   "metadata": {},
   "outputs": [
    {
     "name": "stdout",
     "output_type": "stream",
     "text": [
      "Length of vocabulary is 1000\n"
     ]
    }
   ],
   "source": [
    "print(f'Length of vocabulary is {len(vocab)}')"
   ]
  },
  {
   "cell_type": "markdown",
   "metadata": {},
   "source": [
    "### Analysing review length"
   ]
  },
  {
   "cell_type": "code",
   "execution_count": 9,
   "metadata": {},
   "outputs": [
    {
     "data": {
      "image/png": "[encoded data removed]",
      "text/plain": [
       "<Figure size 432x288 with 1 Axes>"
      ]
     },
     "metadata": {
      "needs_background": "light"
     },
     "output_type": "display_data"
    },
    {
     "data": {
      "text/plain": [
       "count    37500.000000\n",
       "mean        69.037733\n",
       "std         47.886749\n",
       "min          0.000000\n",
       "25%         39.000000\n",
       "50%         54.000000\n",
       "75%         84.000000\n",
       "max        651.000000\n",
       "dtype: float64"
      ]
     },
     "execution_count": 9,
     "metadata": {},
     "output_type": "execute_result"
    }
   ],
   "source": [
    "rev_len = [len(i) for i in x_train]\n",
    "pd.Series(rev_len).hist()\n",
    "plt.show()\n",
    "pd.Series(rev_len).describe()"
   ]
  },
  {
   "cell_type": "markdown",
   "metadata": {},
   "source": [
    "Observations : <br>a) Mean review length = around 69.<br> b) minimum length of reviews is 2.<br>c)There are quite a few reviews that are extremely long, we can manually investigate them to check whether we need to include or exclude them from our analysis."
   ]
  },
  {
   "cell_type": "markdown",
   "metadata": {},
   "source": [
    "### Padding"
   ]
  },
  {
   "cell_type": "markdown",
   "metadata": {},
   "source": [
    "Now we will pad each of the sequence to max length "
   ]
  },
  {
   "cell_type": "code",
   "execution_count": 10,
   "metadata": {},
   "outputs": [],
   "source": [
    "def padding_(sentences, seq_len):\n",
    "    features = np.zeros((len(sentences), seq_len),dtype=int)\n",
    "    for ii, review in enumerate(sentences):\n",
    "        if len(review) != 0:\n",
    "            features[ii, -len(review):] = np.array(review)[:seq_len]\n",
    "    return features"
   ]
  },
  {
   "cell_type": "code",
   "execution_count": 11,
   "metadata": {},
   "outputs": [],
   "source": [
    "#we have very less number of reviews with length > 500.\n",
    "#So we will consideronly those below it.\n",
    "x_train_pad = padding_(x_train,500)\n",
    "x_test_pad = padding_(x_test,500)\n"
   ]
  },
  {
   "cell_type": "markdown",
   "metadata": {},
   "source": [
    "### Batching and loading as tensor"
   ]
  },
  {
   "cell_type": "code",
   "execution_count": 12,
   "metadata": {},
   "outputs": [],
   "source": [
    "# create Tensor datasets\n",
    "train_data = TensorDataset(torch.from_numpy(x_train_pad), torch.from_numpy(y_train))\n",
    "valid_data = TensorDataset(torch.from_numpy(x_test_pad), torch.from_numpy(y_test))\n",
    "\n",
    "# dataloaders\n",
    "batch_size = 50\n",
    "\n",
    "# make sure to SHUFFLE your data\n",
    "train_loader = DataLoader(train_data, shuffle=True, batch_size=batch_size)\n",
    "valid_loader = DataLoader(valid_data, shuffle=True, batch_size=batch_size)"
   ]
  },
  {
   "cell_type": "code",
   "execution_count": 13,
   "metadata": {},
   "outputs": [
    {
     "name": "stdout",
     "output_type": "stream",
     "text": [
      "Sample input size:  torch.Size([50, 500])\n",
      "Sample input: \n",
      " tensor([[  0,   0,   0,  ...,   2,  30,  48],\n",
      "        [  0,   0,   0,  ..., 897,  15,  19],\n",
      "        [  0,   0,   0,  ...,  69, 271, 165],\n",
      "        ...,\n",
      "        [  0,   0,   0,  ...,  19,  82, 246],\n",
      "        [  0,   0,   0,  ..., 775,  11, 530],\n",
      "        [  0,   0,   0,  ...,  21,   2, 165]])\n",
      "Sample input: \n",
      " tensor([1, 1, 0, 0, 1, 1, 0, 1, 0, 1, 0, 1, 0, 1, 0, 0, 1, 0, 0, 1, 0, 1, 1, 0,\n",
      "        1, 0, 0, 1, 0, 1, 1, 0, 0, 1, 1, 0, 0, 1, 1, 0, 0, 1, 0, 0, 0, 1, 1, 1,\n",
      "        0, 0])\n"
     ]
    }
   ],
   "source": [
    "# obtain one batch of training data\n",
    "dataiter = iter(train_loader)\n",
    "sample_x, sample_y = dataiter.next()\n",
    "\n",
    "print('Sample input size: ', sample_x.size()) # batch_size, seq_length\n",
    "print('Sample input: \\n', sample_x)\n",
    "print('Sample input: \\n', sample_y)"
   ]
  },
  {
   "cell_type": "markdown",
   "metadata": {},
   "source": [
    "We need to add an embedding layer because there are less words in our vocabulary. It is massively inefficient to one-hot encode that many classes. So, instead of one-hot encoding, we can have an embedding layer and use that layer as a lookup table. You could train an embedding layer using Word2Vec, then load it here. But, it's fine to just make a new layer, using it for only dimensionality reduction, and let the network learn the weights."
   ]
  },
  {
   "cell_type": "markdown",
   "metadata": {},
   "source": [
    "### Model"
   ]
  },
  {
   "cell_type": "code",
   "execution_count": 14,
   "metadata": {},
   "outputs": [],
   "source": [
    "class SentimentRNN(nn.Module):\n",
    "    def __init__(self,no_layers,vocab_size,hidden_dim,embedding_dim,drop_prob=0.5):\n",
    "        super(SentimentRNN,self).__init__()\n",
    " \n",
    "        self.output_dim = output_dim\n",
    "        self.hidden_dim = hidden_dim\n",
    " \n",
    "        self.no_layers = no_layers\n",
    "        self.vocab_size = vocab_size\n",
    "    \n",
    "        # embedding and LSTM layers\n",
    "        self.embedding = nn.Embedding(vocab_size, embedding_dim)\n",
    "        \n",
    "        #lstm\n",
    "        self.lstm = nn.LSTM(input_size=embedding_dim,hidden_size=self.hidden_dim,\n",
    "                           num_layers=no_layers, batch_first=True)\n",
    "        \n",
    "        \n",
    "        # dropout layer\n",
    "        self.dropout = nn.Dropout(0.3)\n",
    "    \n",
    "        # linear and sigmoid layer\n",
    "        self.fc = nn.Linear(self.hidden_dim, output_dim)\n",
    "        self.sig = nn.Sigmoid()\n",
    "        \n",
    "    def forward(self,x,hidden):\n",
    "        batch_size = x.size(0)\n",
    "        # embeddings and lstm_out\n",
    "        embeds = self.embedding(x)  # shape: B x S x Feature   since batch = True\n",
    "        #print(embeds.shape)  #[50, 500, 1000]\n",
    "        lstm_out, hidden = self.lstm(embeds, hidden)\n",
    "        \n",
    "        lstm_out = lstm_out.contiguous().view(-1, self.hidden_dim) \n",
    "        \n",
    "        # dropout and fully connected layer\n",
    "        out = self.dropout(lstm_out)\n",
    "        out = self.fc(out)\n",
    "        \n",
    "        # sigmoid function\n",
    "        sig_out = self.sig(out)\n",
    "        \n",
    "        # reshape to be batch_size first\n",
    "        sig_out = sig_out.view(batch_size, -1)\n",
    "\n",
    "        sig_out = sig_out[:, -1] # get last batch of labels\n",
    "        \n",
    "        # return last sigmoid output and hidden state\n",
    "        return sig_out, hidden\n",
    "        \n",
    "        \n",
    "        \n",
    "    def init_hidden(self, batch_size):\n",
    "        ''' Initializes hidden state '''\n",
    "        # Create two new tensors with sizes n_layers x batch_size x hidden_dim,\n",
    "        # initialized to zero, for hidden state and cell state of LSTM\n",
    "        h0 = torch.zeros((self.no_layers,batch_size,self.hidden_dim)).to(device)\n",
    "        c0 = torch.zeros((self.no_layers,batch_size,self.hidden_dim)).to(device)\n",
    "        hidden = (h0,c0)\n",
    "        return hidden\n",
    "\n",
    "              "
   ]
  },
  {
   "cell_type": "code",
   "execution_count": 15,
   "metadata": {},
   "outputs": [
    {
     "name": "stdout",
     "output_type": "stream",
     "text": [
      "SentimentRNN(\n",
      "  (embedding): Embedding(1001, 64)\n",
      "  (lstm): LSTM(64, 256, num_layers=2, batch_first=True)\n",
      "  (dropout): Dropout(p=0.3, inplace=False)\n",
      "  (fc): Linear(in_features=256, out_features=1, bias=True)\n",
      "  (sig): Sigmoid()\n",
      ")\n"
     ]
    }
   ],
   "source": [
    "no_layers = 2\n",
    "vocab_size = len(vocab) + 1 #extra 1 for padding\n",
    "embedding_dim = 64\n",
    "output_dim = 1\n",
    "hidden_dim = 256\n",
    "\n",
    "\n",
    "model = SentimentRNN(no_layers,vocab_size,hidden_dim,embedding_dim,drop_prob=0.5)\n",
    "\n",
    "#moving to gpu\n",
    "model.to(device)\n",
    "\n",
    "print(model)\n"
   ]
  },
  {
   "cell_type": "markdown",
   "metadata": {},
   "source": [
    "### Training"
   ]
  },
  {
   "cell_type": "code",
   "execution_count": 16,
   "metadata": {},
   "outputs": [],
   "source": [
    "# loss and optimization functions\n",
    "lr=0.001\n",
    "\n",
    "criterion = nn.BCELoss()\n",
    "\n",
    "optimizer = torch.optim.Adam(model.parameters(), lr=lr)\n",
    "\n",
    "# function to predict accuracy\n",
    "def acc(pred,label):\n",
    "    pred = torch.round(pred.squeeze())\n",
    "    return torch.sum(pred == label.squeeze()).item()\n"
   ]
  },
  {
   "cell_type": "code",
   "execution_count": 17,
   "metadata": {},
   "outputs": [
    {
     "name": "stdout",
     "output_type": "stream",
     "text": [
      "Epoch 1\n",
      "train_loss : 0.5514762891530991 val_loss : 0.48754315090179445\n",
      "train_accuracy : 71.04533333333333 val_accuracy : 78.82400000000001\n",
      "Validation loss decreased (inf --> 0.487543).  Saving model ...\n",
      "==================================================\n",
      "Epoch 2\n",
      "train_loss : 0.38688015002012255 val_loss : 0.36025634998083117\n",
      "train_accuracy : 83.312 val_accuracy : 84.49600000000001\n",
      "Validation loss decreased (0.487543 --> 0.360256).  Saving model ...\n",
      "==================================================\n",
      "Epoch 3\n",
      "train_loss : 0.3323784332871437 val_loss : 0.34532852041721346\n",
      "train_accuracy : 85.80266666666667 val_accuracy : 85.008\n",
      "Validation loss decreased (0.360256 --> 0.345329).  Saving model ...\n",
      "==================================================\n",
      "Epoch 4\n",
      "train_loss : 0.30270534215370815 val_loss : 0.33132310980558394\n",
      "train_accuracy : 87.18666666666667 val_accuracy : 86.11999999999999\n",
      "Validation loss decreased (0.345329 --> 0.331323).  Saving model ...\n",
      "==================================================\n",
      "Epoch 5\n",
      "train_loss : 0.27587611916661264 val_loss : 0.350223951369524\n",
      "train_accuracy : 88.43466666666666 val_accuracy : 85.92\n",
      "==================================================\n"
     ]
    }
   ],
   "source": [
    "clip = 5\n",
    "epochs = 5 \n",
    "valid_loss_min = np.Inf\n",
    "# train for some number of epochs\n",
    "epoch_tr_loss,epoch_vl_loss = [],[]\n",
    "epoch_tr_acc,epoch_vl_acc = [],[]\n",
    "\n",
    "for epoch in range(epochs):\n",
    "    train_losses = []\n",
    "    train_acc = 0.0\n",
    "    model.train()\n",
    "    # initialize hidden state \n",
    "    h = model.init_hidden(batch_size)\n",
    "    for inputs, labels in train_loader:\n",
    "        \n",
    "        inputs, labels = inputs.to(device), labels.to(device)   \n",
    "        # Creating new variables for the hidden state, otherwise\n",
    "        # we'd backprop through the entire training history\n",
    "        h = tuple([each.data for each in h])\n",
    "        \n",
    "        model.zero_grad()\n",
    "        output,h = model(inputs,h)\n",
    "        \n",
    "        # calculate the loss and perform backprop\n",
    "        loss = criterion(output.squeeze(), labels.float())\n",
    "        loss.backward()\n",
    "        train_losses.append(loss.item())\n",
    "        # calculating accuracy\n",
    "        accuracy = acc(output,labels)\n",
    "        train_acc += accuracy\n",
    "        #`clip_grad_norm` helps prevent the exploding gradient problem in RNNs / LSTMs.\n",
    "        nn.utils.clip_grad_norm_(model.parameters(), clip)\n",
    "        optimizer.step()\n",
    " \n",
    "    \n",
    "        \n",
    "    val_h = model.init_hidden(batch_size)\n",
    "    val_losses = []\n",
    "    val_acc = 0.0\n",
    "    model.eval()\n",
    "    for inputs, labels in valid_loader:\n",
    "            val_h = tuple([each.data for each in val_h])\n",
    "\n",
    "            inputs, labels = inputs.to(device), labels.to(device)\n",
    "\n",
    "            output, val_h = model(inputs, val_h)\n",
    "            val_loss = criterion(output.squeeze(), labels.float())\n",
    "\n",
    "            val_losses.append(val_loss.item())\n",
    "            \n",
    "            accuracy = acc(output,labels)\n",
    "            val_acc += accuracy\n",
    "            \n",
    "    epoch_train_loss = np.mean(train_losses)\n",
    "    epoch_val_loss = np.mean(val_losses)\n",
    "    epoch_train_acc = train_acc/len(train_loader.dataset)\n",
    "    epoch_val_acc = val_acc/len(valid_loader.dataset)\n",
    "    epoch_tr_loss.append(epoch_train_loss)\n",
    "    epoch_vl_loss.append(epoch_val_loss)\n",
    "    epoch_tr_acc.append(epoch_train_acc)\n",
    "    epoch_vl_acc.append(epoch_val_acc)\n",
    "    print(f'Epoch {epoch+1}') \n",
    "    print(f'train_loss : {epoch_train_loss} val_loss : {epoch_val_loss}')\n",
    "    print(f'train_accuracy : {epoch_train_acc*100} val_accuracy : {epoch_val_acc*100}')\n",
    "    if epoch_val_loss <= valid_loss_min:\n",
    "        torch.save(model.state_dict(), '../working/state_dict.pt')\n",
    "        print('Validation loss decreased ({:.6f} --> {:.6f}).  Saving model ...'.format(valid_loss_min,epoch_val_loss))\n",
    "        valid_loss_min = epoch_val_loss\n",
    "    print(25*'==')\n",
    "    "
   ]
  },
  {
   "cell_type": "code",
   "execution_count": 18,
   "metadata": {},
   "outputs": [
    {
     "data": {
      "image/png": "[encoded data removed]",
      "text/plain": [
       "<Figure size 1440x432 with 2 Axes>"
      ]
     },
     "metadata": {
      "needs_background": "light"
     },
     "output_type": "display_data"
    }
   ],
   "source": [
    "fig = plt.figure(figsize = (20, 6))\n",
    "plt.subplot(1, 2, 1)\n",
    "plt.plot(epoch_tr_acc, label='Train Acc')\n",
    "plt.plot(epoch_vl_acc, label='Validation Acc')\n",
    "plt.title(\"Accuracy\")\n",
    "plt.legend()\n",
    "plt.grid()\n",
    "    \n",
    "plt.subplot(1, 2, 2)\n",
    "plt.plot(epoch_tr_loss, label='Train loss')\n",
    "plt.plot(epoch_vl_loss, label='Validation loss')\n",
    "plt.title(\"Loss\")\n",
    "plt.legend()\n",
    "plt.grid()\n",
    "\n",
    "plt.show()"
   ]
  },
  {
   "cell_type": "markdown",
   "metadata": {},
   "source": [
    "### Inferance"
   ]
  },
  {
   "cell_type": "code",
   "execution_count": 19,
   "metadata": {},
   "outputs": [],
   "source": [
    "def predict_text(text):\n",
    "        word_seq = np.array([vocab[preprocess_string(word)] for word in text.split() \n",
    "                         if preprocess_string(word) in vocab.keys()])\n",
    "        word_seq = np.expand_dims(word_seq,axis=0)\n",
    "        pad =  torch.from_numpy(padding_(word_seq,500))\n",
    "        inputs = pad.to(device)\n",
    "        batch_size = 1\n",
    "        h = model.init_hidden(batch_size)\n",
    "        h = tuple([each.data for each in h])\n",
    "        output, h = model(inputs, h)\n",
    "        return(output.item())"
   ]
  },
  {
   "cell_type": "code",
   "execution_count": 20,
   "metadata": {},
   "outputs": [
    {
     "name": "stdout",
     "output_type": "stream",
     "text": [
      "Taut and organically gripping, Edward Dmytryk's Crossfire is a distinctive suspense thriller, an unlikely \"message\" movie using the look and devices of the noir cycle.<br /><br />Bivouacked in Washington, DC, a company of soldiers cope with their restlessness by hanging out in bars. Three of them end up at a stranger's apartment where Robert Ryan, drunk and belligerent, beats their host (Sam Levene) to death because he happens to be Jewish. Police detective Robert Young investigates with the help of Robert Mitchum, who's assigned to Ryan's outfit. Suspicion falls on the second of the three (George Cooper), who has vanished. Ryan slays the third buddy (Steve Brodie) to insure his silence before Young closes in.<br /><br />Abetted by a superior script by John Paxton, Dmytryk draws precise performances from his three starring Bobs. Ryan, naturally, does his prototypical Angry White Male (and to the hilt), while Mitchum underplays with his characteristic alert nonchalance (his role, however, is not central); Young may never have been better. Gloria Grahame gives her first fully-fledged rendition of the smart-mouthed, vulnerable tramp, and, as a sad sack who's leeched into her life, Paul Kelly haunts us in a small, peripheral role that he makes memorable.<br /><br />The politically engaged Dmytryk perhaps inevitably succumbs to sermonizing, but it's pretty much confined to Young's reminiscence of how his Irish grandfather died at the hands of bigots a century earlier (thus, incidentally, stretching chronology to the limit). At least there's no attempt to render an explanation, however glib, of why Ryan hates Jews (and hillbillies and...).<br /><br />Curiously, Crossfire survives even the major change wrought upon it -- the novel it's based on (Richard Brooks' The Brick Foxhole) dealt with a gay-bashing murder. But homosexuality in 1947 was still Beyond The Pale. News of the Holocaust had, however, begun to emerge from the ashes of Europe, so Hollywood felt emboldened to register its protest against anti-Semitism (the studios always quaked at the prospect of offending any potential ticket buyer).<br /><br />But while the change from homophobia to anti-Semitism works in general, the specifics don't fit so smoothly. The victim's chatting up a lonesome, drunk young soldier then inviting him back home looks odd, even though (or especially since) there's a girlfriend in tow. It raises the question whether this scenario was retained inadvertently or left in as a discreet tip-off to the original engine generating Ryan's murderous rage.\n",
      "======================================================================\n",
      "Actual sentiment is  : positive\n",
      "======================================================================\n",
      "Predicted sentiment is positive with a probability of 0.6354644298553467\n"
     ]
    }
   ],
   "source": [
    "\n",
    "index = 30\n",
    "print(df['review'][index])\n",
    "print('='*70)\n",
    "print(f'Actual sentiment is  : {df[\"sentiment\"][index]}')\n",
    "print('='*70)\n",
    "pro = predict_text(df['review'][index])\n",
    "status = \"positive\" if pro > 0.5 else \"negative\"\n",
    "pro = (1 - pro) if status == \"negative\" else pro\n",
    "print(f'Predicted sentiment is {status} with a probability of {pro}')"
   ]
  },
  {
   "cell_type": "code",
   "execution_count": 21,
   "metadata": {},
   "outputs": [
    {
     "name": "stdout",
     "output_type": "stream",
     "text": [
      "My first exposure to the Templarios & not a good one. I was excited to find this title among the offerings from Anchor Bay Video, which has brought us other cult classics such as \"Spider Baby\". The print quality is excellent, but this alone can't hide the fact that the film is deadly dull. There's a thrilling opening sequence in which the villagers exact a terrible revenge on the Templars (& set the whole thing in motion), but everything else in the movie is slow, ponderous &, ultimately, unfulfilling. Adding insult to injury: the movie was dubbed, not subtitled, as promised on the video jacket.\n",
      "======================================================================\n",
      "Actual sentiment is  : negative\n",
      "======================================================================\n",
      "predicted sentiment is negative with a probability of 0.9780255667865276\n"
     ]
    }
   ],
   "source": [
    "\n",
    "index = 32\n",
    "print(df['review'][index])\n",
    "print('='*70)\n",
    "print(f'Actual sentiment is  : {df[\"sentiment\"][index]}')\n",
    "print('='*70)\n",
    "pro = predict_text(df['review'][index])\n",
    "status = \"positive\" if pro > 0.5 else \"negative\"\n",
    "pro = (1 - pro) if status == \"negative\" else pro\n",
    "print(f'predicted sentiment is {status} with a probability of {pro}')"
   ]
  },
  {
   "cell_type": "markdown",
   "metadata": {},
   "source": [
    "Some improvement suggestions are as follow:\n",
    "\n",
    "* Running a hyperparameter search to optimize your configurations.\n",
    "* Using pretraned word embeddings like Glove word embeddings\n",
    "* Increasing the model complexity like adding more layers/ using bidirectional LSTMs\n"
   ]
  }
 ],
 "metadata": {
  "kernelspec": {
   "display_name": "Python 3 (ipykernel)",
   "language": "python",
   "name": "python3"
  },
  "language_info": {
   "codemirror_mode": {
    "name": "ipython",
    "version": 3
   },
   "file_extension": ".py",
   "mimetype": "text/x-python",
   "name": "python",
   "nbconvert_exporter": "python",
   "pygments_lexer": "ipython3",
   "version": "3.11.5"
  }
 },
 "nbformat": 4,
 "nbformat_minor": 4
}
