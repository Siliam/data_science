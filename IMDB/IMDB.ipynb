{
 "cells": [
  {
   "cell_type": "code",
   "execution_count": 1,
   "id": "4e8cb01c",
   "metadata": {
    "collapsed": true
   },
   "outputs": [],
   "source": [
    "import numpy as np\n",
    "import pandas as pd"
   ]
  },
  {
   "cell_type": "code",
   "execution_count": 4,
   "id": "e014051d",
   "metadata": {},
   "outputs": [],
   "source": [
    "df = pd.read_csv(\"data/WATCHLIST.csv\")"
   ]
  },
  {
   "cell_type": "code",
   "execution_count": 5,
   "id": "6e590cb1",
   "metadata": {
    "scrolled": true
   },
   "outputs": [
    {
     "name": "stdout",
     "output_type": "stream",
     "text": [
      "800\n"
     ]
    }
   ],
   "source": [
    "n_movies = len(df)\n",
    "print(n_movies)"
   ]
  },
  {
   "cell_type": "code",
   "execution_count": 6,
   "id": "4facae77",
   "metadata": {},
   "outputs": [
    {
     "data": {
      "text/html": [
       "<div>\n",
       "<style scoped>\n",
       "    .dataframe tbody tr th:only-of-type {\n",
       "        vertical-align: middle;\n",
       "    }\n",
       "\n",
       "    .dataframe tbody tr th {\n",
       "        vertical-align: top;\n",
       "    }\n",
       "\n",
       "    .dataframe thead th {\n",
       "        text-align: right;\n",
       "    }\n",
       "</style>\n",
       "<table border=\"1\" class=\"dataframe\">\n",
       "  <thead>\n",
       "    <tr style=\"text-align: right;\">\n",
       "      <th></th>\n",
       "      <th>Position</th>\n",
       "      <th>Const</th>\n",
       "      <th>Created</th>\n",
       "      <th>Modified</th>\n",
       "      <th>Description</th>\n",
       "      <th>Title</th>\n",
       "      <th>URL</th>\n",
       "      <th>Title Type</th>\n",
       "      <th>IMDb Rating</th>\n",
       "      <th>Runtime (mins)</th>\n",
       "      <th>Year</th>\n",
       "      <th>Genres</th>\n",
       "      <th>Num Votes</th>\n",
       "      <th>Release Date</th>\n",
       "      <th>Directors</th>\n",
       "      <th>Your Rating</th>\n",
       "      <th>Date Rated</th>\n",
       "    </tr>\n",
       "  </thead>\n",
       "  <tbody>\n",
       "    <tr>\n",
       "      <th>0</th>\n",
       "      <td>1</td>\n",
       "      <td>tt0111161</td>\n",
       "      <td>2012-07-05</td>\n",
       "      <td>2012-07-05</td>\n",
       "      <td>NaN</td>\n",
       "      <td>The Shawshank Redemption</td>\n",
       "      <td>https://www.imdb.com/title/tt0111161/</td>\n",
       "      <td>movie</td>\n",
       "      <td>9.3</td>\n",
       "      <td>142</td>\n",
       "      <td>1994</td>\n",
       "      <td>Drama</td>\n",
       "      <td>2759556</td>\n",
       "      <td>1994-09-10</td>\n",
       "      <td>Frank Darabont</td>\n",
       "      <td>10</td>\n",
       "      <td>2012-07-05</td>\n",
       "    </tr>\n",
       "    <tr>\n",
       "      <th>1</th>\n",
       "      <td>2</td>\n",
       "      <td>tt0068646</td>\n",
       "      <td>2012-07-05</td>\n",
       "      <td>2012-07-05</td>\n",
       "      <td>NaN</td>\n",
       "      <td>The Godfather</td>\n",
       "      <td>https://www.imdb.com/title/tt0068646/</td>\n",
       "      <td>movie</td>\n",
       "      <td>9.2</td>\n",
       "      <td>175</td>\n",
       "      <td>1972</td>\n",
       "      <td>Crime, Drama</td>\n",
       "      <td>1920318</td>\n",
       "      <td>1972-03-14</td>\n",
       "      <td>Francis Ford Coppola</td>\n",
       "      <td>7</td>\n",
       "      <td>2012-09-15</td>\n",
       "    </tr>\n",
       "    <tr>\n",
       "      <th>2</th>\n",
       "      <td>3</td>\n",
       "      <td>tt0468569</td>\n",
       "      <td>2012-07-05</td>\n",
       "      <td>2012-07-05</td>\n",
       "      <td>NaN</td>\n",
       "      <td>The Dark Knight</td>\n",
       "      <td>https://www.imdb.com/title/tt0468569/</td>\n",
       "      <td>movie</td>\n",
       "      <td>9.0</td>\n",
       "      <td>152</td>\n",
       "      <td>2008</td>\n",
       "      <td>Action, Crime, Drama, Thriller</td>\n",
       "      <td>2732541</td>\n",
       "      <td>2008-07-14</td>\n",
       "      <td>Christopher Nolan</td>\n",
       "      <td>8</td>\n",
       "      <td>2012-07-19</td>\n",
       "    </tr>\n",
       "    <tr>\n",
       "      <th>3</th>\n",
       "      <td>4</td>\n",
       "      <td>tt0137523</td>\n",
       "      <td>2012-07-05</td>\n",
       "      <td>2012-07-05</td>\n",
       "      <td>NaN</td>\n",
       "      <td>Fight Club</td>\n",
       "      <td>https://www.imdb.com/title/tt0137523/</td>\n",
       "      <td>movie</td>\n",
       "      <td>8.8</td>\n",
       "      <td>139</td>\n",
       "      <td>1999</td>\n",
       "      <td>Drama</td>\n",
       "      <td>2197181</td>\n",
       "      <td>1999-09-10</td>\n",
       "      <td>David Fincher</td>\n",
       "      <td>9</td>\n",
       "      <td>2012-07-05</td>\n",
       "    </tr>\n",
       "    <tr>\n",
       "      <th>4</th>\n",
       "      <td>5</td>\n",
       "      <td>tt1375666</td>\n",
       "      <td>2012-07-05</td>\n",
       "      <td>2012-07-05</td>\n",
       "      <td>NaN</td>\n",
       "      <td>Inception</td>\n",
       "      <td>https://www.imdb.com/title/tt1375666/</td>\n",
       "      <td>movie</td>\n",
       "      <td>8.8</td>\n",
       "      <td>148</td>\n",
       "      <td>2010</td>\n",
       "      <td>Action, Adventure, Sci-Fi, Thriller</td>\n",
       "      <td>2424924</td>\n",
       "      <td>2010-07-08</td>\n",
       "      <td>Christopher Nolan</td>\n",
       "      <td>9</td>\n",
       "      <td>2012-07-05</td>\n",
       "    </tr>\n",
       "  </tbody>\n",
       "</table>\n",
       "</div>"
      ],
      "text/plain": [
       "   Position      Const     Created    Modified  Description  \\\n",
       "0         1  tt0111161  2012-07-05  2012-07-05          NaN   \n",
       "1         2  tt0068646  2012-07-05  2012-07-05          NaN   \n",
       "2         3  tt0468569  2012-07-05  2012-07-05          NaN   \n",
       "3         4  tt0137523  2012-07-05  2012-07-05          NaN   \n",
       "4         5  tt1375666  2012-07-05  2012-07-05          NaN   \n",
       "\n",
       "                      Title                                    URL Title Type  \\\n",
       "0  The Shawshank Redemption  https://www.imdb.com/title/tt0111161/      movie   \n",
       "1             The Godfather  https://www.imdb.com/title/tt0068646/      movie   \n",
       "2           The Dark Knight  https://www.imdb.com/title/tt0468569/      movie   \n",
       "3                Fight Club  https://www.imdb.com/title/tt0137523/      movie   \n",
       "4                 Inception  https://www.imdb.com/title/tt1375666/      movie   \n",
       "\n",
       "   IMDb Rating  Runtime (mins)  Year                               Genres  \\\n",
       "0          9.3             142  1994                                Drama   \n",
       "1          9.2             175  1972                         Crime, Drama   \n",
       "2          9.0             152  2008       Action, Crime, Drama, Thriller   \n",
       "3          8.8             139  1999                                Drama   \n",
       "4          8.8             148  2010  Action, Adventure, Sci-Fi, Thriller   \n",
       "\n",
       "   Num Votes Release Date             Directors  Your Rating  Date Rated  \n",
       "0    2759556   1994-09-10        Frank Darabont           10  2012-07-05  \n",
       "1    1920318   1972-03-14  Francis Ford Coppola            7  2012-09-15  \n",
       "2    2732541   2008-07-14     Christopher Nolan            8  2012-07-19  \n",
       "3    2197181   1999-09-10         David Fincher            9  2012-07-05  \n",
       "4    2424924   2010-07-08     Christopher Nolan            9  2012-07-05  "
      ]
     },
     "execution_count": 6,
     "metadata": {},
     "output_type": "execute_result"
    }
   ],
   "source": [
    "df.head()"
   ]
  },
  {
   "cell_type": "code",
   "execution_count": 7,
   "id": "9983a0ca",
   "metadata": {},
   "outputs": [
    {
     "name": "stdout",
     "output_type": "stream",
     "text": [
      "<class 'pandas.core.frame.DataFrame'>\n",
      "RangeIndex: 800 entries, 0 to 799\n",
      "Data columns (total 17 columns):\n",
      " #   Column          Non-Null Count  Dtype  \n",
      "---  ------          --------------  -----  \n",
      " 0   Position        800 non-null    int64  \n",
      " 1   Const           800 non-null    object \n",
      " 2   Created         800 non-null    object \n",
      " 3   Modified        800 non-null    object \n",
      " 4   Description     0 non-null      float64\n",
      " 5   Title           800 non-null    object \n",
      " 6   URL             800 non-null    object \n",
      " 7   Title Type      800 non-null    object \n",
      " 8   IMDb Rating     800 non-null    float64\n",
      " 9   Runtime (mins)  800 non-null    int64  \n",
      " 10  Year            800 non-null    int64  \n",
      " 11  Genres          799 non-null    object \n",
      " 12  Num Votes       800 non-null    int64  \n",
      " 13  Release Date    800 non-null    object \n",
      " 14  Directors       793 non-null    object \n",
      " 15  Your Rating     800 non-null    int64  \n",
      " 16  Date Rated      800 non-null    object \n",
      "dtypes: float64(2), int64(5), object(10)\n",
      "memory usage: 106.4+ KB\n"
     ]
    }
   ],
   "source": [
    "df.info()"
   ]
  },
  {
   "cell_type": "code",
   "execution_count": 8,
   "id": "3dca0291",
   "metadata": {},
   "outputs": [
    {
     "data": {
      "text/html": [
       "<div>\n",
       "<style scoped>\n",
       "    .dataframe tbody tr th:only-of-type {\n",
       "        vertical-align: middle;\n",
       "    }\n",
       "\n",
       "    .dataframe tbody tr th {\n",
       "        vertical-align: top;\n",
       "    }\n",
       "\n",
       "    .dataframe thead th {\n",
       "        text-align: right;\n",
       "    }\n",
       "</style>\n",
       "<table border=\"1\" class=\"dataframe\">\n",
       "  <thead>\n",
       "    <tr style=\"text-align: right;\">\n",
       "      <th></th>\n",
       "      <th>Position</th>\n",
       "      <th>Description</th>\n",
       "      <th>IMDb Rating</th>\n",
       "      <th>Runtime (mins)</th>\n",
       "      <th>Year</th>\n",
       "      <th>Num Votes</th>\n",
       "      <th>Your Rating</th>\n",
       "    </tr>\n",
       "  </thead>\n",
       "  <tbody>\n",
       "    <tr>\n",
       "      <th>count</th>\n",
       "      <td>800.000000</td>\n",
       "      <td>0.0</td>\n",
       "      <td>800.000000</td>\n",
       "      <td>800.000000</td>\n",
       "      <td>800.000000</td>\n",
       "      <td>8.000000e+02</td>\n",
       "      <td>800.000000</td>\n",
       "    </tr>\n",
       "    <tr>\n",
       "      <th>mean</th>\n",
       "      <td>398.667500</td>\n",
       "      <td>NaN</td>\n",
       "      <td>7.488625</td>\n",
       "      <td>116.391250</td>\n",
       "      <td>2005.353750</td>\n",
       "      <td>3.330094e+05</td>\n",
       "      <td>7.630000</td>\n",
       "    </tr>\n",
       "    <tr>\n",
       "      <th>std</th>\n",
       "      <td>230.822731</td>\n",
       "      <td>NaN</td>\n",
       "      <td>0.756355</td>\n",
       "      <td>31.858231</td>\n",
       "      <td>15.698381</td>\n",
       "      <td>4.014476e+05</td>\n",
       "      <td>1.315395</td>\n",
       "    </tr>\n",
       "    <tr>\n",
       "      <th>min</th>\n",
       "      <td>1.000000</td>\n",
       "      <td>NaN</td>\n",
       "      <td>1.700000</td>\n",
       "      <td>12.000000</td>\n",
       "      <td>1933.000000</td>\n",
       "      <td>1.500000e+01</td>\n",
       "      <td>1.000000</td>\n",
       "    </tr>\n",
       "    <tr>\n",
       "      <th>25%</th>\n",
       "      <td>198.750000</td>\n",
       "      <td>NaN</td>\n",
       "      <td>7.100000</td>\n",
       "      <td>99.000000</td>\n",
       "      <td>2002.000000</td>\n",
       "      <td>6.247925e+04</td>\n",
       "      <td>7.000000</td>\n",
       "    </tr>\n",
       "    <tr>\n",
       "      <th>50%</th>\n",
       "      <td>398.500000</td>\n",
       "      <td>NaN</td>\n",
       "      <td>7.600000</td>\n",
       "      <td>113.000000</td>\n",
       "      <td>2010.000000</td>\n",
       "      <td>1.834225e+05</td>\n",
       "      <td>8.000000</td>\n",
       "    </tr>\n",
       "    <tr>\n",
       "      <th>75%</th>\n",
       "      <td>598.250000</td>\n",
       "      <td>NaN</td>\n",
       "      <td>8.000000</td>\n",
       "      <td>130.000000</td>\n",
       "      <td>2015.250000</td>\n",
       "      <td>4.664140e+05</td>\n",
       "      <td>8.000000</td>\n",
       "    </tr>\n",
       "    <tr>\n",
       "      <th>max</th>\n",
       "      <td>798.000000</td>\n",
       "      <td>NaN</td>\n",
       "      <td>9.300000</td>\n",
       "      <td>557.000000</td>\n",
       "      <td>2023.000000</td>\n",
       "      <td>2.759556e+06</td>\n",
       "      <td>10.000000</td>\n",
       "    </tr>\n",
       "  </tbody>\n",
       "</table>\n",
       "</div>"
      ],
      "text/plain": [
       "         Position  Description  IMDb Rating  Runtime (mins)         Year  \\\n",
       "count  800.000000          0.0   800.000000      800.000000   800.000000   \n",
       "mean   398.667500          NaN     7.488625      116.391250  2005.353750   \n",
       "std    230.822731          NaN     0.756355       31.858231    15.698381   \n",
       "min      1.000000          NaN     1.700000       12.000000  1933.000000   \n",
       "25%    198.750000          NaN     7.100000       99.000000  2002.000000   \n",
       "50%    398.500000          NaN     7.600000      113.000000  2010.000000   \n",
       "75%    598.250000          NaN     8.000000      130.000000  2015.250000   \n",
       "max    798.000000          NaN     9.300000      557.000000  2023.000000   \n",
       "\n",
       "          Num Votes  Your Rating  \n",
       "count  8.000000e+02   800.000000  \n",
       "mean   3.330094e+05     7.630000  \n",
       "std    4.014476e+05     1.315395  \n",
       "min    1.500000e+01     1.000000  \n",
       "25%    6.247925e+04     7.000000  \n",
       "50%    1.834225e+05     8.000000  \n",
       "75%    4.664140e+05     8.000000  \n",
       "max    2.759556e+06    10.000000  "
      ]
     },
     "execution_count": 8,
     "metadata": {},
     "output_type": "execute_result"
    }
   ],
   "source": [
    "df.describe()"
   ]
  },
  {
   "cell_type": "code",
   "execution_count": 9,
   "id": "3c9d64b2",
   "metadata": {},
   "outputs": [
    {
     "data": {
      "text/plain": [
       "540"
      ]
     },
     "execution_count": 9,
     "metadata": {},
     "output_type": "execute_result"
    }
   ],
   "source": [
    "len(df.Directors.unique())"
   ]
  },
  {
   "cell_type": "code",
   "execution_count": 10,
   "id": "7e9333db",
   "metadata": {},
   "outputs": [
    {
     "data": {
      "text/plain": [
       "76"
      ]
     },
     "execution_count": 10,
     "metadata": {},
     "output_type": "execute_result"
    }
   ],
   "source": [
    "len(df.Year.unique())"
   ]
  },
  {
   "cell_type": "code",
   "execution_count": 11,
   "id": "90bf8e30",
   "metadata": {},
   "outputs": [
    {
     "data": {
      "text/plain": [
       "1551.8833333333334"
      ]
     },
     "execution_count": 11,
     "metadata": {},
     "output_type": "execute_result"
    }
   ],
   "source": [
    "sum(df[\"Runtime (mins)\"]) / 60"
   ]
  },
  {
   "cell_type": "code",
   "execution_count": 12,
   "id": "118aa986",
   "metadata": {},
   "outputs": [
    {
     "data": {
      "text/plain": [
       "116.39125"
      ]
     },
     "execution_count": 12,
     "metadata": {},
     "output_type": "execute_result"
    }
   ],
   "source": [
    "sum(df[\"Runtime (mins)\"]) / n_movies"
   ]
  },
  {
   "cell_type": "code",
   "execution_count": 13,
   "id": "6f2aed14",
   "metadata": {},
   "outputs": [
    {
     "data": {
      "text/plain": [
       "7.488624999999998"
      ]
     },
     "execution_count": 13,
     "metadata": {},
     "output_type": "execute_result"
    }
   ],
   "source": [
    "np.mean(df[\"IMDb Rating\"])"
   ]
  },
  {
   "cell_type": "code",
   "execution_count": 14,
   "id": "e22e53b7",
   "metadata": {},
   "outputs": [
    {
     "data": {
      "text/plain": [
       "0.7558823383139734"
      ]
     },
     "execution_count": 14,
     "metadata": {},
     "output_type": "execute_result"
    }
   ],
   "source": [
    "np.std(df[\"IMDb Rating\"])"
   ]
  },
  {
   "cell_type": "code",
   "execution_count": 15,
   "id": "ab65dc0a",
   "metadata": {},
   "outputs": [
    {
     "data": {
      "text/plain": [
       "7.63"
      ]
     },
     "execution_count": 15,
     "metadata": {},
     "output_type": "execute_result"
    }
   ],
   "source": [
    "np.mean(df[\"Your Rating\"])"
   ]
  },
  {
   "cell_type": "code",
   "execution_count": 16,
   "id": "66a4d6c4",
   "metadata": {},
   "outputs": [
    {
     "data": {
      "text/plain": [
       "1.31457217375083"
      ]
     },
     "execution_count": 16,
     "metadata": {},
     "output_type": "execute_result"
    }
   ],
   "source": [
    "np.std(df[\"Your Rating\"])"
   ]
  },
  {
   "cell_type": "code",
   "execution_count": 17,
   "id": "d81ca2c8",
   "metadata": {},
   "outputs": [
    {
     "data": {
      "text/plain": [
       "Christopher Nolan        9\n",
       "Steven Spielberg         9\n",
       "David Fincher            8\n",
       "Makoto Shinkai           7\n",
       "Alejandro G. Iñárritu    6\n",
       "Quentin Tarantino        6\n",
       "Martin Scorsese          6\n",
       "Richard Linklater        6\n",
       "Paul Thomas Anderson     6\n",
       "Ethan Coen, Joel Coen    6\n",
       "Wes Anderson             5\n",
       "Stanley Kubrick          5\n",
       "Rob Marshall             5\n",
       "Danny Boyle              5\n",
       "Alfred Hitchcock         5\n",
       "Denis Villeneuve         5\n",
       "Darren Aronofsky         5\n",
       "Gore Verbinski           4\n",
       "Alfonso Cuarón           4\n",
       "David Yates              4\n",
       "Name: Directors, dtype: int64"
      ]
     },
     "execution_count": 17,
     "metadata": {},
     "output_type": "execute_result"
    }
   ],
   "source": [
    "df.Directors.value_counts()[:20]"
   ]
  },
  {
   "cell_type": "code",
   "execution_count": 19,
   "id": "d01e1629",
   "metadata": {},
   "outputs": [
    {
     "data": {
      "text/html": [
       "<div>\n",
       "<style scoped>\n",
       "    .dataframe tbody tr th:only-of-type {\n",
       "        vertical-align: middle;\n",
       "    }\n",
       "\n",
       "    .dataframe tbody tr th {\n",
       "        vertical-align: top;\n",
       "    }\n",
       "\n",
       "    .dataframe thead th {\n",
       "        text-align: right;\n",
       "    }\n",
       "</style>\n",
       "<table border=\"1\" class=\"dataframe\">\n",
       "  <thead>\n",
       "    <tr style=\"text-align: right;\">\n",
       "      <th></th>\n",
       "      <th>Number of movies watched</th>\n",
       "      <th>Your Average Rating</th>\n",
       "    </tr>\n",
       "    <tr>\n",
       "      <th>Directors</th>\n",
       "      <th></th>\n",
       "      <th></th>\n",
       "    </tr>\n",
       "  </thead>\n",
       "  <tbody>\n",
       "    <tr>\n",
       "      <th>Mervyn LeRoy, King Vidor, Norman Taurog, George Cukor, Richard Thorpe, Victor Fleming</th>\n",
       "      <td>1</td>\n",
       "      <td>10.0</td>\n",
       "    </tr>\n",
       "    <tr>\n",
       "      <th>Lisanne Pajot, James Swirsky</th>\n",
       "      <td>1</td>\n",
       "      <td>10.0</td>\n",
       "    </tr>\n",
       "    <tr>\n",
       "      <th>Lilly Wachowski, Lana Wachowski</th>\n",
       "      <td>1</td>\n",
       "      <td>10.0</td>\n",
       "    </tr>\n",
       "    <tr>\n",
       "      <th>Yasujirô Ozu</th>\n",
       "      <td>1</td>\n",
       "      <td>10.0</td>\n",
       "    </tr>\n",
       "    <tr>\n",
       "      <th>John Patrick Shanley</th>\n",
       "      <td>1</td>\n",
       "      <td>10.0</td>\n",
       "    </tr>\n",
       "    <tr>\n",
       "      <th>Christopher Miller, Phil Lord</th>\n",
       "      <td>1</td>\n",
       "      <td>10.0</td>\n",
       "    </tr>\n",
       "    <tr>\n",
       "      <th>Olivier Nakache, Éric Toledano</th>\n",
       "      <td>1</td>\n",
       "      <td>10.0</td>\n",
       "    </tr>\n",
       "    <tr>\n",
       "      <th>Charlie Kaufman</th>\n",
       "      <td>2</td>\n",
       "      <td>9.5</td>\n",
       "    </tr>\n",
       "    <tr>\n",
       "      <th>Chris Sanders, Dean DeBlois</th>\n",
       "      <td>1</td>\n",
       "      <td>9.0</td>\n",
       "    </tr>\n",
       "    <tr>\n",
       "      <th>Daniel Ribeiro</th>\n",
       "      <td>1</td>\n",
       "      <td>9.0</td>\n",
       "    </tr>\n",
       "    <tr>\n",
       "      <th>Daniel Kwan, Daniel Scheinert</th>\n",
       "      <td>2</td>\n",
       "      <td>9.0</td>\n",
       "    </tr>\n",
       "    <tr>\n",
       "      <th>Henry Koster</th>\n",
       "      <td>1</td>\n",
       "      <td>9.0</td>\n",
       "    </tr>\n",
       "    <tr>\n",
       "      <th>Richard Curtis</th>\n",
       "      <td>1</td>\n",
       "      <td>9.0</td>\n",
       "    </tr>\n",
       "    <tr>\n",
       "      <th>Hiroaki Matsuyama</th>\n",
       "      <td>1</td>\n",
       "      <td>9.0</td>\n",
       "    </tr>\n",
       "    <tr>\n",
       "      <th>Charlotte Wells</th>\n",
       "      <td>1</td>\n",
       "      <td>9.0</td>\n",
       "    </tr>\n",
       "    <tr>\n",
       "      <th>Iain Softley</th>\n",
       "      <td>1</td>\n",
       "      <td>9.0</td>\n",
       "    </tr>\n",
       "    <tr>\n",
       "      <th>David France</th>\n",
       "      <td>1</td>\n",
       "      <td>9.0</td>\n",
       "    </tr>\n",
       "    <tr>\n",
       "      <th>Lee Unkrich</th>\n",
       "      <td>1</td>\n",
       "      <td>9.0</td>\n",
       "    </tr>\n",
       "    <tr>\n",
       "      <th>Rodrigo Sopeña, Luis Piedrahita</th>\n",
       "      <td>1</td>\n",
       "      <td>9.0</td>\n",
       "    </tr>\n",
       "    <tr>\n",
       "      <th>Sarah Polley</th>\n",
       "      <td>1</td>\n",
       "      <td>9.0</td>\n",
       "    </tr>\n",
       "  </tbody>\n",
       "</table>\n",
       "</div>"
      ],
      "text/plain": [
       "                                                    Number of movies watched  \\\n",
       "Directors                                                                      \n",
       "Mervyn LeRoy, King Vidor, Norman Taurog, George...                         1   \n",
       "Lisanne Pajot, James Swirsky                                               1   \n",
       "Lilly Wachowski, Lana Wachowski                                            1   \n",
       "Yasujirô Ozu                                                               1   \n",
       "John Patrick Shanley                                                       1   \n",
       "Christopher Miller, Phil Lord                                              1   \n",
       "Olivier Nakache, Éric Toledano                                             1   \n",
       "Charlie Kaufman                                                            2   \n",
       "Chris Sanders, Dean DeBlois                                                1   \n",
       "Daniel Ribeiro                                                             1   \n",
       "Daniel Kwan, Daniel Scheinert                                              2   \n",
       "Henry Koster                                                               1   \n",
       "Richard Curtis                                                             1   \n",
       "Hiroaki Matsuyama                                                          1   \n",
       "Charlotte Wells                                                            1   \n",
       "Iain Softley                                                               1   \n",
       "David France                                                               1   \n",
       "Lee Unkrich                                                                1   \n",
       "Rodrigo Sopeña, Luis Piedrahita                                            1   \n",
       "Sarah Polley                                                               1   \n",
       "\n",
       "                                                    Your Average Rating  \n",
       "Directors                                                                \n",
       "Mervyn LeRoy, King Vidor, Norman Taurog, George...                 10.0  \n",
       "Lisanne Pajot, James Swirsky                                       10.0  \n",
       "Lilly Wachowski, Lana Wachowski                                    10.0  \n",
       "Yasujirô Ozu                                                       10.0  \n",
       "John Patrick Shanley                                               10.0  \n",
       "Christopher Miller, Phil Lord                                      10.0  \n",
       "Olivier Nakache, Éric Toledano                                     10.0  \n",
       "Charlie Kaufman                                                     9.5  \n",
       "Chris Sanders, Dean DeBlois                                         9.0  \n",
       "Daniel Ribeiro                                                      9.0  \n",
       "Daniel Kwan, Daniel Scheinert                                       9.0  \n",
       "Henry Koster                                                        9.0  \n",
       "Richard Curtis                                                      9.0  \n",
       "Hiroaki Matsuyama                                                   9.0  \n",
       "Charlotte Wells                                                     9.0  \n",
       "Iain Softley                                                        9.0  \n",
       "David France                                                        9.0  \n",
       "Lee Unkrich                                                         9.0  \n",
       "Rodrigo Sopeña, Luis Piedrahita                                     9.0  \n",
       "Sarah Polley                                                        9.0  "
      ]
     },
     "execution_count": 19,
     "metadata": {},
     "output_type": "execute_result"
    }
   ],
   "source": [
    "director_scores = pd.DataFrame(df.groupby('Directors').agg({'Directors':'size', 'Your Rating':'mean'}).rename(columns={'Directors':'Number of movies watched','Your Rating':'Your Average Rating'})).sort_values(['Your Average Rating'], ascending=False)\n",
    "director_scores.head(20)"
   ]
  },
  {
   "cell_type": "code",
   "execution_count": 20,
   "id": "87b457cd",
   "metadata": {},
   "outputs": [
    {
     "data": {
      "text/html": [
       "<div>\n",
       "<style scoped>\n",
       "    .dataframe tbody tr th:only-of-type {\n",
       "        vertical-align: middle;\n",
       "    }\n",
       "\n",
       "    .dataframe tbody tr th {\n",
       "        vertical-align: top;\n",
       "    }\n",
       "\n",
       "    .dataframe thead th {\n",
       "        text-align: right;\n",
       "    }\n",
       "</style>\n",
       "<table border=\"1\" class=\"dataframe\">\n",
       "  <thead>\n",
       "    <tr style=\"text-align: right;\">\n",
       "      <th></th>\n",
       "      <th>0</th>\n",
       "    </tr>\n",
       "    <tr>\n",
       "      <th>Directors</th>\n",
       "      <th></th>\n",
       "    </tr>\n",
       "  </thead>\n",
       "  <tbody>\n",
       "    <tr>\n",
       "      <th>Aamir Khan, Amole Gupte</th>\n",
       "      <td>1</td>\n",
       "    </tr>\n",
       "    <tr>\n",
       "      <th>Abbas Kiarostami</th>\n",
       "      <td>1</td>\n",
       "    </tr>\n",
       "    <tr>\n",
       "      <th>Abdullah Mohammed Saad</th>\n",
       "      <td>1</td>\n",
       "    </tr>\n",
       "    <tr>\n",
       "      <th>Adam Elliot</th>\n",
       "      <td>1</td>\n",
       "    </tr>\n",
       "    <tr>\n",
       "      <th>Adam McKay</th>\n",
       "      <td>1</td>\n",
       "    </tr>\n",
       "    <tr>\n",
       "      <th>...</th>\n",
       "      <td>...</td>\n",
       "    </tr>\n",
       "    <tr>\n",
       "      <th>Zach Braff</th>\n",
       "      <td>1</td>\n",
       "    </tr>\n",
       "    <tr>\n",
       "      <th>Zack Snyder</th>\n",
       "      <td>1</td>\n",
       "    </tr>\n",
       "    <tr>\n",
       "      <th>Zaza Urushadze</th>\n",
       "      <td>1</td>\n",
       "    </tr>\n",
       "    <tr>\n",
       "      <th>Álex de la Iglesia</th>\n",
       "      <td>1</td>\n",
       "    </tr>\n",
       "    <tr>\n",
       "      <th>Çagan Irmak</th>\n",
       "      <td>1</td>\n",
       "    </tr>\n",
       "  </tbody>\n",
       "</table>\n",
       "<p>539 rows × 1 columns</p>\n",
       "</div>"
      ],
      "text/plain": [
       "                         0\n",
       "Directors                 \n",
       "Aamir Khan, Amole Gupte  1\n",
       "Abbas Kiarostami         1\n",
       "Abdullah Mohammed Saad   1\n",
       "Adam Elliot              1\n",
       "Adam McKay               1\n",
       "...                     ..\n",
       "Zach Braff               1\n",
       "Zack Snyder              1\n",
       "Zaza Urushadze           1\n",
       "Álex de la Iglesia       1\n",
       "Çagan Irmak              1\n",
       "\n",
       "[539 rows x 1 columns]"
      ]
     },
     "execution_count": 20,
     "metadata": {},
     "output_type": "execute_result"
    }
   ],
   "source": [
    "pd.DataFrame(df.groupby(['Directors']).size())"
   ]
  },
  {
   "cell_type": "markdown",
   "id": "80b7348c",
   "metadata": {},
   "source": [
    "https://www.analyticsvidhya.com/blog/2022/03/exploratory-data-analysis-with-an-example/"
   ]
  },
  {
   "cell_type": "markdown",
   "id": "ca4d3caa",
   "metadata": {},
   "source": [
    "# Your Rating"
   ]
  },
  {
   "cell_type": "code",
   "execution_count": 50,
   "id": "bda8ba67",
   "metadata": {},
   "outputs": [],
   "source": [
    "import seaborn as sns\n",
    "import matplotlib.pyplot as plt"
   ]
  },
  {
   "cell_type": "code",
   "execution_count": 59,
   "id": "6b0fae53",
   "metadata": {},
   "outputs": [],
   "source": [
    "sns.set(rc={'figure.figsize':(15,7)})"
   ]
  },
  {
   "cell_type": "code",
   "execution_count": 26,
   "id": "662e76f9",
   "metadata": {},
   "outputs": [
    {
     "data": {
      "text/plain": [
       "7.63"
      ]
     },
     "execution_count": 26,
     "metadata": {},
     "output_type": "execute_result"
    }
   ],
   "source": [
    "my_average_rating = np.mean(df['Your Rating'])\n",
    "my_average_rating"
   ]
  },
  {
   "cell_type": "code",
   "execution_count": 28,
   "id": "d369e5b7",
   "metadata": {},
   "outputs": [],
   "source": [
    "df['Release Year'] = df['Release Date'].str.split('-').str[0]\n",
    "df['Above average'] = df['Your Rating'].map(lambda rating: 'Yes' if rating > my_average_rating else 'No')"
   ]
  },
  {
   "cell_type": "code",
   "execution_count": 30,
   "id": "e6ff6cbc",
   "metadata": {},
   "outputs": [
    {
     "data": {
      "text/html": [
       "<div>\n",
       "<style scoped>\n",
       "    .dataframe tbody tr th:only-of-type {\n",
       "        vertical-align: middle;\n",
       "    }\n",
       "\n",
       "    .dataframe tbody tr th {\n",
       "        vertical-align: top;\n",
       "    }\n",
       "\n",
       "    .dataframe thead th {\n",
       "        text-align: right;\n",
       "    }\n",
       "</style>\n",
       "<table border=\"1\" class=\"dataframe\">\n",
       "  <thead>\n",
       "    <tr style=\"text-align: right;\">\n",
       "      <th></th>\n",
       "      <th>Position</th>\n",
       "      <th>Const</th>\n",
       "      <th>Created</th>\n",
       "      <th>Modified</th>\n",
       "      <th>Description</th>\n",
       "      <th>Title</th>\n",
       "      <th>URL</th>\n",
       "      <th>Title Type</th>\n",
       "      <th>IMDb Rating</th>\n",
       "      <th>Runtime (mins)</th>\n",
       "      <th>Year</th>\n",
       "      <th>Genres</th>\n",
       "      <th>Num Votes</th>\n",
       "      <th>Release Date</th>\n",
       "      <th>Directors</th>\n",
       "      <th>Your Rating</th>\n",
       "      <th>Date Rated</th>\n",
       "      <th>Release Year</th>\n",
       "      <th>Above average</th>\n",
       "    </tr>\n",
       "  </thead>\n",
       "  <tbody>\n",
       "    <tr>\n",
       "      <th>0</th>\n",
       "      <td>1</td>\n",
       "      <td>tt0111161</td>\n",
       "      <td>2012-07-05</td>\n",
       "      <td>2012-07-05</td>\n",
       "      <td>NaN</td>\n",
       "      <td>The Shawshank Redemption</td>\n",
       "      <td>https://www.imdb.com/title/tt0111161/</td>\n",
       "      <td>movie</td>\n",
       "      <td>9.3</td>\n",
       "      <td>142</td>\n",
       "      <td>1994</td>\n",
       "      <td>Drama</td>\n",
       "      <td>2759556</td>\n",
       "      <td>1994-09-10</td>\n",
       "      <td>Frank Darabont</td>\n",
       "      <td>10</td>\n",
       "      <td>2012-07-05</td>\n",
       "      <td>1994</td>\n",
       "      <td>Yes</td>\n",
       "    </tr>\n",
       "    <tr>\n",
       "      <th>1</th>\n",
       "      <td>2</td>\n",
       "      <td>tt0068646</td>\n",
       "      <td>2012-07-05</td>\n",
       "      <td>2012-07-05</td>\n",
       "      <td>NaN</td>\n",
       "      <td>The Godfather</td>\n",
       "      <td>https://www.imdb.com/title/tt0068646/</td>\n",
       "      <td>movie</td>\n",
       "      <td>9.2</td>\n",
       "      <td>175</td>\n",
       "      <td>1972</td>\n",
       "      <td>Crime, Drama</td>\n",
       "      <td>1920318</td>\n",
       "      <td>1972-03-14</td>\n",
       "      <td>Francis Ford Coppola</td>\n",
       "      <td>7</td>\n",
       "      <td>2012-09-15</td>\n",
       "      <td>1972</td>\n",
       "      <td>No</td>\n",
       "    </tr>\n",
       "    <tr>\n",
       "      <th>2</th>\n",
       "      <td>3</td>\n",
       "      <td>tt0468569</td>\n",
       "      <td>2012-07-05</td>\n",
       "      <td>2012-07-05</td>\n",
       "      <td>NaN</td>\n",
       "      <td>The Dark Knight</td>\n",
       "      <td>https://www.imdb.com/title/tt0468569/</td>\n",
       "      <td>movie</td>\n",
       "      <td>9.0</td>\n",
       "      <td>152</td>\n",
       "      <td>2008</td>\n",
       "      <td>Action, Crime, Drama, Thriller</td>\n",
       "      <td>2732541</td>\n",
       "      <td>2008-07-14</td>\n",
       "      <td>Christopher Nolan</td>\n",
       "      <td>8</td>\n",
       "      <td>2012-07-19</td>\n",
       "      <td>2008</td>\n",
       "      <td>Yes</td>\n",
       "    </tr>\n",
       "    <tr>\n",
       "      <th>3</th>\n",
       "      <td>4</td>\n",
       "      <td>tt0137523</td>\n",
       "      <td>2012-07-05</td>\n",
       "      <td>2012-07-05</td>\n",
       "      <td>NaN</td>\n",
       "      <td>Fight Club</td>\n",
       "      <td>https://www.imdb.com/title/tt0137523/</td>\n",
       "      <td>movie</td>\n",
       "      <td>8.8</td>\n",
       "      <td>139</td>\n",
       "      <td>1999</td>\n",
       "      <td>Drama</td>\n",
       "      <td>2197181</td>\n",
       "      <td>1999-09-10</td>\n",
       "      <td>David Fincher</td>\n",
       "      <td>9</td>\n",
       "      <td>2012-07-05</td>\n",
       "      <td>1999</td>\n",
       "      <td>Yes</td>\n",
       "    </tr>\n",
       "    <tr>\n",
       "      <th>4</th>\n",
       "      <td>5</td>\n",
       "      <td>tt1375666</td>\n",
       "      <td>2012-07-05</td>\n",
       "      <td>2012-07-05</td>\n",
       "      <td>NaN</td>\n",
       "      <td>Inception</td>\n",
       "      <td>https://www.imdb.com/title/tt1375666/</td>\n",
       "      <td>movie</td>\n",
       "      <td>8.8</td>\n",
       "      <td>148</td>\n",
       "      <td>2010</td>\n",
       "      <td>Action, Adventure, Sci-Fi, Thriller</td>\n",
       "      <td>2424924</td>\n",
       "      <td>2010-07-08</td>\n",
       "      <td>Christopher Nolan</td>\n",
       "      <td>9</td>\n",
       "      <td>2012-07-05</td>\n",
       "      <td>2010</td>\n",
       "      <td>Yes</td>\n",
       "    </tr>\n",
       "  </tbody>\n",
       "</table>\n",
       "</div>"
      ],
      "text/plain": [
       "   Position      Const     Created    Modified  Description  \\\n",
       "0         1  tt0111161  2012-07-05  2012-07-05          NaN   \n",
       "1         2  tt0068646  2012-07-05  2012-07-05          NaN   \n",
       "2         3  tt0468569  2012-07-05  2012-07-05          NaN   \n",
       "3         4  tt0137523  2012-07-05  2012-07-05          NaN   \n",
       "4         5  tt1375666  2012-07-05  2012-07-05          NaN   \n",
       "\n",
       "                      Title                                    URL Title Type  \\\n",
       "0  The Shawshank Redemption  https://www.imdb.com/title/tt0111161/      movie   \n",
       "1             The Godfather  https://www.imdb.com/title/tt0068646/      movie   \n",
       "2           The Dark Knight  https://www.imdb.com/title/tt0468569/      movie   \n",
       "3                Fight Club  https://www.imdb.com/title/tt0137523/      movie   \n",
       "4                 Inception  https://www.imdb.com/title/tt1375666/      movie   \n",
       "\n",
       "   IMDb Rating  Runtime (mins)  Year                               Genres  \\\n",
       "0          9.3             142  1994                                Drama   \n",
       "1          9.2             175  1972                         Crime, Drama   \n",
       "2          9.0             152  2008       Action, Crime, Drama, Thriller   \n",
       "3          8.8             139  1999                                Drama   \n",
       "4          8.8             148  2010  Action, Adventure, Sci-Fi, Thriller   \n",
       "\n",
       "   Num Votes Release Date             Directors  Your Rating  Date Rated  \\\n",
       "0    2759556   1994-09-10        Frank Darabont           10  2012-07-05   \n",
       "1    1920318   1972-03-14  Francis Ford Coppola            7  2012-09-15   \n",
       "2    2732541   2008-07-14     Christopher Nolan            8  2012-07-19   \n",
       "3    2197181   1999-09-10         David Fincher            9  2012-07-05   \n",
       "4    2424924   2010-07-08     Christopher Nolan            9  2012-07-05   \n",
       "\n",
       "  Release Year Above average  \n",
       "0         1994           Yes  \n",
       "1         1972            No  \n",
       "2         2008           Yes  \n",
       "3         1999           Yes  \n",
       "4         2010           Yes  "
      ]
     },
     "execution_count": 30,
     "metadata": {},
     "output_type": "execute_result"
    }
   ],
   "source": [
    "df.head()"
   ]
  },
  {
   "cell_type": "code",
   "execution_count": 181,
   "id": "06bd9eb6",
   "metadata": {},
   "outputs": [
    {
     "data": {
      "text/plain": [
       "array([10,  7,  8,  9,  5,  6,  2,  3,  4,  1])"
      ]
     },
     "execution_count": 181,
     "metadata": {},
     "output_type": "execute_result"
    }
   ],
   "source": [
    "df['Your Rating'].unique()"
   ]
  },
  {
   "cell_type": "code",
   "execution_count": 197,
   "id": "36486d5f",
   "metadata": {},
   "outputs": [
    {
     "data": {
      "text/plain": [
       "0.1775"
      ]
     },
     "execution_count": 197,
     "metadata": {},
     "output_type": "execute_result"
    }
   ],
   "source": [
    "sum([0.0025, 0.00125, 0.00875, 0.01875, 0.035, 0.08875, 0, 0, 0, 0.0225]\n",
    ")"
   ]
  },
  {
   "cell_type": "code",
   "execution_count": 212,
   "id": "dce593b6",
   "metadata": {},
   "outputs": [
    {
     "data": {
      "text/plain": [
       "Your Rating\n",
       "1     0.0250\n",
       "2     0.0125\n",
       "3     0.0875\n",
       "4     0.1875\n",
       "5     0.3500\n",
       "6     0.8875\n",
       "7     2.0375\n",
       "8     4.0375\n",
       "9     2.1500\n",
       "10    0.2250\n",
       "Name: Your Rating, dtype: float64"
      ]
     },
     "execution_count": 212,
     "metadata": {},
     "output_type": "execute_result"
    }
   ],
   "source": [
    "ratings_frequencies"
   ]
  },
  {
   "cell_type": "code",
   "execution_count": 270,
   "id": "d4ebd40e",
   "metadata": {},
   "outputs": [
    {
     "data": {
      "text/plain": [
       "<matplotlib.legend.Legend at 0x7f2523ca8430>"
      ]
     },
     "execution_count": 270,
     "metadata": {},
     "output_type": "execute_result"
    },
    {
     "data": {
      "image/png": "[encoded data removed]",
      "text/plain": [
       "<Figure size 576x576 with 1 Axes>"
      ]
     },
     "metadata": {},
     "output_type": "display_data"
    }
   ],
   "source": [
    "ratings_frequencies = df.groupby(['Your Rating'])['Your Rating'].count().map(lambda x: x / len(df))\n",
    "explode = [1 if r < 0.005 else 0 for r in ratings_frequencies.values]\n",
    "\n",
    "ratings_frequencies.plot.pie(y=\"Your Rating\", figsize=(8, 8), explode=2*ratings_frequencies.values[::-1], autopct='%1.1f%%', colors=sns.color_palette(\"coolwarm\", 10), startangle=0)\n",
    "plt.legend(sorted(df['Your Rating'].unique()), loc=\"lower left\")"
   ]
  },
  {
   "cell_type": "markdown",
   "id": "c7cf432e",
   "metadata": {},
   "source": [
    "**⚠ WARNING** When testing Viz, better try to visualize on just a subset of data"
   ]
  },
  {
   "cell_type": "code",
   "execution_count": 43,
   "id": "27d13a5a",
   "metadata": {},
   "outputs": [
    {
     "data": {
      "text/plain": [
       "<seaborn.axisgrid.FacetGrid at 0x7f254a5f2fa0>"
      ]
     },
     "execution_count": 43,
     "metadata": {},
     "output_type": "execute_result"
    },
    {
     "data": {
      "image/png": "[encoded data removed]",
      "text/plain": [
       "<Figure size 720x360 with 2 Axes>"
      ]
     },
     "metadata": {
      "needs_background": "light"
     },
     "output_type": "display_data"
    }
   ],
   "source": [
    "# sns.set_theme(style=\"darkgrid\")\n",
    "sns.displot(data=df, x=\"Year\", col=\"Above average\", kde=True)"
   ]
  },
  {
   "cell_type": "code",
   "execution_count": 264,
   "id": "a6b20b78",
   "metadata": {
    "scrolled": false
   },
   "outputs": [
    {
     "data": {
      "text/plain": [
       "<AxesSubplot:xlabel='Year', ylabel='Count'>"
      ]
     },
     "execution_count": 264,
     "metadata": {},
     "output_type": "execute_result"
    },
    {
     "data": {
      "image/png": "[encoded data removed]",
      "text/plain": [
       "<Figure size 1080x504 with 1 Axes>"
      ]
     },
     "metadata": {},
     "output_type": "display_data"
    }
   ],
   "source": [
    "sns.histplot(\n",
    "    df,\n",
    "    x=\"Year\", hue=\"Above average\",\n",
    "    stat=\"count\",\n",
    "    multiple=\"stack\",\n",
    "    binwidth=1,\n",
    "    palette={\"Yes\": \"#31cdde\", \"No\": \"#759396\"},\n",
    "    edgecolor=\".3\",\n",
    "    linewidth=.5,\n",
    ")"
   ]
  },
  {
   "cell_type": "code",
   "execution_count": 265,
   "id": "4287b010",
   "metadata": {},
   "outputs": [
    {
     "data": {
      "text/plain": [
       "<AxesSubplot:xlabel='Year', ylabel='Percent'>"
      ]
     },
     "execution_count": 265,
     "metadata": {},
     "output_type": "execute_result"
    },
    {
     "data": {
      "image/png": "[encoded data removed]",
      "text/plain": [
       "<Figure size 1080x504 with 1 Axes>"
      ]
     },
     "metadata": {},
     "output_type": "display_data"
    }
   ],
   "source": [
    "sns.histplot(\n",
    "    df,\n",
    "    x=\"Year\", hue=\"Above average\",\n",
    "    multiple=\"fill\",\n",
    "    stat=\"percent\",\n",
    "    binwidth=1,\n",
    "    palette={\"Yes\": \"#31cdde\", \"No\": \"#759396\"},\n",
    "    edgecolor=\".3\",\n",
    "    linewidth=.5,\n",
    ")"
   ]
  },
  {
   "cell_type": "code",
   "execution_count": 266,
   "id": "5ae3e8dc",
   "metadata": {},
   "outputs": [
    {
     "data": {
      "text/plain": [
       "Year\n",
       "1933     1\n",
       "1935     1\n",
       "1939     1\n",
       "1941     2\n",
       "1942     1\n",
       "        ..\n",
       "2019    19\n",
       "2020    15\n",
       "2021    22\n",
       "2022    26\n",
       "2023     6\n",
       "Name: Year, Length: 76, dtype: int64"
      ]
     },
     "execution_count": 266,
     "metadata": {},
     "output_type": "execute_result"
    }
   ],
   "source": [
    "years_frequencies = df.groupby([\"Year\"])['Year'].count()\n",
    "years_frequencies"
   ]
  },
  {
   "cell_type": "code",
   "execution_count": 267,
   "id": "8737d28d",
   "metadata": {},
   "outputs": [
    {
     "data": {
      "text/plain": [
       "<AxesSubplot:xlabel='Year', ylabel='Year'>"
      ]
     },
     "execution_count": 267,
     "metadata": {},
     "output_type": "execute_result"
    },
    {
     "data": {
      "image/png": "[encoded data removed]",
      "text/plain": [
       "<Figure size 1080x504 with 1 Axes>"
      ]
     },
     "metadata": {},
     "output_type": "display_data"
    }
   ],
   "source": [
    "sns.lineplot(data=years_frequencies)"
   ]
  },
  {
   "cell_type": "code",
   "execution_count": 268,
   "id": "19a5ad9f",
   "metadata": {},
   "outputs": [
    {
     "data": {
      "text/plain": [
       "800"
      ]
     },
     "execution_count": 268,
     "metadata": {},
     "output_type": "execute_result"
    }
   ],
   "source": [
    "years_frequencies.sum()"
   ]
  },
  {
   "cell_type": "code",
   "execution_count": 269,
   "id": "49679b26",
   "metadata": {},
   "outputs": [
    {
     "data": {
      "image/png": "[encoded data removed]",
      "text/plain": [
       "<Figure size 1080x504 with 1 Axes>"
      ]
     },
     "metadata": {},
     "output_type": "display_data"
    }
   ],
   "source": [
    "years_frequencies = df.groupby([\"Year\"])['Year'].count() / len(df)\n",
    "\n",
    "z = sns.histplot(\n",
    "    df,\n",
    "    x=\"Year\", hue=\"Above average\",\n",
    "    multiple=\"fill\",\n",
    "    stat=\"percent\",\n",
    "    binwidth=1,\n",
    "    # kde=True,\n",
    "    palette={\"Yes\": \"#31cdde\", \"No\": \"#759396\"},\n",
    "    edgecolor=\".3\",\n",
    "    linewidth=.5,\n",
    ")\n",
    "z = sns.lineplot(data=years_frequencies / max(years_frequencies), color='teal')"
   ]
  },
  {
   "cell_type": "code",
   "execution_count": 96,
   "id": "cc45128f",
   "metadata": {},
   "outputs": [
    {
     "data": {
      "text/plain": [
       "[1, 2, 3, 4, 5, 6, 7, 8, 9, 10]"
      ]
     },
     "execution_count": 96,
     "metadata": {},
     "output_type": "execute_result"
    }
   ],
   "source": [
    "hue_order = df['Your Rating'].unique()\n",
    "hue_order = sorted(hue_order)\n",
    "hue_order"
   ]
  },
  {
   "cell_type": "code",
   "execution_count": 92,
   "id": "bac9f2b4",
   "metadata": {},
   "outputs": [],
   "source": [
    "df['Your Rating (cat)'] = pd.Categorical(df['Your Rating'])"
   ]
  },
  {
   "cell_type": "code",
   "execution_count": 93,
   "id": "fa6a86f8",
   "metadata": {},
   "outputs": [
    {
     "data": {
      "text/plain": [
       "0      10\n",
       "1       7\n",
       "2       8\n",
       "3       9\n",
       "4       9\n",
       "       ..\n",
       "795     9\n",
       "796     7\n",
       "797     8\n",
       "798     4\n",
       "799     9\n",
       "Name: Your Rating (cat), Length: 800, dtype: category\n",
       "Categories (10, int64): [1, 2, 3, 4, ..., 7, 8, 9, 10]"
      ]
     },
     "execution_count": 93,
     "metadata": {},
     "output_type": "execute_result"
    }
   ],
   "source": [
    "df['Your Rating (cat)']"
   ]
  },
  {
   "cell_type": "code",
   "execution_count": 99,
   "id": "1cf54410",
   "metadata": {},
   "outputs": [],
   "source": [
    "hue_order = df.groupby('Year')['Your Rating'].count().sort_values().index"
   ]
  },
  {
   "cell_type": "code",
   "execution_count": 111,
   "id": "367f6407",
   "metadata": {},
   "outputs": [],
   "source": [
    "possible_ratings = list(range(10, 0, -1))\n",
    "colors = sns.color_palette(\"coolwarm_r\", n_colors=len(possible_ratings))\n",
    "palette = {r: c for r, c in zip(possible_ratings, colors)}"
   ]
  },
  {
   "cell_type": "code",
   "execution_count": 120,
   "id": "1ddf9766",
   "metadata": {},
   "outputs": [],
   "source": [
    "palette[10] = (1, 1, 0)"
   ]
  },
  {
   "cell_type": "code",
   "execution_count": 121,
   "id": "dd189118",
   "metadata": {},
   "outputs": [
    {
     "data": {
      "text/plain": [
       "{10: (1, 1, 0),\n",
       " 9: (0.9182816725843137, 0.48417347218039214, 0.37779392507058823),\n",
       " 8: (0.963806056435294, 0.6341884145294118, 0.5137208491529413),\n",
       " 7: (0.9616447383764706, 0.7580291825411765, 0.6617823791647058),\n",
       " 6: (0.9094595977529412, 0.8393864797647058, 0.8003313524235294),\n",
       " 5: (0.8180564934117647, 0.8555896775450981, 0.9146376165490196),\n",
       " 4: (0.7087196897176471, 0.8057213889294117, 0.9811168090470588),\n",
       " 3: (0.5814861481882353, 0.7134505955294117, 0.9983143529411764),\n",
       " 2: (0.4570464785254902, 0.5940055499294118, 0.963029229690196),\n",
       " 1: (0.3383765114431373, 0.45281860883137254, 0.8793170768784313)}"
      ]
     },
     "execution_count": 121,
     "metadata": {},
     "output_type": "execute_result"
    }
   ],
   "source": [
    "palette"
   ]
  },
  {
   "cell_type": "code",
   "execution_count": 122,
   "id": "0e3b0c7d",
   "metadata": {},
   "outputs": [
    {
     "data": {
      "text/plain": [
       "<AxesSubplot:xlabel='Year', ylabel='Count'>"
      ]
     },
     "execution_count": 122,
     "metadata": {},
     "output_type": "execute_result"
    },
    {
     "data": {
      "image/png": "[encoded data removed]",
      "text/plain": [
       "<Figure size 1080x504 with 1 Axes>"
      ]
     },
     "metadata": {},
     "output_type": "display_data"
    }
   ],
   "source": [
    "sns.histplot(\n",
    "    df,\n",
    "    x=\"Year\", hue=\"Your Rating\",\n",
    "    multiple=\"stack\",\n",
    "    hue_order=possible_ratings,\n",
    "    binwidth=1,\n",
    "    palette=palette,\n",
    "    edgecolor=\".3\",\n",
    "    linewidth=.5,\n",
    ")"
   ]
  },
  {
   "cell_type": "markdown",
   "id": "28dd8011",
   "metadata": {},
   "source": [
    "## per decade"
   ]
  },
  {
   "cell_type": "code",
   "execution_count": 123,
   "id": "25b335c8",
   "metadata": {},
   "outputs": [
    {
     "data": {
      "text/plain": [
       "(1933, 2023)"
      ]
     },
     "execution_count": 123,
     "metadata": {},
     "output_type": "execute_result"
    }
   ],
   "source": [
    "df.Year.min(), df.Year.max()"
   ]
  },
  {
   "cell_type": "code",
   "execution_count": 126,
   "id": "50f71f94",
   "metadata": {},
   "outputs": [
    {
     "data": {
      "text/plain": [
       "[1933, 1943, 1953, 1963, 1973, 1983, 1993, 2003, 2013, 2023]"
      ]
     },
     "execution_count": 126,
     "metadata": {},
     "output_type": "execute_result"
    }
   ],
   "source": [
    "years_bins = range(1933, 2024, 10)\n",
    "list(years_bins)"
   ]
  },
  {
   "cell_type": "code",
   "execution_count": 129,
   "id": "2f07ebea",
   "metadata": {},
   "outputs": [
    {
     "data": {
      "text/plain": [
       "<AxesSubplot:xlabel='Year', ylabel='Count'>"
      ]
     },
     "execution_count": 129,
     "metadata": {},
     "output_type": "execute_result"
    },
    {
     "data": {
      "image/png": "[encoded data removed]",
      "text/plain": [
       "<Figure size 1080x504 with 1 Axes>"
      ]
     },
     "metadata": {},
     "output_type": "display_data"
    }
   ],
   "source": [
    "plt.xticks(years_bins)\n",
    "sns.histplot(\n",
    "    df,\n",
    "    x=\"Year\", hue=\"Your Rating\",\n",
    "    multiple=\"stack\",\n",
    "    hue_order=possible_ratings,\n",
    "    bins=years_bins,\n",
    "    palette=palette,\n",
    "    edgecolor=\".3\",\n",
    "    linewidth=.5,\n",
    ")"
   ]
  },
  {
   "cell_type": "code",
   "execution_count": 134,
   "id": "19cd4553",
   "metadata": {},
   "outputs": [
    {
     "data": {
      "text/plain": [
       "<AxesSubplot:xlabel='Year', ylabel='Count'>"
      ]
     },
     "execution_count": 134,
     "metadata": {},
     "output_type": "execute_result"
    },
    {
     "data": {
      "image/png": "[encoded data removed]",
      "text/plain": [
       "<Figure size 1080x504 with 1 Axes>"
      ]
     },
     "metadata": {},
     "output_type": "display_data"
    }
   ],
   "source": [
    "plt.xticks(years_bins)\n",
    "sns.histplot(\n",
    "    df[df[\"Your Rating\"] == 10],\n",
    "    x=\"Year\", hue=\"Your Rating\",\n",
    "    multiple=\"stack\",\n",
    "    hue_order=possible_ratings,\n",
    "    binwidth=1,\n",
    "    palette=palette,\n",
    "    edgecolor=\".3\",\n",
    "    linewidth=.5,\n",
    ")\n"
   ]
  },
  {
   "cell_type": "code",
   "execution_count": 135,
   "id": "c8d5ba10",
   "metadata": {},
   "outputs": [
    {
     "data": {
      "text/plain": [
       "<AxesSubplot:xlabel='Year', ylabel='Count'>"
      ]
     },
     "execution_count": 135,
     "metadata": {},
     "output_type": "execute_result"
    },
    {
     "data": {
      "image/png": "[encoded data removed]",
      "text/plain": [
       "<Figure size 1080x504 with 1 Axes>"
      ]
     },
     "metadata": {},
     "output_type": "display_data"
    }
   ],
   "source": [
    "plt.xticks(years_bins)\n",
    "sns.histplot(\n",
    "    df[df[\"Your Rating\"] == 9],\n",
    "    x=\"Year\", hue=\"Your Rating\",\n",
    "    multiple=\"stack\",\n",
    "    hue_order=possible_ratings,\n",
    "    binwidth=1,\n",
    "    palette=palette,\n",
    "    edgecolor=\".3\",\n",
    "    linewidth=.5,\n",
    ")\n"
   ]
  },
  {
   "cell_type": "markdown",
   "id": "ee86f446",
   "metadata": {},
   "source": [
    "# Genres"
   ]
  },
  {
   "cell_type": "code",
   "execution_count": 275,
   "id": "29d9ef59",
   "metadata": {},
   "outputs": [
    {
     "data": {
      "text/html": [
       "<div>\n",
       "<style scoped>\n",
       "    .dataframe tbody tr th:only-of-type {\n",
       "        vertical-align: middle;\n",
       "    }\n",
       "\n",
       "    .dataframe tbody tr th {\n",
       "        vertical-align: top;\n",
       "    }\n",
       "\n",
       "    .dataframe thead th {\n",
       "        text-align: right;\n",
       "    }\n",
       "</style>\n",
       "<table border=\"1\" class=\"dataframe\">\n",
       "  <thead>\n",
       "    <tr style=\"text-align: right;\">\n",
       "      <th></th>\n",
       "      <th>Genres</th>\n",
       "    </tr>\n",
       "  </thead>\n",
       "  <tbody>\n",
       "    <tr>\n",
       "      <th>0</th>\n",
       "      <td>Drama</td>\n",
       "    </tr>\n",
       "    <tr>\n",
       "      <th>1</th>\n",
       "      <td>Crime, Drama</td>\n",
       "    </tr>\n",
       "    <tr>\n",
       "      <th>2</th>\n",
       "      <td>Action, Crime, Drama, Thriller</td>\n",
       "    </tr>\n",
       "    <tr>\n",
       "      <th>3</th>\n",
       "      <td>Drama</td>\n",
       "    </tr>\n",
       "    <tr>\n",
       "      <th>4</th>\n",
       "      <td>Action, Adventure, Sci-Fi, Thriller</td>\n",
       "    </tr>\n",
       "    <tr>\n",
       "      <th>5</th>\n",
       "      <td>Action, Sci-Fi</td>\n",
       "    </tr>\n",
       "    <tr>\n",
       "      <th>6</th>\n",
       "      <td>Crime, Drama, Mystery, Thriller</td>\n",
       "    </tr>\n",
       "    <tr>\n",
       "      <th>7</th>\n",
       "      <td>Crime, Drama, Thriller</td>\n",
       "    </tr>\n",
       "    <tr>\n",
       "      <th>8</th>\n",
       "      <td>Crime, Drama, Mystery, Thriller</td>\n",
       "    </tr>\n",
       "    <tr>\n",
       "      <th>9</th>\n",
       "      <td>Action, Sci-Fi</td>\n",
       "    </tr>\n",
       "  </tbody>\n",
       "</table>\n",
       "</div>"
      ],
      "text/plain": [
       "                                Genres\n",
       "0                                Drama\n",
       "1                         Crime, Drama\n",
       "2       Action, Crime, Drama, Thriller\n",
       "3                                Drama\n",
       "4  Action, Adventure, Sci-Fi, Thriller\n",
       "5                       Action, Sci-Fi\n",
       "6      Crime, Drama, Mystery, Thriller\n",
       "7               Crime, Drama, Thriller\n",
       "8      Crime, Drama, Mystery, Thriller\n",
       "9                       Action, Sci-Fi"
      ]
     },
     "execution_count": 275,
     "metadata": {},
     "output_type": "execute_result"
    }
   ],
   "source": [
    "df[['Genres']].head(10)"
   ]
  },
  {
   "cell_type": "code",
   "execution_count": 281,
   "id": "fcc4322c",
   "metadata": {},
   "outputs": [],
   "source": [
    "from collections import Counter\n",
    "\n",
    "all_genres = [g for gs in df['Genres'].values for g in str(gs).split(', ')]\n",
    "genre_frequencies = Counter(all_genres)"
   ]
  },
  {
   "cell_type": "code",
   "execution_count": 321,
   "id": "47619402",
   "metadata": {},
   "outputs": [
    {
     "data": {
      "text/plain": [
       "{'Drama': 568,\n",
       " 'Crime': 132,\n",
       " 'Action': 131,\n",
       " 'Thriller': 199,\n",
       " 'Adventure': 148,\n",
       " 'Sci-Fi': 127,\n",
       " 'Mystery': 131,\n",
       " 'Animation': 95,\n",
       " 'Family': 88,\n",
       " 'Fantasy': 125,\n",
       " 'Comedy': 238,\n",
       " 'Romance': 174,\n",
       " 'Biography': 62,\n",
       " 'History': 24,\n",
       " 'Western': 8,\n",
       " 'Music': 28,\n",
       " 'Musical': 25,\n",
       " 'Sport': 5,\n",
       " 'War': 25,\n",
       " 'Horror': 35,\n",
       " 'Short': 4,\n",
       " 'Documentary': 21,\n",
       " 'Film-Noir': 3,\n",
       " 'nan': 1,\n",
       " 'News': 1}"
      ]
     },
     "execution_count": 321,
     "metadata": {},
     "output_type": "execute_result"
    }
   ],
   "source": [
    "dict(genre_frequencies)"
   ]
  },
  {
   "cell_type": "code",
   "execution_count": 327,
   "id": "cb1a2391",
   "metadata": {},
   "outputs": [
    {
     "data": {
      "image/png": "[encoded data removed]",
      "text/plain": [
       "<Figure size 1080x504 with 1 Axes>"
      ]
     },
     "metadata": {},
     "output_type": "display_data"
    }
   ],
   "source": [
    "sns.histplot(all_genres)\n",
    "_ = plt.xticks(rotation=90)"
   ]
  },
  {
   "cell_type": "code",
   "execution_count": 330,
   "id": "44170a47",
   "metadata": {},
   "outputs": [
    {
     "data": {
      "text/plain": [
       "['Crime, Drama',\n",
       " 'Action, Crime, Drama, Thriller',\n",
       " 'Action, Adventure, Sci-Fi, Thriller',\n",
       " 'Action, Sci-Fi',\n",
       " 'Crime, Drama, Mystery, Thriller',\n",
       " 'Crime, Drama, Thriller',\n",
       " 'Crime, Drama, Mystery, Thriller',\n",
       " 'Action, Sci-Fi',\n",
       " 'Mystery, Thriller',\n",
       " 'Animation, Adventure, Family, Fantasy, Mystery',\n",
       " 'Adventure, Comedy, Sci-Fi',\n",
       " 'Drama, Romance, Sci-Fi',\n",
       " 'Drama, Mystery, Sci-Fi, Thriller',\n",
       " 'Action, Adventure, Drama',\n",
       " 'Drama, Mystery, Thriller',\n",
       " 'Animation, Action, Adventure, Fantasy',\n",
       " 'Animation, Adventure, Comedy, Drama, Family',\n",
       " 'Comedy, Drama, Romance',\n",
       " 'Biography, Drama, History',\n",
       " 'Drama, Thriller',\n",
       " 'Drama, Mystery, Sci-Fi, Thriller',\n",
       " 'Animation, Action, Adventure, Comedy, Family, Fantasy',\n",
       " 'Action, Drama, Sci-Fi, Thriller',\n",
       " 'Animation, Adventure, Comedy, Family',\n",
       " 'Drama, Romance',\n",
       " 'Crime, Drama, Mystery, Thriller',\n",
       " 'Comedy, Drama, Romance',\n",
       " 'Animation, Adventure, Drama, Family, Fantasy',\n",
       " 'Animation, Adventure, Comedy, Family',\n",
       " 'Comedy, Drama',\n",
       " 'Animation, Adventure, Comedy, Family, Fantasy, Romance',\n",
       " 'Animation, Adventure, Comedy, Family, Fantasy, Romance',\n",
       " 'Crime, Drama, Mystery, Thriller',\n",
       " 'Comedy, Drama',\n",
       " 'Crime, Drama, Thriller',\n",
       " 'Drama, Mystery, Thriller',\n",
       " 'Drama, Sci-Fi, Thriller',\n",
       " 'Action, Adventure, Fantasy',\n",
       " 'Action, Adventure, Fantasy',\n",
       " 'Action, Adventure, Fantasy',\n",
       " 'Animation, Action, Adventure, Comedy, Family, Western',\n",
       " 'Animation, Adventure, Comedy, Family, Fantasy, Mystery, Romance',\n",
       " 'Drama, Thriller',\n",
       " 'Animation, Adventure, Comedy, Family, Music, Musical',\n",
       " 'Animation, Adventure, Comedy, Crime, Drama, Family, Sci-Fi',\n",
       " 'Animation, Adventure, Comedy, Family',\n",
       " 'Animation, Action, Adventure, Comedy, Drama, Family, Romance',\n",
       " 'Animation, Adventure, Comedy, Family, Fantasy',\n",
       " 'Action, Drama, Sci-Fi, Sport',\n",
       " 'Action, Drama, Mystery, Sci-Fi, Thriller',\n",
       " 'Action, Drama',\n",
       " 'Adventure, Family, Fantasy, Mystery',\n",
       " 'Adventure, Family, Fantasy, Mystery',\n",
       " 'Action, Adventure, Family, Fantasy, Mystery',\n",
       " 'Adventure, Family, Fantasy',\n",
       " 'Adventure, Family, Fantasy, Mystery',\n",
       " 'Action, Adventure, Family, Fantasy, Mystery',\n",
       " 'Adventure, Family, Fantasy, Mystery',\n",
       " 'Adventure, Family, Fantasy, Mystery',\n",
       " 'Drama, Thriller',\n",
       " 'Sci-Fi, Thriller',\n",
       " 'Drama, Mystery, Thriller',\n",
       " 'Drama, Romance, Thriller',\n",
       " 'Crime, Drama, Mystery, Thriller',\n",
       " 'Biography, Drama',\n",
       " 'Biography, Drama, Romance',\n",
       " 'Biography, Drama',\n",
       " 'Biography, Drama',\n",
       " 'Drama, Romance',\n",
       " 'Comedy, Drama, Family',\n",
       " 'Action, Adventure, Drama, History, War',\n",
       " 'Biography, Drama, Sport',\n",
       " 'Comedy, Fantasy, Romance',\n",
       " 'Adventure, Drama, Family, Fantasy, Mystery',\n",
       " 'Action, Adventure, Mystery',\n",
       " 'Action, Mystery, Thriller',\n",
       " 'Action, Mystery, Thriller',\n",
       " 'Mystery, Thriller',\n",
       " 'Crime, Horror, Mystery, Thriller',\n",
       " 'Mystery, Thriller',\n",
       " 'Action, Adventure, Sci-Fi, Thriller',\n",
       " 'Adventure, Drama, Mystery',\n",
       " 'Drama, Fantasy',\n",
       " 'Drama, Romance',\n",
       " 'Comedy, Romance',\n",
       " 'Drama, Sci-Fi',\n",
       " 'Biography, Drama, Romance',\n",
       " 'Comedy, Drama',\n",
       " 'Drama, Mystery',\n",
       " 'Drama, Sci-Fi, Thriller',\n",
       " 'Mystery, Thriller',\n",
       " 'Animation, Drama, Fantasy, Mystery',\n",
       " 'Action, Comedy, Crime, Drama',\n",
       " 'Animation, Action, Adventure, Drama, Family, Romance, War',\n",
       " 'Adventure, Drama, Romance',\n",
       " 'Animation, Adventure, Comedy, Crime, Family, Sci-Fi',\n",
       " 'Comedy, Crime, Mystery, Thriller',\n",
       " 'Animation, Adventure, Family, Sci-Fi',\n",
       " 'Action, Sci-Fi, Thriller',\n",
       " 'Animation, Action, Adventure, Comedy, Drama, Romance, Sci-Fi',\n",
       " 'Animation, Action, Comedy, Crime, Family, Mystery, Sci-Fi, Thriller',\n",
       " 'Animation, Drama, Romance, Sci-Fi',\n",
       " 'Drama, Romance',\n",
       " 'Biography, Crime, Drama',\n",
       " 'Animation, Action, Adventure, Drama, Fantasy, Sci-Fi, Thriller',\n",
       " 'Animation, Action, Crime, Drama, Mystery, Sci-Fi, Thriller',\n",
       " 'Animation, Adventure, Comedy, Family, Fantasy',\n",
       " 'Drama, Family',\n",
       " 'Comedy, Drama',\n",
       " 'Comedy, Drama, Romance',\n",
       " 'Comedy, Drama, Fantasy, Romance',\n",
       " 'Comedy, Drama, Romance',\n",
       " 'Comedy, Drama',\n",
       " 'Comedy, Drama',\n",
       " 'Comedy, Drama, Romance',\n",
       " 'Comedy, Drama',\n",
       " 'Crime, Drama, Mystery, Thriller',\n",
       " 'Comedy, Drama',\n",
       " 'Drama, Sport',\n",
       " 'Biography, Crime, Drama',\n",
       " 'Crime, Drama',\n",
       " 'Crime, Drama, Thriller',\n",
       " 'Crime, Drama',\n",
       " 'Action, Adventure, Fantasy',\n",
       " 'Action, Adventure, Sci-Fi',\n",
       " 'Action, Sci-Fi',\n",
       " 'Drama, Romance',\n",
       " 'Drama, Romance',\n",
       " 'Drama, Romance',\n",
       " 'Biography, Drama',\n",
       " 'Biography, Drama, Sport',\n",
       " 'Biography, Drama',\n",
       " 'Drama, Fantasy, Romance',\n",
       " 'Comedy, Drama',\n",
       " 'Animation, Adventure, Comedy, Family, Fantasy, Musical, Romance',\n",
       " 'Animation, Adventure, Comedy, Family, Fantasy',\n",
       " 'Animation, Action, Adventure, Comedy, Family, Fantasy',\n",
       " 'Animation, Drama, Sci-Fi, Thriller',\n",
       " 'Drama, Thriller',\n",
       " 'Adventure, Family, Fantasy',\n",
       " 'Action, Adventure, Comedy, Family, Sci-Fi',\n",
       " 'Adventure, Biography, Drama',\n",
       " 'Comedy, Drama, Romance',\n",
       " 'Action, Crime, Drama',\n",
       " 'Adventure, Comedy, Family, Fantasy',\n",
       " 'Animation, Action, Adventure, Family, Fantasy, Sci-Fi',\n",
       " 'Action, Thriller',\n",
       " 'Action, Crime, Thriller',\n",
       " 'Biography, Drama, Romance',\n",
       " 'Comedy, Drama',\n",
       " 'Action, Crime, Drama, Thriller',\n",
       " 'Comedy, Drama, Romance',\n",
       " 'Drama, Horror, Mystery, Sci-Fi, Thriller',\n",
       " 'Drama, Romance',\n",
       " 'Comedy, Drama, Fantasy',\n",
       " 'Drama, Romance',\n",
       " 'Biography, Drama',\n",
       " 'Biography, Drama, Music, Romance',\n",
       " 'Crime, Drama, History, Thriller',\n",
       " 'Animation, Action, Drama, Fantasy, Sci-Fi, Thriller',\n",
       " 'Animation, Drama, Fantasy, Mystery, Sci-Fi, Thriller',\n",
       " 'Action, Adventure, Fantasy, Sci-Fi',\n",
       " 'Drama, Romance',\n",
       " 'Comedy, Romance',\n",
       " 'Crime, Mystery, Thriller',\n",
       " 'Crime, Drama, Romance',\n",
       " 'Animation, Drama, Family, Romance',\n",
       " 'Drama, Mystery, Thriller',\n",
       " 'Drama, Mystery, Thriller',\n",
       " 'Drama, Family',\n",
       " 'Mystery, Sci-Fi, Thriller',\n",
       " 'Action, Adventure, Sci-Fi',\n",
       " 'Crime, Drama',\n",
       " 'Drama, Mystery, Sci-Fi',\n",
       " 'Comedy, Romance',\n",
       " 'Drama, Fantasy, Mystery, Romance, Thriller',\n",
       " 'Action, Drama, Sci-Fi, Thriller',\n",
       " 'Action, Drama, Thriller',\n",
       " 'Comedy, Crime',\n",
       " 'Animation, Short, Comedy, Fantasy, Horror',\n",
       " 'Crime, Drama, Thriller',\n",
       " 'Action, Crime, Thriller',\n",
       " 'Biography, Comedy, Drama',\n",
       " 'Crime, Drama, Thriller',\n",
       " 'Crime, Mystery, Thriller',\n",
       " 'Drama, Music',\n",
       " 'Comedy, Drama, Romance',\n",
       " 'Crime, Drama, Thriller',\n",
       " 'Biography, Drama, Music',\n",
       " 'Drama, Western',\n",
       " 'Drama, History',\n",
       " 'Animation, Crime, Drama, Mystery, Thriller',\n",
       " 'Crime, Horror, Mystery, Thriller',\n",
       " 'Comedy, Music, Romance',\n",
       " 'Comedy, Drama',\n",
       " 'Action, Adventure, Sci-Fi',\n",
       " 'Crime, Drama',\n",
       " 'Drama, Fantasy, Romance, Sci-Fi',\n",
       " 'Animation, Drama, War',\n",
       " 'Animation, Drama, War',\n",
       " 'Comedy, Drama',\n",
       " 'Drama, Thriller',\n",
       " 'Biography, Drama, History, War',\n",
       " 'Comedy, Drama, Romance',\n",
       " 'Drama, Musical, Romance',\n",
       " 'Action, Drama, Mystery, Thriller',\n",
       " 'Drama, Romance',\n",
       " 'Action, Crime, Drama, Thriller',\n",
       " 'Comedy, Drama, Fantasy',\n",
       " 'Biography, Drama, Romance',\n",
       " 'Mystery, Thriller',\n",
       " 'Animation, Drama, Fantasy, Romance',\n",
       " 'Crime, Drama, Mystery, Thriller',\n",
       " 'Comedy, Crime, Mystery, Thriller',\n",
       " 'Animation, Comedy, Family, Fantasy',\n",
       " 'Action, Drama, Sci-Fi, Thriller',\n",
       " 'Drama, Mystery, Romance, Sci-Fi',\n",
       " 'Fantasy, Mystery, Sci-Fi, Thriller',\n",
       " 'Action, Adventure, Drama, Fantasy',\n",
       " 'Comedy, Drama',\n",
       " 'Crime, Mystery, Thriller',\n",
       " 'Crime, Drama, Romance, Thriller',\n",
       " 'Drama, Romance, Sci-Fi',\n",
       " 'Comedy, Drama',\n",
       " 'Animation, Adventure, Comedy, Crime, Family, Sci-Fi',\n",
       " 'Animation, Adventure, Comedy',\n",
       " 'Animation, Adventure, Comedy, Drama, Family, Fantasy, Musical',\n",
       " 'Action, Drama, Sci-Fi, Thriller',\n",
       " 'Documentary, Drama',\n",
       " 'Animation, Adventure, Comedy, Family, Fantasy, Musical',\n",
       " 'Drama, Romance',\n",
       " 'Action, Crime, Mystery, Sci-Fi, Thriller',\n",
       " 'Adventure, Comedy, Crime',\n",
       " 'Adventure, Drama, War',\n",
       " 'Adventure, Sci-Fi',\n",
       " 'Comedy, Drama',\n",
       " 'Drama, Romance, Sci-Fi',\n",
       " 'Adventure, Comedy, Family, Fantasy',\n",
       " 'Comedy, Drama, Fantasy, Romance',\n",
       " 'Drama, Mystery, Thriller',\n",
       " 'Adventure, Comedy, Drama, Fantasy, Romance',\n",
       " 'Animation, Action, Adventure, Comedy, Family, Fantasy',\n",
       " 'Comedy, Drama, Fantasy, Romance',\n",
       " 'Action, Sci-Fi, Thriller',\n",
       " 'Comedy, Drama, Music, Romance',\n",
       " 'Drama, Thriller',\n",
       " 'Action, Adventure, Comedy, Sci-Fi',\n",
       " 'Biography, Drama, Thriller, War',\n",
       " 'Drama, Sci-Fi, Thriller',\n",
       " 'Comedy, Drama',\n",
       " 'Adventure, Comedy, Sci-Fi',\n",
       " 'Drama, Mystery',\n",
       " 'Action, Adventure, Comedy, Sci-Fi',\n",
       " 'Biography, Drama',\n",
       " 'Animation, Adventure, Comedy, Family, Fantasy, Sci-Fi',\n",
       " 'Comedy, Fantasy',\n",
       " 'Drama, Mystery, Thriller',\n",
       " 'Action, Drama, Sci-Fi, Thriller',\n",
       " 'Animation, Action, Adventure, Comedy, Crime, Family, Mystery, Sci-Fi',\n",
       " 'Drama, Mystery',\n",
       " 'Adventure, Drama, Sci-Fi',\n",
       " 'Crime, Drama, Mystery, Thriller',\n",
       " 'Comedy, Drama, Romance',\n",
       " 'Comedy, Drama, Thriller',\n",
       " 'Action, Adventure, Sci-Fi',\n",
       " 'Animation, Action, Adventure, Family, Fantasy, Sci-Fi',\n",
       " 'Drama, Sci-Fi, Thriller',\n",
       " 'Animation, Adventure, Mystery',\n",
       " 'Drama, Thriller',\n",
       " 'Animation, Biography, Drama, Romance, War',\n",
       " 'Drama, Music',\n",
       " 'Action, Adventure, Comedy, Thriller',\n",
       " 'Action, Adventure, Drama, Fantasy',\n",
       " 'Action, Adventure, Drama, Fantasy',\n",
       " 'Adventure, Comedy, Fantasy',\n",
       " 'Action, Adventure, Mystery',\n",
       " 'Crime, Drama, Thriller',\n",
       " 'Animation, Action, Adventure, Comedy, Family, Fantasy, Sci-Fi',\n",
       " 'Animation, Drama, Family, Fantasy',\n",
       " 'Action, Mystery, Sci-Fi, Thriller',\n",
       " 'Animation, Biography, Drama, History, War',\n",
       " 'Action, Adventure',\n",
       " 'Biography, Drama, History',\n",
       " 'Animation, Adventure, Comedy, Family, Fantasy',\n",
       " 'Animation, Adventure, Comedy, Family, Fantasy',\n",
       " 'Animation, Adventure, Comedy, Family, Fantasy',\n",
       " 'Comedy, Family, Fantasy, Musical',\n",
       " 'Biography, Drama, Family, Musical, Romance',\n",
       " 'Drama, Mystery, Romance, War',\n",
       " 'Comedy, Fantasy, Horror',\n",
       " 'Comedy, Drama, Romance',\n",
       " 'Drama, Fantasy, Mystery, Sci-Fi',\n",
       " 'Adventure, Comedy, Drama, Fantasy, Musical',\n",
       " 'Drama, Romance',\n",
       " 'Crime, Drama, Mystery, Thriller',\n",
       " 'Action, Adventure, Sci-Fi, Thriller',\n",
       " 'Action, Sci-Fi',\n",
       " 'Comedy, Drama, Romance',\n",
       " 'Drama, Romance',\n",
       " 'Comedy, Drama, Romance',\n",
       " 'Biography, Drama, Romance',\n",
       " 'Documentary, Action',\n",
       " 'Drama, Musical, Romance',\n",
       " 'Comedy, Drama, Romance',\n",
       " 'Comedy, Drama, Music',\n",
       " 'Documentary, Drama',\n",
       " 'Biography, Drama, History, Thriller',\n",
       " 'Action, Comedy, Crime, Drama',\n",
       " 'Drama, Romance, Sci-Fi',\n",
       " 'Animation, Adventure, Comedy, Drama, Family, Fantasy',\n",
       " 'Adventure, Drama, Fantasy, Romance',\n",
       " 'Drama, Romance',\n",
       " 'Comedy, Drama, Romance',\n",
       " 'Drama, Music, Romance',\n",
       " 'Crime, Drama, Mystery, Thriller',\n",
       " 'Horror, Mystery, Sci-Fi',\n",
       " 'Crime, Drama',\n",
       " 'Comedy, Drama',\n",
       " 'Drama, Romance',\n",
       " 'Drama, Romance',\n",
       " 'Biography, Crime, Drama',\n",
       " 'Drama, Thriller',\n",
       " 'Adventure, Drama, Sci-Fi',\n",
       " 'Biography, Drama',\n",
       " 'Action, Adventure, Drama, Western',\n",
       " 'Crime, Drama, Mystery, Thriller, Western',\n",
       " 'Drama, Thriller',\n",
       " 'Comedy, Drama',\n",
       " 'Biography, Drama',\n",
       " 'Comedy, Romance',\n",
       " 'Action, Comedy',\n",
       " 'Comedy, Drama',\n",
       " 'Biography, Drama, Romance',\n",
       " 'Comedy, Drama',\n",
       " 'Comedy, Drama, Sci-Fi',\n",
       " 'Drama, Mystery, Sci-Fi, Thriller',\n",
       " 'Comedy, Drama',\n",
       " 'Crime, Drama, Mystery',\n",
       " 'Comedy, Drama, Family, Romance',\n",
       " 'Comedy, Drama, Romance',\n",
       " 'Adventure, Drama, Romance',\n",
       " 'Comedy, Drama',\n",
       " 'Drama, Romance',\n",
       " 'Comedy, Romance',\n",
       " 'Adventure, Comedy, Drama',\n",
       " 'Drama, Family, Fantasy, Romance',\n",
       " 'Crime, Thriller',\n",
       " 'Crime, Drama, Film-Noir, Thriller',\n",
       " 'Adventure, Family, Fantasy, Mystery',\n",
       " 'Crime, Drama, Fantasy',\n",
       " 'Comedy, Drama, Romance',\n",
       " 'Biography, Crime, Drama',\n",
       " 'Biography, Comedy, Drama, History',\n",
       " 'Crime, Thriller',\n",
       " 'Comedy, Drama',\n",
       " 'Biography, Crime, Drama, History',\n",
       " 'Drama, Romance',\n",
       " 'Action, Adventure, Sci-Fi',\n",
       " 'Biography, Comedy, Crime, Drama',\n",
       " 'Drama, Mystery, Thriller',\n",
       " 'Drama, Music',\n",
       " 'Drama, Romance',\n",
       " 'Crime, Drama, Romance',\n",
       " 'Action, Crime, Drama, Thriller',\n",
       " 'Action, Adventure, Sci-Fi, Thriller',\n",
       " 'Drama, Romance, Sci-Fi, Thriller',\n",
       " 'Biography, Crime, Drama, Thriller',\n",
       " 'Action, Crime, Drama, Thriller',\n",
       " 'Drama, Thriller, War',\n",
       " 'Drama, Thriller',\n",
       " 'Horror, Mystery, Sci-Fi',\n",
       " 'Drama, Sci-Fi, Thriller',\n",
       " 'Drama, Horror, Mystery',\n",
       " 'Action, Mystery, Sci-Fi, Thriller',\n",
       " 'Animation, Adventure, Drama, Family, Musical',\n",
       " 'Crime, Drama, Thriller',\n",
       " 'Comedy, Crime, Drama, Mystery, Romance',\n",
       " 'Biography, Drama, Thriller',\n",
       " 'Comedy, Drama',\n",
       " 'Crime, Drama, Thriller',\n",
       " 'Animation, Drama, Fantasy',\n",
       " 'Drama, Mystery, Sci-Fi',\n",
       " 'Animation, Adventure, Comedy, Drama, Mystery, Romance',\n",
       " 'Animation, Drama, Romance',\n",
       " 'Animation, Adventure, Drama, Fantasy',\n",
       " 'Animation, Drama, Family, Mystery, Romance, Sci-Fi',\n",
       " 'Animation, Adventure, Comedy, Drama, Family, Fantasy, Mystery, Romance, Sci-Fi',\n",
       " 'Animation, Short, Drama, Romance, Sci-Fi',\n",
       " 'Drama, Mystery',\n",
       " 'Action, Adventure, Drama, Romance',\n",
       " 'Adventure, Comedy, Drama',\n",
       " 'Comedy, Drama',\n",
       " 'Comedy, Drama, Music, Musical, Romance',\n",
       " 'Animation, Drama, Fantasy, Romance',\n",
       " 'Animation, Adventure, Comedy, Crime, Family, Mystery',\n",
       " 'Comedy, Drama, Fantasy, Romance',\n",
       " 'Comedy, Drama, Romance',\n",
       " 'Drama, Thriller',\n",
       " 'Comedy, Drama, Music, Romance',\n",
       " 'Crime, Drama, Thriller, Western',\n",
       " 'Drama, Romance, Thriller',\n",
       " 'Comedy, Drama',\n",
       " 'Animation, Comedy, Family, Musical',\n",
       " 'Action, Comedy, Crime, Thriller',\n",
       " 'Drama, Thriller',\n",
       " 'Biography, Drama, History',\n",
       " 'Comedy, Drama',\n",
       " 'Animation, Adventure, Comedy, Family, Fantasy, Musical',\n",
       " 'Biography, Drama',\n",
       " 'Biography, Drama, History, War',\n",
       " 'Comedy, Drama, Romance',\n",
       " 'Adventure, Drama, Family, Fantasy, Thriller',\n",
       " 'Drama, History',\n",
       " 'Comedy, Drama, Romance',\n",
       " 'Animation, Action, Adventure, Family, Fantasy',\n",
       " 'Crime, Drama',\n",
       " 'Drama, Romance',\n",
       " 'Drama, Mystery, Sci-Fi',\n",
       " 'Comedy, Romance',\n",
       " 'Horror, Thriller',\n",
       " 'Drama, Mystery, Thriller',\n",
       " 'Drama, Thriller',\n",
       " 'Action, Sci-Fi',\n",
       " 'Comedy, Drama',\n",
       " 'Crime, Drama',\n",
       " 'Adventure, Drama, War',\n",
       " 'Drama, Sci-Fi',\n",
       " 'Drama, Fantasy',\n",
       " 'Horror, Mystery, Thriller',\n",
       " 'Action, Fantasy, Horror, Mystery',\n",
       " 'Crime, Drama',\n",
       " 'Comedy, Crime',\n",
       " 'Comedy, Drama',\n",
       " 'Comedy, Drama',\n",
       " 'Drama, Mystery, Romance',\n",
       " 'Drama, Crime',\n",
       " 'Action, Adventure, Drama, Thriller',\n",
       " 'Comedy, Romance',\n",
       " 'Crime, Drama, Fantasy, Mystery',\n",
       " 'Drama, Romance, War',\n",
       " 'Crime, Drama, Thriller',\n",
       " 'Crime, Drama, Thriller',\n",
       " 'Crime, Drama',\n",
       " 'Crime, Thriller',\n",
       " 'Crime, Drama',\n",
       " 'Crime, Drama',\n",
       " 'Mystery, Romance, Thriller',\n",
       " 'Drama, Mystery, Sci-Fi',\n",
       " 'Crime, Drama, Mystery, Thriller',\n",
       " 'Drama, Family',\n",
       " 'Crime, Drama, Mystery, Thriller',\n",
       " 'Drama, Mystery, Romance, Thriller',\n",
       " 'Drama, Romance',\n",
       " 'Drama, Romance',\n",
       " 'Horror, Mystery, Thriller',\n",
       " 'Drama, Romance',\n",
       " 'Drama, Romance',\n",
       " 'Action, Drama, History, Thriller, War',\n",
       " 'Adventure, Comedy, Family, Fantasy, Romance',\n",
       " 'Animation, Comedy, Drama, Romance',\n",
       " 'Drama, Fantasy, War',\n",
       " 'Drama, Romance',\n",
       " 'Biography, Drama, Romance, Thriller',\n",
       " 'Biography, Crime, Drama, Thriller',\n",
       " 'Drama, Horror, Mystery, Thriller',\n",
       " 'Drama, War',\n",
       " 'Documentary, Drama',\n",
       " 'Comedy, Drama, Romance',\n",
       " 'Drama, Thriller',\n",
       " 'Crime, Drama, Thriller',\n",
       " 'Action, Adventure, Drama, Sci-Fi',\n",
       " 'Comedy, Drama',\n",
       " 'Comedy, Drama, Romance',\n",
       " 'Crime, Drama, Romance, Thriller',\n",
       " 'Action, Drama, Sci-Fi, Thriller',\n",
       " 'Action, Drama, Mystery, Sci-Fi, Thriller',\n",
       " 'Comedy, Drama',\n",
       " 'Action, Adventure, Comedy, Crime, Thriller',\n",
       " 'Drama, Music, Mystery, Romance',\n",
       " 'Action, Crime, Fantasy, Mystery, Sci-Fi, Thriller',\n",
       " 'Comedy, Drama, Romance',\n",
       " 'Drama, Fantasy, Romance',\n",
       " 'Comedy, Drama',\n",
       " 'Crime, Drama, Mystery, Thriller',\n",
       " 'Comedy, Romance',\n",
       " 'Action, Drama, Sci-Fi, Thriller',\n",
       " 'Action, Adventure, Comedy, Fantasy, Sci-Fi',\n",
       " 'Mystery, Thriller',\n",
       " 'Drama, Horror, Mystery, Thriller',\n",
       " 'Drama, Fantasy',\n",
       " 'Crime, Drama',\n",
       " 'Animation, Adventure, Comedy, Family, Fantasy, Romance',\n",
       " 'Action, Adventure, Fantasy, Sci-Fi',\n",
       " 'Comedy, Drama, Romance',\n",
       " 'Drama, Music, Romance',\n",
       " 'Crime, Drama, Thriller',\n",
       " 'Crime, Sci-Fi',\n",
       " 'Drama, Horror, Mystery',\n",
       " 'Crime, Drama, Mystery',\n",
       " 'Comedy, Drama',\n",
       " 'Comedy, Crime, Drama',\n",
       " 'Biography, Drama, Musical',\n",
       " 'Drama, Fantasy, Sci-Fi',\n",
       " 'Drama, History, Romance',\n",
       " 'Animation, Adventure, Drama, Family, Fantasy, Music, Mystery',\n",
       " 'Action, Adventure, Sci-Fi',\n",
       " 'Drama, Fantasy',\n",
       " 'Drama, Fantasy, Romance',\n",
       " 'Animation, Drama, Family, Mystery',\n",
       " 'Crime, Drama, Thriller',\n",
       " 'Action, Comedy, Horror, Thriller',\n",
       " 'Action, Adventure, Sci-Fi, Thriller',\n",
       " 'Biography, Drama, History, Thriller, War',\n",
       " 'Biography, Drama, War',\n",
       " 'Action, Adventure, Fantasy, Thriller',\n",
       " 'Action, Adventure, Sci-Fi',\n",
       " 'Drama, Romance',\n",
       " 'Animation, Adventure, Comedy, Drama, Sci-Fi',\n",
       " 'Action, Adventure, Sci-Fi',\n",
       " 'Action, Drama, Thriller',\n",
       " 'Action, Comedy, Crime',\n",
       " 'Biography, Crime, Drama',\n",
       " 'Drama, Fantasy',\n",
       " 'Animation, Comedy, Crime, Drama, Mystery, Sci-Fi, Thriller',\n",
       " 'Crime, Drama, Mystery, Thriller',\n",
       " 'Action, Adventure, Comedy, Sci-Fi',\n",
       " 'Action, Drama, Thriller, War',\n",
       " 'Comedy, Drama, Mystery',\n",
       " 'Animation, Action, Adventure, Family',\n",
       " 'Drama, Horror, Sci-Fi',\n",
       " 'Comedy, Drama',\n",
       " 'Animation, Action, Adventure, Comedy, Family, Sci-Fi',\n",
       " 'Crime, Drama, Thriller',\n",
       " 'Action, Adventure, Comedy, Crime, Thriller',\n",
       " 'Crime, Drama, Thriller',\n",
       " 'Action, Adventure, Thriller',\n",
       " 'Comedy, Drama, Fantasy, Romance, Sci-Fi',\n",
       " 'Crime, Drama, Mystery, Thriller',\n",
       " 'Comedy, Drama',\n",
       " 'Crime, Drama, Mystery, Thriller',\n",
       " 'Animation, Drama',\n",
       " 'Comedy, Musical',\n",
       " 'Horror, Mystery, Thriller',\n",
       " 'Biography, Crime, Drama, Thriller',\n",
       " 'Biography, Comedy, Crime, Drama',\n",
       " 'Action, Comedy, Fantasy, Romance',\n",
       " 'Comedy, Crime, Drama, Thriller',\n",
       " 'Drama, Mystery, Thriller',\n",
       " 'Drama, Fantasy, Mystery, Sci-Fi, Thriller',\n",
       " 'Crime, Drama, Thriller',\n",
       " 'Comedy, Drama',\n",
       " 'Animation, Action, Drama, Sci-Fi',\n",
       " 'Biography, Comedy, Drama, History',\n",
       " 'Comedy, Drama, Musical, Mystery, Romance, Western',\n",
       " 'Biography, Drama, Music',\n",
       " 'Horror, Mystery, Thriller',\n",
       " 'Comedy, Drama, Romance',\n",
       " 'Biography, Comedy, Drama',\n",
       " 'Short, Comedy, Horror',\n",
       " 'Biography, Drama, Romance, Thriller, War',\n",
       " 'Comedy, Drama',\n",
       " 'Horror, Mystery',\n",
       " 'Documentary, Biography',\n",
       " 'Crime, Drama, Romance, Thriller',\n",
       " 'Drama, Music, Romance',\n",
       " 'Drama, Horror, Mystery, Thriller',\n",
       " 'Comedy, Drama',\n",
       " 'Adventure, Drama, Mystery, Sci-Fi, Thriller',\n",
       " 'Drama, Horror',\n",
       " 'Crime, Drama, Thriller',\n",
       " 'Drama, Thriller',\n",
       " 'Comedy, Crime',\n",
       " 'Drama, Romance',\n",
       " 'Comedy, Drama',\n",
       " 'Drama, Crime',\n",
       " 'Drama, Romance',\n",
       " 'Drama, Family',\n",
       " 'Animation, Adventure, Comedy, Family, Fantasy',\n",
       " 'Crime, Drama, Romance, Thriller',\n",
       " 'Crime, Drama, Thriller',\n",
       " 'Drama, Music',\n",
       " 'Drama, War',\n",
       " 'Comedy, Crime, Drama, Thriller',\n",
       " 'Crime, Drama, Thriller',\n",
       " 'Action, Crime, Comedy, Drama',\n",
       " 'Documentary, History',\n",
       " 'Crime, Drama',\n",
       " 'Animation, Family, Fantasy, Musical, Romance',\n",
       " 'Comedy, Family',\n",
       " 'Documentary, Biography',\n",
       " 'Animation, Comedy, Drama',\n",
       " 'Animation, Comedy, Family, Romance, Sci-Fi',\n",
       " 'Documentary, History, News',\n",
       " 'Drama, Romance, Sport',\n",
       " 'Drama, Romance',\n",
       " 'Crime, Drama, Mystery, Thriller',\n",
       " 'Comedy, Drama, Romance',\n",
       " 'Drama, Mystery',\n",
       " 'Drama, Sci-Fi',\n",
       " 'Drama, Sci-Fi',\n",
       " 'Drama, Romance',\n",
       " 'Action, Sci-Fi, Thriller',\n",
       " 'Action, Adventure, Fantasy, Sci-Fi',\n",
       " 'Action, Adventure, Fantasy, Sci-Fi',\n",
       " 'Animation, Drama, Fantasy, Romance',\n",
       " 'Drama, Western',\n",
       " 'Comedy, Crime, Drama, Mystery, Thriller',\n",
       " 'Drama, Thriller',\n",
       " 'Documentary, Drama',\n",
       " 'Action, Adventure, Drama, Sci-Fi',\n",
       " 'Drama, Romance',\n",
       " 'Action, Comedy, Drama, Sci-Fi',\n",
       " 'Drama, Thriller',\n",
       " 'Biography, Drama',\n",
       " 'Drama, Film-Noir',\n",
       " 'Comedy, Musical',\n",
       " 'Comedy, War',\n",
       " 'Animation, Adventure, Drama, Fantasy, Mystery, Sci-Fi',\n",
       " 'Drama, Music',\n",
       " 'Comedy, Drama',\n",
       " 'Documentary, Comedy',\n",
       " 'Action, Fantasy, Thriller',\n",
       " 'Comedy, Drama',\n",
       " 'Comedy, Drama, Romance',\n",
       " 'Short, Drama',\n",
       " 'Comedy, Drama, Romance',\n",
       " 'Drama, Sci-Fi',\n",
       " 'Drama, Romance',\n",
       " 'Comedy, Crime, Drama, Thriller',\n",
       " 'Fantasy, Horror',\n",
       " 'Comedy, Crime, Musical',\n",
       " 'Drama, Romance',\n",
       " 'Comedy, Drama, Music, Musical',\n",
       " 'Drama, Music, Musical, Romance',\n",
       " 'Fantasy, Horror, Mystery, Thriller',\n",
       " 'Comedy, Sci-Fi',\n",
       " 'Film-Noir, Mystery, Thriller',\n",
       " 'Adventure, Family, Fantasy, Musical',\n",
       " 'Drama, Romance',\n",
       " 'Drama, Mystery, Sci-Fi, Thriller',\n",
       " 'Drama, Music',\n",
       " 'Comedy, Fantasy',\n",
       " 'Drama, Romance',\n",
       " 'Comedy, Drama, Music',\n",
       " 'Drama, Romance',\n",
       " 'Comedy, Drama',\n",
       " 'Drama, Music',\n",
       " 'Adventure, Drama, War',\n",
       " 'Documentary, Music',\n",
       " 'Animation, Action, Adventure, Comedy, Family, Fantasy, Musical, Sci-Fi',\n",
       " 'Documentary, Biography',\n",
       " 'Action, Drama, Thriller',\n",
       " 'Action, Adventure, Thriller',\n",
       " 'Crime, Drama, Mystery, Thriller',\n",
       " 'Action, Adventure, Drama, Sci-Fi',\n",
       " 'Horror, Thriller',\n",
       " 'Comedy, Drama, Romance',\n",
       " 'Action, Adventure, Comedy, Fantasy, Horror, Sci-Fi, Thriller',\n",
       " 'Biography, Crime, Drama',\n",
       " 'Comedy, Drama, Romance',\n",
       " 'Drama, Romance',\n",
       " 'Documentary, Animation, Biography, Drama',\n",
       " 'Drama, Western',\n",
       " 'Comedy, Crime',\n",
       " 'Biography, Drama',\n",
       " 'Comedy, Sci-Fi',\n",
       " 'Animation, Comedy, Family, Fantasy, Musical',\n",
       " 'Comedy, Drama, Music',\n",
       " 'Drama, Fantasy',\n",
       " 'Drama, Romance',\n",
       " 'Comedy, Romance',\n",
       " 'Action, Adventure, Comedy, Fantasy, Sci-Fi',\n",
       " 'Comedy, Drama',\n",
       " 'Drama, Thriller',\n",
       " 'Documentary, History, Music',\n",
       " 'Comedy, Romance',\n",
       " 'Drama, History',\n",
       " 'Comedy, Drama',\n",
       " 'Drama, Horror, Romance',\n",
       " 'Comedy, Horror, Thriller',\n",
       " 'Biography, Drama, History',\n",
       " 'Comedy, Drama',\n",
       " 'Action, Drama',\n",
       " 'Action, Adventure, Fantasy, Sci-Fi',\n",
       " 'Horror, Sci-Fi, Thriller',\n",
       " 'Drama, Romance',\n",
       " 'Crime, Drama, Mystery, Romance, Thriller',\n",
       " 'Comedy, Drama',\n",
       " 'Comedy, Drama, History',\n",
       " 'Comedy, Romance',\n",
       " 'Drama, Music',\n",
       " 'Animation, Adventure, Comedy, Family',\n",
       " 'Drama, Romance',\n",
       " 'Action, Drama, War',\n",
       " 'Horror, Mystery, Thriller',\n",
       " 'Animation, Drama, Fantasy, Romance',\n",
       " 'Animation, Adventure, Comedy, Family, Fantasy',\n",
       " 'Drama, Horror, Mystery, Thriller',\n",
       " 'Biography, Drama, History, Romance',\n",
       " 'Drama, Romance',\n",
       " 'Animation, Action, Adventure, Fantasy',\n",
       " 'Animation, Action, Adventure, Comedy, Family, Fantasy, Sci-Fi',\n",
       " 'Crime, Drama, Horror',\n",
       " 'Animation, Action, Adventure, Family, Fantasy, Sci-Fi',\n",
       " 'Adventure, Family, Fantasy, Musical, Romance',\n",
       " 'Action, Adventure, Comedy, Fantasy',\n",
       " 'Action, Adventure']"
      ]
     },
     "execution_count": 330,
     "metadata": {},
     "output_type": "execute_result"
    }
   ],
   "source": [
    "multi_genre_list = [g for g in df['Genres'].values if ', ' in str(g)]\n",
    "multi_genre_list"
   ]
  },
  {
   "cell_type": "code",
   "execution_count": 332,
   "id": "4affd8f1",
   "metadata": {},
   "outputs": [
    {
     "data": {
      "text/plain": [
       "[('Comedy, Drama', 47),\n",
       " ('Drama, Romance', 42),\n",
       " ('Comedy, Drama, Romance', 30),\n",
       " ('Crime, Drama, Thriller', 20),\n",
       " ('Crime, Drama, Mystery, Thriller', 18),\n",
       " ('Drama, Thriller', 18),\n",
       " ('Crime, Drama', 14),\n",
       " ('Biography, Drama', 12),\n",
       " ('Comedy, Romance', 11),\n",
       " ('Drama, Mystery, Thriller', 10),\n",
       " ('Animation, Adventure, Comedy, Family, Fantasy', 8),\n",
       " ('Action, Adventure, Sci-Fi', 8),\n",
       " ('Drama, Music', 8),\n",
       " ('Action, Drama, Sci-Fi, Thriller', 7),\n",
       " ('Mystery, Thriller', 6),\n",
       " ('Adventure, Family, Fantasy, Mystery', 6),\n",
       " ('Biography, Drama, Romance', 6),\n",
       " ('Drama, Fantasy', 6),\n",
       " ('Biography, Crime, Drama', 6),\n",
       " ('Action, Crime, Drama, Thriller', 5),\n",
       " ('Action, Adventure, Sci-Fi, Thriller', 5),\n",
       " ('Action, Sci-Fi', 5),\n",
       " ('Drama, Sci-Fi, Thriller', 5),\n",
       " ('Drama, Sci-Fi', 5),\n",
       " ('Drama, Mystery', 5),\n",
       " ('Action, Adventure, Fantasy, Sci-Fi', 5),\n",
       " ('Horror, Mystery, Thriller', 5),\n",
       " ('Drama, Romance, Sci-Fi', 4),\n",
       " ('Drama, Mystery, Sci-Fi, Thriller', 4),\n",
       " ('Biography, Drama, History', 4),\n",
       " ('Animation, Adventure, Comedy, Family', 4),\n",
       " ('Action, Adventure, Fantasy', 4),\n",
       " ('Drama, Family', 4),\n",
       " ('Comedy, Drama, Fantasy, Romance', 4),\n",
       " ('Drama, Mystery, Sci-Fi', 4),\n",
       " ('Comedy, Crime', 4),\n",
       " ('Animation, Drama, Fantasy, Romance', 4),\n",
       " ('Crime, Drama, Romance, Thriller', 4),\n",
       " ('Documentary, Drama', 4),\n",
       " ('Drama, Horror, Mystery, Thriller', 4),\n",
       " ('Animation, Action, Adventure, Comedy, Family, Fantasy', 3),\n",
       " ('Animation, Adventure, Comedy, Family, Fantasy, Romance', 3),\n",
       " ('Action, Sci-Fi, Thriller', 3),\n",
       " ('Drama, Fantasy, Romance', 3),\n",
       " ('Animation, Action, Adventure, Family, Fantasy, Sci-Fi', 3),\n",
       " ('Crime, Mystery, Thriller', 3),\n",
       " ('Action, Drama, Thriller', 3),\n",
       " ('Drama, Western', 3),\n",
       " ('Drama, History', 3),\n",
       " ('Action, Adventure, Drama, Fantasy', 3),\n",
       " ('Adventure, Drama, War', 3),\n",
       " ('Action, Adventure, Comedy, Sci-Fi', 3),\n",
       " ('Comedy, Drama, Music', 3),\n",
       " ('Drama, Music, Romance', 3),\n",
       " ('Crime, Thriller', 3),\n",
       " ('Biography, Crime, Drama, Thriller', 3),\n",
       " ('Action, Adventure, Drama, Sci-Fi', 3),\n",
       " ('Comedy, Crime, Drama, Thriller', 3),\n",
       " ('Documentary, Biography', 3),\n",
       " ('Adventure, Comedy, Sci-Fi', 2),\n",
       " ('Animation, Action, Adventure, Fantasy', 2),\n",
       " ('Action, Drama, Mystery, Sci-Fi, Thriller', 2),\n",
       " ('Action, Drama', 2),\n",
       " ('Action, Adventure, Family, Fantasy, Mystery', 2),\n",
       " ('Adventure, Family, Fantasy', 2),\n",
       " ('Drama, Romance, Thriller', 2),\n",
       " ('Biography, Drama, Sport', 2),\n",
       " ('Action, Adventure, Mystery', 2),\n",
       " ('Action, Mystery, Thriller', 2),\n",
       " ('Crime, Horror, Mystery, Thriller', 2),\n",
       " ('Action, Comedy, Crime, Drama', 2),\n",
       " ('Adventure, Drama, Romance', 2),\n",
       " ('Animation, Adventure, Comedy, Crime, Family, Sci-Fi', 2),\n",
       " ('Comedy, Crime, Mystery, Thriller', 2),\n",
       " ('Adventure, Comedy, Family, Fantasy', 2),\n",
       " ('Action, Crime, Thriller', 2),\n",
       " ('Comedy, Drama, Fantasy', 2),\n",
       " ('Crime, Drama, Romance', 2),\n",
       " ('Biography, Comedy, Drama', 2),\n",
       " ('Biography, Drama, Music', 2),\n",
       " ('Animation, Drama, War', 2),\n",
       " ('Biography, Drama, History, War', 2),\n",
       " ('Drama, Musical, Romance', 2),\n",
       " ('Animation, Adventure, Comedy, Family, Fantasy, Musical', 2),\n",
       " ('Comedy, Drama, Music, Romance', 2),\n",
       " ('Comedy, Fantasy', 2),\n",
       " ('Adventure, Drama, Sci-Fi', 2),\n",
       " ('Animation, Action, Adventure, Comedy, Family, Fantasy, Sci-Fi', 2),\n",
       " ('Action, Mystery, Sci-Fi, Thriller', 2),\n",
       " ('Action, Adventure', 2),\n",
       " ('Horror, Mystery, Sci-Fi', 2),\n",
       " ('Crime, Drama, Mystery', 2),\n",
       " ('Adventure, Comedy, Drama', 2),\n",
       " ('Biography, Comedy, Drama, History', 2),\n",
       " ('Biography, Comedy, Crime, Drama', 2),\n",
       " ('Drama, Horror, Mystery', 2),\n",
       " ('Horror, Thriller', 2),\n",
       " ('Drama, Crime', 2),\n",
       " ('Drama, War', 2),\n",
       " ('Action, Adventure, Comedy, Crime, Thriller', 2),\n",
       " ('Action, Adventure, Comedy, Fantasy, Sci-Fi', 2),\n",
       " ('Action, Adventure, Thriller', 2),\n",
       " ('Comedy, Musical', 2),\n",
       " ('Comedy, Sci-Fi', 2),\n",
       " ('Animation, Adventure, Family, Fantasy, Mystery', 1),\n",
       " ('Action, Adventure, Drama', 1),\n",
       " ('Animation, Adventure, Comedy, Drama, Family', 1),\n",
       " ('Animation, Adventure, Drama, Family, Fantasy', 1),\n",
       " ('Animation, Action, Adventure, Comedy, Family, Western', 1),\n",
       " ('Animation, Adventure, Comedy, Family, Fantasy, Mystery, Romance', 1),\n",
       " ('Animation, Adventure, Comedy, Family, Music, Musical', 1),\n",
       " ('Animation, Adventure, Comedy, Crime, Drama, Family, Sci-Fi', 1),\n",
       " ('Animation, Action, Adventure, Comedy, Drama, Family, Romance', 1),\n",
       " ('Action, Drama, Sci-Fi, Sport', 1),\n",
       " ('Sci-Fi, Thriller', 1),\n",
       " ('Comedy, Drama, Family', 1),\n",
       " ('Action, Adventure, Drama, History, War', 1),\n",
       " ('Comedy, Fantasy, Romance', 1),\n",
       " ('Adventure, Drama, Family, Fantasy, Mystery', 1),\n",
       " ('Adventure, Drama, Mystery', 1),\n",
       " ('Animation, Drama, Fantasy, Mystery', 1),\n",
       " ('Animation, Action, Adventure, Drama, Family, Romance, War', 1),\n",
       " ('Animation, Adventure, Family, Sci-Fi', 1),\n",
       " ('Animation, Action, Adventure, Comedy, Drama, Romance, Sci-Fi', 1),\n",
       " ('Animation, Action, Comedy, Crime, Family, Mystery, Sci-Fi, Thriller', 1),\n",
       " ('Animation, Drama, Romance, Sci-Fi', 1),\n",
       " ('Animation, Action, Adventure, Drama, Fantasy, Sci-Fi, Thriller', 1),\n",
       " ('Animation, Action, Crime, Drama, Mystery, Sci-Fi, Thriller', 1),\n",
       " ('Drama, Sport', 1),\n",
       " ('Animation, Adventure, Comedy, Family, Fantasy, Musical, Romance', 1),\n",
       " ('Animation, Drama, Sci-Fi, Thriller', 1),\n",
       " ('Action, Adventure, Comedy, Family, Sci-Fi', 1),\n",
       " ('Adventure, Biography, Drama', 1),\n",
       " ('Action, Crime, Drama', 1),\n",
       " ('Action, Thriller', 1),\n",
       " ('Drama, Horror, Mystery, Sci-Fi, Thriller', 1),\n",
       " ('Biography, Drama, Music, Romance', 1),\n",
       " ('Crime, Drama, History, Thriller', 1),\n",
       " ('Animation, Action, Drama, Fantasy, Sci-Fi, Thriller', 1),\n",
       " ('Animation, Drama, Fantasy, Mystery, Sci-Fi, Thriller', 1),\n",
       " ('Animation, Drama, Family, Romance', 1),\n",
       " ('Mystery, Sci-Fi, Thriller', 1),\n",
       " ('Drama, Fantasy, Mystery, Romance, Thriller', 1),\n",
       " ('Animation, Short, Comedy, Fantasy, Horror', 1),\n",
       " ('Animation, Crime, Drama, Mystery, Thriller', 1),\n",
       " ('Comedy, Music, Romance', 1),\n",
       " ('Drama, Fantasy, Romance, Sci-Fi', 1),\n",
       " ('Action, Drama, Mystery, Thriller', 1),\n",
       " ('Animation, Comedy, Family, Fantasy', 1),\n",
       " ('Drama, Mystery, Romance, Sci-Fi', 1),\n",
       " ('Fantasy, Mystery, Sci-Fi, Thriller', 1),\n",
       " ('Animation, Adventure, Comedy', 1),\n",
       " ('Animation, Adventure, Comedy, Drama, Family, Fantasy, Musical', 1),\n",
       " ('Action, Crime, Mystery, Sci-Fi, Thriller', 1),\n",
       " ('Adventure, Comedy, Crime', 1),\n",
       " ('Adventure, Sci-Fi', 1),\n",
       " ('Adventure, Comedy, Drama, Fantasy, Romance', 1),\n",
       " ('Biography, Drama, Thriller, War', 1),\n",
       " ('Animation, Adventure, Comedy, Family, Fantasy, Sci-Fi', 1),\n",
       " ('Animation, Action, Adventure, Comedy, Crime, Family, Mystery, Sci-Fi', 1),\n",
       " ('Comedy, Drama, Thriller', 1),\n",
       " ('Animation, Adventure, Mystery', 1),\n",
       " ('Animation, Biography, Drama, Romance, War', 1),\n",
       " ('Action, Adventure, Comedy, Thriller', 1),\n",
       " ('Adventure, Comedy, Fantasy', 1),\n",
       " ('Animation, Drama, Family, Fantasy', 1),\n",
       " ('Animation, Biography, Drama, History, War', 1),\n",
       " ('Comedy, Family, Fantasy, Musical', 1),\n",
       " ('Biography, Drama, Family, Musical, Romance', 1),\n",
       " ('Drama, Mystery, Romance, War', 1),\n",
       " ('Comedy, Fantasy, Horror', 1),\n",
       " ('Drama, Fantasy, Mystery, Sci-Fi', 1),\n",
       " ('Adventure, Comedy, Drama, Fantasy, Musical', 1),\n",
       " ('Documentary, Action', 1),\n",
       " ('Biography, Drama, History, Thriller', 1),\n",
       " ('Animation, Adventure, Comedy, Drama, Family, Fantasy', 1),\n",
       " ('Adventure, Drama, Fantasy, Romance', 1),\n",
       " ('Action, Adventure, Drama, Western', 1),\n",
       " ('Crime, Drama, Mystery, Thriller, Western', 1),\n",
       " ('Action, Comedy', 1),\n",
       " ('Comedy, Drama, Sci-Fi', 1),\n",
       " ('Comedy, Drama, Family, Romance', 1),\n",
       " ('Drama, Family, Fantasy, Romance', 1),\n",
       " ('Crime, Drama, Film-Noir, Thriller', 1),\n",
       " ('Crime, Drama, Fantasy', 1),\n",
       " ('Biography, Crime, Drama, History', 1),\n",
       " ('Drama, Romance, Sci-Fi, Thriller', 1),\n",
       " ('Drama, Thriller, War', 1),\n",
       " ('Animation, Adventure, Drama, Family, Musical', 1),\n",
       " ('Comedy, Crime, Drama, Mystery, Romance', 1),\n",
       " ('Biography, Drama, Thriller', 1),\n",
       " ('Animation, Drama, Fantasy', 1),\n",
       " ('Animation, Adventure, Comedy, Drama, Mystery, Romance', 1),\n",
       " ('Animation, Drama, Romance', 1),\n",
       " ('Animation, Adventure, Drama, Fantasy', 1),\n",
       " ('Animation, Drama, Family, Mystery, Romance, Sci-Fi', 1),\n",
       " ('Animation, Adventure, Comedy, Drama, Family, Fantasy, Mystery, Romance, Sci-Fi',\n",
       "  1),\n",
       " ('Animation, Short, Drama, Romance, Sci-Fi', 1),\n",
       " ('Action, Adventure, Drama, Romance', 1),\n",
       " ('Comedy, Drama, Music, Musical, Romance', 1),\n",
       " ('Animation, Adventure, Comedy, Crime, Family, Mystery', 1),\n",
       " ('Crime, Drama, Thriller, Western', 1),\n",
       " ('Animation, Comedy, Family, Musical', 1),\n",
       " ('Action, Comedy, Crime, Thriller', 1),\n",
       " ('Adventure, Drama, Family, Fantasy, Thriller', 1),\n",
       " ('Animation, Action, Adventure, Family, Fantasy', 1),\n",
       " ('Action, Fantasy, Horror, Mystery', 1),\n",
       " ('Drama, Mystery, Romance', 1),\n",
       " ('Action, Adventure, Drama, Thriller', 1),\n",
       " ('Crime, Drama, Fantasy, Mystery', 1),\n",
       " ('Drama, Romance, War', 1),\n",
       " ('Mystery, Romance, Thriller', 1),\n",
       " ('Drama, Mystery, Romance, Thriller', 1),\n",
       " ('Action, Drama, History, Thriller, War', 1),\n",
       " ('Adventure, Comedy, Family, Fantasy, Romance', 1),\n",
       " ('Animation, Comedy, Drama, Romance', 1),\n",
       " ('Drama, Fantasy, War', 1),\n",
       " ('Biography, Drama, Romance, Thriller', 1),\n",
       " ('Drama, Music, Mystery, Romance', 1),\n",
       " ('Action, Crime, Fantasy, Mystery, Sci-Fi, Thriller', 1),\n",
       " ('Crime, Sci-Fi', 1),\n",
       " ('Comedy, Crime, Drama', 1),\n",
       " ('Biography, Drama, Musical', 1),\n",
       " ('Drama, Fantasy, Sci-Fi', 1),\n",
       " ('Drama, History, Romance', 1),\n",
       " ('Animation, Adventure, Drama, Family, Fantasy, Music, Mystery', 1),\n",
       " ('Animation, Drama, Family, Mystery', 1),\n",
       " ('Action, Comedy, Horror, Thriller', 1),\n",
       " ('Biography, Drama, History, Thriller, War', 1),\n",
       " ('Biography, Drama, War', 1),\n",
       " ('Action, Adventure, Fantasy, Thriller', 1),\n",
       " ('Animation, Adventure, Comedy, Drama, Sci-Fi', 1),\n",
       " ('Action, Comedy, Crime', 1),\n",
       " ('Animation, Comedy, Crime, Drama, Mystery, Sci-Fi, Thriller', 1),\n",
       " ('Action, Drama, Thriller, War', 1),\n",
       " ('Comedy, Drama, Mystery', 1),\n",
       " ('Animation, Action, Adventure, Family', 1),\n",
       " ('Drama, Horror, Sci-Fi', 1),\n",
       " ('Animation, Action, Adventure, Comedy, Family, Sci-Fi', 1),\n",
       " ('Comedy, Drama, Fantasy, Romance, Sci-Fi', 1),\n",
       " ('Animation, Drama', 1),\n",
       " ('Action, Comedy, Fantasy, Romance', 1),\n",
       " ('Drama, Fantasy, Mystery, Sci-Fi, Thriller', 1),\n",
       " ('Animation, Action, Drama, Sci-Fi', 1),\n",
       " ('Comedy, Drama, Musical, Mystery, Romance, Western', 1),\n",
       " ('Short, Comedy, Horror', 1),\n",
       " ('Biography, Drama, Romance, Thriller, War', 1),\n",
       " ('Horror, Mystery', 1),\n",
       " ('Adventure, Drama, Mystery, Sci-Fi, Thriller', 1),\n",
       " ('Drama, Horror', 1),\n",
       " ('Action, Crime, Comedy, Drama', 1),\n",
       " ('Documentary, History', 1),\n",
       " ('Animation, Family, Fantasy, Musical, Romance', 1),\n",
       " ('Comedy, Family', 1),\n",
       " ('Animation, Comedy, Drama', 1),\n",
       " ('Animation, Comedy, Family, Romance, Sci-Fi', 1),\n",
       " ('Documentary, History, News', 1),\n",
       " ('Drama, Romance, Sport', 1),\n",
       " ('Comedy, Crime, Drama, Mystery, Thriller', 1),\n",
       " ('Action, Comedy, Drama, Sci-Fi', 1),\n",
       " ('Drama, Film-Noir', 1),\n",
       " ('Comedy, War', 1),\n",
       " ('Animation, Adventure, Drama, Fantasy, Mystery, Sci-Fi', 1),\n",
       " ('Documentary, Comedy', 1),\n",
       " ('Action, Fantasy, Thriller', 1),\n",
       " ('Short, Drama', 1),\n",
       " ('Fantasy, Horror', 1),\n",
       " ('Comedy, Crime, Musical', 1),\n",
       " ('Comedy, Drama, Music, Musical', 1),\n",
       " ('Drama, Music, Musical, Romance', 1),\n",
       " ('Fantasy, Horror, Mystery, Thriller', 1),\n",
       " ('Film-Noir, Mystery, Thriller', 1),\n",
       " ('Adventure, Family, Fantasy, Musical', 1),\n",
       " ('Documentary, Music', 1),\n",
       " ('Animation, Action, Adventure, Comedy, Family, Fantasy, Musical, Sci-Fi', 1),\n",
       " ('Action, Adventure, Comedy, Fantasy, Horror, Sci-Fi, Thriller', 1),\n",
       " ('Documentary, Animation, Biography, Drama', 1),\n",
       " ('Animation, Comedy, Family, Fantasy, Musical', 1),\n",
       " ('Documentary, History, Music', 1),\n",
       " ('Drama, Horror, Romance', 1),\n",
       " ('Comedy, Horror, Thriller', 1),\n",
       " ('Horror, Sci-Fi, Thriller', 1),\n",
       " ('Crime, Drama, Mystery, Romance, Thriller', 1),\n",
       " ('Comedy, Drama, History', 1),\n",
       " ('Action, Drama, War', 1),\n",
       " ('Biography, Drama, History, Romance', 1),\n",
       " ('Crime, Drama, Horror', 1),\n",
       " ('Adventure, Family, Fantasy, Musical, Romance', 1),\n",
       " ('Action, Adventure, Comedy, Fantasy', 1)]"
      ]
     },
     "execution_count": 332,
     "metadata": {},
     "output_type": "execute_result"
    }
   ],
   "source": [
    "multi_genre_counter = Counter(multi_genre_list)\n",
    "multi_genre_counter.most_common()"
   ]
  },
  {
   "cell_type": "code",
   "execution_count": 338,
   "id": "e3aba5a2",
   "metadata": {
    "scrolled": false
   },
   "outputs": [
    {
     "data": {
      "image/png": "[encoded data removed]",
      "text/plain": [
       "<Figure size 1080x504 with 1 Axes>"
      ]
     },
     "metadata": {},
     "output_type": "display_data"
    }
   ],
   "source": [
    "sns.histplot([g for gs in [[g]*c for g, c in multi_genre_counter.most_common(10)] for g in gs] )\n",
    "_ = plt.xticks(rotation=90)"
   ]
  },
  {
   "cell_type": "code",
   "execution_count": 347,
   "id": "fa178079",
   "metadata": {},
   "outputs": [],
   "source": [
    "genre_connections = {}\n",
    "\n",
    "for gs, c in Counter(multi_genre_list).most_common():\n",
    "    g, *others = sorted(gs.split(', '))\n",
    "    for o in others:\n",
    "        if (g, o) not in genre_connections:\n",
    "            genre_connections[(g, o)] = 0\n",
    "        genre_connections[(g, o)] += c"
   ]
  },
  {
   "cell_type": "code",
   "execution_count": 348,
   "id": "76f9911f",
   "metadata": {},
   "outputs": [
    {
     "data": {
      "text/plain": [
       "{('Comedy', 'Drama'): 104,\n",
       " ('Drama', 'Romance'): 70,\n",
       " ('Comedy', 'Romance'): 54,\n",
       " ('Crime', 'Drama'): 70,\n",
       " ('Crime', 'Thriller'): 55,\n",
       " ('Crime', 'Mystery'): 28,\n",
       " ('Drama', 'Thriller'): 49,\n",
       " ('Biography', 'Drama'): 55,\n",
       " ('Drama', 'Mystery'): 38,\n",
       " ('Adventure', 'Animation'): 40,\n",
       " ('Adventure', 'Comedy'): 43,\n",
       " ('Adventure', 'Family'): 49,\n",
       " ('Adventure', 'Fantasy'): 43,\n",
       " ('Action', 'Adventure'): 73,\n",
       " ('Action', 'Sci-Fi'): 65,\n",
       " ('Drama', 'Music'): 13,\n",
       " ('Action', 'Drama'): 47,\n",
       " ('Action', 'Thriller'): 52,\n",
       " ('Mystery', 'Thriller'): 8,\n",
       " ('Adventure', 'Mystery'): 17,\n",
       " ('Biography', 'Romance'): 11,\n",
       " ('Drama', 'Fantasy'): 16,\n",
       " ('Biography', 'Crime'): 12,\n",
       " ('Action', 'Crime'): 20,\n",
       " ('Drama', 'Sci-Fi'): 30,\n",
       " ('Action', 'Fantasy'): 37,\n",
       " ('Horror', 'Mystery'): 8,\n",
       " ('Horror', 'Thriller'): 8,\n",
       " ('Biography', 'History'): 12,\n",
       " ('Drama', 'Family'): 5,\n",
       " ('Comedy', 'Fantasy'): 12,\n",
       " ('Comedy', 'Crime'): 13,\n",
       " ('Animation', 'Drama'): 25,\n",
       " ('Animation', 'Fantasy'): 12,\n",
       " ('Animation', 'Romance'): 13,\n",
       " ('Crime', 'Romance'): 7,\n",
       " ('Documentary', 'Drama'): 4,\n",
       " ('Drama', 'Horror'): 10,\n",
       " ('Action', 'Animation'): 24,\n",
       " ('Action', 'Comedy'): 32,\n",
       " ('Action', 'Family'): 20,\n",
       " ('Adventure', 'Romance'): 13,\n",
       " ('Drama', 'Western'): 3,\n",
       " ('Drama', 'History'): 4,\n",
       " ('Adventure', 'Drama'): 29,\n",
       " ('Adventure', 'War'): 3,\n",
       " ('Comedy', 'Music'): 8,\n",
       " ('Biography', 'Thriller'): 9,\n",
       " ('Comedy', 'Thriller'): 8,\n",
       " ('Biography', 'Documentary'): 3,\n",
       " ('Adventure', 'Sci-Fi'): 14,\n",
       " ('Action', 'Mystery'): 17,\n",
       " ('Biography', 'Sport'): 2,\n",
       " ('Crime', 'Horror'): 3,\n",
       " ('Adventure', 'Crime'): 5,\n",
       " ('Comedy', 'Mystery'): 6,\n",
       " ('Biography', 'Comedy'): 6,\n",
       " ('Biography', 'Music'): 3,\n",
       " ('Animation', 'War'): 4,\n",
       " ('Biography', 'War'): 6,\n",
       " ('Drama', 'Musical'): 3,\n",
       " ('Adventure', 'Musical'): 9,\n",
       " ('Horror', 'Sci-Fi'): 3,\n",
       " ('Drama', 'War'): 6,\n",
       " ('Comedy', 'Musical'): 7,\n",
       " ('Comedy', 'Sci-Fi'): 4,\n",
       " ('Action', 'Western'): 2,\n",
       " ('Adventure', 'Music'): 2,\n",
       " ('Action', 'Romance'): 5,\n",
       " ('Action', 'Sport'): 1,\n",
       " ('Sci-Fi', 'Thriller'): 1,\n",
       " ('Comedy', 'Family'): 4,\n",
       " ('Action', 'History'): 2,\n",
       " ('Action', 'War'): 5,\n",
       " ('Animation', 'Mystery'): 6,\n",
       " ('Animation', 'Sci-Fi'): 7,\n",
       " ('Drama', 'Sport'): 2,\n",
       " ('Animation', 'Thriller'): 4,\n",
       " ('Adventure', 'Biography'): 1,\n",
       " ('Crime', 'History'): 1,\n",
       " ('Animation', 'Family'): 9,\n",
       " ('Mystery', 'Sci-Fi'): 1,\n",
       " ('Animation', 'Comedy'): 8,\n",
       " ('Animation', 'Horror'): 1,\n",
       " ('Animation', 'Short'): 2,\n",
       " ('Animation', 'Crime'): 2,\n",
       " ('Fantasy', 'Mystery'): 2,\n",
       " ('Fantasy', 'Sci-Fi'): 1,\n",
       " ('Fantasy', 'Thriller'): 2,\n",
       " ('Animation', 'Biography'): 3,\n",
       " ('Animation', 'History'): 1,\n",
       " ('Biography', 'Family'): 1,\n",
       " ('Biography', 'Musical'): 2,\n",
       " ('Comedy', 'Horror'): 3,\n",
       " ('Action', 'Documentary'): 1,\n",
       " ('Crime', 'Western'): 2,\n",
       " ('Crime', 'Film-Noir'): 1,\n",
       " ('Crime', 'Fantasy'): 2,\n",
       " ('Animation', 'Musical'): 3,\n",
       " ('Adventure', 'Thriller'): 2,\n",
       " ('Action', 'Horror'): 3,\n",
       " ('Mystery', 'Romance'): 1,\n",
       " ('Crime', 'Sci-Fi'): 1,\n",
       " ('Comedy', 'Western'): 1,\n",
       " ('Comedy', 'Short'): 1,\n",
       " ('Documentary', 'History'): 3,\n",
       " ('Documentary', 'News'): 1,\n",
       " ('Drama', 'Film-Noir'): 1,\n",
       " ('Comedy', 'War'): 1,\n",
       " ('Comedy', 'Documentary'): 1,\n",
       " ('Drama', 'Short'): 1,\n",
       " ('Fantasy', 'Horror'): 2,\n",
       " ('Film-Noir', 'Mystery'): 1,\n",
       " ('Film-Noir', 'Thriller'): 1,\n",
       " ('Documentary', 'Music'): 2,\n",
       " ('Action', 'Musical'): 1,\n",
       " ('Animation', 'Documentary'): 1,\n",
       " ('Comedy', 'History'): 1}"
      ]
     },
     "execution_count": 348,
     "metadata": {},
     "output_type": "execute_result"
    }
   ],
   "source": [
    "genre_connections"
   ]
  },
  {
   "cell_type": "code",
   "execution_count": 340,
   "id": "0147bbf2",
   "metadata": {},
   "outputs": [],
   "source": [
    "import networkx as nx"
   ]
  },
  {
   "cell_type": "code",
   "execution_count": 353,
   "id": "45e6eee2",
   "metadata": {},
   "outputs": [],
   "source": [
    "G = nx.Graph()"
   ]
  },
  {
   "cell_type": "code",
   "execution_count": 362,
   "id": "b1bb0f86",
   "metadata": {},
   "outputs": [],
   "source": [
    "for nodes, weight in genre_connections.items():\n",
    "    G.add_edge(nodes[0], nodes[1], weight=weight)"
   ]
  },
  {
   "cell_type": "code",
   "execution_count": 371,
   "id": "64866d9b",
   "metadata": {
    "scrolled": true
   },
   "outputs": [
    {
     "name": "stdout",
     "output_type": "stream",
     "text": [
      "Collecting netgraph\n",
      "  Downloading netgraph-4.12.11-py3-none-any.whl (96 kB)\n",
      "\u001b[K     |████████████████████████████████| 96 kB 2.0 MB/s eta 0:00:011\n",
      "\u001b[?25hCollecting grandalf\n",
      "  Downloading grandalf-0.8-py3-none-any.whl (41 kB)\n",
      "\u001b[K     |████████████████████████████████| 41 kB 749 kB/s  eta 0:00:01\n",
      "\u001b[?25hRequirement already satisfied: scipy in /home/ismail/anaconda3/lib/python3.9/site-packages (from netgraph) (1.11.0)\n",
      "Requirement already satisfied: numpy in /home/ismail/anaconda3/lib/python3.9/site-packages (from netgraph) (1.25.0)\n",
      "Collecting rectangle-packer\n",
      "  Downloading rectangle_packer-2.0.1-cp39-cp39-manylinux_2_5_x86_64.manylinux1_x86_64.manylinux_2_17_x86_64.manylinux2014_x86_64.whl (299 kB)\n",
      "\u001b[K     |████████████████████████████████| 299 kB 5.7 MB/s eta 0:00:01\n",
      "\u001b[?25hRequirement already satisfied: matplotlib>=1.5 in /home/ismail/anaconda3/lib/python3.9/site-packages (from netgraph) (3.5.1)\n",
      "Requirement already satisfied: python-dateutil>=2.7 in /home/ismail/anaconda3/lib/python3.9/site-packages (from matplotlib>=1.5->netgraph) (2.8.2)\n",
      "Requirement already satisfied: packaging>=20.0 in /home/ismail/anaconda3/lib/python3.9/site-packages (from matplotlib>=1.5->netgraph) (21.3)\n",
      "Requirement already satisfied: pillow>=6.2.0 in /home/ismail/anaconda3/lib/python3.9/site-packages (from matplotlib>=1.5->netgraph) (9.0.1)\n",
      "Requirement already satisfied: pyparsing>=2.2.1 in /home/ismail/anaconda3/lib/python3.9/site-packages (from matplotlib>=1.5->netgraph) (3.0.4)\n",
      "Requirement already satisfied: fonttools>=4.22.0 in /home/ismail/anaconda3/lib/python3.9/site-packages (from matplotlib>=1.5->netgraph) (4.25.0)\n",
      "Requirement already satisfied: cycler>=0.10 in /home/ismail/anaconda3/lib/python3.9/site-packages (from matplotlib>=1.5->netgraph) (0.11.0)\n",
      "Requirement already satisfied: kiwisolver>=1.0.1 in /home/ismail/anaconda3/lib/python3.9/site-packages (from matplotlib>=1.5->netgraph) (1.3.2)\n",
      "Requirement already satisfied: six>=1.5 in /home/ismail/anaconda3/lib/python3.9/site-packages (from python-dateutil>=2.7->matplotlib>=1.5->netgraph) (1.16.0)\n",
      "Installing collected packages: rectangle-packer, grandalf, netgraph\n",
      "Successfully installed grandalf-0.8 netgraph-4.12.11 rectangle-packer-2.0.1\n",
      "Note: you may need to restart the kernel to use updated packages.\n"
     ]
    }
   ],
   "source": [
    "# pip install netgraph"
   ]
  },
  {
   "cell_type": "code",
   "execution_count": null,
   "id": "b4b1b19c",
   "metadata": {},
   "outputs": [],
   "source": [
    "node_degree = dict(G.degree(weight='weight'))\n",
    "\n",
    "node_positions = nx.spring_layout(G)\n",
    "\n",
    "node_positions[0] = (0.5, 0.5) # by default, networkx plots on a canvas with the origin at (0, 0) and a width and height of 1; (0.5, 0.5) is hence the center\n",
    "nx.draw(G, pos=node_positions, node_size=[1 * node_degree[node] for node in G])\n",
    "\n",
    "nx.draw_networkx_edge_labels(G,node_positions,edge_labels=labels)"
   ]
  },
  {
   "cell_type": "code",
   "execution_count": null,
   "id": "5cce32ee",
   "metadata": {},
   "outputs": [],
   "source": []
  }
 ],
 "metadata": {
  "kernelspec": {
   "display_name": "Python 3 (ipykernel)",
   "language": "python",
   "name": "python3"
  },
  "language_info": {
   "codemirror_mode": {
    "name": "ipython",
    "version": 3
   },
   "file_extension": ".py",
   "mimetype": "text/x-python",
   "name": "python",
   "nbconvert_exporter": "python",
   "pygments_lexer": "ipython3",
   "version": "3.9.12"
  }
 },
 "nbformat": 4,
 "nbformat_minor": 5
}
