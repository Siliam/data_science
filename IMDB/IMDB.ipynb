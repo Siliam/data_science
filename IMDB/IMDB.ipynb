{
 "cells": [
  {
   "cell_type": "code",
   "execution_count": 1,
   "id": "4e8cb01c",
   "metadata": {},
   "outputs": [],
   "source": [
    "import numpy as np\n",
    "import pandas as pd"
   ]
  },
  {
   "cell_type": "code",
   "execution_count": 4,
   "id": "e014051d",
   "metadata": {},
   "outputs": [],
   "source": [
    "df = pd.read_csv(\"data/WATCHLIST.csv\")"
   ]
  },
  {
   "cell_type": "code",
   "execution_count": 5,
   "id": "6e590cb1",
   "metadata": {
    "scrolled": true
   },
   "outputs": [
    {
     "name": "stdout",
     "output_type": "stream",
     "text": [
      "800\n"
     ]
    }
   ],
   "source": [
    "n_movies = len(df)\n",
    "print(n_movies)"
   ]
  },
  {
   "cell_type": "code",
   "execution_count": 6,
   "id": "4facae77",
   "metadata": {},
   "outputs": [
    {
     "data": {
      "text/html": [
       "<div>\n",
       "<style scoped>\n",
       "    .dataframe tbody tr th:only-of-type {\n",
       "        vertical-align: middle;\n",
       "    }\n",
       "\n",
       "    .dataframe tbody tr th {\n",
       "        vertical-align: top;\n",
       "    }\n",
       "\n",
       "    .dataframe thead th {\n",
       "        text-align: right;\n",
       "    }\n",
       "</style>\n",
       "<table border=\"1\" class=\"dataframe\">\n",
       "  <thead>\n",
       "    <tr style=\"text-align: right;\">\n",
       "      <th></th>\n",
       "      <th>Position</th>\n",
       "      <th>Const</th>\n",
       "      <th>Created</th>\n",
       "      <th>Modified</th>\n",
       "      <th>Description</th>\n",
       "      <th>Title</th>\n",
       "      <th>URL</th>\n",
       "      <th>Title Type</th>\n",
       "      <th>IMDb Rating</th>\n",
       "      <th>Runtime (mins)</th>\n",
       "      <th>Year</th>\n",
       "      <th>Genres</th>\n",
       "      <th>Num Votes</th>\n",
       "      <th>Release Date</th>\n",
       "      <th>Directors</th>\n",
       "      <th>Your Rating</th>\n",
       "      <th>Date Rated</th>\n",
       "    </tr>\n",
       "  </thead>\n",
       "  <tbody>\n",
       "    <tr>\n",
       "      <th>0</th>\n",
       "      <td>1</td>\n",
       "      <td>tt0111161</td>\n",
       "      <td>2012-07-05</td>\n",
       "      <td>2012-07-05</td>\n",
       "      <td>NaN</td>\n",
       "      <td>The Shawshank Redemption</td>\n",
       "      <td>https://www.imdb.com/title/tt0111161/</td>\n",
       "      <td>movie</td>\n",
       "      <td>9.3</td>\n",
       "      <td>142</td>\n",
       "      <td>1994</td>\n",
       "      <td>Drama</td>\n",
       "      <td>2759556</td>\n",
       "      <td>1994-09-10</td>\n",
       "      <td>Frank Darabont</td>\n",
       "      <td>10</td>\n",
       "      <td>2012-07-05</td>\n",
       "    </tr>\n",
       "    <tr>\n",
       "      <th>1</th>\n",
       "      <td>2</td>\n",
       "      <td>tt0068646</td>\n",
       "      <td>2012-07-05</td>\n",
       "      <td>2012-07-05</td>\n",
       "      <td>NaN</td>\n",
       "      <td>The Godfather</td>\n",
       "      <td>https://www.imdb.com/title/tt0068646/</td>\n",
       "      <td>movie</td>\n",
       "      <td>9.2</td>\n",
       "      <td>175</td>\n",
       "      <td>1972</td>\n",
       "      <td>Crime, Drama</td>\n",
       "      <td>1920318</td>\n",
       "      <td>1972-03-14</td>\n",
       "      <td>Francis Ford Coppola</td>\n",
       "      <td>7</td>\n",
       "      <td>2012-09-15</td>\n",
       "    </tr>\n",
       "    <tr>\n",
       "      <th>2</th>\n",
       "      <td>3</td>\n",
       "      <td>tt0468569</td>\n",
       "      <td>2012-07-05</td>\n",
       "      <td>2012-07-05</td>\n",
       "      <td>NaN</td>\n",
       "      <td>The Dark Knight</td>\n",
       "      <td>https://www.imdb.com/title/tt0468569/</td>\n",
       "      <td>movie</td>\n",
       "      <td>9.0</td>\n",
       "      <td>152</td>\n",
       "      <td>2008</td>\n",
       "      <td>Action, Crime, Drama, Thriller</td>\n",
       "      <td>2732541</td>\n",
       "      <td>2008-07-14</td>\n",
       "      <td>Christopher Nolan</td>\n",
       "      <td>8</td>\n",
       "      <td>2012-07-19</td>\n",
       "    </tr>\n",
       "    <tr>\n",
       "      <th>3</th>\n",
       "      <td>4</td>\n",
       "      <td>tt0137523</td>\n",
       "      <td>2012-07-05</td>\n",
       "      <td>2012-07-05</td>\n",
       "      <td>NaN</td>\n",
       "      <td>Fight Club</td>\n",
       "      <td>https://www.imdb.com/title/tt0137523/</td>\n",
       "      <td>movie</td>\n",
       "      <td>8.8</td>\n",
       "      <td>139</td>\n",
       "      <td>1999</td>\n",
       "      <td>Drama</td>\n",
       "      <td>2197181</td>\n",
       "      <td>1999-09-10</td>\n",
       "      <td>David Fincher</td>\n",
       "      <td>9</td>\n",
       "      <td>2012-07-05</td>\n",
       "    </tr>\n",
       "    <tr>\n",
       "      <th>4</th>\n",
       "      <td>5</td>\n",
       "      <td>tt1375666</td>\n",
       "      <td>2012-07-05</td>\n",
       "      <td>2012-07-05</td>\n",
       "      <td>NaN</td>\n",
       "      <td>Inception</td>\n",
       "      <td>https://www.imdb.com/title/tt1375666/</td>\n",
       "      <td>movie</td>\n",
       "      <td>8.8</td>\n",
       "      <td>148</td>\n",
       "      <td>2010</td>\n",
       "      <td>Action, Adventure, Sci-Fi, Thriller</td>\n",
       "      <td>2424924</td>\n",
       "      <td>2010-07-08</td>\n",
       "      <td>Christopher Nolan</td>\n",
       "      <td>9</td>\n",
       "      <td>2012-07-05</td>\n",
       "    </tr>\n",
       "  </tbody>\n",
       "</table>\n",
       "</div>"
      ],
      "text/plain": [
       "   Position      Const     Created    Modified  Description  \\\n",
       "0         1  tt0111161  2012-07-05  2012-07-05          NaN   \n",
       "1         2  tt0068646  2012-07-05  2012-07-05          NaN   \n",
       "2         3  tt0468569  2012-07-05  2012-07-05          NaN   \n",
       "3         4  tt0137523  2012-07-05  2012-07-05          NaN   \n",
       "4         5  tt1375666  2012-07-05  2012-07-05          NaN   \n",
       "\n",
       "                      Title                                    URL Title Type  \\\n",
       "0  The Shawshank Redemption  https://www.imdb.com/title/tt0111161/      movie   \n",
       "1             The Godfather  https://www.imdb.com/title/tt0068646/      movie   \n",
       "2           The Dark Knight  https://www.imdb.com/title/tt0468569/      movie   \n",
       "3                Fight Club  https://www.imdb.com/title/tt0137523/      movie   \n",
       "4                 Inception  https://www.imdb.com/title/tt1375666/      movie   \n",
       "\n",
       "   IMDb Rating  Runtime (mins)  Year                               Genres  \\\n",
       "0          9.3             142  1994                                Drama   \n",
       "1          9.2             175  1972                         Crime, Drama   \n",
       "2          9.0             152  2008       Action, Crime, Drama, Thriller   \n",
       "3          8.8             139  1999                                Drama   \n",
       "4          8.8             148  2010  Action, Adventure, Sci-Fi, Thriller   \n",
       "\n",
       "   Num Votes Release Date             Directors  Your Rating  Date Rated  \n",
       "0    2759556   1994-09-10        Frank Darabont           10  2012-07-05  \n",
       "1    1920318   1972-03-14  Francis Ford Coppola            7  2012-09-15  \n",
       "2    2732541   2008-07-14     Christopher Nolan            8  2012-07-19  \n",
       "3    2197181   1999-09-10         David Fincher            9  2012-07-05  \n",
       "4    2424924   2010-07-08     Christopher Nolan            9  2012-07-05  "
      ]
     },
     "execution_count": 6,
     "metadata": {},
     "output_type": "execute_result"
    }
   ],
   "source": [
    "df.head()"
   ]
  },
  {
   "cell_type": "code",
   "execution_count": 7,
   "id": "9983a0ca",
   "metadata": {},
   "outputs": [
    {
     "name": "stdout",
     "output_type": "stream",
     "text": [
      "<class 'pandas.core.frame.DataFrame'>\n",
      "RangeIndex: 800 entries, 0 to 799\n",
      "Data columns (total 17 columns):\n",
      " #   Column          Non-Null Count  Dtype  \n",
      "---  ------          --------------  -----  \n",
      " 0   Position        800 non-null    int64  \n",
      " 1   Const           800 non-null    object \n",
      " 2   Created         800 non-null    object \n",
      " 3   Modified        800 non-null    object \n",
      " 4   Description     0 non-null      float64\n",
      " 5   Title           800 non-null    object \n",
      " 6   URL             800 non-null    object \n",
      " 7   Title Type      800 non-null    object \n",
      " 8   IMDb Rating     800 non-null    float64\n",
      " 9   Runtime (mins)  800 non-null    int64  \n",
      " 10  Year            800 non-null    int64  \n",
      " 11  Genres          799 non-null    object \n",
      " 12  Num Votes       800 non-null    int64  \n",
      " 13  Release Date    800 non-null    object \n",
      " 14  Directors       793 non-null    object \n",
      " 15  Your Rating     800 non-null    int64  \n",
      " 16  Date Rated      800 non-null    object \n",
      "dtypes: float64(2), int64(5), object(10)\n",
      "memory usage: 106.4+ KB\n"
     ]
    }
   ],
   "source": [
    "df.info()"
   ]
  },
  {
   "cell_type": "code",
   "execution_count": 8,
   "id": "3dca0291",
   "metadata": {},
   "outputs": [
    {
     "data": {
      "text/html": [
       "<div>\n",
       "<style scoped>\n",
       "    .dataframe tbody tr th:only-of-type {\n",
       "        vertical-align: middle;\n",
       "    }\n",
       "\n",
       "    .dataframe tbody tr th {\n",
       "        vertical-align: top;\n",
       "    }\n",
       "\n",
       "    .dataframe thead th {\n",
       "        text-align: right;\n",
       "    }\n",
       "</style>\n",
       "<table border=\"1\" class=\"dataframe\">\n",
       "  <thead>\n",
       "    <tr style=\"text-align: right;\">\n",
       "      <th></th>\n",
       "      <th>Position</th>\n",
       "      <th>Description</th>\n",
       "      <th>IMDb Rating</th>\n",
       "      <th>Runtime (mins)</th>\n",
       "      <th>Year</th>\n",
       "      <th>Num Votes</th>\n",
       "      <th>Your Rating</th>\n",
       "    </tr>\n",
       "  </thead>\n",
       "  <tbody>\n",
       "    <tr>\n",
       "      <th>count</th>\n",
       "      <td>800.000000</td>\n",
       "      <td>0.0</td>\n",
       "      <td>800.000000</td>\n",
       "      <td>800.000000</td>\n",
       "      <td>800.000000</td>\n",
       "      <td>8.000000e+02</td>\n",
       "      <td>800.000000</td>\n",
       "    </tr>\n",
       "    <tr>\n",
       "      <th>mean</th>\n",
       "      <td>398.667500</td>\n",
       "      <td>NaN</td>\n",
       "      <td>7.488625</td>\n",
       "      <td>116.391250</td>\n",
       "      <td>2005.353750</td>\n",
       "      <td>3.330094e+05</td>\n",
       "      <td>7.630000</td>\n",
       "    </tr>\n",
       "    <tr>\n",
       "      <th>std</th>\n",
       "      <td>230.822731</td>\n",
       "      <td>NaN</td>\n",
       "      <td>0.756355</td>\n",
       "      <td>31.858231</td>\n",
       "      <td>15.698381</td>\n",
       "      <td>4.014476e+05</td>\n",
       "      <td>1.315395</td>\n",
       "    </tr>\n",
       "    <tr>\n",
       "      <th>min</th>\n",
       "      <td>1.000000</td>\n",
       "      <td>NaN</td>\n",
       "      <td>1.700000</td>\n",
       "      <td>12.000000</td>\n",
       "      <td>1933.000000</td>\n",
       "      <td>1.500000e+01</td>\n",
       "      <td>1.000000</td>\n",
       "    </tr>\n",
       "    <tr>\n",
       "      <th>25%</th>\n",
       "      <td>198.750000</td>\n",
       "      <td>NaN</td>\n",
       "      <td>7.100000</td>\n",
       "      <td>99.000000</td>\n",
       "      <td>2002.000000</td>\n",
       "      <td>6.247925e+04</td>\n",
       "      <td>7.000000</td>\n",
       "    </tr>\n",
       "    <tr>\n",
       "      <th>50%</th>\n",
       "      <td>398.500000</td>\n",
       "      <td>NaN</td>\n",
       "      <td>7.600000</td>\n",
       "      <td>113.000000</td>\n",
       "      <td>2010.000000</td>\n",
       "      <td>1.834225e+05</td>\n",
       "      <td>8.000000</td>\n",
       "    </tr>\n",
       "    <tr>\n",
       "      <th>75%</th>\n",
       "      <td>598.250000</td>\n",
       "      <td>NaN</td>\n",
       "      <td>8.000000</td>\n",
       "      <td>130.000000</td>\n",
       "      <td>2015.250000</td>\n",
       "      <td>4.664140e+05</td>\n",
       "      <td>8.000000</td>\n",
       "    </tr>\n",
       "    <tr>\n",
       "      <th>max</th>\n",
       "      <td>798.000000</td>\n",
       "      <td>NaN</td>\n",
       "      <td>9.300000</td>\n",
       "      <td>557.000000</td>\n",
       "      <td>2023.000000</td>\n",
       "      <td>2.759556e+06</td>\n",
       "      <td>10.000000</td>\n",
       "    </tr>\n",
       "  </tbody>\n",
       "</table>\n",
       "</div>"
      ],
      "text/plain": [
       "         Position  Description  IMDb Rating  Runtime (mins)         Year  \\\n",
       "count  800.000000          0.0   800.000000      800.000000   800.000000   \n",
       "mean   398.667500          NaN     7.488625      116.391250  2005.353750   \n",
       "std    230.822731          NaN     0.756355       31.858231    15.698381   \n",
       "min      1.000000          NaN     1.700000       12.000000  1933.000000   \n",
       "25%    198.750000          NaN     7.100000       99.000000  2002.000000   \n",
       "50%    398.500000          NaN     7.600000      113.000000  2010.000000   \n",
       "75%    598.250000          NaN     8.000000      130.000000  2015.250000   \n",
       "max    798.000000          NaN     9.300000      557.000000  2023.000000   \n",
       "\n",
       "          Num Votes  Your Rating  \n",
       "count  8.000000e+02   800.000000  \n",
       "mean   3.330094e+05     7.630000  \n",
       "std    4.014476e+05     1.315395  \n",
       "min    1.500000e+01     1.000000  \n",
       "25%    6.247925e+04     7.000000  \n",
       "50%    1.834225e+05     8.000000  \n",
       "75%    4.664140e+05     8.000000  \n",
       "max    2.759556e+06    10.000000  "
      ]
     },
     "execution_count": 8,
     "metadata": {},
     "output_type": "execute_result"
    }
   ],
   "source": [
    "df.describe()"
   ]
  },
  {
   "cell_type": "code",
   "execution_count": 9,
   "id": "3c9d64b2",
   "metadata": {},
   "outputs": [
    {
     "data": {
      "text/plain": [
       "540"
      ]
     },
     "execution_count": 9,
     "metadata": {},
     "output_type": "execute_result"
    }
   ],
   "source": [
    "len(df.Directors.unique())"
   ]
  },
  {
   "cell_type": "code",
   "execution_count": 10,
   "id": "7e9333db",
   "metadata": {},
   "outputs": [
    {
     "data": {
      "text/plain": [
       "76"
      ]
     },
     "execution_count": 10,
     "metadata": {},
     "output_type": "execute_result"
    }
   ],
   "source": [
    "len(df.Year.unique())"
   ]
  },
  {
   "cell_type": "code",
   "execution_count": 11,
   "id": "90bf8e30",
   "metadata": {},
   "outputs": [
    {
     "data": {
      "text/plain": [
       "1551.8833333333334"
      ]
     },
     "execution_count": 11,
     "metadata": {},
     "output_type": "execute_result"
    }
   ],
   "source": [
    "sum(df[\"Runtime (mins)\"]) / 60"
   ]
  },
  {
   "cell_type": "code",
   "execution_count": 12,
   "id": "118aa986",
   "metadata": {},
   "outputs": [
    {
     "data": {
      "text/plain": [
       "116.39125"
      ]
     },
     "execution_count": 12,
     "metadata": {},
     "output_type": "execute_result"
    }
   ],
   "source": [
    "sum(df[\"Runtime (mins)\"]) / n_movies"
   ]
  },
  {
   "cell_type": "code",
   "execution_count": 13,
   "id": "6f2aed14",
   "metadata": {},
   "outputs": [
    {
     "data": {
      "text/plain": [
       "7.488624999999998"
      ]
     },
     "execution_count": 13,
     "metadata": {},
     "output_type": "execute_result"
    }
   ],
   "source": [
    "np.mean(df[\"IMDb Rating\"])"
   ]
  },
  {
   "cell_type": "code",
   "execution_count": 14,
   "id": "e22e53b7",
   "metadata": {},
   "outputs": [
    {
     "data": {
      "text/plain": [
       "0.7558823383139734"
      ]
     },
     "execution_count": 14,
     "metadata": {},
     "output_type": "execute_result"
    }
   ],
   "source": [
    "np.std(df[\"IMDb Rating\"])"
   ]
  },
  {
   "cell_type": "code",
   "execution_count": 15,
   "id": "ab65dc0a",
   "metadata": {},
   "outputs": [
    {
     "data": {
      "text/plain": [
       "7.63"
      ]
     },
     "execution_count": 15,
     "metadata": {},
     "output_type": "execute_result"
    }
   ],
   "source": [
    "np.mean(df[\"Your Rating\"])"
   ]
  },
  {
   "cell_type": "code",
   "execution_count": 16,
   "id": "66a4d6c4",
   "metadata": {},
   "outputs": [
    {
     "data": {
      "text/plain": [
       "1.31457217375083"
      ]
     },
     "execution_count": 16,
     "metadata": {},
     "output_type": "execute_result"
    }
   ],
   "source": [
    "np.std(df[\"Your Rating\"])"
   ]
  },
  {
   "cell_type": "code",
   "execution_count": 17,
   "id": "d81ca2c8",
   "metadata": {},
   "outputs": [
    {
     "data": {
      "text/plain": [
       "Christopher Nolan        9\n",
       "Steven Spielberg         9\n",
       "David Fincher            8\n",
       "Makoto Shinkai           7\n",
       "Alejandro G. Iñárritu    6\n",
       "Quentin Tarantino        6\n",
       "Martin Scorsese          6\n",
       "Richard Linklater        6\n",
       "Paul Thomas Anderson     6\n",
       "Ethan Coen, Joel Coen    6\n",
       "Wes Anderson             5\n",
       "Stanley Kubrick          5\n",
       "Rob Marshall             5\n",
       "Danny Boyle              5\n",
       "Alfred Hitchcock         5\n",
       "Denis Villeneuve         5\n",
       "Darren Aronofsky         5\n",
       "Gore Verbinski           4\n",
       "Alfonso Cuarón           4\n",
       "David Yates              4\n",
       "Name: Directors, dtype: int64"
      ]
     },
     "execution_count": 17,
     "metadata": {},
     "output_type": "execute_result"
    }
   ],
   "source": [
    "df.Directors.value_counts()[:20]"
   ]
  },
  {
   "cell_type": "code",
   "execution_count": 19,
   "id": "d01e1629",
   "metadata": {},
   "outputs": [
    {
     "data": {
      "text/html": [
       "<div>\n",
       "<style scoped>\n",
       "    .dataframe tbody tr th:only-of-type {\n",
       "        vertical-align: middle;\n",
       "    }\n",
       "\n",
       "    .dataframe tbody tr th {\n",
       "        vertical-align: top;\n",
       "    }\n",
       "\n",
       "    .dataframe thead th {\n",
       "        text-align: right;\n",
       "    }\n",
       "</style>\n",
       "<table border=\"1\" class=\"dataframe\">\n",
       "  <thead>\n",
       "    <tr style=\"text-align: right;\">\n",
       "      <th></th>\n",
       "      <th>Number of movies watched</th>\n",
       "      <th>Your Average Rating</th>\n",
       "    </tr>\n",
       "    <tr>\n",
       "      <th>Directors</th>\n",
       "      <th></th>\n",
       "      <th></th>\n",
       "    </tr>\n",
       "  </thead>\n",
       "  <tbody>\n",
       "    <tr>\n",
       "      <th>Mervyn LeRoy, King Vidor, Norman Taurog, George Cukor, Richard Thorpe, Victor Fleming</th>\n",
       "      <td>1</td>\n",
       "      <td>10.0</td>\n",
       "    </tr>\n",
       "    <tr>\n",
       "      <th>Lisanne Pajot, James Swirsky</th>\n",
       "      <td>1</td>\n",
       "      <td>10.0</td>\n",
       "    </tr>\n",
       "    <tr>\n",
       "      <th>Lilly Wachowski, Lana Wachowski</th>\n",
       "      <td>1</td>\n",
       "      <td>10.0</td>\n",
       "    </tr>\n",
       "    <tr>\n",
       "      <th>Yasujirô Ozu</th>\n",
       "      <td>1</td>\n",
       "      <td>10.0</td>\n",
       "    </tr>\n",
       "    <tr>\n",
       "      <th>John Patrick Shanley</th>\n",
       "      <td>1</td>\n",
       "      <td>10.0</td>\n",
       "    </tr>\n",
       "    <tr>\n",
       "      <th>Christopher Miller, Phil Lord</th>\n",
       "      <td>1</td>\n",
       "      <td>10.0</td>\n",
       "    </tr>\n",
       "    <tr>\n",
       "      <th>Olivier Nakache, Éric Toledano</th>\n",
       "      <td>1</td>\n",
       "      <td>10.0</td>\n",
       "    </tr>\n",
       "    <tr>\n",
       "      <th>Charlie Kaufman</th>\n",
       "      <td>2</td>\n",
       "      <td>9.5</td>\n",
       "    </tr>\n",
       "    <tr>\n",
       "      <th>Chris Sanders, Dean DeBlois</th>\n",
       "      <td>1</td>\n",
       "      <td>9.0</td>\n",
       "    </tr>\n",
       "    <tr>\n",
       "      <th>Daniel Ribeiro</th>\n",
       "      <td>1</td>\n",
       "      <td>9.0</td>\n",
       "    </tr>\n",
       "    <tr>\n",
       "      <th>Daniel Kwan, Daniel Scheinert</th>\n",
       "      <td>2</td>\n",
       "      <td>9.0</td>\n",
       "    </tr>\n",
       "    <tr>\n",
       "      <th>Henry Koster</th>\n",
       "      <td>1</td>\n",
       "      <td>9.0</td>\n",
       "    </tr>\n",
       "    <tr>\n",
       "      <th>Richard Curtis</th>\n",
       "      <td>1</td>\n",
       "      <td>9.0</td>\n",
       "    </tr>\n",
       "    <tr>\n",
       "      <th>Hiroaki Matsuyama</th>\n",
       "      <td>1</td>\n",
       "      <td>9.0</td>\n",
       "    </tr>\n",
       "    <tr>\n",
       "      <th>Charlotte Wells</th>\n",
       "      <td>1</td>\n",
       "      <td>9.0</td>\n",
       "    </tr>\n",
       "    <tr>\n",
       "      <th>Iain Softley</th>\n",
       "      <td>1</td>\n",
       "      <td>9.0</td>\n",
       "    </tr>\n",
       "    <tr>\n",
       "      <th>David France</th>\n",
       "      <td>1</td>\n",
       "      <td>9.0</td>\n",
       "    </tr>\n",
       "    <tr>\n",
       "      <th>Lee Unkrich</th>\n",
       "      <td>1</td>\n",
       "      <td>9.0</td>\n",
       "    </tr>\n",
       "    <tr>\n",
       "      <th>Rodrigo Sopeña, Luis Piedrahita</th>\n",
       "      <td>1</td>\n",
       "      <td>9.0</td>\n",
       "    </tr>\n",
       "    <tr>\n",
       "      <th>Sarah Polley</th>\n",
       "      <td>1</td>\n",
       "      <td>9.0</td>\n",
       "    </tr>\n",
       "  </tbody>\n",
       "</table>\n",
       "</div>"
      ],
      "text/plain": [
       "                                                    Number of movies watched  \\\n",
       "Directors                                                                      \n",
       "Mervyn LeRoy, King Vidor, Norman Taurog, George...                         1   \n",
       "Lisanne Pajot, James Swirsky                                               1   \n",
       "Lilly Wachowski, Lana Wachowski                                            1   \n",
       "Yasujirô Ozu                                                               1   \n",
       "John Patrick Shanley                                                       1   \n",
       "Christopher Miller, Phil Lord                                              1   \n",
       "Olivier Nakache, Éric Toledano                                             1   \n",
       "Charlie Kaufman                                                            2   \n",
       "Chris Sanders, Dean DeBlois                                                1   \n",
       "Daniel Ribeiro                                                             1   \n",
       "Daniel Kwan, Daniel Scheinert                                              2   \n",
       "Henry Koster                                                               1   \n",
       "Richard Curtis                                                             1   \n",
       "Hiroaki Matsuyama                                                          1   \n",
       "Charlotte Wells                                                            1   \n",
       "Iain Softley                                                               1   \n",
       "David France                                                               1   \n",
       "Lee Unkrich                                                                1   \n",
       "Rodrigo Sopeña, Luis Piedrahita                                            1   \n",
       "Sarah Polley                                                               1   \n",
       "\n",
       "                                                    Your Average Rating  \n",
       "Directors                                                                \n",
       "Mervyn LeRoy, King Vidor, Norman Taurog, George...                 10.0  \n",
       "Lisanne Pajot, James Swirsky                                       10.0  \n",
       "Lilly Wachowski, Lana Wachowski                                    10.0  \n",
       "Yasujirô Ozu                                                       10.0  \n",
       "John Patrick Shanley                                               10.0  \n",
       "Christopher Miller, Phil Lord                                      10.0  \n",
       "Olivier Nakache, Éric Toledano                                     10.0  \n",
       "Charlie Kaufman                                                     9.5  \n",
       "Chris Sanders, Dean DeBlois                                         9.0  \n",
       "Daniel Ribeiro                                                      9.0  \n",
       "Daniel Kwan, Daniel Scheinert                                       9.0  \n",
       "Henry Koster                                                        9.0  \n",
       "Richard Curtis                                                      9.0  \n",
       "Hiroaki Matsuyama                                                   9.0  \n",
       "Charlotte Wells                                                     9.0  \n",
       "Iain Softley                                                        9.0  \n",
       "David France                                                        9.0  \n",
       "Lee Unkrich                                                         9.0  \n",
       "Rodrigo Sopeña, Luis Piedrahita                                     9.0  \n",
       "Sarah Polley                                                        9.0  "
      ]
     },
     "execution_count": 19,
     "metadata": {},
     "output_type": "execute_result"
    }
   ],
   "source": [
    "director_scores = pd.DataFrame(df.groupby('Directors').agg({'Directors':'size', 'Your Rating':'mean'}).rename(columns={'Directors':'Number of movies watched','Your Rating':'Your Average Rating'})).sort_values(['Your Average Rating'], ascending=False)\n",
    "director_scores.head(20)"
   ]
  },
  {
   "cell_type": "code",
   "execution_count": 20,
   "id": "87b457cd",
   "metadata": {},
   "outputs": [
    {
     "data": {
      "text/html": [
       "<div>\n",
       "<style scoped>\n",
       "    .dataframe tbody tr th:only-of-type {\n",
       "        vertical-align: middle;\n",
       "    }\n",
       "\n",
       "    .dataframe tbody tr th {\n",
       "        vertical-align: top;\n",
       "    }\n",
       "\n",
       "    .dataframe thead th {\n",
       "        text-align: right;\n",
       "    }\n",
       "</style>\n",
       "<table border=\"1\" class=\"dataframe\">\n",
       "  <thead>\n",
       "    <tr style=\"text-align: right;\">\n",
       "      <th></th>\n",
       "      <th>0</th>\n",
       "    </tr>\n",
       "    <tr>\n",
       "      <th>Directors</th>\n",
       "      <th></th>\n",
       "    </tr>\n",
       "  </thead>\n",
       "  <tbody>\n",
       "    <tr>\n",
       "      <th>Aamir Khan, Amole Gupte</th>\n",
       "      <td>1</td>\n",
       "    </tr>\n",
       "    <tr>\n",
       "      <th>Abbas Kiarostami</th>\n",
       "      <td>1</td>\n",
       "    </tr>\n",
       "    <tr>\n",
       "      <th>Abdullah Mohammed Saad</th>\n",
       "      <td>1</td>\n",
       "    </tr>\n",
       "    <tr>\n",
       "      <th>Adam Elliot</th>\n",
       "      <td>1</td>\n",
       "    </tr>\n",
       "    <tr>\n",
       "      <th>Adam McKay</th>\n",
       "      <td>1</td>\n",
       "    </tr>\n",
       "    <tr>\n",
       "      <th>...</th>\n",
       "      <td>...</td>\n",
       "    </tr>\n",
       "    <tr>\n",
       "      <th>Zach Braff</th>\n",
       "      <td>1</td>\n",
       "    </tr>\n",
       "    <tr>\n",
       "      <th>Zack Snyder</th>\n",
       "      <td>1</td>\n",
       "    </tr>\n",
       "    <tr>\n",
       "      <th>Zaza Urushadze</th>\n",
       "      <td>1</td>\n",
       "    </tr>\n",
       "    <tr>\n",
       "      <th>Álex de la Iglesia</th>\n",
       "      <td>1</td>\n",
       "    </tr>\n",
       "    <tr>\n",
       "      <th>Çagan Irmak</th>\n",
       "      <td>1</td>\n",
       "    </tr>\n",
       "  </tbody>\n",
       "</table>\n",
       "<p>539 rows × 1 columns</p>\n",
       "</div>"
      ],
      "text/plain": [
       "                         0\n",
       "Directors                 \n",
       "Aamir Khan, Amole Gupte  1\n",
       "Abbas Kiarostami         1\n",
       "Abdullah Mohammed Saad   1\n",
       "Adam Elliot              1\n",
       "Adam McKay               1\n",
       "...                     ..\n",
       "Zach Braff               1\n",
       "Zack Snyder              1\n",
       "Zaza Urushadze           1\n",
       "Álex de la Iglesia       1\n",
       "Çagan Irmak              1\n",
       "\n",
       "[539 rows x 1 columns]"
      ]
     },
     "execution_count": 20,
     "metadata": {},
     "output_type": "execute_result"
    }
   ],
   "source": [
    "pd.DataFrame(df.groupby(['Directors']).size())"
   ]
  },
  {
   "cell_type": "markdown",
   "id": "80b7348c",
   "metadata": {},
   "source": [
    "https://www.analyticsvidhya.com/blog/2022/03/exploratory-data-analysis-with-an-example/"
   ]
  },
  {
   "cell_type": "markdown",
   "id": "ca4d3caa",
   "metadata": {},
   "source": [
    "# Your Rating"
   ]
  },
  {
   "cell_type": "code",
   "execution_count": 50,
   "id": "bda8ba67",
   "metadata": {},
   "outputs": [],
   "source": [
    "import seaborn as sns\n",
    "import matplotlib.pyplot as plt"
   ]
  },
  {
   "cell_type": "code",
   "execution_count": 59,
   "id": "6b0fae53",
   "metadata": {},
   "outputs": [],
   "source": [
    "sns.set(rc={'figure.figsize':(15,7)})"
   ]
  },
  {
   "cell_type": "code",
   "execution_count": 26,
   "id": "662e76f9",
   "metadata": {},
   "outputs": [
    {
     "data": {
      "text/plain": [
       "7.63"
      ]
     },
     "execution_count": 26,
     "metadata": {},
     "output_type": "execute_result"
    }
   ],
   "source": [
    "my_average_rating = np.mean(df['Your Rating'])\n",
    "my_average_rating"
   ]
  },
  {
   "cell_type": "code",
   "execution_count": 28,
   "id": "d369e5b7",
   "metadata": {},
   "outputs": [],
   "source": [
    "df['Release Year'] = df['Release Date'].str.split('-').str[0]\n",
    "df['Above average'] = df['Your Rating'].map(lambda rating: 'Yes' if rating > my_average_rating else 'No')"
   ]
  },
  {
   "cell_type": "code",
   "execution_count": 30,
   "id": "e6ff6cbc",
   "metadata": {},
   "outputs": [
    {
     "data": {
      "text/html": [
       "<div>\n",
       "<style scoped>\n",
       "    .dataframe tbody tr th:only-of-type {\n",
       "        vertical-align: middle;\n",
       "    }\n",
       "\n",
       "    .dataframe tbody tr th {\n",
       "        vertical-align: top;\n",
       "    }\n",
       "\n",
       "    .dataframe thead th {\n",
       "        text-align: right;\n",
       "    }\n",
       "</style>\n",
       "<table border=\"1\" class=\"dataframe\">\n",
       "  <thead>\n",
       "    <tr style=\"text-align: right;\">\n",
       "      <th></th>\n",
       "      <th>Position</th>\n",
       "      <th>Const</th>\n",
       "      <th>Created</th>\n",
       "      <th>Modified</th>\n",
       "      <th>Description</th>\n",
       "      <th>Title</th>\n",
       "      <th>URL</th>\n",
       "      <th>Title Type</th>\n",
       "      <th>IMDb Rating</th>\n",
       "      <th>Runtime (mins)</th>\n",
       "      <th>Year</th>\n",
       "      <th>Genres</th>\n",
       "      <th>Num Votes</th>\n",
       "      <th>Release Date</th>\n",
       "      <th>Directors</th>\n",
       "      <th>Your Rating</th>\n",
       "      <th>Date Rated</th>\n",
       "      <th>Release Year</th>\n",
       "      <th>Above average</th>\n",
       "    </tr>\n",
       "  </thead>\n",
       "  <tbody>\n",
       "    <tr>\n",
       "      <th>0</th>\n",
       "      <td>1</td>\n",
       "      <td>tt0111161</td>\n",
       "      <td>2012-07-05</td>\n",
       "      <td>2012-07-05</td>\n",
       "      <td>NaN</td>\n",
       "      <td>The Shawshank Redemption</td>\n",
       "      <td>https://www.imdb.com/title/tt0111161/</td>\n",
       "      <td>movie</td>\n",
       "      <td>9.3</td>\n",
       "      <td>142</td>\n",
       "      <td>1994</td>\n",
       "      <td>Drama</td>\n",
       "      <td>2759556</td>\n",
       "      <td>1994-09-10</td>\n",
       "      <td>Frank Darabont</td>\n",
       "      <td>10</td>\n",
       "      <td>2012-07-05</td>\n",
       "      <td>1994</td>\n",
       "      <td>Yes</td>\n",
       "    </tr>\n",
       "    <tr>\n",
       "      <th>1</th>\n",
       "      <td>2</td>\n",
       "      <td>tt0068646</td>\n",
       "      <td>2012-07-05</td>\n",
       "      <td>2012-07-05</td>\n",
       "      <td>NaN</td>\n",
       "      <td>The Godfather</td>\n",
       "      <td>https://www.imdb.com/title/tt0068646/</td>\n",
       "      <td>movie</td>\n",
       "      <td>9.2</td>\n",
       "      <td>175</td>\n",
       "      <td>1972</td>\n",
       "      <td>Crime, Drama</td>\n",
       "      <td>1920318</td>\n",
       "      <td>1972-03-14</td>\n",
       "      <td>Francis Ford Coppola</td>\n",
       "      <td>7</td>\n",
       "      <td>2012-09-15</td>\n",
       "      <td>1972</td>\n",
       "      <td>No</td>\n",
       "    </tr>\n",
       "    <tr>\n",
       "      <th>2</th>\n",
       "      <td>3</td>\n",
       "      <td>tt0468569</td>\n",
       "      <td>2012-07-05</td>\n",
       "      <td>2012-07-05</td>\n",
       "      <td>NaN</td>\n",
       "      <td>The Dark Knight</td>\n",
       "      <td>https://www.imdb.com/title/tt0468569/</td>\n",
       "      <td>movie</td>\n",
       "      <td>9.0</td>\n",
       "      <td>152</td>\n",
       "      <td>2008</td>\n",
       "      <td>Action, Crime, Drama, Thriller</td>\n",
       "      <td>2732541</td>\n",
       "      <td>2008-07-14</td>\n",
       "      <td>Christopher Nolan</td>\n",
       "      <td>8</td>\n",
       "      <td>2012-07-19</td>\n",
       "      <td>2008</td>\n",
       "      <td>Yes</td>\n",
       "    </tr>\n",
       "    <tr>\n",
       "      <th>3</th>\n",
       "      <td>4</td>\n",
       "      <td>tt0137523</td>\n",
       "      <td>2012-07-05</td>\n",
       "      <td>2012-07-05</td>\n",
       "      <td>NaN</td>\n",
       "      <td>Fight Club</td>\n",
       "      <td>https://www.imdb.com/title/tt0137523/</td>\n",
       "      <td>movie</td>\n",
       "      <td>8.8</td>\n",
       "      <td>139</td>\n",
       "      <td>1999</td>\n",
       "      <td>Drama</td>\n",
       "      <td>2197181</td>\n",
       "      <td>1999-09-10</td>\n",
       "      <td>David Fincher</td>\n",
       "      <td>9</td>\n",
       "      <td>2012-07-05</td>\n",
       "      <td>1999</td>\n",
       "      <td>Yes</td>\n",
       "    </tr>\n",
       "    <tr>\n",
       "      <th>4</th>\n",
       "      <td>5</td>\n",
       "      <td>tt1375666</td>\n",
       "      <td>2012-07-05</td>\n",
       "      <td>2012-07-05</td>\n",
       "      <td>NaN</td>\n",
       "      <td>Inception</td>\n",
       "      <td>https://www.imdb.com/title/tt1375666/</td>\n",
       "      <td>movie</td>\n",
       "      <td>8.8</td>\n",
       "      <td>148</td>\n",
       "      <td>2010</td>\n",
       "      <td>Action, Adventure, Sci-Fi, Thriller</td>\n",
       "      <td>2424924</td>\n",
       "      <td>2010-07-08</td>\n",
       "      <td>Christopher Nolan</td>\n",
       "      <td>9</td>\n",
       "      <td>2012-07-05</td>\n",
       "      <td>2010</td>\n",
       "      <td>Yes</td>\n",
       "    </tr>\n",
       "  </tbody>\n",
       "</table>\n",
       "</div>"
      ],
      "text/plain": [
       "   Position      Const     Created    Modified  Description  \\\n",
       "0         1  tt0111161  2012-07-05  2012-07-05          NaN   \n",
       "1         2  tt0068646  2012-07-05  2012-07-05          NaN   \n",
       "2         3  tt0468569  2012-07-05  2012-07-05          NaN   \n",
       "3         4  tt0137523  2012-07-05  2012-07-05          NaN   \n",
       "4         5  tt1375666  2012-07-05  2012-07-05          NaN   \n",
       "\n",
       "                      Title                                    URL Title Type  \\\n",
       "0  The Shawshank Redemption  https://www.imdb.com/title/tt0111161/      movie   \n",
       "1             The Godfather  https://www.imdb.com/title/tt0068646/      movie   \n",
       "2           The Dark Knight  https://www.imdb.com/title/tt0468569/      movie   \n",
       "3                Fight Club  https://www.imdb.com/title/tt0137523/      movie   \n",
       "4                 Inception  https://www.imdb.com/title/tt1375666/      movie   \n",
       "\n",
       "   IMDb Rating  Runtime (mins)  Year                               Genres  \\\n",
       "0          9.3             142  1994                                Drama   \n",
       "1          9.2             175  1972                         Crime, Drama   \n",
       "2          9.0             152  2008       Action, Crime, Drama, Thriller   \n",
       "3          8.8             139  1999                                Drama   \n",
       "4          8.8             148  2010  Action, Adventure, Sci-Fi, Thriller   \n",
       "\n",
       "   Num Votes Release Date             Directors  Your Rating  Date Rated  \\\n",
       "0    2759556   1994-09-10        Frank Darabont           10  2012-07-05   \n",
       "1    1920318   1972-03-14  Francis Ford Coppola            7  2012-09-15   \n",
       "2    2732541   2008-07-14     Christopher Nolan            8  2012-07-19   \n",
       "3    2197181   1999-09-10         David Fincher            9  2012-07-05   \n",
       "4    2424924   2010-07-08     Christopher Nolan            9  2012-07-05   \n",
       "\n",
       "  Release Year Above average  \n",
       "0         1994           Yes  \n",
       "1         1972            No  \n",
       "2         2008           Yes  \n",
       "3         1999           Yes  \n",
       "4         2010           Yes  "
      ]
     },
     "execution_count": 30,
     "metadata": {},
     "output_type": "execute_result"
    }
   ],
   "source": [
    "df.head()"
   ]
  },
  {
   "cell_type": "code",
   "execution_count": 181,
   "id": "399ec3fa",
   "metadata": {},
   "outputs": [
    {
     "data": {
      "text/plain": [
       "array([10,  7,  8,  9,  5,  6,  2,  3,  4,  1])"
      ]
     },
     "execution_count": 181,
     "metadata": {},
     "output_type": "execute_result"
    }
   ],
   "source": [
    "df['Your Rating'].unique()"
   ]
  },
  {
   "cell_type": "code",
   "execution_count": 197,
   "id": "49c50304",
   "metadata": {},
   "outputs": [
    {
     "data": {
      "text/plain": [
       "0.1775"
      ]
     },
     "execution_count": 197,
     "metadata": {},
     "output_type": "execute_result"
    }
   ],
   "source": [
    "sum([0.0025, 0.00125, 0.00875, 0.01875, 0.035, 0.08875, 0, 0, 0, 0.0225]\n",
    ")"
   ]
  },
  {
   "cell_type": "code",
   "execution_count": 212,
   "id": "57b547cb",
   "metadata": {},
   "outputs": [
    {
     "data": {
      "text/plain": [
       "Your Rating\n",
       "1     0.0250\n",
       "2     0.0125\n",
       "3     0.0875\n",
       "4     0.1875\n",
       "5     0.3500\n",
       "6     0.8875\n",
       "7     2.0375\n",
       "8     4.0375\n",
       "9     2.1500\n",
       "10    0.2250\n",
       "Name: Your Rating, dtype: float64"
      ]
     },
     "execution_count": 212,
     "metadata": {},
     "output_type": "execute_result"
    }
   ],
   "source": [
    "ratings_frequencies"
   ]
  },
  {
   "cell_type": "code",
   "execution_count": 231,
   "id": "72e9057e",
   "metadata": {},
   "outputs": [
    {
     "data": {
      "text/plain": [
       "<matplotlib.legend.Legend at 0x7f2526f47310>"
      ]
     },
     "execution_count": 231,
     "metadata": {},
     "output_type": "execute_result"
    },
    {
     "data": {
      "image/png": "[encoded data removed]",
      "text/plain": [
       "<Figure size 576x576 with 1 Axes>"
      ]
     },
     "metadata": {},
     "output_type": "display_data"
    }
   ],
   "source": [
    "ratings_frequencies = df.groupby(['Your Rating'])['Your Rating'].count().map(lambda x: x / len(df))\n",
    "explode = [1 if r < 0.005 else 0 for r in ratings_frequencies.values]\n",
    "\n",
    "ratings_frequencies.plot.pie(y=\"Your Rating\", figsize=(8, 8), explode=3*ratings_frequencies.values[::-1], autopct='%1.1f%%', colors=sns.color_palette(\"coolwarm\", 10), startangle=0)\n",
    "plt.legend(sorted(df['Your Rating'].unique()), loc=\"lower left\")"
   ]
  },
  {
   "cell_type": "markdown",
   "id": "c7cf432e",
   "metadata": {},
   "source": [
    "**⚠ WARNING** When testing Viz, better try to visualize on just a subset of data"
   ]
  },
  {
   "cell_type": "code",
   "execution_count": 43,
   "id": "27d13a5a",
   "metadata": {},
   "outputs": [
    {
     "data": {
      "text/plain": [
       "<seaborn.axisgrid.FacetGrid at 0x7f254a5f2fa0>"
      ]
     },
     "execution_count": 43,
     "metadata": {},
     "output_type": "execute_result"
    },
    {
     "data": {
      "image/png": "[encoded data removed]",
      "text/plain": [
       "<Figure size 720x360 with 2 Axes>"
      ]
     },
     "metadata": {
      "needs_background": "light"
     },
     "output_type": "display_data"
    }
   ],
   "source": [
    "# sns.set_theme(style=\"darkgrid\")\n",
    "sns.displot(data=df, x=\"Year\", col=\"Above average\", kde=True)"
   ]
  },
  {
   "cell_type": "code",
   "execution_count": 261,
   "id": "a6b20b78",
   "metadata": {
    "scrolled": false
   },
   "outputs": [
    {
     "data": {
      "text/plain": [
       "<AxesSubplot:xlabel='Year', ylabel='Count'>"
      ]
     },
     "execution_count": 261,
     "metadata": {},
     "output_type": "execute_result"
    },
    {
     "data": {
      "image/png": "[encoded data removed]",
      "text/plain": [
       "<Figure size 1080x504 with 1 Axes>"
      ]
     },
     "metadata": {},
     "output_type": "display_data"
    }
   ],
   "source": [
    "sns.histplot(\n",
    "    df,\n",
    "    x=\"Year\", hue=\"Above average\",\n",
    "    stat=\"count\",\n",
    "    multiple=\"stack\",\n",
    "    binwidth=1,\n",
    "    palette={\"Yes\": \"#5ed654\", \"No\": \"red\"},\n",
    "    edgecolor=\".3\",\n",
    "    linewidth=.5,\n",
    ")"
   ]
  },
  {
   "cell_type": "code",
   "execution_count": 142,
   "id": "d016b7db",
   "metadata": {},
   "outputs": [
    {
     "data": {
      "text/plain": [
       "<AxesSubplot:xlabel='Year', ylabel='Percent'>"
      ]
     },
     "execution_count": 142,
     "metadata": {},
     "output_type": "execute_result"
    },
    {
     "data": {
      "image/png": "[encoded data removed]",
      "text/plain": [
       "<Figure size 1080x504 with 1 Axes>"
      ]
     },
     "metadata": {},
     "output_type": "display_data"
    }
   ],
   "source": [
    "sns.histplot(\n",
    "    df,\n",
    "    x=\"Year\", hue=\"Above average\",\n",
    "    multiple=\"fill\",\n",
    "    stat=\"percent\",\n",
    "    binwidth=1,\n",
    "    palette=\"light:m_r\",\n",
    "    edgecolor=\".3\",\n",
    "    linewidth=.5,\n",
    ")"
   ]
  },
  {
   "cell_type": "code",
   "execution_count": 252,
   "id": "60b9a103",
   "metadata": {},
   "outputs": [
    {
     "data": {
      "text/plain": [
       "Year\n",
       "1933     1\n",
       "1935     1\n",
       "1939     1\n",
       "1941     2\n",
       "1942     1\n",
       "        ..\n",
       "2019    19\n",
       "2020    15\n",
       "2021    22\n",
       "2022    26\n",
       "2023     6\n",
       "Name: Year, Length: 76, dtype: int64"
      ]
     },
     "execution_count": 252,
     "metadata": {},
     "output_type": "execute_result"
    }
   ],
   "source": [
    "years_frequencies = df.groupby([\"Year\"])['Year'].count()\n",
    "years_frequencies"
   ]
  },
  {
   "cell_type": "code",
   "execution_count": 253,
   "id": "c9395fe4",
   "metadata": {},
   "outputs": [
    {
     "data": {
      "text/plain": [
       "<AxesSubplot:xlabel='Year', ylabel='Year'>"
      ]
     },
     "execution_count": 253,
     "metadata": {},
     "output_type": "execute_result"
    },
    {
     "data": {
      "image/png": "[encoded data removed]",
      "text/plain": [
       "<Figure size 1080x504 with 1 Axes>"
      ]
     },
     "metadata": {},
     "output_type": "display_data"
    }
   ],
   "source": [
    "sns.lineplot(data=years_frequencies)"
   ]
  },
  {
   "cell_type": "code",
   "execution_count": 254,
   "id": "00563d5d",
   "metadata": {},
   "outputs": [
    {
     "data": {
      "text/plain": [
       "800"
      ]
     },
     "execution_count": 254,
     "metadata": {},
     "output_type": "execute_result"
    }
   ],
   "source": [
    "years_frequencies.sum()"
   ]
  },
  {
   "cell_type": "code",
   "execution_count": 257,
   "id": "e80a20bc",
   "metadata": {},
   "outputs": [
    {
     "data": {
      "image/png": "[encoded data removed]",
      "text/plain": [
       "<Figure size 1080x504 with 1 Axes>"
      ]
     },
     "metadata": {},
     "output_type": "display_data"
    }
   ],
   "source": [
    "years_frequencies = df.groupby([\"Year\"])['Year'].count() / len(df)\n",
    "\n",
    "z = sns.histplot(\n",
    "    df,\n",
    "    x=\"Year\", hue=\"Above average\",\n",
    "    multiple=\"fill\",\n",
    "    stat=\"percent\",\n",
    "    binwidth=1,\n",
    "    # kde=True,\n",
    "    palette=\"light:m_r\",\n",
    "    edgecolor=\".3\",\n",
    "    linewidth=.5,\n",
    ")\n",
    "z = sns.lineplot(data=years_frequencies / max(years_frequencies), color='teal')"
   ]
  },
  {
   "cell_type": "code",
   "execution_count": 96,
   "id": "cc45128f",
   "metadata": {},
   "outputs": [
    {
     "data": {
      "text/plain": [
       "[1, 2, 3, 4, 5, 6, 7, 8, 9, 10]"
      ]
     },
     "execution_count": 96,
     "metadata": {},
     "output_type": "execute_result"
    }
   ],
   "source": [
    "hue_order = df['Your Rating'].unique()\n",
    "hue_order = sorted(hue_order)\n",
    "hue_order"
   ]
  },
  {
   "cell_type": "code",
   "execution_count": 92,
   "id": "bac9f2b4",
   "metadata": {},
   "outputs": [],
   "source": [
    "df['Your Rating (cat)'] = pd.Categorical(df['Your Rating'])"
   ]
  },
  {
   "cell_type": "code",
   "execution_count": 93,
   "id": "fa6a86f8",
   "metadata": {},
   "outputs": [
    {
     "data": {
      "text/plain": [
       "0      10\n",
       "1       7\n",
       "2       8\n",
       "3       9\n",
       "4       9\n",
       "       ..\n",
       "795     9\n",
       "796     7\n",
       "797     8\n",
       "798     4\n",
       "799     9\n",
       "Name: Your Rating (cat), Length: 800, dtype: category\n",
       "Categories (10, int64): [1, 2, 3, 4, ..., 7, 8, 9, 10]"
      ]
     },
     "execution_count": 93,
     "metadata": {},
     "output_type": "execute_result"
    }
   ],
   "source": [
    "df['Your Rating (cat)']"
   ]
  },
  {
   "cell_type": "code",
   "execution_count": 99,
   "id": "1cf54410",
   "metadata": {},
   "outputs": [],
   "source": [
    "hue_order = df.groupby('Year')['Your Rating'].count().sort_values().index"
   ]
  },
  {
   "cell_type": "code",
   "execution_count": 111,
   "id": "367f6407",
   "metadata": {},
   "outputs": [],
   "source": [
    "possible_ratings = list(range(10, 0, -1))\n",
    "colors = sns.color_palette(\"coolwarm_r\", n_colors=len(possible_ratings))\n",
    "palette = {r: c for r, c in zip(possible_ratings, colors)}"
   ]
  },
  {
   "cell_type": "code",
   "execution_count": 120,
   "id": "1ddf9766",
   "metadata": {},
   "outputs": [],
   "source": [
    "palette[10] = (1, 1, 0)"
   ]
  },
  {
   "cell_type": "code",
   "execution_count": 121,
   "id": "dd189118",
   "metadata": {},
   "outputs": [
    {
     "data": {
      "text/plain": [
       "{10: (1, 1, 0),\n",
       " 9: (0.9182816725843137, 0.48417347218039214, 0.37779392507058823),\n",
       " 8: (0.963806056435294, 0.6341884145294118, 0.5137208491529413),\n",
       " 7: (0.9616447383764706, 0.7580291825411765, 0.6617823791647058),\n",
       " 6: (0.9094595977529412, 0.8393864797647058, 0.8003313524235294),\n",
       " 5: (0.8180564934117647, 0.8555896775450981, 0.9146376165490196),\n",
       " 4: (0.7087196897176471, 0.8057213889294117, 0.9811168090470588),\n",
       " 3: (0.5814861481882353, 0.7134505955294117, 0.9983143529411764),\n",
       " 2: (0.4570464785254902, 0.5940055499294118, 0.963029229690196),\n",
       " 1: (0.3383765114431373, 0.45281860883137254, 0.8793170768784313)}"
      ]
     },
     "execution_count": 121,
     "metadata": {},
     "output_type": "execute_result"
    }
   ],
   "source": [
    "palette"
   ]
  },
  {
   "cell_type": "code",
   "execution_count": 122,
   "id": "0e3b0c7d",
   "metadata": {},
   "outputs": [
    {
     "data": {
      "text/plain": [
       "<AxesSubplot:xlabel='Year', ylabel='Count'>"
      ]
     },
     "execution_count": 122,
     "metadata": {},
     "output_type": "execute_result"
    },
    {
     "data": {
      "image/png": "[encoded data removed]",
      "text/plain": [
       "<Figure size 1080x504 with 1 Axes>"
      ]
     },
     "metadata": {},
     "output_type": "display_data"
    }
   ],
   "source": [
    "sns.histplot(\n",
    "    df,\n",
    "    x=\"Year\", hue=\"Your Rating\",\n",
    "    multiple=\"stack\",\n",
    "    hue_order=possible_ratings,\n",
    "    binwidth=1,\n",
    "    palette=palette,\n",
    "    edgecolor=\".3\",\n",
    "    linewidth=.5,\n",
    ")"
   ]
  },
  {
   "cell_type": "markdown",
   "id": "c470497e",
   "metadata": {},
   "source": [
    "## per decade"
   ]
  },
  {
   "cell_type": "code",
   "execution_count": 123,
   "id": "ed482db7",
   "metadata": {},
   "outputs": [
    {
     "data": {
      "text/plain": [
       "(1933, 2023)"
      ]
     },
     "execution_count": 123,
     "metadata": {},
     "output_type": "execute_result"
    }
   ],
   "source": [
    "df.Year.min(), df.Year.max()"
   ]
  },
  {
   "cell_type": "code",
   "execution_count": 126,
   "id": "cfc27bba",
   "metadata": {},
   "outputs": [
    {
     "data": {
      "text/plain": [
       "[1933, 1943, 1953, 1963, 1973, 1983, 1993, 2003, 2013, 2023]"
      ]
     },
     "execution_count": 126,
     "metadata": {},
     "output_type": "execute_result"
    }
   ],
   "source": [
    "years_bins = range(1933, 2024, 10)\n",
    "list(years_bins)"
   ]
  },
  {
   "cell_type": "code",
   "execution_count": 129,
   "id": "5cf73466",
   "metadata": {},
   "outputs": [
    {
     "data": {
      "text/plain": [
       "<AxesSubplot:xlabel='Year', ylabel='Count'>"
      ]
     },
     "execution_count": 129,
     "metadata": {},
     "output_type": "execute_result"
    },
    {
     "data": {
      "image/png": "[encoded data removed]",
      "text/plain": [
       "<Figure size 1080x504 with 1 Axes>"
      ]
     },
     "metadata": {},
     "output_type": "display_data"
    }
   ],
   "source": [
    "plt.xticks(years_bins)\n",
    "sns.histplot(\n",
    "    df,\n",
    "    x=\"Year\", hue=\"Your Rating\",\n",
    "    multiple=\"stack\",\n",
    "    hue_order=possible_ratings,\n",
    "    bins=years_bins,\n",
    "    palette=palette,\n",
    "    edgecolor=\".3\",\n",
    "    linewidth=.5,\n",
    ")"
   ]
  },
  {
   "cell_type": "code",
   "execution_count": 134,
   "id": "19cd4553",
   "metadata": {},
   "outputs": [
    {
     "data": {
      "text/plain": [
       "<AxesSubplot:xlabel='Year', ylabel='Count'>"
      ]
     },
     "execution_count": 134,
     "metadata": {},
     "output_type": "execute_result"
    },
    {
     "data": {
      "image/png": "[encoded data removed]",
      "text/plain": [
       "<Figure size 1080x504 with 1 Axes>"
      ]
     },
     "metadata": {},
     "output_type": "display_data"
    }
   ],
   "source": [
    "plt.xticks(years_bins)\n",
    "sns.histplot(\n",
    "    df[df[\"Your Rating\"] == 10],\n",
    "    x=\"Year\", hue=\"Your Rating\",\n",
    "    multiple=\"stack\",\n",
    "    hue_order=possible_ratings,\n",
    "    binwidth=1,\n",
    "    palette=palette,\n",
    "    edgecolor=\".3\",\n",
    "    linewidth=.5,\n",
    ")\n"
   ]
  },
  {
   "cell_type": "code",
   "execution_count": 135,
   "id": "14dae332",
   "metadata": {},
   "outputs": [
    {
     "data": {
      "text/plain": [
       "<AxesSubplot:xlabel='Year', ylabel='Count'>"
      ]
     },
     "execution_count": 135,
     "metadata": {},
     "output_type": "execute_result"
    },
    {
     "data": {
      "image/png": "[encoded data removed]",
      "text/plain": [
       "<Figure size 1080x504 with 1 Axes>"
      ]
     },
     "metadata": {},
     "output_type": "display_data"
    }
   ],
   "source": [
    "plt.xticks(years_bins)\n",
    "sns.histplot(\n",
    "    df[df[\"Your Rating\"] == 9],\n",
    "    x=\"Year\", hue=\"Your Rating\",\n",
    "    multiple=\"stack\",\n",
    "    hue_order=possible_ratings,\n",
    "    binwidth=1,\n",
    "    palette=palette,\n",
    "    edgecolor=\".3\",\n",
    "    linewidth=.5,\n",
    ")\n"
   ]
  },
  {
   "cell_type": "code",
   "execution_count": null,
   "id": "939be1a9",
   "metadata": {},
   "outputs": [],
   "source": []
  }
 ],
 "metadata": {
  "kernelspec": {
   "display_name": "Python 3 (ipykernel)",
   "language": "python",
   "name": "python3"
  },
  "language_info": {
   "codemirror_mode": {
    "name": "ipython",
    "version": 3
   },
   "file_extension": ".py",
   "mimetype": "text/x-python",
   "name": "python",
   "nbconvert_exporter": "python",
   "pygments_lexer": "ipython3",
   "version": "3.9.12"
  }
 },
 "nbformat": 4,
 "nbformat_minor": 5
}
