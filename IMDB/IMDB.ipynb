{
 "cells": [
  {
   "cell_type": "code",
   "execution_count": 20,
   "id": "4e8cb01c",
   "metadata": {},
   "outputs": [],
   "source": [
    "import numpy as np\n",
    "import pandas as pd"
   ]
  },
  {
   "cell_type": "code",
   "execution_count": 5,
   "id": "e014051d",
   "metadata": {},
   "outputs": [],
   "source": [
    "df = pd.read_csv(\"WATCHLIST.csv\")"
   ]
  },
  {
   "cell_type": "code",
   "execution_count": 17,
   "id": "6e590cb1",
   "metadata": {
    "scrolled": true
   },
   "outputs": [
    {
     "name": "stdout",
     "output_type": "stream",
     "text": [
      "797\n"
     ]
    }
   ],
   "source": [
    "n_movies = len(df)\n",
    "print(n_movies)"
   ]
  },
  {
   "cell_type": "code",
   "execution_count": 9,
   "id": "4facae77",
   "metadata": {},
   "outputs": [
    {
     "data": {
      "text/html": [
       "<div>\n",
       "<style scoped>\n",
       "    .dataframe tbody tr th:only-of-type {\n",
       "        vertical-align: middle;\n",
       "    }\n",
       "\n",
       "    .dataframe tbody tr th {\n",
       "        vertical-align: top;\n",
       "    }\n",
       "\n",
       "    .dataframe thead th {\n",
       "        text-align: right;\n",
       "    }\n",
       "</style>\n",
       "<table border=\"1\" class=\"dataframe\">\n",
       "  <thead>\n",
       "    <tr style=\"text-align: right;\">\n",
       "      <th></th>\n",
       "      <th>Position</th>\n",
       "      <th>Const</th>\n",
       "      <th>Created</th>\n",
       "      <th>Modified</th>\n",
       "      <th>Description</th>\n",
       "      <th>Title</th>\n",
       "      <th>URL</th>\n",
       "      <th>Title Type</th>\n",
       "      <th>IMDb Rating</th>\n",
       "      <th>Runtime (mins)</th>\n",
       "      <th>Year</th>\n",
       "      <th>Genres</th>\n",
       "      <th>Num Votes</th>\n",
       "      <th>Release Date</th>\n",
       "      <th>Directors</th>\n",
       "      <th>Your Rating</th>\n",
       "      <th>Date Rated</th>\n",
       "    </tr>\n",
       "  </thead>\n",
       "  <tbody>\n",
       "    <tr>\n",
       "      <th>0</th>\n",
       "      <td>1</td>\n",
       "      <td>tt0111161</td>\n",
       "      <td>2012-07-05</td>\n",
       "      <td>2012-07-05</td>\n",
       "      <td>NaN</td>\n",
       "      <td>The Shawshank Redemption</td>\n",
       "      <td>https://www.imdb.com/title/tt0111161/</td>\n",
       "      <td>movie</td>\n",
       "      <td>9.3</td>\n",
       "      <td>142</td>\n",
       "      <td>1994</td>\n",
       "      <td>Drama</td>\n",
       "      <td>2757430</td>\n",
       "      <td>1994-09-10</td>\n",
       "      <td>Frank Darabont</td>\n",
       "      <td>10</td>\n",
       "      <td>2012-07-05</td>\n",
       "    </tr>\n",
       "    <tr>\n",
       "      <th>1</th>\n",
       "      <td>2</td>\n",
       "      <td>tt0068646</td>\n",
       "      <td>2012-07-05</td>\n",
       "      <td>2012-07-05</td>\n",
       "      <td>NaN</td>\n",
       "      <td>The Godfather</td>\n",
       "      <td>https://www.imdb.com/title/tt0068646/</td>\n",
       "      <td>movie</td>\n",
       "      <td>9.2</td>\n",
       "      <td>175</td>\n",
       "      <td>1972</td>\n",
       "      <td>Crime, Drama</td>\n",
       "      <td>1918696</td>\n",
       "      <td>1972-03-14</td>\n",
       "      <td>Francis Ford Coppola</td>\n",
       "      <td>7</td>\n",
       "      <td>2012-09-15</td>\n",
       "    </tr>\n",
       "    <tr>\n",
       "      <th>2</th>\n",
       "      <td>3</td>\n",
       "      <td>tt0468569</td>\n",
       "      <td>2012-07-05</td>\n",
       "      <td>2012-07-05</td>\n",
       "      <td>NaN</td>\n",
       "      <td>The Dark Knight</td>\n",
       "      <td>https://www.imdb.com/title/tt0468569/</td>\n",
       "      <td>movie</td>\n",
       "      <td>9.0</td>\n",
       "      <td>152</td>\n",
       "      <td>2008</td>\n",
       "      <td>Action, Crime, Drama, Thriller</td>\n",
       "      <td>2730404</td>\n",
       "      <td>2008-07-14</td>\n",
       "      <td>Christopher Nolan</td>\n",
       "      <td>8</td>\n",
       "      <td>2012-07-19</td>\n",
       "    </tr>\n",
       "    <tr>\n",
       "      <th>3</th>\n",
       "      <td>4</td>\n",
       "      <td>tt0137523</td>\n",
       "      <td>2012-07-05</td>\n",
       "      <td>2012-07-05</td>\n",
       "      <td>NaN</td>\n",
       "      <td>Fight Club</td>\n",
       "      <td>https://www.imdb.com/title/tt0137523/</td>\n",
       "      <td>movie</td>\n",
       "      <td>8.8</td>\n",
       "      <td>139</td>\n",
       "      <td>1999</td>\n",
       "      <td>Drama</td>\n",
       "      <td>2195523</td>\n",
       "      <td>1999-09-10</td>\n",
       "      <td>David Fincher</td>\n",
       "      <td>9</td>\n",
       "      <td>2012-07-05</td>\n",
       "    </tr>\n",
       "    <tr>\n",
       "      <th>4</th>\n",
       "      <td>5</td>\n",
       "      <td>tt1375666</td>\n",
       "      <td>2012-07-05</td>\n",
       "      <td>2012-07-05</td>\n",
       "      <td>NaN</td>\n",
       "      <td>Inception</td>\n",
       "      <td>https://www.imdb.com/title/tt1375666/</td>\n",
       "      <td>movie</td>\n",
       "      <td>8.8</td>\n",
       "      <td>148</td>\n",
       "      <td>2010</td>\n",
       "      <td>Action, Adventure, Sci-Fi, Thriller</td>\n",
       "      <td>2423019</td>\n",
       "      <td>2010-07-08</td>\n",
       "      <td>Christopher Nolan</td>\n",
       "      <td>9</td>\n",
       "      <td>2012-07-05</td>\n",
       "    </tr>\n",
       "  </tbody>\n",
       "</table>\n",
       "</div>"
      ],
      "text/plain": [
       "   Position      Const     Created    Modified  Description  \\\n",
       "0         1  tt0111161  2012-07-05  2012-07-05          NaN   \n",
       "1         2  tt0068646  2012-07-05  2012-07-05          NaN   \n",
       "2         3  tt0468569  2012-07-05  2012-07-05          NaN   \n",
       "3         4  tt0137523  2012-07-05  2012-07-05          NaN   \n",
       "4         5  tt1375666  2012-07-05  2012-07-05          NaN   \n",
       "\n",
       "                      Title                                    URL Title Type  \\\n",
       "0  The Shawshank Redemption  https://www.imdb.com/title/tt0111161/      movie   \n",
       "1             The Godfather  https://www.imdb.com/title/tt0068646/      movie   \n",
       "2           The Dark Knight  https://www.imdb.com/title/tt0468569/      movie   \n",
       "3                Fight Club  https://www.imdb.com/title/tt0137523/      movie   \n",
       "4                 Inception  https://www.imdb.com/title/tt1375666/      movie   \n",
       "\n",
       "   IMDb Rating  Runtime (mins)  Year                               Genres  \\\n",
       "0          9.3             142  1994                                Drama   \n",
       "1          9.2             175  1972                         Crime, Drama   \n",
       "2          9.0             152  2008       Action, Crime, Drama, Thriller   \n",
       "3          8.8             139  1999                                Drama   \n",
       "4          8.8             148  2010  Action, Adventure, Sci-Fi, Thriller   \n",
       "\n",
       "   Num Votes Release Date             Directors  Your Rating  Date Rated  \n",
       "0    2757430   1994-09-10        Frank Darabont           10  2012-07-05  \n",
       "1    1918696   1972-03-14  Francis Ford Coppola            7  2012-09-15  \n",
       "2    2730404   2008-07-14     Christopher Nolan            8  2012-07-19  \n",
       "3    2195523   1999-09-10         David Fincher            9  2012-07-05  \n",
       "4    2423019   2010-07-08     Christopher Nolan            9  2012-07-05  "
      ]
     },
     "execution_count": 9,
     "metadata": {},
     "output_type": "execute_result"
    }
   ],
   "source": [
    "df.head()"
   ]
  },
  {
   "cell_type": "code",
   "execution_count": 7,
   "id": "9983a0ca",
   "metadata": {},
   "outputs": [
    {
     "name": "stdout",
     "output_type": "stream",
     "text": [
      "<class 'pandas.core.frame.DataFrame'>\n",
      "RangeIndex: 797 entries, 0 to 796\n",
      "Data columns (total 17 columns):\n",
      " #   Column          Non-Null Count  Dtype  \n",
      "---  ------          --------------  -----  \n",
      " 0   Position        797 non-null    int64  \n",
      " 1   Const           797 non-null    object \n",
      " 2   Created         797 non-null    object \n",
      " 3   Modified        797 non-null    object \n",
      " 4   Description     0 non-null      float64\n",
      " 5   Title           797 non-null    object \n",
      " 6   URL             797 non-null    object \n",
      " 7   Title Type      797 non-null    object \n",
      " 8   IMDb Rating     797 non-null    float64\n",
      " 9   Runtime (mins)  797 non-null    int64  \n",
      " 10  Year            797 non-null    int64  \n",
      " 11  Genres          796 non-null    object \n",
      " 12  Num Votes       797 non-null    int64  \n",
      " 13  Release Date    797 non-null    object \n",
      " 14  Directors       790 non-null    object \n",
      " 15  Your Rating     797 non-null    int64  \n",
      " 16  Date Rated      797 non-null    object \n",
      "dtypes: float64(2), int64(5), object(10)\n",
      "memory usage: 106.0+ KB\n"
     ]
    }
   ],
   "source": [
    "df.info()"
   ]
  },
  {
   "cell_type": "code",
   "execution_count": 6,
   "id": "3dca0291",
   "metadata": {},
   "outputs": [
    {
     "data": {
      "text/html": [
       "<div>\n",
       "<style scoped>\n",
       "    .dataframe tbody tr th:only-of-type {\n",
       "        vertical-align: middle;\n",
       "    }\n",
       "\n",
       "    .dataframe tbody tr th {\n",
       "        vertical-align: top;\n",
       "    }\n",
       "\n",
       "    .dataframe thead th {\n",
       "        text-align: right;\n",
       "    }\n",
       "</style>\n",
       "<table border=\"1\" class=\"dataframe\">\n",
       "  <thead>\n",
       "    <tr style=\"text-align: right;\">\n",
       "      <th></th>\n",
       "      <th>Position</th>\n",
       "      <th>Description</th>\n",
       "      <th>IMDb Rating</th>\n",
       "      <th>Runtime (mins)</th>\n",
       "      <th>Year</th>\n",
       "      <th>Num Votes</th>\n",
       "      <th>Your Rating</th>\n",
       "    </tr>\n",
       "  </thead>\n",
       "  <tbody>\n",
       "    <tr>\n",
       "      <th>count</th>\n",
       "      <td>797.000000</td>\n",
       "      <td>0.0</td>\n",
       "      <td>797.000000</td>\n",
       "      <td>797.000000</td>\n",
       "      <td>797.000000</td>\n",
       "      <td>7.970000e+02</td>\n",
       "      <td>797.000000</td>\n",
       "    </tr>\n",
       "    <tr>\n",
       "      <th>mean</th>\n",
       "      <td>397.168130</td>\n",
       "      <td>NaN</td>\n",
       "      <td>7.489084</td>\n",
       "      <td>116.273526</td>\n",
       "      <td>2005.319950</td>\n",
       "      <td>3.334219e+05</td>\n",
       "      <td>7.631117</td>\n",
       "    </tr>\n",
       "    <tr>\n",
       "      <th>std</th>\n",
       "      <td>229.955828</td>\n",
       "      <td>NaN</td>\n",
       "      <td>0.757139</td>\n",
       "      <td>31.854655</td>\n",
       "      <td>15.700215</td>\n",
       "      <td>4.016824e+05</td>\n",
       "      <td>1.310735</td>\n",
       "    </tr>\n",
       "    <tr>\n",
       "      <th>min</th>\n",
       "      <td>1.000000</td>\n",
       "      <td>NaN</td>\n",
       "      <td>1.700000</td>\n",
       "      <td>12.000000</td>\n",
       "      <td>1933.000000</td>\n",
       "      <td>1.500000e+01</td>\n",
       "      <td>1.000000</td>\n",
       "    </tr>\n",
       "    <tr>\n",
       "      <th>25%</th>\n",
       "      <td>198.000000</td>\n",
       "      <td>NaN</td>\n",
       "      <td>7.100000</td>\n",
       "      <td>99.000000</td>\n",
       "      <td>2002.000000</td>\n",
       "      <td>6.256400e+04</td>\n",
       "      <td>7.000000</td>\n",
       "    </tr>\n",
       "    <tr>\n",
       "      <th>50%</th>\n",
       "      <td>397.000000</td>\n",
       "      <td>NaN</td>\n",
       "      <td>7.600000</td>\n",
       "      <td>113.000000</td>\n",
       "      <td>2010.000000</td>\n",
       "      <td>1.836000e+05</td>\n",
       "      <td>8.000000</td>\n",
       "    </tr>\n",
       "    <tr>\n",
       "      <th>75%</th>\n",
       "      <td>596.000000</td>\n",
       "      <td>NaN</td>\n",
       "      <td>8.000000</td>\n",
       "      <td>129.000000</td>\n",
       "      <td>2015.000000</td>\n",
       "      <td>4.669980e+05</td>\n",
       "      <td>8.000000</td>\n",
       "    </tr>\n",
       "    <tr>\n",
       "      <th>max</th>\n",
       "      <td>795.000000</td>\n",
       "      <td>NaN</td>\n",
       "      <td>9.300000</td>\n",
       "      <td>557.000000</td>\n",
       "      <td>2023.000000</td>\n",
       "      <td>2.757430e+06</td>\n",
       "      <td>10.000000</td>\n",
       "    </tr>\n",
       "  </tbody>\n",
       "</table>\n",
       "</div>"
      ],
      "text/plain": [
       "         Position  Description  IMDb Rating  Runtime (mins)         Year  \\\n",
       "count  797.000000          0.0   797.000000      797.000000   797.000000   \n",
       "mean   397.168130          NaN     7.489084      116.273526  2005.319950   \n",
       "std    229.955828          NaN     0.757139       31.854655    15.700215   \n",
       "min      1.000000          NaN     1.700000       12.000000  1933.000000   \n",
       "25%    198.000000          NaN     7.100000       99.000000  2002.000000   \n",
       "50%    397.000000          NaN     7.600000      113.000000  2010.000000   \n",
       "75%    596.000000          NaN     8.000000      129.000000  2015.000000   \n",
       "max    795.000000          NaN     9.300000      557.000000  2023.000000   \n",
       "\n",
       "          Num Votes  Your Rating  \n",
       "count  7.970000e+02   797.000000  \n",
       "mean   3.334219e+05     7.631117  \n",
       "std    4.016824e+05     1.310735  \n",
       "min    1.500000e+01     1.000000  \n",
       "25%    6.256400e+04     7.000000  \n",
       "50%    1.836000e+05     8.000000  \n",
       "75%    4.669980e+05     8.000000  \n",
       "max    2.757430e+06    10.000000  "
      ]
     },
     "execution_count": 6,
     "metadata": {},
     "output_type": "execute_result"
    }
   ],
   "source": [
    "df.describe()"
   ]
  },
  {
   "cell_type": "code",
   "execution_count": 10,
   "id": "3c9d64b2",
   "metadata": {},
   "outputs": [
    {
     "data": {
      "text/plain": [
       "540"
      ]
     },
     "execution_count": 10,
     "metadata": {},
     "output_type": "execute_result"
    }
   ],
   "source": [
    "len(df.Directors.unique())"
   ]
  },
  {
   "cell_type": "code",
   "execution_count": 12,
   "id": "7e9333db",
   "metadata": {},
   "outputs": [
    {
     "data": {
      "text/plain": [
       "76"
      ]
     },
     "execution_count": 12,
     "metadata": {},
     "output_type": "execute_result"
    }
   ],
   "source": [
    "len(df.Year.unique())"
   ]
  },
  {
   "cell_type": "code",
   "execution_count": 14,
   "id": "90bf8e30",
   "metadata": {},
   "outputs": [
    {
     "data": {
      "text/plain": [
       "1544.5"
      ]
     },
     "execution_count": 14,
     "metadata": {},
     "output_type": "execute_result"
    }
   ],
   "source": [
    "sum(df[\"Runtime (mins)\"]) / 60"
   ]
  },
  {
   "cell_type": "code",
   "execution_count": 15,
   "id": "118aa986",
   "metadata": {},
   "outputs": [
    {
     "data": {
      "text/plain": [
       "116.27352572145546"
      ]
     },
     "execution_count": 15,
     "metadata": {},
     "output_type": "execute_result"
    }
   ],
   "source": [
    "sum(df[\"Runtime (mins)\"]) / n_movies"
   ]
  },
  {
   "cell_type": "code",
   "execution_count": 21,
   "id": "6f2aed14",
   "metadata": {},
   "outputs": [
    {
     "data": {
      "text/plain": [
       "7.489084065244667"
      ]
     },
     "execution_count": 21,
     "metadata": {},
     "output_type": "execute_result"
    }
   ],
   "source": [
    "np.mean(df[\"IMDb Rating\"])"
   ]
  },
  {
   "cell_type": "code",
   "execution_count": 23,
   "id": "e22e53b7",
   "metadata": {},
   "outputs": [
    {
     "data": {
      "text/plain": [
       "0.7566642698544144"
      ]
     },
     "execution_count": 23,
     "metadata": {},
     "output_type": "execute_result"
    }
   ],
   "source": [
    "np.std(df[\"IMDb Rating\"])"
   ]
  },
  {
   "cell_type": "code",
   "execution_count": 25,
   "id": "ab65dc0a",
   "metadata": {},
   "outputs": [
    {
     "data": {
      "text/plain": [
       "7.631116687578419"
      ]
     },
     "execution_count": 25,
     "metadata": {},
     "output_type": "execute_result"
    }
   ],
   "source": [
    "np.mean(df[\"Your Rating\"])"
   ]
  },
  {
   "cell_type": "code",
   "execution_count": 26,
   "id": "66a4d6c4",
   "metadata": {},
   "outputs": [
    {
     "data": {
      "text/plain": [
       "1.3099121706398977"
      ]
     },
     "execution_count": 26,
     "metadata": {},
     "output_type": "execute_result"
    }
   ],
   "source": [
    "np.std(df[\"Your Rating\"])"
   ]
  },
  {
   "cell_type": "code",
   "execution_count": 30,
   "id": "d81ca2c8",
   "metadata": {},
   "outputs": [
    {
     "data": {
      "text/plain": [
       "Christopher Nolan        9\n",
       "Steven Spielberg         9\n",
       "David Fincher            8\n",
       "Makoto Shinkai           7\n",
       "Richard Linklater        6\n",
       "Alejandro G. Iñárritu    6\n",
       "Ethan Coen, Joel Coen    6\n",
       "Martin Scorsese          6\n",
       "Quentin Tarantino        6\n",
       "Paul Thomas Anderson     5\n",
       "Rob Marshall             5\n",
       "Denis Villeneuve         5\n",
       "Danny Boyle              5\n",
       "Darren Aronofsky         5\n",
       "Alfred Hitchcock         5\n",
       "Stanley Kubrick          5\n",
       "Wes Anderson             5\n",
       "James Cameron            4\n",
       "Martin McDonagh          4\n",
       "Yorgos Lanthimos         4\n",
       "Name: Directors, dtype: int64"
      ]
     },
     "execution_count": 30,
     "metadata": {},
     "output_type": "execute_result"
    }
   ],
   "source": [
    "df.Directors.value_counts()[:20]"
   ]
  },
  {
   "cell_type": "code",
   "execution_count": 53,
   "id": "d01e1629",
   "metadata": {},
   "outputs": [
    {
     "data": {
      "text/html": [
       "<div>\n",
       "<style scoped>\n",
       "    .dataframe tbody tr th:only-of-type {\n",
       "        vertical-align: middle;\n",
       "    }\n",
       "\n",
       "    .dataframe tbody tr th {\n",
       "        vertical-align: top;\n",
       "    }\n",
       "\n",
       "    .dataframe thead th {\n",
       "        text-align: right;\n",
       "    }\n",
       "</style>\n",
       "<table border=\"1\" class=\"dataframe\">\n",
       "  <thead>\n",
       "    <tr style=\"text-align: right;\">\n",
       "      <th></th>\n",
       "      <th>Number of movies watched</th>\n",
       "      <th>Your Average Rating</th>\n",
       "    </tr>\n",
       "    <tr>\n",
       "      <th>Directors</th>\n",
       "      <th></th>\n",
       "      <th></th>\n",
       "    </tr>\n",
       "  </thead>\n",
       "  <tbody>\n",
       "    <tr>\n",
       "      <th>Christopher Miller, Phil Lord</th>\n",
       "      <td>1</td>\n",
       "      <td>10.0</td>\n",
       "    </tr>\n",
       "    <tr>\n",
       "      <th>Mervyn LeRoy, Norman Taurog, George Cukor, King Vidor, Richard Thorpe, Victor Fleming</th>\n",
       "      <td>1</td>\n",
       "      <td>10.0</td>\n",
       "    </tr>\n",
       "    <tr>\n",
       "      <th>Lilly Wachowski, Lana Wachowski</th>\n",
       "      <td>1</td>\n",
       "      <td>10.0</td>\n",
       "    </tr>\n",
       "    <tr>\n",
       "      <th>Yasujirô Ozu</th>\n",
       "      <td>1</td>\n",
       "      <td>10.0</td>\n",
       "    </tr>\n",
       "    <tr>\n",
       "      <th>John Patrick Shanley</th>\n",
       "      <td>1</td>\n",
       "      <td>10.0</td>\n",
       "    </tr>\n",
       "    <tr>\n",
       "      <th>Lisanne Pajot, James Swirsky</th>\n",
       "      <td>1</td>\n",
       "      <td>10.0</td>\n",
       "    </tr>\n",
       "    <tr>\n",
       "      <th>Olivier Nakache, Éric Toledano</th>\n",
       "      <td>1</td>\n",
       "      <td>10.0</td>\n",
       "    </tr>\n",
       "    <tr>\n",
       "      <th>Charlie Kaufman</th>\n",
       "      <td>2</td>\n",
       "      <td>9.5</td>\n",
       "    </tr>\n",
       "    <tr>\n",
       "      <th>Sidney Lumet</th>\n",
       "      <td>2</td>\n",
       "      <td>9.0</td>\n",
       "    </tr>\n",
       "    <tr>\n",
       "      <th>Mohsen Makhmalbaf</th>\n",
       "      <td>1</td>\n",
       "      <td>9.0</td>\n",
       "    </tr>\n",
       "    <tr>\n",
       "      <th>Shane Carruth</th>\n",
       "      <td>2</td>\n",
       "      <td>9.0</td>\n",
       "    </tr>\n",
       "    <tr>\n",
       "      <th>Bo Burnham</th>\n",
       "      <td>2</td>\n",
       "      <td>9.0</td>\n",
       "    </tr>\n",
       "    <tr>\n",
       "      <th>Miranda July</th>\n",
       "      <td>1</td>\n",
       "      <td>9.0</td>\n",
       "    </tr>\n",
       "    <tr>\n",
       "      <th>Michaël R. Roskam</th>\n",
       "      <td>1</td>\n",
       "      <td>9.0</td>\n",
       "    </tr>\n",
       "    <tr>\n",
       "      <th>Sophie Fiennes</th>\n",
       "      <td>1</td>\n",
       "      <td>9.0</td>\n",
       "    </tr>\n",
       "    <tr>\n",
       "      <th>Michel Gondry</th>\n",
       "      <td>1</td>\n",
       "      <td>9.0</td>\n",
       "    </tr>\n",
       "    <tr>\n",
       "      <th>Stevan Djordjevic, Nebojsa Andric, Aleksa Gajic</th>\n",
       "      <td>1</td>\n",
       "      <td>9.0</td>\n",
       "    </tr>\n",
       "    <tr>\n",
       "      <th>Michael Sucsy</th>\n",
       "      <td>1</td>\n",
       "      <td>9.0</td>\n",
       "    </tr>\n",
       "    <tr>\n",
       "      <th>Frank Capra</th>\n",
       "      <td>1</td>\n",
       "      <td>9.0</td>\n",
       "    </tr>\n",
       "    <tr>\n",
       "      <th>Gabriele Muccino</th>\n",
       "      <td>1</td>\n",
       "      <td>9.0</td>\n",
       "    </tr>\n",
       "  </tbody>\n",
       "</table>\n",
       "</div>"
      ],
      "text/plain": [
       "                                                    Number of movies watched  \\\n",
       "Directors                                                                      \n",
       "Christopher Miller, Phil Lord                                              1   \n",
       "Mervyn LeRoy, Norman Taurog, George Cukor, King...                         1   \n",
       "Lilly Wachowski, Lana Wachowski                                            1   \n",
       "Yasujirô Ozu                                                               1   \n",
       "John Patrick Shanley                                                       1   \n",
       "Lisanne Pajot, James Swirsky                                               1   \n",
       "Olivier Nakache, Éric Toledano                                             1   \n",
       "Charlie Kaufman                                                            2   \n",
       "Sidney Lumet                                                               2   \n",
       "Mohsen Makhmalbaf                                                          1   \n",
       "Shane Carruth                                                              2   \n",
       "Bo Burnham                                                                 2   \n",
       "Miranda July                                                               1   \n",
       "Michaël R. Roskam                                                          1   \n",
       "Sophie Fiennes                                                             1   \n",
       "Michel Gondry                                                              1   \n",
       "Stevan Djordjevic, Nebojsa Andric, Aleksa Gajic                            1   \n",
       "Michael Sucsy                                                              1   \n",
       "Frank Capra                                                                1   \n",
       "Gabriele Muccino                                                           1   \n",
       "\n",
       "                                                    Your Average Rating  \n",
       "Directors                                                                \n",
       "Christopher Miller, Phil Lord                                      10.0  \n",
       "Mervyn LeRoy, Norman Taurog, George Cukor, King...                 10.0  \n",
       "Lilly Wachowski, Lana Wachowski                                    10.0  \n",
       "Yasujirô Ozu                                                       10.0  \n",
       "John Patrick Shanley                                               10.0  \n",
       "Lisanne Pajot, James Swirsky                                       10.0  \n",
       "Olivier Nakache, Éric Toledano                                     10.0  \n",
       "Charlie Kaufman                                                     9.5  \n",
       "Sidney Lumet                                                        9.0  \n",
       "Mohsen Makhmalbaf                                                   9.0  \n",
       "Shane Carruth                                                       9.0  \n",
       "Bo Burnham                                                          9.0  \n",
       "Miranda July                                                        9.0  \n",
       "Michaël R. Roskam                                                   9.0  \n",
       "Sophie Fiennes                                                      9.0  \n",
       "Michel Gondry                                                       9.0  \n",
       "Stevan Djordjevic, Nebojsa Andric, Aleksa Gajic                     9.0  \n",
       "Michael Sucsy                                                       9.0  \n",
       "Frank Capra                                                         9.0  \n",
       "Gabriele Muccino                                                    9.0  "
      ]
     },
     "execution_count": 53,
     "metadata": {},
     "output_type": "execute_result"
    }
   ],
   "source": [
    "director_scores = pd.DataFrame(df.groupby('Directors').agg({'Directors':'size', 'Your Rating':'mean'}).rename(columns={'Directors':'Number of movies watched','Your Rating':'Your Average Rating'})).sort_values(['Your Average Rating'], ascending=False)\n",
    "director_scores.head(20)"
   ]
  },
  {
   "cell_type": "code",
   "execution_count": 41,
   "id": "87b457cd",
   "metadata": {},
   "outputs": [
    {
     "data": {
      "text/html": [
       "<div>\n",
       "<style scoped>\n",
       "    .dataframe tbody tr th:only-of-type {\n",
       "        vertical-align: middle;\n",
       "    }\n",
       "\n",
       "    .dataframe tbody tr th {\n",
       "        vertical-align: top;\n",
       "    }\n",
       "\n",
       "    .dataframe thead th {\n",
       "        text-align: right;\n",
       "    }\n",
       "</style>\n",
       "<table border=\"1\" class=\"dataframe\">\n",
       "  <thead>\n",
       "    <tr style=\"text-align: right;\">\n",
       "      <th></th>\n",
       "      <th>0</th>\n",
       "    </tr>\n",
       "    <tr>\n",
       "      <th>Directors</th>\n",
       "      <th></th>\n",
       "    </tr>\n",
       "  </thead>\n",
       "  <tbody>\n",
       "    <tr>\n",
       "      <th>Aamir Khan, Amole Gupte</th>\n",
       "      <td>1</td>\n",
       "    </tr>\n",
       "    <tr>\n",
       "      <th>Abbas Kiarostami</th>\n",
       "      <td>1</td>\n",
       "    </tr>\n",
       "    <tr>\n",
       "      <th>Abdullah Mohammed Saad</th>\n",
       "      <td>1</td>\n",
       "    </tr>\n",
       "    <tr>\n",
       "      <th>Adam Elliot</th>\n",
       "      <td>1</td>\n",
       "    </tr>\n",
       "    <tr>\n",
       "      <th>Adam McKay</th>\n",
       "      <td>1</td>\n",
       "    </tr>\n",
       "    <tr>\n",
       "      <th>...</th>\n",
       "      <td>...</td>\n",
       "    </tr>\n",
       "    <tr>\n",
       "      <th>Zach Braff</th>\n",
       "      <td>1</td>\n",
       "    </tr>\n",
       "    <tr>\n",
       "      <th>Zack Snyder</th>\n",
       "      <td>1</td>\n",
       "    </tr>\n",
       "    <tr>\n",
       "      <th>Zaza Urushadze</th>\n",
       "      <td>1</td>\n",
       "    </tr>\n",
       "    <tr>\n",
       "      <th>Álex de la Iglesia</th>\n",
       "      <td>1</td>\n",
       "    </tr>\n",
       "    <tr>\n",
       "      <th>Çagan Irmak</th>\n",
       "      <td>1</td>\n",
       "    </tr>\n",
       "  </tbody>\n",
       "</table>\n",
       "<p>539 rows × 1 columns</p>\n",
       "</div>"
      ],
      "text/plain": [
       "                         0\n",
       "Directors                 \n",
       "Aamir Khan, Amole Gupte  1\n",
       "Abbas Kiarostami         1\n",
       "Abdullah Mohammed Saad   1\n",
       "Adam Elliot              1\n",
       "Adam McKay               1\n",
       "...                     ..\n",
       "Zach Braff               1\n",
       "Zack Snyder              1\n",
       "Zaza Urushadze           1\n",
       "Álex de la Iglesia       1\n",
       "Çagan Irmak              1\n",
       "\n",
       "[539 rows x 1 columns]"
      ]
     },
     "execution_count": 41,
     "metadata": {},
     "output_type": "execute_result"
    }
   ],
   "source": [
    "pd.DataFrame(df.groupby(['Directors']).size())"
   ]
  },
  {
   "cell_type": "markdown",
   "id": "80b7348c",
   "metadata": {},
   "source": [
    "https://www.analyticsvidhya.com/blog/2022/03/exploratory-data-analysis-with-an-example/"
   ]
  },
  {
   "cell_type": "code",
   "execution_count": null,
   "id": "a30c1cd0",
   "metadata": {},
   "outputs": [],
   "source": []
  }
 ],
 "metadata": {
  "kernelspec": {
   "display_name": "Python 3 (ipykernel)",
   "language": "python",
   "name": "python3"
  },
  "language_info": {
   "codemirror_mode": {
    "name": "ipython",
    "version": 3
   },
   "file_extension": ".py",
   "mimetype": "text/x-python",
   "name": "python",
   "nbconvert_exporter": "python",
   "pygments_lexer": "ipython3",
   "version": "3.9.12"
  }
 },
 "nbformat": 4,
 "nbformat_minor": 5
}
