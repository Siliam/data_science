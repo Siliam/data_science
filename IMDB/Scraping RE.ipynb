{
 "cells": [
  {
   "cell_type": "code",
   "execution_count": 4,
   "id": "d1e9b282",
   "metadata": {},
   "outputs": [],
   "source": [
    "import requests\n",
    "import time\n",
    "from tqdm.notebook import tqdm"
   ]
  },
  {
   "cell_type": "code",
   "execution_count": 2,
   "id": "035340be",
   "metadata": {},
   "outputs": [],
   "source": [
    "base_url = \"https://www.rogerebert.com/reviews?utf8=%E2%9C%93&filters%5Btitle%5D=&sort%5Border%5D=newest&filters%5Byears%5D%5B%5D=1914&filters%5Byears%5D%5B%5D=2023&filters%5Bstar_rating%5D%5B%5D=0.0&filters%5Bstar_rating%5D%5B%5D=4.0&filters%5Bno_stars%5D=1&filters%5Breviewers%5D%5B%5D=50cbacd5f3b43b53e9000003&page=\""
   ]
  },
  {
   "cell_type": "code",
   "execution_count": 31,
   "id": "6aa4565a",
   "metadata": {},
   "outputs": [],
   "source": [
    "base_url = \"https://www.rottentomatoes.com/napi/critics/roger-ebert/movies?after=MQ%3D%3D&pagecount=\""
   ]
  },
  {
   "cell_type": "code",
   "execution_count": 32,
   "id": "4231bf85",
   "metadata": {},
   "outputs": [
    {
     "data": {
      "application/vnd.jupyter.widget-view+json": {
       "model_id": "84a86a353046477dae0eeb36f37db89f",
       "version_major": 2,
       "version_minor": 0
      },
      "text/plain": [
       "  0%|          | 0/1000 [00:00<?, ?it/s]"
      ]
     },
     "metadata": {},
     "output_type": "display_data"
    }
   ],
   "source": [
    "for i in tqdm(range(1, 1001)):\n",
    "    response = requests.get(base_url + str(i))\n",
    "    time.sleep(1)\n",
    "    break"
   ]
  },
  {
   "cell_type": "code",
   "execution_count": 40,
   "id": "272b8759",
   "metadata": {},
   "outputs": [
    {
     "data": {
      "text/plain": [
       "dict_keys(['api', 'pageInfo', 'hasReviews', 'reviews', 'title', 'type', 'vanity'])"
      ]
     },
     "execution_count": 40,
     "metadata": {},
     "output_type": "execute_result"
    }
   ],
   "source": [
    "response.json().keys()"
   ]
  },
  {
   "cell_type": "code",
   "execution_count": 39,
   "id": "39e8d800",
   "metadata": {},
   "outputs": [
    {
     "name": "stdout",
     "output_type": "stream",
     "text": [
      "Hair  / RE: 4/4  - RT; 82\n",
      "Real Life  / RE: 1/4  - RT; 81\n",
      "A Time for Dying  / RE: 2/4  - RT; 40\n",
      "The Secret Policeman's Other Ball  / RE: 2/4  - RT; 90\n",
      "Jekyll and Hyde... Together Again  / RE: 1/4  - RT; None\n",
      "If You Could See What I Hear  / RE: 2/4  - RT; None\n",
      "Author! Author!  / RE: 2/4  - RT; 50\n",
      "It Came From Hollywood  / RE: 3/4  - RT; None\n",
      "Lady Chatterley's Lover  / RE: 1.5/4  - RT; None\n",
      "The Atomic Cafe  / RE: 3/4  - RT; 93\n",
      "Jimmy the Kid  / RE: 2/4  - RT; None\n",
      "Gospel  / RE: 3/4  - RT; None\n",
      "The Chosen  / RE: 2.5/4  - RT; 75\n",
      "National Lampoon's Class Reunion  / RE: 2/4  - RT; 0\n",
      "The Amateur  / RE: 2/4  - RT; None\n",
      "Contract  / RE: 3/4  - RT; None\n",
      "Union City  / RE: 2/4  - RT; 50\n",
      "A Little Sex  / RE: 2/4  - RT; None\n",
      "Best Friends  / RE: 3.5/4  - RT; 62\n",
      "Brimstone and Treacle  / RE: 2/4  - RT; None\n",
      "The Salamander  / RE: 2.5/4  - RT; None\n",
      "Alphabet City  / RE: 1/4  - RT; None\n",
      "Garbo Talks  / RE: 1/4  - RT; 57\n",
      "The Valachi Papers  / RE: 2.5/4  - RT; None\n",
      "Gable and Lombard  / RE: 2/4  - RT; 0\n",
      "One of Our Dinosaurs Is Missing  / RE: 2/4  - RT; None\n",
      "Hugo and Josefin  / RE: 3/4  - RT; None\n",
      "Mannequin  / RE: 0.5/4  - RT; 20\n",
      "Don Juan DeMarco  / RE: 2/4  - RT; 72\n",
      "My Life  / RE: 2.5/4  - RT; 44\n",
      "Elvira Madigan  / RE: 4/4  - RT; 40\n",
      "Mon Oncle d'Amerique  / RE: 4/4  - RT; 86\n",
      "Malice  / RE: 2/4  - RT; 57\n",
      "The St. Valentine's Day Massacre  / RE: 1.5/4  - RT; 89\n",
      "Vengeance Is Mine  / RE: 4/4  - RT; 100\n",
      "The Birds, the Bees and the Italians  / RE: 4/4  - RT; None\n",
      "Jack of Diamonds  / RE: 2/4  - RT; None\n",
      "Ace in the Hole  / RE: 4/4  - RT; 93\n",
      "Bed Sitting Room  / RE: 2.5/4  - RT; 64\n",
      "Eight on the Lam  / RE: 2/4  - RT; None\n",
      "Mr. Death: The Rise and Fall of Fred A. Leuchter, Jr.  / RE: 4/4  - RT; 100\n",
      "Sleepless Night  / RE: 3/4  - RT; 97\n",
      "The Happening  / RE: 2.5/4  - RT; None\n",
      "Chuka  / RE: 2.5/4  - RT; None\n",
      "Camelot  / RE: 4/4  - RT; 41\n",
      "Caprice  / RE: 2.5/4  - RT; 14\n",
      "History of the World: Part I  / RE: 2/4  - RT; 62\n",
      "Bad Timing: A Sensual Obsession  / RE: 1.5/4  - RT; 46\n",
      "Clair de Femme  / RE: 2/4  - RT; None\n"
     ]
    }
   ],
   "source": [
    "for r in response.json()['reviews']:\n",
    "    try:\n",
    "        print(r['mediaTitle'], \" / RE:\", r['originalScore'], \" - RT:\", r['mediaTomatometerScore'])\n",
    "    except:\n",
    "        continue"
   ]
  },
  {
   "cell_type": "code",
   "execution_count": null,
   "id": "9f49629d",
   "metadata": {},
   "outputs": [
    {
     "data": {
      "application/vnd.jupyter.widget-view+json": {
       "model_id": "0fb99fcb764d42b28f7b9b473dd1d8f3",
       "version_major": 2,
       "version_minor": 0
      },
      "text/plain": [
       "  0%|          | 0/1000 [00:00<?, ?it/s]"
      ]
     },
     "metadata": {},
     "output_type": "display_data"
    }
   ],
   "source": [
    "responses = []\n",
    "for i in tqdm(range(1, 1001)):\n",
    "    try:\n",
    "        response = requests.get(base_url + str(i*50))\n",
    "        responses.extend(response.json()['reviews'])\n",
    "    except Exception as e:\n",
    "        print(str(e))"
   ]
  },
  {
   "cell_type": "code",
   "execution_count": null,
   "id": "eaf781d6",
   "metadata": {},
   "outputs": [],
   "source": []
  }
 ],
 "metadata": {
  "kernelspec": {
   "display_name": "Python 3 (ipykernel)",
   "language": "python",
   "name": "python3"
  },
  "language_info": {
   "codemirror_mode": {
    "name": "ipython",
    "version": 3
   },
   "file_extension": ".py",
   "mimetype": "text/x-python",
   "name": "python",
   "nbconvert_exporter": "python",
   "pygments_lexer": "ipython3",
   "version": "3.10.12"
  }
 },
 "nbformat": 4,
 "nbformat_minor": 5
}
