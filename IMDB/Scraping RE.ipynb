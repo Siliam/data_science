{
 "cells": [
  {
   "cell_type": "code",
   "execution_count": 1,
   "id": "6a1b75da",
   "metadata": {},
   "outputs": [],
   "source": [
    "import requests\n",
    "import time\n",
    "from tqdm.notebook import tqdm"
   ]
  },
  {
   "cell_type": "code",
   "execution_count": 2,
   "id": "5b89098d",
   "metadata": {},
   "outputs": [],
   "source": [
    "base_url = \"https://www.rogerebert.com/reviews?utf8=%E2%9C%93&filters%5Btitle%5D=&sort%5Border%5D=newest&filters%5Byears%5D%5B%5D=1914&filters%5Byears%5D%5B%5D=2023&filters%5Bstar_rating%5D%5B%5D=0.0&filters%5Bstar_rating%5D%5B%5D=4.0&filters%5Bno_stars%5D=1&filters%5Breviewers%5D%5B%5D=50cbacd5f3b43b53e9000003&page=\""
   ]
  },
  {
   "cell_type": "code",
   "execution_count": 3,
   "id": "f40c9baf",
   "metadata": {},
   "outputs": [],
   "source": [
    "base_url = \"https://www.rottentomatoes.com/napi/critics/roger-ebert/movies?after=MQ%3D%3D&pagecount=\""
   ]
  },
  {
   "cell_type": "code",
   "execution_count": 4,
   "id": "be79f0a0",
   "metadata": {},
   "outputs": [
    {
     "data": {
      "application/vnd.jupyter.widget-view+json": {
       "model_id": "082b479ff3774ca1b3b42a4bd936967f",
       "version_major": 2,
       "version_minor": 0
      },
      "text/plain": [
       "  0%|          | 0/1000 [00:00<?, ?it/s]"
      ]
     },
     "metadata": {},
     "output_type": "display_data"
    }
   ],
   "source": [
    "for i in tqdm(range(1, 1001)):\n",
    "    response = requests.get(base_url + str(i))\n",
    "    time.sleep(1)\n",
    "    break"
   ]
  },
  {
   "cell_type": "code",
   "execution_count": 5,
   "id": "d5fad3aa",
   "metadata": {},
   "outputs": [
    {
     "data": {
      "text/plain": [
       "dict_keys(['api', 'pageInfo', 'hasReviews', 'reviews', 'title', 'type', 'vanity'])"
      ]
     },
     "execution_count": 5,
     "metadata": {},
     "output_type": "execute_result"
    }
   ],
   "source": [
    "response.json().keys()"
   ]
  },
  {
   "cell_type": "code",
   "execution_count": 6,
   "id": "a44b509d",
   "metadata": {},
   "outputs": [
    {
     "name": "stdout",
     "output_type": "stream",
     "text": [
      "Hair  / RE: 4/4  - RT: 82\n",
      "Real Life  / RE: 1/4  - RT: 81\n",
      "A Time for Dying  / RE: 2/4  - RT: 40\n",
      "The Secret Policeman's Other Ball  / RE: 2/4  - RT: 90\n",
      "Jekyll and Hyde... Together Again  / RE: 1/4  - RT: None\n",
      "If You Could See What I Hear  / RE: 2/4  - RT: None\n",
      "Author! Author!  / RE: 2/4  - RT: 50\n",
      "It Came From Hollywood  / RE: 3/4  - RT: None\n",
      "Lady Chatterley's Lover  / RE: 1.5/4  - RT: None\n",
      "The Atomic Cafe  / RE: 3/4  - RT: 93\n",
      "Jimmy the Kid  / RE: 2/4  - RT: None\n",
      "Gospel  / RE: 3/4  - RT: None\n",
      "The Chosen  / RE: 2.5/4  - RT: 75\n",
      "National Lampoon's Class Reunion  / RE: 2/4  - RT: 0\n",
      "The Amateur  / RE: 2/4  - RT: None\n",
      "Contract  / RE: 3/4  - RT: None\n",
      "Union City  / RE: 2/4  - RT: 50\n",
      "A Little Sex  / RE: 2/4  - RT: None\n",
      "Best Friends  / RE: 3.5/4  - RT: 62\n",
      "Brimstone and Treacle  / RE: 2/4  - RT: None\n",
      "The Salamander  / RE: 2.5/4  - RT: None\n",
      "Alphabet City  / RE: 1/4  - RT: None\n",
      "Garbo Talks  / RE: 1/4  - RT: 57\n",
      "The Valachi Papers  / RE: 2.5/4  - RT: None\n",
      "Gable and Lombard  / RE: 2/4  - RT: 0\n",
      "One of Our Dinosaurs Is Missing  / RE: 2/4  - RT: None\n",
      "Hugo and Josefin  / RE: 3/4  - RT: None\n",
      "Mannequin  / RE: 0.5/4  - RT: 20\n",
      "Don Juan DeMarco  / RE: 2/4  - RT: 72\n",
      "My Life  / RE: 2.5/4  - RT: 44\n",
      "Elvira Madigan  / RE: 4/4  - RT: 40\n",
      "Mon Oncle d'Amerique  / RE: 4/4  - RT: 86\n",
      "Malice  / RE: 2/4  - RT: 57\n",
      "The St. Valentine's Day Massacre  / RE: 1.5/4  - RT: 89\n",
      "Vengeance Is Mine  / RE: 4/4  - RT: 100\n",
      "The Birds, the Bees and the Italians  / RE: 4/4  - RT: None\n",
      "Jack of Diamonds  / RE: 2/4  - RT: None\n",
      "Ace in the Hole  / RE: 4/4  - RT: 93\n",
      "Bed Sitting Room  / RE: 2.5/4  - RT: 64\n",
      "Eight on the Lam  / RE: 2/4  - RT: None\n",
      "Mr. Death: The Rise and Fall of Fred A. Leuchter, Jr.  / RE: 4/4  - RT: 100\n",
      "Sleepless Night  / RE: 3/4  - RT: 97\n",
      "The Happening  / RE: 2.5/4  - RT: None\n",
      "Chuka  / RE: 2.5/4  - RT: None\n",
      "Camelot  / RE: 4/4  - RT: 41\n",
      "Caprice  / RE: 2.5/4  - RT: 14\n",
      "History of the World: Part I  / RE: 2/4  - RT: 62\n",
      "Bad Timing: A Sensual Obsession  / RE: 1.5/4  - RT: 46\n",
      "Clair de Femme  / RE: 2/4  - RT: None\n"
     ]
    }
   ],
   "source": [
    "for r in response.json()['reviews']:\n",
    "    try:\n",
    "        print(r['mediaTitle'], \" / RE:\", r['originalScore'], \" - RT:\", r['mediaTomatometerScore'])\n",
    "    except:\n",
    "        continue"
   ]
  },
  {
   "cell_type": "code",
   "execution_count": 8,
   "id": "b04658db",
   "metadata": {},
   "outputs": [
    {
     "data": {
      "application/vnd.jupyter.widget-view+json": {
       "model_id": "f8b6874301484052b212fa71c4f93c28",
       "version_major": 2,
       "version_minor": 0
      },
      "text/plain": [
       "  0%|          | 0/10000 [00:00<?, ?it/s]"
      ]
     },
     "metadata": {},
     "output_type": "display_data"
    },
    {
     "name": "stdout",
     "output_type": "stream",
     "text": [
      "[Errno Expecting value] <!doctype html>\n",
      "<html class=\"no-js\" lang=\"en\">\n",
      "\n",
      "<head>\n",
      "  <meta charset=\"utf-8\">\n",
      "  <title>Rotten Tomatoes: Movies | TV Shows | Movie Trailers | Reviews - Maintenance in Progress</title>\n",
      "  <meta name=\"description\" content=\"\">\n",
      "  <meta name=\"viewport\" content=\"width=device-width, initial-scale=1\">\n",
      "  <!-- Place favicon.ico in the root directory -->\n",
      "  <style>\n",
      "    .navbar.navbar-rt {\n",
      "        font-family: \"Franklin Gothic FS\",\"Helvetica Neue\",Helvetica,Arial,sans-serif;\n",
      "        background-color: #FA320A;\n",
      "        border-radius: 0;\n",
      "        margin: 0 auto;\n",
      "    }   \n",
      "    .navbar.navbar-rt .navbar-brand {\n",
      "        height: auto;\n",
      "        width: 36%;\n",
      "    }\n",
      "    body {\n",
      "        text-align: center;\n",
      "    }\n",
      "    #header-rt-logo {\n",
      "        display: block;\n",
      "    }\n",
      "    .rt-logo {\n",
      "        width: 260px;\n",
      "        margin: auto auto;\n",
      "        display: block;\n",
      "        text-align: center;\n",
      "    }\n",
      "  </style>\n",
      "</head>\n",
      "\n",
      "<body>\n",
      "    <div id=\"navbar\" class=\"navbar navbar-rt\" role=\"navigation\">    \n",
      "        <a id=\"header-rt-logo\" href=\"https://www.rottentomatoes.com/\">\n",
      "            <img class=\"rt-logo\" src=\"https://images.fandango.com/cms/assets/68ffa860-b30f-11ed-9d20-83ee649e98bd--rotten-logo-ko-322x100.png\">\n",
      "        </a>\n",
      "    </div>\n",
      "  <!-- Add your site or application content here -->\n",
      "  <h1>Maintenance in progress</h1>\n",
      "\n",
      "</body>\n",
      "\n",
      "</html>\n",
      ": 0\n"
     ]
    }
   ],
   "source": [
    "responses = []\n",
    "for i in tqdm(range(1, 10001)):\n",
    "    try:\n",
    "        response = requests.get(base_url + str(i*50))\n",
    "        responses.extend(response.json()['reviews'])\n",
    "    except Exception as e:\n",
    "        print(str(e))"
   ]
  },
  {
   "cell_type": "code",
   "execution_count": 9,
   "id": "2882ea24",
   "metadata": {},
   "outputs": [
    {
     "data": {
      "application/vnd.jupyter.widget-view+json": {
       "model_id": "3b64d63e4d44497ba603f2c6fbcdc5a1",
       "version_major": 2,
       "version_minor": 0
      },
      "text/plain": [
       "  0%|          | 0/5000 [00:00<?, ?it/s]"
      ]
     },
     "metadata": {},
     "output_type": "display_data"
    }
   ],
   "source": [
    "for i in tqdm(range(10001, 15001)):\n",
    "    try:\n",
    "        response = requests.get(base_url + str(i*50))\n",
    "        responses.extend(response.json()['reviews'])\n",
    "    except Exception as e:\n",
    "        print(str(e))"
   ]
  },
  {
   "cell_type": "code",
   "execution_count": 55,
   "id": "38d70e64",
   "metadata": {
    "scrolled": false
   },
   "outputs": [
    {
     "data": {
      "text/plain": [
       "[{'compareValue': '0_2/4',\n",
       "  'tomatometerState': 'rotten',\n",
       "  'originalScore': '2/4',\n",
       "  'mediaTomatometerState': None,\n",
       "  'mediaTomatometerScore': None,\n",
       "  'quote': 'Bob Hope has given the screen some of its most amusing moments, but Eight on the Lam, unfortunately, contains none of them.',\n",
       "  'publicationReviewUrl': '/critics/source/67',\n",
       "  'publicationName': 'Chicago Sun-Times',\n",
       "  'url': 'https://www.rogerebert.com/reviews/eight-on-the-lam-1967',\n",
       "  'date': 'Jan 18, 2019',\n",
       "  'isSelf': False,\n",
       "  'editReviewUrl': '/critics/self-submission/movie/24faeb16-0b1a-38ad-8f75-9f4f8e7ebeed',\n",
       "  'mediaInfo': '1967',\n",
       "  'mediaTitle': 'Eight on the Lam',\n",
       "  'mediaUrl': '/m/eight_on_the_lam'},\n",
       " {'compareValue': '1_4/4',\n",
       "  'tomatometerState': 'fresh',\n",
       "  'originalScore': '4/4',\n",
       "  'mediaTomatometerState': 'certified-fresh',\n",
       "  'mediaTomatometerScore': 100,\n",
       "  'quote': 'Like all of Morris\\' films, \"Mr. Death\" provides us with no comfortable place to stand.',\n",
       "  'publicationReviewUrl': '/critics/source/67',\n",
       "  'publicationName': 'Chicago Sun-Times',\n",
       "  'url': 'https://www.rogerebert.com/reviews/mr-death-the-rise-and-fall-of-fred-a-leuchter-jr-2000',\n",
       "  'date': 'Jan 04, 2019',\n",
       "  'isSelf': False,\n",
       "  'editReviewUrl': '/critics/self-submission/movie/5a44154a-e15f-33f6-aba1-a2ed6e7d523d',\n",
       "  'mediaInfo': '1999',\n",
       "  'mediaTitle': 'Mr. Death: The Rise and Fall of Fred A. Leuchter, Jr.',\n",
       "  'mediaUrl': '/m/mr_death_the_rise_and_fall_of_fred_a_leuchter_jr'},\n",
       " {'compareValue': '1_3/4',\n",
       "  'tomatometerState': 'fresh',\n",
       "  'originalScore': '3/4',\n",
       "  'mediaTomatometerState': 'fresh',\n",
       "  'mediaTomatometerScore': 97,\n",
       "  'quote': \"The film's headlong momentum streamrolls over all our questions, and we're carried along by the expertly choreographed action.\",\n",
       "  'publicationReviewUrl': '/critics/source/67',\n",
       "  'publicationName': 'Chicago Sun-Times',\n",
       "  'url': 'https://www.rogerebert.com/reviews/sleepless-night-2012',\n",
       "  'date': 'Dec 26, 2018',\n",
       "  'isSelf': False,\n",
       "  'editReviewUrl': '/critics/self-submission/movie/fc135965-a958-3f5f-83b2-2d6442d8ac18',\n",
       "  'mediaInfo': '2011',\n",
       "  'mediaTitle': 'Sleepless Night',\n",
       "  'mediaUrl': '/m/sleepless_night'},\n",
       " {'compareValue': '0_2.5/4',\n",
       "  'tomatometerState': 'rotten',\n",
       "  'originalScore': '2.5/4',\n",
       "  'mediaTomatometerState': None,\n",
       "  'mediaTomatometerScore': None,\n",
       "  'quote': 'The film as a whole is well made, if a trifle slowly paced, and one or two of the comedy sequences are inspired.',\n",
       "  'publicationReviewUrl': '/critics/source/67',\n",
       "  'publicationName': 'Chicago Sun-Times',\n",
       "  'url': 'https://www.rogerebert.com/reviews/the-happening-1967',\n",
       "  'date': 'Nov 19, 2018',\n",
       "  'isSelf': False,\n",
       "  'editReviewUrl': '/critics/self-submission/movie/5dc050c8-d12a-3194-9a39-b3583b09d451',\n",
       "  'mediaInfo': '1967',\n",
       "  'mediaTitle': 'The Happening',\n",
       "  'mediaUrl': '/m/the-happening-1967'},\n",
       " {'compareValue': '0_2.5/4',\n",
       "  'tomatometerState': 'rotten',\n",
       "  'originalScore': '2.5/4',\n",
       "  'mediaTomatometerState': None,\n",
       "  'mediaTomatometerScore': None,\n",
       "  'quote': \"Rod Taylor's Chuka is an intelligently acted and directed Western that has been burdened, for some reason, with a plot so melodramatic that the effect is lost.\",\n",
       "  'publicationReviewUrl': '/critics/source/67',\n",
       "  'publicationName': 'Chicago Sun-Times',\n",
       "  'url': 'https://www.rogerebert.com/reviews/chuka-1967',\n",
       "  'date': 'Nov 16, 2018',\n",
       "  'isSelf': False,\n",
       "  'editReviewUrl': '/critics/self-submission/movie/318c3e0d-cf96-3c87-9f1f-eec18a9af10f',\n",
       "  'mediaInfo': '1967',\n",
       "  'mediaTitle': 'Chuka',\n",
       "  'mediaUrl': '/m/chuka'},\n",
       " {'compareValue': '1_4/4',\n",
       "  'tomatometerState': 'fresh',\n",
       "  'originalScore': '4/4',\n",
       "  'mediaTomatometerState': 'rotten',\n",
       "  'mediaTomatometerScore': 41,\n",
       "  'quote': \"Exactly what we were promised: ornate, visually beautiful, romantic and staged as the most lavish production in the history of the Hollywood musical. If that's what you like, you'll like it.\",\n",
       "  'publicationReviewUrl': '/critics/source/67',\n",
       "  'publicationName': 'Chicago Sun-Times',\n",
       "  'url': 'https://www.rogerebert.com/reviews/camelot-1967',\n",
       "  'date': 'Nov 16, 2018',\n",
       "  'isSelf': False,\n",
       "  'editReviewUrl': '/critics/self-submission/movie/1a30b7eb-0705-3d08-ae12-3425e4b8db86',\n",
       "  'mediaInfo': '1967',\n",
       "  'mediaTitle': 'Camelot',\n",
       "  'mediaUrl': '/m/camelot'},\n",
       " {'compareValue': '0_2.5/4',\n",
       "  'tomatometerState': 'rotten',\n",
       "  'originalScore': '2.5/4',\n",
       "  'mediaTomatometerState': 'rotten',\n",
       "  'mediaTomatometerScore': 14,\n",
       "  'quote': \"If [Doris Day's] movies never go anywhere, at least they don't take all day about it.\",\n",
       "  'publicationReviewUrl': '/critics/source/67',\n",
       "  'publicationName': 'Chicago Sun-Times',\n",
       "  'url': 'https://www.rogerebert.com/reviews/caprice-1967',\n",
       "  'date': 'Nov 16, 2018',\n",
       "  'isSelf': False,\n",
       "  'editReviewUrl': '/critics/self-submission/movie/599addc6-1689-3c3b-bb55-84113089fd2e',\n",
       "  'mediaInfo': '1967',\n",
       "  'mediaTitle': 'Caprice',\n",
       "  'mediaUrl': '/m/caprice'},\n",
       " {'compareValue': '0_2/4',\n",
       "  'tomatometerState': 'rotten',\n",
       "  'originalScore': '2/4',\n",
       "  'mediaTomatometerState': 'fresh',\n",
       "  'mediaTomatometerScore': 62,\n",
       "  'quote': \"Mel Brooks's movie History of the World, Part 1 is a rambling, undisciplined, sometimes embarrassing failure from one of the most gifted comic filmmakers around.\",\n",
       "  'publicationReviewUrl': '/critics/source/67',\n",
       "  'publicationName': 'Chicago Sun-Times',\n",
       "  'url': 'https://www.rogerebert.com/reviews/history-of-the-world-part-1-1981',\n",
       "  'date': 'Nov 12, 2018',\n",
       "  'isSelf': False,\n",
       "  'editReviewUrl': '/critics/self-submission/movie/dd4c2c65-0042-32c1-9a8d-7957282fe1bb',\n",
       "  'mediaInfo': '1981',\n",
       "  'mediaTitle': 'History of the World: Part I',\n",
       "  'mediaUrl': '/m/history_of_the_world_part_i'},\n",
       " {'compareValue': '0_1.5/4',\n",
       "  'tomatometerState': 'rotten',\n",
       "  'originalScore': '1.5/4',\n",
       "  'mediaTomatometerState': 'rotten',\n",
       "  'mediaTomatometerScore': 46,\n",
       "  'quote': 'This film has been praised for its honesty, but it would have taken far more honesty (not to mention courage) to deal with the personality disorders of these characters instead of simply burying them in blood, sex, and noise.',\n",
       "  'publicationReviewUrl': '/critics/source/67',\n",
       "  'publicationName': 'Chicago Sun-Times',\n",
       "  'url': 'https://www.rogerebert.com/reviews/bad-timing-1980',\n",
       "  'date': 'Nov 12, 2018',\n",
       "  'isSelf': False,\n",
       "  'editReviewUrl': '/critics/self-submission/movie/e510b6fb-8040-3a4b-b89f-cd0cd391ec6b',\n",
       "  'mediaInfo': '1980',\n",
       "  'mediaTitle': 'Bad Timing: A Sensual Obsession',\n",
       "  'mediaUrl': '/m/1148372-bad_timing'},\n",
       " {'compareValue': '0_2/4',\n",
       "  'tomatometerState': 'rotten',\n",
       "  'originalScore': '2/4',\n",
       "  'mediaTomatometerState': None,\n",
       "  'mediaTomatometerScore': None,\n",
       "  'quote': 'Clair de Femme is one of those movies that provides a strange two-level- viewing experience: It moves along for two hours looking exactly like a great idea for a movie, but it never quite becomes the movie.',\n",
       "  'publicationReviewUrl': '/critics/source/67',\n",
       "  'publicationName': 'Chicago Sun-Times',\n",
       "  'url': 'https://www.rogerebert.com/reviews/clair-de-femme-1980',\n",
       "  'date': 'Nov 12, 2018',\n",
       "  'isSelf': False,\n",
       "  'editReviewUrl': '/critics/self-submission/movie/b1e3d5ec-5bb0-36b0-b030-fa88fb35bcd7',\n",
       "  'mediaInfo': '1979',\n",
       "  'mediaTitle': 'Clair de Femme',\n",
       "  'mediaUrl': '/m/clair_de_femme'}]"
      ]
     },
     "execution_count": 55,
     "metadata": {},
     "output_type": "execute_result"
    }
   ],
   "source": [
    "responses[-10:]"
   ]
  },
  {
   "cell_type": "code",
   "execution_count": 10,
   "id": "00a80010",
   "metadata": {},
   "outputs": [],
   "source": [
    "import pickle\n",
    "\n",
    "pickle.dump(responses, open('responses.pickle', 'wb'))"
   ]
  },
  {
   "cell_type": "code",
   "execution_count": null,
   "id": "cb1dbb80",
   "metadata": {},
   "outputs": [],
   "source": []
  }
 ],
 "metadata": {
  "kernelspec": {
   "display_name": "Python 3 (ipykernel)",
   "language": "python",
   "name": "python3"
  },
  "language_info": {
   "codemirror_mode": {
    "name": "ipython",
    "version": 3
   },
   "file_extension": ".py",
   "mimetype": "text/x-python",
   "name": "python",
   "nbconvert_exporter": "python",
   "pygments_lexer": "ipython3",
   "version": "3.9.12"
  }
 },
 "nbformat": 4,
 "nbformat_minor": 5
}
