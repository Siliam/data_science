{
 "cells": [
  {
   "cell_type": "code",
   "execution_count": null,
   "id": "113b9d1b",
   "metadata": {},
   "outputs": [],
   "source": [
    "import os\n",
    "import requests\n",
    "from bs4 import BeautifulSoup\n",
    "from tqdm.notebook import tqdm"
   ]
  },
  {
   "cell_type": "code",
   "execution_count": null,
   "id": "f0ca6e49",
   "metadata": {},
   "outputs": [],
   "source": [
    "# Page content from https://wikimon.net/Visual_List_of_Digimon\n",
    "\n",
    "with open('page_content.txt', encoding=\"utf8\") as f:\n",
    "    content = ' '.join(l for l in f)\n",
    "\n",
    "soup = BeautifulSoup(content)"
   ]
  },
  {
   "cell_type": "code",
   "execution_count": null,
   "id": "53c815a2",
   "metadata": {},
   "outputs": [],
   "source": [
    "all_linked_digimon = [a['href'][1:] for table in soup.find_all('table') for a in table.find_all('a') if len(a.find_all('img')) > 0]"
   ]
  },
  {
   "cell_type": "code",
   "execution_count": null,
   "id": "7388e617",
   "metadata": {},
   "outputs": [],
   "source": [
    "images = {}\n",
    "not_found = []\n",
    "\n",
    "for digimon in tqdm(all_linked_digimon):\n",
    "    response = requests.get(\"https://wikimon.net/\"+digimon)\n",
    "    soup = BeautifulSoup(response.text, 'html.parser')\n",
    "\n",
    "    for link in [l for l in soup.find_all('a') if l.find('img')]:\n",
    "        if link['href'].endswith('.jpg'):\n",
    "            response2 = requests.get(\"https://wikimon.net\"+link['href'])\n",
    "            soup2 = BeautifulSoup(response2.text, 'html.parser')\n",
    "            \n",
    "            for link2 in [l for l in soup2.find_all('a') if l.find('img')]:\n",
    "                if link2['href'].endswith('.jpg'):\n",
    "                    link = \"https://wikimon.net\"+link2['href']\n",
    "                    with open('images/'+os.path.basename(link), \"wb\") as f:\n",
    "                        f.write(requests.get(link).content)\n",
    "                    images[digimon] = link2['href']\n",
    "                    break\n",
    "            \n",
    "            if digimon in images:\n",
    "                break\n",
    "        if digimon in images:\n",
    "            break"
   ]
  },
  {
   "cell_type": "code",
   "execution_count": null,
   "id": "66c244e7",
   "metadata": {},
   "outputs": [],
   "source": [
    "for digimon in tqdm(images):\n",
    "    link = \"https://wikimon.net\"+images[digimon]\n",
    "    with open('images/'+os.path.basename(link), \"wb\") as f:\n",
    "        f.write(requests.get(link).content)"
   ]
  }
 ],
 "metadata": {
  "kernelspec": {
   "display_name": "Python 3 (ipykernel)",
   "language": "python",
   "name": "python3"
  },
  "language_info": {
   "codemirror_mode": {
    "name": "ipython",
    "version": 3
   },
   "file_extension": ".py",
   "mimetype": "text/x-python",
   "name": "python",
   "nbconvert_exporter": "python",
   "pygments_lexer": "ipython3",
   "version": "3.11.5"
  }
 },
 "nbformat": 4,
 "nbformat_minor": 5
}
