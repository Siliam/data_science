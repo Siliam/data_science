{
 "cells": [
  {
   "cell_type": "code",
   "execution_count": null,
   "id": "923d1c08-1ff7-4eea-b096-97cc747c382c",
   "metadata": {},
   "outputs": [],
   "source": [
    "# (using textgen environemnt)\n",
    "# python server.py --api"
   ]
  },
  {
   "cell_type": "code",
   "execution_count": 1,
   "id": "3056bd11-20ba-409c-8a9c-4d4f334d9422",
   "metadata": {},
   "outputs": [],
   "source": [
    "import requests\n",
    "\n",
    "# For local streaming, the websockets are hosted without ssl - http://\n",
    "HOST = 'localhost:5000'\n",
    "URI = f'http://{HOST}/api/v1/generate'\n",
    "\n",
    "# For reverse-proxied streaming, the remote will likely host with ssl - https://\n",
    "# URI = 'https://your-uri-here.trycloudflare.com/api/v1/generate'\n",
    "\n",
    "\n",
    "def run(prompt):\n",
    "    request = {\n",
    "        'prompt': prompt,\n",
    "        'max_new_tokens': 250,\n",
    "        'auto_max_new_tokens': False,\n",
    "        'max_tokens_second': 0,\n",
    "\n",
    "        # Generation params. If 'preset' is set to different than 'None', the values\n",
    "        # in presets/preset-name.yaml are used instead of the individual numbers.\n",
    "        'preset': 'None',\n",
    "        'do_sample': True,\n",
    "        'temperature': 0.7,\n",
    "        'top_p': 0.1,\n",
    "        'typical_p': 1,\n",
    "        'epsilon_cutoff': 0,  # In units of 1e-4\n",
    "        'eta_cutoff': 0,  # In units of 1e-4\n",
    "        'tfs': 1,\n",
    "        'top_a': 0,\n",
    "        'repetition_penalty': 1.18,\n",
    "        'repetition_penalty_range': 0,\n",
    "        'top_k': 40,\n",
    "        'min_length': 0,\n",
    "        'no_repeat_ngram_size': 0,\n",
    "        'num_beams': 1,\n",
    "        'penalty_alpha': 0,\n",
    "        'length_penalty': 1,\n",
    "        'early_stopping': False,\n",
    "        'mirostat_mode': 0,\n",
    "        'mirostat_tau': 5,\n",
    "        'mirostat_eta': 0.1,\n",
    "        'guidance_scale': 1,\n",
    "        'negative_prompt': '',\n",
    "\n",
    "        'seed': -1,\n",
    "        'add_bos_token': True,\n",
    "        'truncation_length': 2048,\n",
    "        'ban_eos_token': False,\n",
    "        'skip_special_tokens': True,\n",
    "        'stopping_strings': []\n",
    "    }\n",
    "\n",
    "    response = requests.post(URI, json=request)\n",
    "\n",
    "    if response.status_code == 200:\n",
    "        result = response.json()['results'][0]['text']\n",
    "        print(result)\n",
    "    else:\n",
    "        print('Oh-uh')"
   ]
  },
  {
   "cell_type": "code",
   "execution_count": 7,
   "id": "96ea1dc5-ba78-4c3d-a4e7-9302b90c5bba",
   "metadata": {},
   "outputs": [
    {
     "name": "stdout",
     "output_type": "stream",
     "text": [
      " Oh, just great! *chuckles* What brings you here today?\n"
     ]
    }
   ],
   "source": [
    "prompt = \"I am Alice, you are Bob. Continue this conversation. Alice: Hello! How are you doing ? Bob:\"\n",
    "run(prompt)"
   ]
  },
  {
   "cell_type": "code",
   "execution_count": 8,
   "id": "e9657c47-c1c8-424c-81fb-a465ded0c203",
   "metadata": {},
   "outputs": [],
   "source": [
    "# Output generated in 0.20 seconds (78.36 tokens/s, 16 tokens, context 25, seed 395835563)"
   ]
  },
  {
   "cell_type": "code",
   "execution_count": null,
   "id": "9745d6ae-1d2b-42f6-88a2-1e967f6c8331",
   "metadata": {},
   "outputs": [],
   "source": []
  }
 ],
 "metadata": {
  "kernelspec": {
   "display_name": "Python 3 (ipykernel)",
   "language": "python",
   "name": "python3"
  },
  "language_info": {
   "codemirror_mode": {
    "name": "ipython",
    "version": 3
   },
   "file_extension": ".py",
   "mimetype": "text/x-python",
   "name": "python",
   "nbconvert_exporter": "python",
   "pygments_lexer": "ipython3",
   "version": "3.11.4"
  }
 },
 "nbformat": 4,
 "nbformat_minor": 5
}
