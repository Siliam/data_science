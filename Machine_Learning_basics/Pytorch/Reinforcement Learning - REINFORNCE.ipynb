{
 "cells": [
  {
   "cell_type": "markdown",
   "id": "45289ec6",
   "metadata": {},
   "source": [
    "https://github.com/pytorch/examples/tree/main/reinforcement_learning"
   ]
  },
  {
   "cell_type": "code",
   "execution_count": 1,
   "id": "96d6bde5",
   "metadata": {},
   "outputs": [],
   "source": [
    "# !pip install gym\n",
    "# !pip install pygame"
   ]
  },
  {
   "cell_type": "code",
   "execution_count": 2,
   "id": "588ca832",
   "metadata": {},
   "outputs": [],
   "source": [
    "# !pip install --user --upgrade git+http://github.com/pyglet/pyglet@pyglet-1.5-maintenance\n",
    "# !conda install -y -c conda-forge ffmpeg"
   ]
  },
  {
   "cell_type": "code",
   "execution_count": 3,
   "id": "b1eb12b4",
   "metadata": {},
   "outputs": [],
   "source": [
    "import argparse\n",
    "import gym\n",
    "import numpy as np\n",
    "from itertools import count\n",
    "from collections import namedtuple\n",
    "\n",
    "import torch\n",
    "import torch.nn as nn\n",
    "import torch.nn.functional as F\n",
    "import torch.optim as optim\n",
    "from torch.distributions import Categorical\n",
    "\n",
    "import IPython.display\n",
    "import PIL.Image\n",
    "\n",
    "from matplotlib.pyplot import imshow\n",
    "%matplotlib inline\n"
   ]
  },
  {
   "cell_type": "code",
   "execution_count": 4,
   "id": "e5383071",
   "metadata": {},
   "outputs": [],
   "source": [
    "parser = argparse.ArgumentParser(description='PyTorch REINFORCE example')\n",
    "parser.add_argument('--gamma', type=float, default=0.99, metavar='G',\n",
    "                    help='discount factor (default: 0.99)')\n",
    "parser.add_argument('--seed', type=int, default=543, metavar='N',\n",
    "                    help='random seed (default: 543)')\n",
    "parser.add_argument('--render', action='store_true',\n",
    "                    help='render the environment')\n",
    "parser.add_argument('--log-interval', type=int, default=10, metavar='N',\n",
    "                    help='interval between training status logs (default: 10)')\n",
    "args = parser.parse_args('--render --seed 1'.split())"
   ]
  },
  {
   "cell_type": "markdown",
   "id": "50558431",
   "metadata": {},
   "source": [
    "# Set up the Environment"
   ]
  },
  {
   "cell_type": "code",
   "execution_count": 5,
   "id": "efab7649",
   "metadata": {},
   "outputs": [
    {
     "data": {
      "text/plain": [
       "<torch._C.Generator at 0x7fd39a56d360>"
      ]
     },
     "execution_count": 5,
     "metadata": {},
     "output_type": "execute_result"
    }
   ],
   "source": [
    "env = gym.make('CartPole-v1', render_mode=\"rgb_array\")\n",
    "env.reset(seed=args.seed)\n",
    "torch.manual_seed(args.seed)"
   ]
  },
  {
   "cell_type": "code",
   "execution_count": 6,
   "id": "5872408f",
   "metadata": {},
   "outputs": [],
   "source": [
    "SavedAction = namedtuple('SavedAction', ['log_prob', 'value'])"
   ]
  },
  {
   "cell_type": "code",
   "execution_count": 7,
   "id": "6e593de9",
   "metadata": {},
   "outputs": [],
   "source": [
    "class Policy(nn.Module):\n",
    "    \"\"\"\n",
    "    implements both actor and critic in one model\n",
    "    \"\"\"\n",
    "    def __init__(self):\n",
    "        super(Policy, self).__init__()\n",
    "        self.affine1 = nn.Linear(4, 128)\n",
    "\n",
    "        # actor's layer\n",
    "        self.action_head = nn.Linear(128, 2)\n",
    "\n",
    "        # critic's layer\n",
    "        self.value_head = nn.Linear(128, 1)\n",
    "\n",
    "        # action & reward buffer\n",
    "        self.saved_actions = []\n",
    "        self.rewards = []\n",
    "\n",
    "    def forward(self, x):\n",
    "        \"\"\"\n",
    "        forward of both actor and critic\n",
    "        \"\"\"\n",
    "        x = F.relu(self.affine1(x))\n",
    "\n",
    "        # actor: choses action to take from state s_t\n",
    "        # by returning probability of each action\n",
    "        action_prob = F.softmax(self.action_head(x), dim=-1)\n",
    "\n",
    "        # critic: evaluates being in the state s_t\n",
    "        state_values = self.value_head(x)\n",
    "\n",
    "        # return values for both actor and critic as a tuple of 2 values:\n",
    "        # 1. a list with the probability of each action over the action space\n",
    "        # 2. the value from state s_t\n",
    "        return action_prob, state_values"
   ]
  },
  {
   "cell_type": "code",
   "execution_count": 8,
   "id": "3f48e0c1",
   "metadata": {},
   "outputs": [],
   "source": [
    "def select_action(state):\n",
    "    state = torch.from_numpy(state).float()\n",
    "    probs, state_value = model(state)\n",
    "\n",
    "    # create a categorical distribution over the list of probabilities of actions\n",
    "    m = Categorical(probs)\n",
    "\n",
    "    # and sample an action using the distribution\n",
    "    action = m.sample()\n",
    "\n",
    "    # save to action buffer\n",
    "    model.saved_actions.append(SavedAction(m.log_prob(action), state_value))\n",
    "\n",
    "    # the action to take (left or right)\n",
    "    return action.item()"
   ]
  },
  {
   "cell_type": "code",
   "execution_count": 9,
   "id": "9d07e9f8",
   "metadata": {},
   "outputs": [],
   "source": [
    "model = Policy()\n",
    "optimizer = optim.Adam(model.parameters(), lr=3e-2)\n",
    "eps = np.finfo(np.float32).eps.item()"
   ]
  },
  {
   "cell_type": "code",
   "execution_count": 10,
   "id": "6a80ccbc",
   "metadata": {},
   "outputs": [],
   "source": [
    "def finish_episode():\n",
    "    \"\"\"\n",
    "    Training code. Calculates actor and critic loss and performs backprop.\n",
    "    \"\"\"\n",
    "    R = 0\n",
    "    saved_actions = model.saved_actions\n",
    "    policy_losses = [] # list to save actor (policy) loss\n",
    "    value_losses = [] # list to save critic (value) loss\n",
    "    returns = [] # list to save the true values\n",
    "\n",
    "    # calculate the true value using rewards returned from the environment\n",
    "    for r in model.rewards[::-1]:\n",
    "        # calculate the discounted value\n",
    "        R = r + args.gamma * R\n",
    "        returns.insert(0, R)\n",
    "\n",
    "    returns = torch.tensor(returns)\n",
    "    returns = (returns - returns.mean()) / (returns.std() + eps)\n",
    "\n",
    "    for (log_prob, value), R in zip(saved_actions, returns):\n",
    "        advantage = R - value.item()\n",
    "\n",
    "        # calculate actor (policy) loss\n",
    "        policy_losses.append(-log_prob * advantage)\n",
    "\n",
    "        # calculate critic (value) loss using L1 smooth loss\n",
    "        value_losses.append(F.smooth_l1_loss(value, torch.tensor([R])))\n",
    "\n",
    "    # reset gradients\n",
    "    optimizer.zero_grad()\n",
    "\n",
    "    # sum up all the values of policy_losses and value_losses\n",
    "    loss = torch.stack(policy_losses).sum() + torch.stack(value_losses).sum()\n",
    "\n",
    "    # perform backprop\n",
    "    loss.backward()\n",
    "    optimizer.step()\n",
    "\n",
    "    # reset rewards and action buffer\n",
    "    del model.rewards[:]\n",
    "    del model.saved_actions[:]"
   ]
  },
  {
   "cell_type": "code",
   "execution_count": 11,
   "id": "b309be6a",
   "metadata": {},
   "outputs": [],
   "source": [
    "def main():\n",
    "    frames = []\n",
    "    running_reward = 10\n",
    "\n",
    "    # run infinitely many episodes\n",
    "    for i_episode in count(1):\n",
    "\n",
    "        # reset environment and episode reward\n",
    "        state, _ = env.reset()\n",
    "        ep_reward = 0\n",
    "\n",
    "        # for each episode, only run 9999 steps so that we don't\n",
    "        # infinite loop while learning\n",
    "        for t in range(1, 10000):\n",
    "\n",
    "            # select action from policy\n",
    "            action = select_action(state)\n",
    "\n",
    "            # take the action\n",
    "            state, reward, done, _, _ = env.step(action)\n",
    "\n",
    "            if args.render:\n",
    "                # IPython.display.display(PIL.Image.fromarray(env.render()))\n",
    "                frames.append(env.render())\n",
    "\n",
    "            model.rewards.append(reward)\n",
    "            ep_reward += reward\n",
    "            if done:\n",
    "                break\n",
    "\n",
    "        # update cumulative reward\n",
    "        running_reward = 0.05 * ep_reward + (1 - 0.05) * running_reward\n",
    "\n",
    "        # perform backprop\n",
    "        finish_episode()\n",
    "\n",
    "        # log results\n",
    "        if i_episode % args.log_interval == 0:\n",
    "            print('Episode {}\\tLast reward: {:.2f}\\tAverage reward: {:.2f}'.format(\n",
    "                  i_episode, ep_reward, running_reward))\n",
    "\n",
    "        # check if we have \"solved\" the cart pole problem\n",
    "        if running_reward > env.spec.reward_threshold:\n",
    "            print(\"Solved! Running reward is now {} and \"\n",
    "                  \"the last episode runs to {} time steps!\".format(running_reward, t))\n",
    "            break\n",
    "        \n",
    "        return np.array(frames)"
   ]
  },
  {
   "cell_type": "code",
   "execution_count": 12,
   "id": "9a986980",
   "metadata": {
    "scrolled": true
   },
   "outputs": [
    {
     "name": "stderr",
     "output_type": "stream",
     "text": [
      "/home/ismail/anaconda3/lib/python3.11/site-packages/gym/utils/passive_env_checker.py:233: DeprecationWarning: `np.bool8` is a deprecated alias for `np.bool_`.  (Deprecated NumPy 1.24)\n",
      "  if not isinstance(terminated, (bool, np.bool8)):\n"
     ]
    }
   ],
   "source": [
    "frames = main()"
   ]
  },
  {
   "cell_type": "code",
   "execution_count": 13,
   "id": "0c12df8c",
   "metadata": {},
   "outputs": [
    {
     "data": {
      "text/plain": [
       "(17, 400, 600, 3)"
      ]
     },
     "execution_count": 13,
     "metadata": {},
     "output_type": "execute_result"
    }
   ],
   "source": [
    "frames.shape"
   ]
  },
  {
   "cell_type": "code",
   "execution_count": 21,
   "id": "82f1bcee",
   "metadata": {},
   "outputs": [],
   "source": [
    "%matplotlib inline\n",
    "from matplotlib import pyplot as plt\n",
    "from matplotlib import animation\n",
    "from IPython.display import HTML\n",
    "\n",
    "# np array with shape (frames, height, width, channels)\n",
    "def show_video_html(video):\n",
    "    fig = plt.figure()\n",
    "    im = plt.imshow(video[0,:,:,:])\n",
    "\n",
    "    plt.close() # this is required to not display the generated image\n",
    "\n",
    "    def init():\n",
    "        im.set_data(video[0,:,:,:])\n",
    "\n",
    "    def animate(i):\n",
    "        im.set_data(video[i,:,:,:])\n",
    "        return im\n",
    "\n",
    "    anim = animation.FuncAnimation(fig, animate, init_func=init, frames=video.shape[0],\n",
    "                                   interval=100)\n",
    "    return HTML(anim.to_html5_video())"
   ]
  },
  {
   "cell_type": "code",
   "execution_count": 22,
   "id": "6ea48627",
   "metadata": {},
   "outputs": [
    {
     "data": {
      "text/html": [
       "<video width=\"640\" height=\"480\" controls autoplay loop>\n",
       "  <source type=\"video/mp4\" src=\"data:video/mp4;base64,AAAAHGZ0eXBNNFYgAAACAGlzb21pc28yYXZjMQAAAAhmcmVlAAAZzm1kYXQAAAKhBgX//53cRem9\n",
       "5tlIt5Ys2CDZI+7veDI2NCAtIGNvcmUgMTU3IC0gSC4yNjQvTVBFRy00IEFWQyBjb2RlYyAtIENv\n",
       "cHlsZWZ0IDIwMDMtMjAxOCAtIGh0dHA6Ly93d3cudmlkZW9sYW4ub3JnL3gyNjQuaHRtbCAtIG9w\n",
       "dGlvbnM6IGNhYmFjPTEgcmVmPTMgZGVibG9jaz0xOjA6MCBhbmFseXNlPTB4MzoweDExMyBtZT1o\n",
       "ZXggc3VibWU9NyBwc3k9MSBwc3lfcmQ9MS4wMDowLjAwIG1peGVkX3JlZj0xIG1lX3JhbmdlPTE2\n",
       "IGNocm9tYV9tZT0xIHRyZWxsaXM9MSA4eDhkY3Q9MSBjcW09MCBkZWFkem9uZT0yMSwxMSBmYXN0\n",
       "X3Bza2lwPTEgY2hyb21hX3FwX29mZnNldD0tMiB0aHJlYWRzPTE1IGxvb2thaGVhZF90aHJlYWRz\n",
       "PTIgc2xpY2VkX3RocmVhZHM9MCBucj0wIGRlY2ltYXRlPTEgaW50ZXJsYWNlZD0wIGJsdXJheV9j\n",
       "b21wYXQ9MCBjb25zdHJhaW5lZF9pbnRyYT0wIGJmcmFtZXM9MyBiX3B5cmFtaWQ9MiBiX2FkYXB0\n",
       "PTEgYl9iaWFzPTAgZGlyZWN0PTEgd2VpZ2h0Yj0xIG9wZW5fZ29wPTAgd2VpZ2h0cD0yIGtleWlu\n",
       "dD0yNTAga2V5aW50X21pbj0xMCBzY2VuZWN1dD00MCBpbnRyYV9yZWZyZXNoPTAgcmNfbG9va2Fo\n",
       "ZWFkPTQwIHJjPWNyZiBtYnRyZWU9MSBjcmY9MjMuMCBxY29tcD0wLjYwIHFwbWluPTAgcXBtYXg9\n",
       "NjkgcXBzdGVwPTQgaXBfcmF0aW89MS40MCBhcT0xOjEuMDAAgAAADslliIQAEf/+94gfMstp+TrX\n",
       "chHnrS6tH1DuRnFepL3+IAAAAwAAAwAAZUDfKVB/eXDc4AAABPAAuoSehfwZp/4gDbwqLufgqTmn\n",
       "fsW3D4oV0My3TybF6djupYPuS+f0ond4PtEW4G+PKkD93r9FcLtZi/UoztRUkGAE4dA3kPJtZOdp\n",
       "gmuE2y8Bq7G13P/0y7jfAEpZKRYwVB1EcAQMwrSYJit377bpraHFpEnxZ8Qm2KaY78A7i89uN5ln\n",
       "kCkT0ekiHaBeUj39Edy7uXkIcXJqw3OsZRo9fjj3OCIPvJbkQ/r8DMn1/0i7yTqVmHs/fwEoqE7F\n",
       "FRZFlIQXeArz8KRMgOt8mrsvbeAZbDANnYBznzyUVefEiVkDxVjFOjdoVsgaK79/Fo7XzUghrim6\n",
       "NrHto8Is7xUEk8u64Yo5fEGS4B2W2GlwFTxQVIfjdd9FO2fyqY69HyUuywq4qR1h+nXj6OQvivby\n",
       "yGw3s1qCPDWr7nvV/6V/LpwAThfBOfvZlQItWMaLanswb0xElVS6SksXzVX31M7Rc8IgApvKCywF\n",
       "Mhl0YbIMy8CvJOPflSy2xWDMTO3mbJfVf/5eEh+uaFg/girb5zh1kNskhjyu4A0LRTw4UT8WNMr2\n",
       "LnHF3ag3YKTvo8qbHwxL4RL5j1SWAEOkGyPYNyvE8GT84qBiVLJ7leTm/qgF99UYk2MvfS3AwCII\n",
       "hGvsqXN2o3wOBGIFLNyc4tpQ+QQamBxNbDhNEieykL1pbyU9sYDkkjh4JAP9USUdUyNeXBI1ehWh\n",
       "NiOqV6I4R8Czi+Sf2mdbv3B5+OjQv0sgOtLTpBBrdQ/84VtkcU+Cl6Zry8qV+wddK9c78zbdoHMO\n",
       "aRdEUcJjTGvA4n0ZRmLKMQ/nuRam0BKSZf9qm1I/qD+WUT1EN8w9UVzV+ji0TOClWIH8p8L6S4vc\n",
       "QJ5NqcA9/J+t7kzvetpWlM/pFRWf88R0MATGlb+bRmaXUjLLA0JgWUpU8Aw3GTO8RJz9/ks98Y38\n",
       "FcHFfkcKtU+4neoXcTVP/P1esng7oTqXHrJLWrEAhmEXe4xjOY9UxoWEaxcVWACv3bNeNQMM82qJ\n",
       "CbiulR049MINdPXr7/N/klQphdDhz1ypV14kuTO3kmW59iSLky6vWXUMPxh2M+r8c5+YOf1ZIMSN\n",
       "eUvJkTFVBzsZtTFgjxkkigNnxfxpBjdYorw2c4EktDzCvtH+3csd2pJK2UdIS84gEs6fC52PCihf\n",
       "HJ+g5ppuwK6dFi8c3Uu2dwN+1e/W2ZGL22Fr+s3U0uUtuHElv85luUFQDD6GqIPM/7MRha5PYUoG\n",
       "il9zV7pJN8PpoF01JDwJf2Omfa4SqkL+pUjv25K/WDiJR8Fl1XjJR5dH9OhY/FGmfj8Q8ZjbJXvD\n",
       "AR1rH42zwEFLFb2wuBXJqSBfzqt99QM9kyF9w8By80ClWOjjWpuP9ywCgcVXBWzOjdzz4+KGr7kS\n",
       "ClwLWI2kp0G/BxNCWB1pmdOoro8hdpQXed0Tk0/UYck86RNt7WuUWQsKzN1gNUQgSiVzgpwKV2DN\n",
       "YitXc/yxpa+rqdDi0F+gUpgyGoNQU6R6XyFgO+VQNY66grHcQ6wtK6FQcj8WjIqA+tQTR9gI+cA0\n",
       "bPkZWilYY31I6Yp1eyBh16PSk1v7IYORnk8c+hHDbEbGRV7h9i1ukWyFMxZ6flVCNzX68PT6lG9p\n",
       "evUUdMNfBPbZr4GDJ881bF3nliJlIiLIkxg5L4ZP3Js9FgVbHrz364QyNtETtUl92TBt64W6b3qL\n",
       "90LDmSeWOIarj0au+/6Zn/XOblXMKxx9+xzl0Y6Mq/jvx9V4IvYioaT1P7ml040bxfUp//dm+9ua\n",
       "Z/AICeqqN9JiAKDGJ+HT2T70/KjL4hf+STIi3ZUX9deWQM5dcaIs/HVgnL6DsD3ixoqa1MvkQrY/\n",
       "P0zyzF0fY5sbQgFP/4q/B6f+TpFzcpliyh/Fvpm4dm4YeBhwdfb1TUZrjsBUNFl6hR0BZ/F8mwtH\n",
       "7qsKVEhxKVCyZQey+U8rP7rbNf5ws3kCwIPZc/eR23OzSsBLN/5+HE1I+GpyF6FCqeEIS+jpUrYW\n",
       "emFVLGLxY4iWo73+KG4n9zycabVdkJR+Ia0L4VuoUh2J3iZVZSgeVjuZVdAPI5ht3ea9HRQGSJg6\n",
       "RCDMc3RuClvrkJjwQJAHC+JE4eJYSLvWIxVq34ahAPmBJtpS4osvS8dcmovSBeETW6Ylsa66A833\n",
       "ecKRu+MqlcTluxjDOJD+Sp6YRwW/JKGHeg5QKcQFRZSlzd7VC9lBVEvqz1AuwOX1vUB0G+ZD3T3s\n",
       "agx/fJdS7CshxUtBctrwSvOSQWeAY0+2M8D5vHmWPvaJG9v77x5ZXnP/hdXKhoQQV3Sj2BWX/oxK\n",
       "CziZq9Cx6L4w7pvskMkMaJTiq5A+iGHl47w5qE8Rf8vXd0GO6gj0eyRCStDm1M9Qhj5GBBH87udF\n",
       "4CgALmsBfefXMYZfbeI4x2AqVJhsQuIVEatmYHmg0NLH/rQCxTgV52OwTKmt9NPQh59KUzBWNSo9\n",
       "j5h4SSooCGgv31vkJU75RIMlz84GiZVljbnLgZUT3Fj4hIISLmmLfGzriItYVWMW1uM8ZLfm0r0g\n",
       "iDmAx6jX9nwip/iBOPBPtJxIoH/cLriUN2l8I+r1mvCoF2su3IaETBGbDg2Pe5cPWm0QZXb4IKPU\n",
       "gyZfuASVP39WQBLqV8hjodoX42e1aNlH//91uPStysxXDddecI+RYIcfYJGDNExlfGkGhoaHaGr+\n",
       "vhJwCnGw5JapBVeWbTBYm4/pgSZ+iHGoQu+wlFoCvaY3DEf9jWz3rpQUsPb/6Q3xQM+mw6xFLDHZ\n",
       "oPVAB2+0cVXvhHPcqb7brTaNRS9gaw48i3x+nYkOfwN1ILLxOVIjXVmYJwvmcuydJaQucP4Tq4V4\n",
       "7RJlLFmSq3+Kl3cRAA/JAAOKVxZtMKW8h6YL/NTSwnjIxRZde0mwKBw1IB7K02Q+Ww2XPpnfHYc9\n",
       "hzFmMITTR80wW0CYJ3MBVnxU3a9IGGYCXcsqWrQN8JIYLIG1gvNBYo3MRSEQ0dcqAADiVK5MSqrB\n",
       "6+BcmoAerSTVLFmHa5tbdlyKBk4dt9EGqT5N8+3T9JpXMMfdB6BEtMv5k/D3j7VZYLolD/Lrggzp\n",
       "D9HZIyig2j/TwPP883MvwCFOjTCjYWANZtB6TDvuIAEAewc042F/8MSgAgOddmvvDph/LBSD7UuK\n",
       "N05PTzP8Wxs9r3tWqnq/ODzNr8eIpGt/M/m4DfuXqi65e85t7WjQ8mQHpZMKm83F9Rbx2ahw2hC6\n",
       "E6sbbmDw2UGHCR4NXeq2iLsA46NjCbh6/6BA0fMPPUXqmdneClGZKZ5PI5ajn7bpvHvKIokDe8Q5\n",
       "CedBRK+MRGOETcon1Vi1LSbBdNwFIqxs4Uel0+vLE21lGRbp+lM7NlnX81Vpj32wLJEwZzNTCrHz\n",
       "m6gscI2HGHOSzyypjFhI7KMBfWFGf0dIpPfqvpMrx+z8XUYHrv/rxfC6TelNJI/Ha2hr2T8y3eBr\n",
       "taldjosbcJlCXqbEUfTThaW0tVK5FMG3vyr/h31bmAVxw03U1XLsS0p3fuD0iauiQhmOG9DdvA91\n",
       "GD+0KjuQmkJ+B/UYTR7tjcySZGXgBJVGg77cUYIQiO0Cp2v4Wb8+GxZlYeomQ5ZqCdeyDVDW3zLT\n",
       "YrtvhGYTwFXZEqts/Bd6Mf7eU4gTU1L+FgjTxWRuDVKq+p6NuXoAUUMe7Z5B6QdP8RGLQkt6vSQ5\n",
       "P1HYoiuZimlqcPdbD1e6/x7pPR16QGj/4g8Sm4Z1mgPd/gNLfypWymn9i5kwS7GTc5H7dr/dDe4G\n",
       "rSjc+T9EfKCnGkA9o5NuGiSI7MkbJgzZJpB/j5AzaxmZmhP1is4msIjQXSMxXUaWI7XPZdBvV0QN\n",
       "xSBc85B4kuBpZX8galT8NUeOTOXnALDLGsatTN+qUMaCCTJs8iXrJaBAae92a8YSwbdr0Xp9JQMb\n",
       "N4mqa/dfg0gLL+CSCDn88976v3yP21+q4Q+vC9DuRRSOcLNcRhD90ZB8jrcqBRCHHpZki3zgIKMU\n",
       "0fCbLBPfZehK/ClCraNWRCwGiNCySGWXPgjtw/q0Sj573xv9s8lIf3R8MzG4woJmB3PqJrbW+B7s\n",
       "XWO6T68mvDdCbYK6BUHkdu2vHcrqH3Qr8E6/qTPrnYxmX/UVWh97+G2fXdFXv5tVzT2HLPz/c7Kj\n",
       "IIyDCjlxzn6NDB2EDe54L8btMNozHUSj4Et5MqRf2FbwpZf7o1MWANnwlDSvOX9kTapuw8JNrVwu\n",
       "cTSdnadjzo24f/LvU2xNYnCdyqlAhHTx5/K4ZU3cLEdjpi5U7qHn3/nZPBa2G+EaKqOiIEEZErJJ\n",
       "MZql2p3BUI1kAntbxW7mcuNRzQTLxD/6OhrTJfC6zwGwYiDaFT8oLM37VmDw2xerkn5FcLtwrHa9\n",
       "sL186cfCoIWExQz7mLmsikwsxE5eBQYhAdz6+XiumRir0/egllSkpuhyFjSNltrctXIZ8/p9bi+H\n",
       "UTCT/C8mg1f+KDu4a212fgwfkF70sWqc5a7Xs6oqN8aO/fhgkekJXbaXAkNBEcqvEy+eGHrtTtdQ\n",
       "t6kXvsoARK49nYGPvKcUCkrbocRMIZUTpokB4vhtD7I6IgvWCvN6eyl0WiL/WGnlyZ0w3GQMnLgM\n",
       "yg9t1uzcWEO85XmNnoICSEe/dIGol6nTDalsV9XkVNoVhzdVREO89r2ZiqQNj3ALGE49k5/tNEqM\n",
       "uwXPotUfI4MIaOj8j4fc9DB0aoldV0K+TDUeQQYTgMnN6FF4+4hMJH5Xazq/YMiYIIGoL+mpRXMN\n",
       "sgTQl6OCGDbqXO+sRt8CrypW4PE+BbOmXnz9+EvDJk38yAiYpnbIn5HnVV/9B0HGuybyt0BfJKvK\n",
       "RytCTgfpNdzYYtnfOrWOgJPgpqvHU5VQU3+DeJB40nYEGiPhAZI9pqBSbHsSaX8auYOLzZAsmkZr\n",
       "+c2V2UZWqrECnRXm1grymvFu/4Exbi7tWFCMR+2tBPgS1AM7o7AsLbj7nOdvSD3jePkZu4mOEAAu\n",
       "wCCgAAAMCQAAAOBBmiRsQR/+tSqAAcduhoAHGRMW5ar5Tt1QAIqeq3BpdMU2H8bH66IhRfnT762Q\n",
       "efP8VRdXnC+uHPfm/lI1EMGvUbKGhbWsz9ApwrZ4qZ2VgPQLTqB+g3mL6jomkfOlbNVCWJGsy+H6\n",
       "8Vpl2kpGQzD1m9110Dr5qWgFoUgM+ObEIA5RUlGjf0XwRTFQsSD4ju6jyo1CFXFEMFk7+1HqGgPt\n",
       "rO2OAy001HNfKXYar2KUtaWP7n47Vxlw/gJa/FglXqyo13u72+9O5lV32NvlnsHzHbxjHwSCa5gv\n",
       "coiFqW6trAAAAHFBnkJ4h38ABvNq84GRai55NQIMzZB8AEF4+21ZBsm1mEcBMZ8Bz38Ho7AaQoa0\n",
       "713TwTdC06tkd51N+RWdNMql91BIlo3oudyAqWNVi6+SZBM94Z0lYkfpJtek9XjVoHVtK5g8hFJj\n",
       "2wqmaDU9CXbiJwAAAEIBnmF0Q38ACfHe+QHTPbp9y8lJFd+LX11TAv5xeYviQcrhizIK5fMtlBAe\n",
       "Fo+AAOiAv71pATY/XCeRW1n1snDcuTcAAABSAZ5jakN/AAADACsvQaHVanGQ4+p8JRqIAKAD5R2+\n",
       "NXhI0CD4Z0eY6VNHmTBL6qQAmP3GTV/yM6ivAars+XuvaCif0e0GYuAt8Ytgjbckf/uXdQAAAOVB\n",
       "mmhJqEFomUwIIf/+qlUAAAMAD0Ggjl1tgABuN2qFi0tgSu9/pbcn/+soBGl76BvF4PP9TW7j8KJU\n",
       "Nfq1hnNuFLZ9qP5+Os+E79ncOYcQEAJDHjpl1nnpqaZ6xTg2oT7TbUbDggl8k+q6hIZVrOaYNRUK\n",
       "AaqC3XSDWGpVn2LyWIK3Ax4k0T4OlenxmUfICQdQl+7ON7Vk4L5SeTpSvc0s3DESm/Fh+Ed5t/Cv\n",
       "Cs8PIWpYZjh7AcR8n3xMUw7vJNED1hNg0z9hhQPNu6N5drFuoJdTxELWgDwMITZ2+5fPjqueQr9x\n",
       "AAAAdkGehkURLDv/AAADAB3f8R0BXNN+HbVVYoevpsITP1iFiDknIDAyAFyj0F5mm03LdV0fhWNb\n",
       "J7A/YqCxzdcGO7X89iN67XqCs3YxHG8pFKSEO1m8xN2e3ndxbuux5CDxceyX6FWKtDWGSIeJXEhw\n",
       "rDQhyrddnIEAAAA5AZ6ldEN/AAADAA8EkHa3P2/Ij1DbG4AJvpgpgCx+s2gqzfO+Qu3QKvR/F58q\n",
       "9Kv0vt0ZZSg0vfW7AAAAOgGep2pDfwAAAwArKeEWzgaBL7L1QmHq3CiNztddGOHvEohrU1VrNZDK\n",
       "20McHKMGAedjK+CbWiWUl4AAAAEdQZqsSahBbJlMCCH//qpVAAADAA+ZpkDwEX8+Bn6fCwaTdZH8\n",
       "zOkkpAtMxemz+5pIBqukja2tEgMLszOYFgCtM+Y+mcfBNEqcHb2ebutDZe5aBmGScYeYglZf0Oid\n",
       "B9iUq9NL8bbrfFI8ZXXi6spDOO8CNNVtooVEexh/9+IIacZ5Vsuq9waQW2KLtfo8KHRCYUhtJ74u\n",
       "TvxRQNyUb8R5SaQNF3PvnLFpK5+4UVOAfkguTdE3GIoNTgMSgr4jDZ7y3ZYzLSmnQYo1uSS7JrIt\n",
       "OqB+uOXTDkSzUC7eHO8T9sTAMspryj6GZEnBVxFael/EDE015JANTNFU7iiC17J5X0b+E+U8tqG6\n",
       "TX4u65n/st9DE1XQZESnlw8AwIpAAAAAbUGeykUVLDv/AAADAB6P6MPNL1C0IMee2R2Vc5lis3A6\n",
       "C8/SpUZn2wt7lDYrcEXqj6Qb6AAtlR6xUbNbzZB8jIJJgh2fCZ+8gM2mSRwLw4SEQmS1CntsCaW9\n",
       "4/49u5WY/viB/cXCJ2iBywv+p6cAAABkAZ7pdEN/AAADACqhJQCzlO4Ab3LjeFfXA3e0iYIO0kMx\n",
       "/OhbVMyqEd/7ChgAE7cgtN45PSQemAGVnJmYrxOdAu2sqt+l3zLFI7+gFErHlhBVfGbZiaZGIhoE\n",
       "NwFRaU5fP+k78AAAADsBnutqQ38AAAMALEzsP5xg8A8OYWeGjzkobNBL7Kt8ubK2wwV3T7LD+DZk\n",
       "1KOn6zkpdT6SZ3HPMCz1sAAAAMNBmvBJqEFsmUwIb//+p4QAAAMAeUEw/0o/nVchsqM1agBbQ2jz\n",
       "JPaJGUy9FsGVAGbl4yQLB6MhAujmwf+SIbtgLabENyXdy2rEX15Z19cMhX/4/IBSQo3seNm3aUoy\n",
       "3hQOHZXj3MGQ9kyZgmjKpVqqmd7y/0VyWe8TT7qqukOx77Mxg45W02Jp4RqcvYev8O0pIc09kQvs\n",
       "rDkHmLS1Sxu4nZ+WScDzhGu7ksKYPwnVUWALFVamuJfDJOHmQI9xF6CxVBEAAAC7QZ8ORRUsO/8A\n",
       "AAMAHo+JSvVECDgBEqs0QxJ8leoX6Qn5jfcZE6+d1w9tiglElrWhz5QE6N3NW+VYEUBQGsyMemL7\n",
       "+xfxRYdLMQmhFQr7dsMmNbb+Qm91QdiTiKlWAfiLKHXoEVcmvQEU9eneFRY7djToigA4EGUS4jTi\n",
       "VXEOSc9zeJDMPamL28qRDC5NEGcW/XisXV+xJItDZ6iiBYoZsIRus1LgZpSxMYJ8VGsE0xczy+en\n",
       "+eZeT4u0wQAAAFwBny10Q38AAAMALE/0/yXb1KFSuGn114HqQFrKKRR1Nca5ogjRQXROUTHf6AkG\n",
       "uTUQ6AblrQAXYgFRBV0KpCjWlYJY0kWbzRS/xRtreF0ScoNxxUBI2h91a+J7oQAAAF4Bny9qQ38A\n",
       "AAMALE6mfmW6zgpvAIsgu01A0fyde1ZTxcMjRJasKn1i/ujtXhv2XjQAj0NZJwo03BMwxFD17Uqx\n",
       "0I7sMQbH0iGZkfXbHxVt8qqePWCv6TLxyWv/vM+AAAAD+m1vb3YAAABsbXZoZAAAAAAAAAAAAAAA\n",
       "AAAAA+gAAAakAAEAAAEAAAAAAAAAAAAAAAABAAAAAAAAAAAAAAAAAAAAAQAAAAAAAAAAAAAAAAAA\n",
       "QAAAAAAAAAAAAAAAAAAAAAAAAAAAAAAAAAAAAAAAAAIAAAMkdHJhawAAAFx0a2hkAAAAAwAAAAAA\n",
       "AAAAAAAAAQAAAAAAAAakAAAAAAAAAAAAAAAAAAAAAAABAAAAAAAAAAAAAAAAAAAAAQAAAAAAAAAA\n",
       "AAAAAAAAQAAAAAKAAAAB4AAAAAAAJGVkdHMAAAAcZWxzdAAAAAAAAAABAAAGpAAACAAAAQAAAAAC\n",
       "nG1kaWEAAAAgbWRoZAAAAAAAAAAAAAAAAAAAKAAAAEQAVcQAAAAAAC1oZGxyAAAAAAAAAAB2aWRl\n",
       "AAAAAAAAAAAAAAAAVmlkZW9IYW5kbGVyAAAAAkdtaW5mAAAAFHZtaGQAAAABAAAAAAAAAAAAAAAk\n",
       "ZGluZgAAABxkcmVmAAAAAAAAAAEAAAAMdXJsIAAAAAEAAAIHc3RibAAAALNzdHNkAAAAAAAAAAEA\n",
       "AACjYXZjMQAAAAAAAAABAAAAAAAAAAAAAAAAAAAAAAKAAeAASAAAAEgAAAAAAAAAAQAAAAAAAAAA\n",
       "AAAAAAAAAAAAAAAAAAAAAAAAAAAAAAAAABj//wAAADFhdmNDAWQAFv/hABhnZAAWrNlAoD2hAAAD\n",
       "AAEAAAMAFA8WLZYBAAZo6+PLIsAAAAAcdXVpZGtoQPJfJE/FujmlG88DI/MAAAAAAAAAGHN0dHMA\n",
       "AAAAAAAAAQAAABEAAAQAAAAAFHN0c3MAAAAAAAAAAQAAAAEAAACYY3R0cwAAAAAAAAARAAAAAQAA\n",
       "CAAAAAABAAAUAAAAAAEAAAgAAAAAAQAAAAAAAAABAAAEAAAAAAEAABQAAAAAAQAACAAAAAABAAAA\n",
       "AAAAAAEAAAQAAAAAAQAAFAAAAAABAAAIAAAAAAEAAAAAAAAAAQAABAAAAAABAAAUAAAAAAEAAAgA\n",
       "AAAAAQAAAAAAAAABAAAEAAAAABxzdHNjAAAAAAAAAAEAAAABAAAAEQAAAAEAAABYc3RzegAAAAAA\n",
       "AAAAAAAAEQAAEXIAAADkAAAAdQAAAEYAAABWAAAA6QAAAHoAAAA9AAAAPgAAASEAAABxAAAAaAAA\n",
       "AD8AAADHAAAAvwAAAGAAAABiAAAAFHN0Y28AAAAAAAAAAQAAACwAAABidWR0YQAAAFptZXRhAAAA\n",
       "AAAAACFoZGxyAAAAAAAAAABtZGlyYXBwbAAAAAAAAAAAAAAAAC1pbHN0AAAAJal0b28AAAAdZGF0\n",
       "YQAAAAEAAAAATGF2ZjU4LjI5LjEwMA==\n",
       "\">\n",
       "  Your browser does not support the video tag.\n",
       "</video>"
      ],
      "text/plain": [
       "<IPython.core.display.HTML object>"
      ]
     },
     "execution_count": 22,
     "metadata": {},
     "output_type": "execute_result"
    }
   ],
   "source": [
    "show_video_html(frames)"
   ]
  },
  {
   "cell_type": "code",
   "execution_count": null,
   "id": "956aef52",
   "metadata": {},
   "outputs": [],
   "source": []
  }
 ],
 "metadata": {
  "kernelspec": {
   "display_name": "Python 3 (ipykernel)",
   "language": "python",
   "name": "python3"
  },
  "language_info": {
   "codemirror_mode": {
    "name": "ipython",
    "version": 3
   },
   "file_extension": ".py",
   "mimetype": "text/x-python",
   "name": "python",
   "nbconvert_exporter": "python",
   "pygments_lexer": "ipython3",
   "version": "3.11.4"
  }
 },
 "nbformat": 4,
 "nbformat_minor": 5
}
