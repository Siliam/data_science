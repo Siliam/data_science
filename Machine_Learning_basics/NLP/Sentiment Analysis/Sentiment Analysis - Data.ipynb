{
 "cells": [
  {
   "cell_type": "code",
   "execution_count": 1,
   "id": "aad13b49",
   "metadata": {},
   "outputs": [],
   "source": [
    "import json\n",
    "import pickle\n",
    "import datasets\n",
    "import pandas as pd\n",
    "import numpy as np\n",
    "from pprint import pprint\n",
    "from tqdm.notebook import tqdm\n",
    "from collections import Counter\n",
    "from datasets import load_dataset\n",
    "from time import strftime, localtime\n",
    "\n",
    "pd.set_option('display.max_colwidth', 200)"
   ]
  },
  {
   "cell_type": "code",
   "execution_count": 2,
   "id": "64f82f61",
   "metadata": {},
   "outputs": [],
   "source": [
    "# ! pip install fsspec=2023.4.0"
   ]
  },
  {
   "cell_type": "code",
   "execution_count": 3,
   "id": "a1f2a869",
   "metadata": {},
   "outputs": [],
   "source": [
    "# dataset = load_dataset('alsubari/Israel-palestine-war')"
   ]
  },
  {
   "cell_type": "code",
   "execution_count": 4,
   "id": "ca82166f",
   "metadata": {},
   "outputs": [],
   "source": [
    "# print(dataset)"
   ]
  },
  {
   "cell_type": "raw",
   "id": "bb80081d",
   "metadata": {
    "scrolled": false
   },
   "source": [
    "metadata = []\n",
    "for d in tqdm(dataset['train']):\n",
    "    md = {}\n",
    "    for k in d:\n",
    "        if k != \"comments\":\n",
    "            md[k] = d[k]\n",
    "    metadata.append(md)\n",
    "\n",
    "df_metadata = pd.DataFrame(metadata)"
   ]
  },
  {
   "cell_type": "raw",
   "id": "73294e4a",
   "metadata": {},
   "source": [
    "comments_data = []\n",
    "for d in tqdm(dataset['train']):\n",
    "    for k in d:\n",
    "        if k == \"comments\":\n",
    "            for c in d[k]:\n",
    "                c['video_id'] = d['id']\n",
    "                comments_data.append(c)\n",
    "\n",
    "df_comments = pd.DataFrame(comments_data)"
   ]
  },
  {
   "cell_type": "raw",
   "id": "a73ca809",
   "metadata": {},
   "source": [
    "df_metadata.head()"
   ]
  },
  {
   "cell_type": "raw",
   "id": "de3df965",
   "metadata": {},
   "source": [
    "len(df_metadata.id.unique())"
   ]
  },
  {
   "cell_type": "raw",
   "id": "1e4f8390",
   "metadata": {},
   "source": [
    "len(df_comments.author.unique())"
   ]
  },
  {
   "cell_type": "raw",
   "id": "0daa7917",
   "metadata": {},
   "source": [
    "df_metadata.to_csv('data/alsubari_videos_metadata.csv')"
   ]
  },
  {
   "cell_type": "raw",
   "id": "afb08c53",
   "metadata": {},
   "source": [
    "df_comments.to_csv('data/alsubari_videos_comments.csv')"
   ]
  },
  {
   "cell_type": "markdown",
   "id": "89c5ac4a",
   "metadata": {},
   "source": [
    "# Exploratory Data Analysis"
   ]
  },
  {
   "cell_type": "markdown",
   "id": "5dd8ba6c",
   "metadata": {},
   "source": [
    "### Stats about videos"
   ]
  },
  {
   "cell_type": "code",
   "execution_count": 5,
   "id": "60d3b2e1",
   "metadata": {},
   "outputs": [],
   "source": [
    "df_metadata = pd.read_csv('data/alsubari_videos_metadata.csv')"
   ]
  },
  {
   "cell_type": "code",
   "execution_count": 6,
   "id": "66ee5296",
   "metadata": {},
   "outputs": [
    {
     "data": {
      "text/html": [
       "<div>\n",
       "<style scoped>\n",
       "    .dataframe tbody tr th:only-of-type {\n",
       "        vertical-align: middle;\n",
       "    }\n",
       "\n",
       "    .dataframe tbody tr th {\n",
       "        vertical-align: top;\n",
       "    }\n",
       "\n",
       "    .dataframe thead th {\n",
       "        text-align: right;\n",
       "    }\n",
       "</style>\n",
       "<table border=\"1\" class=\"dataframe\">\n",
       "  <thead>\n",
       "    <tr style=\"text-align: right;\">\n",
       "      <th></th>\n",
       "      <th>Unnamed: 0</th>\n",
       "      <th>id</th>\n",
       "      <th>publish_channel</th>\n",
       "      <th>title</th>\n",
       "      <th>start_duration</th>\n",
       "      <th>end_duration</th>\n",
       "      <th>lengthSeconds</th>\n",
       "      <th>total_comments</th>\n",
       "      <th>total_unique_users</th>\n",
       "    </tr>\n",
       "  </thead>\n",
       "  <tbody>\n",
       "    <tr>\n",
       "      <th>0</th>\n",
       "      <td>0</td>\n",
       "      <td>FUzLx1l37RE</td>\n",
       "      <td>NBCNews</td>\n",
       "      <td>Blinken reiterates Israel support but urges restraint as Gaza casualties rise</td>\n",
       "      <td>2023-11-03 19:38:34</td>\n",
       "      <td>2023-11-04 17:38:34</td>\n",
       "      <td>241</td>\n",
       "      <td>25</td>\n",
       "      <td>21</td>\n",
       "    </tr>\n",
       "    <tr>\n",
       "      <th>1</th>\n",
       "      <td>1</td>\n",
       "      <td>PcQaG4sC9BM</td>\n",
       "      <td>NBCNews</td>\n",
       "      <td>Full Special Report: Israel declares war after surprise Hamas attack | NBC News</td>\n",
       "      <td>2023-10-07 19:42:03</td>\n",
       "      <td>2023-11-04 12:38:36</td>\n",
       "      <td>1484</td>\n",
       "      <td>21905</td>\n",
       "      <td>14860</td>\n",
       "    </tr>\n",
       "    <tr>\n",
       "      <th>2</th>\n",
       "      <td>2</td>\n",
       "      <td>X2t6NyGP1-w</td>\n",
       "      <td>NBCNews</td>\n",
       "      <td>Hamas official claims it's their 'legal right' to fight against Israeli occupation</td>\n",
       "      <td>2023-11-03 19:49:36</td>\n",
       "      <td>2023-11-04 19:46:34</td>\n",
       "      <td>335</td>\n",
       "      <td>1853</td>\n",
       "      <td>1170</td>\n",
       "    </tr>\n",
       "    <tr>\n",
       "      <th>3</th>\n",
       "      <td>3</td>\n",
       "      <td>cd24N0tF-jY</td>\n",
       "      <td>NBCNews</td>\n",
       "      <td>FBI director warns of growing domestic threat amid Israel-Hamas war</td>\n",
       "      <td>2023-11-01 19:50:24</td>\n",
       "      <td>2023-11-04 18:50:41</td>\n",
       "      <td>143</td>\n",
       "      <td>987</td>\n",
       "      <td>670</td>\n",
       "    </tr>\n",
       "    <tr>\n",
       "      <th>4</th>\n",
       "      <td>4</td>\n",
       "      <td>ICR5ml2YPkI</td>\n",
       "      <td>NBCNews</td>\n",
       "      <td>Israel’s president: 23-year-old Israeli hostage Shani Louk was beheaded by Hamas</td>\n",
       "      <td>2023-10-31 19:51:23</td>\n",
       "      <td>2023-11-04 19:44:35</td>\n",
       "      <td>162</td>\n",
       "      <td>5275</td>\n",
       "      <td>3475</td>\n",
       "    </tr>\n",
       "  </tbody>\n",
       "</table>\n",
       "</div>"
      ],
      "text/plain": [
       "   Unnamed: 0           id publish_channel  \\\n",
       "0           0  FUzLx1l37RE         NBCNews   \n",
       "1           1  PcQaG4sC9BM         NBCNews   \n",
       "2           2  X2t6NyGP1-w         NBCNews   \n",
       "3           3  cd24N0tF-jY         NBCNews   \n",
       "4           4  ICR5ml2YPkI         NBCNews   \n",
       "\n",
       "                                                                                title  \\\n",
       "0       Blinken reiterates Israel support but urges restraint as Gaza casualties rise   \n",
       "1     Full Special Report: Israel declares war after surprise Hamas attack | NBC News   \n",
       "2  Hamas official claims it's their 'legal right' to fight against Israeli occupation   \n",
       "3                 FBI director warns of growing domestic threat amid Israel-Hamas war   \n",
       "4    Israel’s president: 23-year-old Israeli hostage Shani Louk was beheaded by Hamas   \n",
       "\n",
       "        start_duration         end_duration  lengthSeconds  total_comments  \\\n",
       "0  2023-11-03 19:38:34  2023-11-04 17:38:34            241              25   \n",
       "1  2023-10-07 19:42:03  2023-11-04 12:38:36           1484           21905   \n",
       "2  2023-11-03 19:49:36  2023-11-04 19:46:34            335            1853   \n",
       "3  2023-11-01 19:50:24  2023-11-04 18:50:41            143             987   \n",
       "4  2023-10-31 19:51:23  2023-11-04 19:44:35            162            5275   \n",
       "\n",
       "   total_unique_users  \n",
       "0                  21  \n",
       "1               14860  \n",
       "2                1170  \n",
       "3                 670  \n",
       "4                3475  "
      ]
     },
     "execution_count": 6,
     "metadata": {},
     "output_type": "execute_result"
    }
   ],
   "source": [
    "df_metadata.head()"
   ]
  },
  {
   "cell_type": "code",
   "execution_count": 7,
   "id": "cc696925",
   "metadata": {},
   "outputs": [],
   "source": [
    "df_metadata['start_duration'] = pd.to_datetime(df_metadata['start_duration'])\n",
    "df_metadata['end_duration'] = pd.to_datetime(df_metadata['end_duration'])"
   ]
  },
  {
   "cell_type": "code",
   "execution_count": 8,
   "id": "d3c78bea",
   "metadata": {},
   "outputs": [
    {
     "name": "stdout",
     "output_type": "stream",
     "text": [
      "Number of videos: 310\n",
      "Number of channels: 6\n",
      "Total duration: 134468 seconds\n",
      "Total number of comments: 1028346\n",
      "Total number of unique users: 689753\n",
      "\n",
      " Time interval: 2023-10-04 22:01:46 to 2023-11-06 19:42:46 (totaling 32 days)\n"
     ]
    }
   ],
   "source": [
    "print(\"Number of videos:\", len(df_metadata))\n",
    "print(\"Number of channels:\", len(df_metadata.publish_channel.unique()))\n",
    "print(\"Total duration:\", sum(df_metadata.lengthSeconds), \"seconds\")\n",
    "print(\"Total number of comments:\", sum(df_metadata.total_comments))\n",
    "print(\"Total number of unique users:\", sum(df_metadata.total_unique_users))\n",
    "\n",
    "first_post = min(df_metadata.start_duration)\n",
    "last_post = max(df_metadata.start_duration)\n",
    "print('\\n', \"Time interval:\", first_post, 'to', last_post, '(totaling', (last_post - first_post).days, 'days)')"
   ]
  },
  {
   "cell_type": "markdown",
   "id": "2cc2f548",
   "metadata": {},
   "source": [
    "### Stats about comments"
   ]
  },
  {
   "cell_type": "code",
   "execution_count": 9,
   "id": "93be9175",
   "metadata": {},
   "outputs": [],
   "source": [
    "df_comments = pd.read_csv('data/alsubari_videos_comments.csv')"
   ]
  },
  {
   "cell_type": "code",
   "execution_count": 10,
   "id": "5b3c5b93",
   "metadata": {},
   "outputs": [
    {
     "data": {
      "text/html": [
       "<div>\n",
       "<style scoped>\n",
       "    .dataframe tbody tr th:only-of-type {\n",
       "        vertical-align: middle;\n",
       "    }\n",
       "\n",
       "    .dataframe tbody tr th {\n",
       "        vertical-align: top;\n",
       "    }\n",
       "\n",
       "    .dataframe thead th {\n",
       "        text-align: right;\n",
       "    }\n",
       "</style>\n",
       "<table border=\"1\" class=\"dataframe\">\n",
       "  <thead>\n",
       "    <tr style=\"text-align: right;\">\n",
       "      <th></th>\n",
       "      <th>Unnamed: 0</th>\n",
       "      <th>author</th>\n",
       "      <th>channel</th>\n",
       "      <th>cid</th>\n",
       "      <th>heart</th>\n",
       "      <th>reply</th>\n",
       "      <th>text</th>\n",
       "      <th>time</th>\n",
       "      <th>time_parsed</th>\n",
       "      <th>votes</th>\n",
       "      <th>video_id</th>\n",
       "    </tr>\n",
       "  </thead>\n",
       "  <tbody>\n",
       "    <tr>\n",
       "      <th>0</th>\n",
       "      <td>0</td>\n",
       "      <td>@LMLewis</td>\n",
       "      <td>UCNUa3f8nwYg-Kn1v4u5wrtQ</td>\n",
       "      <td>UgxbXce9xz7a27nVOyl4AaABAg</td>\n",
       "      <td>False</td>\n",
       "      <td>False</td>\n",
       "      <td>Blinken deserves to be known as the Butcher of Foggy Bottom, using empty words to try to deflect criticism of the US government's participation in genocide.</td>\n",
       "      <td>2 hours ago</td>\n",
       "      <td>1.699120e+09</td>\n",
       "      <td>0</td>\n",
       "      <td>FUzLx1l37RE</td>\n",
       "    </tr>\n",
       "    <tr>\n",
       "      <th>1</th>\n",
       "      <td>1</td>\n",
       "      <td>@lovellewilliams5531</td>\n",
       "      <td>UCm9ztdJUAMpUNipdNxAHN_g</td>\n",
       "      <td>Ugx7aiPfji7zYkmV1k54AaABAg</td>\n",
       "      <td>False</td>\n",
       "      <td>False</td>\n",
       "      <td>The United States are supporting the killing of civilians</td>\n",
       "      <td>4 hours ago</td>\n",
       "      <td>1.699112e+09</td>\n",
       "      <td>0</td>\n",
       "      <td>FUzLx1l37RE</td>\n",
       "    </tr>\n",
       "    <tr>\n",
       "      <th>2</th>\n",
       "      <td>2</td>\n",
       "      <td>@noryaminmatariffin3029</td>\n",
       "      <td>UCCyvX_gd5zANsFYXnDBpuXw</td>\n",
       "      <td>UgywKu6FT8TWbssFsnJ4AaABAg</td>\n",
       "      <td>False</td>\n",
       "      <td>False</td>\n",
       "      <td>So why hospitals, ambulance, civiliance, refuge camp  are bombing is IDF blind! or you just a clown</td>\n",
       "      <td>16 hours ago</td>\n",
       "      <td>1.699069e+09</td>\n",
       "      <td>0</td>\n",
       "      <td>FUzLx1l37RE</td>\n",
       "    </tr>\n",
       "    <tr>\n",
       "      <th>3</th>\n",
       "      <td>3</td>\n",
       "      <td>@Not_Today___</td>\n",
       "      <td>UCmicKai8OhhPUpOfG3VTFvA</td>\n",
       "      <td>UgwXQG7Qt7HVKsSTC7F4AaABAg</td>\n",
       "      <td>False</td>\n",
       "      <td>False</td>\n",
       "      <td>I'm an American. I think this war started on October 7th and that before that Israel never did anything wrong. I have the right to free speech and I'm gonna use it, even though I'm this: 🤣</td>\n",
       "      <td>1 day ago</td>\n",
       "      <td>1.699040e+09</td>\n",
       "      <td>0</td>\n",
       "      <td>FUzLx1l37RE</td>\n",
       "    </tr>\n",
       "    <tr>\n",
       "      <th>4</th>\n",
       "      <td>4</td>\n",
       "      <td>@benzo2632</td>\n",
       "      <td>UCA0boZvrgR4mbnQ2Bi65QKQ</td>\n",
       "      <td>UgxnJo7jgnD3Qcg6aAB4AaABAg</td>\n",
       "      <td>False</td>\n",
       "      <td>False</td>\n",
       "      <td>WAR CRIMES SUPORTED BY USA ,,,,</td>\n",
       "      <td>1 day ago</td>\n",
       "      <td>1.699040e+09</td>\n",
       "      <td>0</td>\n",
       "      <td>FUzLx1l37RE</td>\n",
       "    </tr>\n",
       "  </tbody>\n",
       "</table>\n",
       "</div>"
      ],
      "text/plain": [
       "   Unnamed: 0                   author                   channel  \\\n",
       "0           0                 @LMLewis  UCNUa3f8nwYg-Kn1v4u5wrtQ   \n",
       "1           1     @lovellewilliams5531  UCm9ztdJUAMpUNipdNxAHN_g   \n",
       "2           2  @noryaminmatariffin3029  UCCyvX_gd5zANsFYXnDBpuXw   \n",
       "3           3            @Not_Today___  UCmicKai8OhhPUpOfG3VTFvA   \n",
       "4           4               @benzo2632  UCA0boZvrgR4mbnQ2Bi65QKQ   \n",
       "\n",
       "                          cid  heart  reply  \\\n",
       "0  UgxbXce9xz7a27nVOyl4AaABAg  False  False   \n",
       "1  Ugx7aiPfji7zYkmV1k54AaABAg  False  False   \n",
       "2  UgywKu6FT8TWbssFsnJ4AaABAg  False  False   \n",
       "3  UgwXQG7Qt7HVKsSTC7F4AaABAg  False  False   \n",
       "4  UgxnJo7jgnD3Qcg6aAB4AaABAg  False  False   \n",
       "\n",
       "                                                                                                                                                                                           text  \\\n",
       "0                                  Blinken deserves to be known as the Butcher of Foggy Bottom, using empty words to try to deflect criticism of the US government's participation in genocide.   \n",
       "1                                                                                                                                     The United States are supporting the killing of civilians   \n",
       "2                                                                                           So why hospitals, ambulance, civiliance, refuge camp  are bombing is IDF blind! or you just a clown   \n",
       "3  I'm an American. I think this war started on October 7th and that before that Israel never did anything wrong. I have the right to free speech and I'm gonna use it, even though I'm this: 🤣   \n",
       "4                                                                                                                                                               WAR CRIMES SUPORTED BY USA ,,,,   \n",
       "\n",
       "           time   time_parsed votes     video_id  \n",
       "0   2 hours ago  1.699120e+09     0  FUzLx1l37RE  \n",
       "1   4 hours ago  1.699112e+09     0  FUzLx1l37RE  \n",
       "2  16 hours ago  1.699069e+09     0  FUzLx1l37RE  \n",
       "3     1 day ago  1.699040e+09     0  FUzLx1l37RE  \n",
       "4     1 day ago  1.699040e+09     0  FUzLx1l37RE  "
      ]
     },
     "execution_count": 10,
     "metadata": {},
     "output_type": "execute_result"
    }
   ],
   "source": [
    "df_comments.head()"
   ]
  },
  {
   "cell_type": "code",
   "execution_count": 11,
   "id": "45a97fd0",
   "metadata": {},
   "outputs": [],
   "source": [
    "epoch_to_date = lambda d: strftime('%Y-%m-%d %H:%M:%S', localtime(d))\n",
    "df_comments['date'] = pd.to_datetime(df_comments['time_parsed'].apply(epoch_to_date))"
   ]
  },
  {
   "cell_type": "code",
   "execution_count": 12,
   "id": "5710cac8",
   "metadata": {},
   "outputs": [
    {
     "name": "stdout",
     "output_type": "stream",
     "text": [
      "Number of comments: 1028346\n",
      "Total number of unique posters: 457373\n",
      "Average number of comments per video: 3317\n",
      "\n",
      " Time interval: 2023-10-04 23:01:46 to 2023-11-07 01:41:49 (totaling 33 days)\n"
     ]
    }
   ],
   "source": [
    "print(\"Number of comments:\", len(df_comments))\n",
    "print(\"Total number of unique posters:\", len(df_comments.author.unique()))\n",
    "print(\"Average number of comments per video:\", int(df_comments['video_id'].value_counts().mean()))\n",
    "\n",
    "first_post = min(df_comments.date)\n",
    "last_post = max(df_comments.date)\n",
    "print('\\n', \"Time interval:\", first_post, 'to', last_post, '(totaling', (last_post - first_post).days, 'days)')"
   ]
  },
  {
   "cell_type": "markdown",
   "id": "0d87a573",
   "metadata": {},
   "source": [
    "# Sentiment Analysis"
   ]
  },
  {
   "cell_type": "code",
   "execution_count": 13,
   "id": "6cc00e4c",
   "metadata": {},
   "outputs": [],
   "source": [
    "from transformers import pipeline"
   ]
  },
  {
   "cell_type": "code",
   "execution_count": 14,
   "id": "ab214477",
   "metadata": {},
   "outputs": [
    {
     "name": "stderr",
     "output_type": "stream",
     "text": [
      "No model was supplied, defaulted to distilbert-base-uncased-finetuned-sst-2-english and revision af0f99b (https://huggingface.co/distilbert-base-uncased-finetuned-sst-2-english).\n",
      "Using a pipeline without specifying a model name and revision in production is not recommended.\n"
     ]
    },
    {
     "data": {
      "text/plain": [
       "[{'label': 'POSITIVE', 'score': 0.9998656511306763},\n",
       " {'label': 'NEGATIVE', 'score': 0.9991129040718079}]"
      ]
     },
     "execution_count": 14,
     "metadata": {},
     "output_type": "execute_result"
    }
   ],
   "source": [
    "# No model was supplied, defaulted to distilbert-base-uncased-finetuned-sst-2-english \n",
    "sentiment_pipeline = pipeline(\"sentiment-analysis\", device=\"cuda\")\n",
    "data = [\"I love you\", \"I hate you\"]\n",
    "sentiment_pipeline(data)"
   ]
  },
  {
   "cell_type": "code",
   "execution_count": 15,
   "id": "1adb78bc",
   "metadata": {},
   "outputs": [
    {
     "data": {
      "text/plain": [
       "video_id\n",
       "4idQbwsvtUo    128093\n",
       "6FVUxvp6Ah0     26252\n",
       "svOc4Ki68_U     24391\n",
       "FXrVtabZggI     23255\n",
       "PcQaG4sC9BM     21905\n",
       "                ...  \n",
       "ktAc39_WaTI        71\n",
       "ivXS0Fnzpns        44\n",
       "KwWz3wQtV5Y        42\n",
       "zZGtLXxQhjQ        25\n",
       "FUzLx1l37RE        25\n",
       "Name: count, Length: 310, dtype: int64"
      ]
     },
     "execution_count": 15,
     "metadata": {},
     "output_type": "execute_result"
    }
   ],
   "source": [
    "df_comments['video_id'].value_counts()"
   ]
  },
  {
   "cell_type": "code",
   "execution_count": 16,
   "id": "d05f5451",
   "metadata": {},
   "outputs": [
    {
     "name": "stdout",
     "output_type": "stream",
     "text": [
      "HEATED DEBATE: Cornel West, Alan Dershowitz spar over Israel-Hamas war\n",
      "It's a debate\n"
     ]
    }
   ],
   "source": [
    "video_title = df_metadata[df_metadata.id == 'svOc4Ki68_U']['title'].values[0]\n",
    "print(video_title)\n",
    "print(\"It's a debate\" if \"debate\" in video_title.lower() else \"It's not a debate\")"
   ]
  },
  {
   "cell_type": "code",
   "execution_count": 17,
   "id": "d3f5531b",
   "metadata": {},
   "outputs": [],
   "source": [
    "video_id = 'svOc4Ki68_U'\n",
    "video_comments =  df_comments[df_comments['video_id'] == video_id]"
   ]
  },
  {
   "cell_type": "raw",
   "id": "7109a9ed",
   "metadata": {},
   "source": [
    "%%time\n",
    "comment_sentiments = []\n",
    "for i, comment in enumerate(tqdm(video_comments['text'].tolist())):\n",
    "    try:\n",
    "        comment_sentiments.append(sentiment_pipeline(comment))\n",
    "    except:\n",
    "        print(f'Problem with comment #{i}')\n",
    "        comment_sentiments.append([{'label': 'UNKNOWN', 'score': 1.}])"
   ]
  },
  {
   "cell_type": "code",
   "execution_count": 18,
   "id": "abf62b6e",
   "metadata": {},
   "outputs": [
    {
     "data": {
      "text/plain": [
       "'ليسن فاكس نيوز اذا كنت تفهم الصحافه واذا كنت تفهم القراءه والكتابه هل تعلم ان اسرائيل محتله الاراضي الفلسطينيه اكثر من 75 عام تعلم ان اسرائيل تقتل الفلسطينيين يوميا وتقول ان حماس هي ارهابيه حماس نينجا جو هما فلسطينيين يدافعون عن عرضهم وعن كرامتهم وعن حقوقهم من حق كل فلسطينيه حماس اي انسان فلسطيني ان يدافع على حقوقه في الدول العربيه والاسلاميه هي ليست بالخمسينات احنا فهمنا الكثير منكم وعلى عبر قناتكم فاكس نيوز تعلمنا الكثير العنصريه حقكم من الاضطهاد من الظلم من الكهنوت انت من حق اي فلسطيني ان يدافع وان يقتل الجيش الاسرائيلي كله وفي مثل بيقول بالعربي اي شيء يؤخذ منك بالقوه ما يعاد الا بالقوه نحن نعرف الكثير ان اسرائيل هي ولايه من الولايات المتحده الامريكيه تدعمها بالمال بالاسلحه وتقتلون شعبنا العزيز فجاء الحق وزهق الباطل ان الباطل كان زهوقا والنصر والعزه لابناء فلسطين ونحن واقفين معهم بالمال والسلاح والرجال وفي كل شيء رغم انفكم'"
      ]
     },
     "execution_count": 18,
     "metadata": {},
     "output_type": "execute_result"
    }
   ],
   "source": [
    "video_comments['text'].tolist()[8797]"
   ]
  },
  {
   "cell_type": "raw",
   "id": "f4cf643f",
   "metadata": {},
   "source": [
    "print(len(comment_sentiments))"
   ]
  },
  {
   "cell_type": "raw",
   "id": "19279a31",
   "metadata": {},
   "source": [
    "# Drop low-confidence (<80%) classifications\n",
    "sentiment_counter = Counter([s[0]['label'] for s in comment_sentiments if s[0]['score'] > 0.9])"
   ]
  },
  {
   "cell_type": "raw",
   "id": "e2541495",
   "metadata": {},
   "source": [
    "print(sum(sentiment_counter.values()))\n",
    "sentiment_counter.most_common()"
   ]
  },
  {
   "cell_type": "raw",
   "id": "b937576e",
   "metadata": {},
   "source": [
    "video_comments['sentiment'] = [s[0]['label'] if s[0]['score'] > 0.8 else 'UNCERTAIN' for s in comment_sentiments]"
   ]
  },
  {
   "cell_type": "raw",
   "id": "53427518",
   "metadata": {},
   "source": [
    "video_comments['sentiment'].value_counts()"
   ]
  },
  {
   "cell_type": "raw",
   "id": "c019ef2c",
   "metadata": {},
   "source": [
    "video_comments[video_comments['sentiment'] == 'POSITIVE']['text'].values[:5]"
   ]
  },
  {
   "cell_type": "markdown",
   "id": "342f850f",
   "metadata": {},
   "source": [
    "# Sentiment Extraction"
   ]
  },
  {
   "cell_type": "raw",
   "id": "5126fb25",
   "metadata": {},
   "source": [
    "%%time\n",
    "comment_sentiments = []\n",
    "for i, comment_row in tqdm(df_comments.iterrows()):\n",
    "    try:\n",
    "        comment_sentiments.append(sentiment_pipeline(comment_row['text']))\n",
    "    except:\n",
    "        comment_sentiments.append([{'label': 'UNKNOWN', 'score': 1.}])"
   ]
  },
  {
   "cell_type": "raw",
   "id": "443cacb8",
   "metadata": {},
   "source": [
    "pickle.dump(comment_sentiments, open('comment_sentiments.pickle', 'wb'))"
   ]
  },
  {
   "cell_type": "code",
   "execution_count": 21,
   "id": "c5a7332f",
   "metadata": {},
   "outputs": [],
   "source": [
    "comment_sentiments = pickle.load(open('comment_sentiments.pickle', 'rb'))"
   ]
  },
  {
   "cell_type": "code",
   "execution_count": 22,
   "id": "2a22e7c4",
   "metadata": {},
   "outputs": [
    {
     "data": {
      "text/plain": [
       "(1028346, 1028346)"
      ]
     },
     "execution_count": 22,
     "metadata": {},
     "output_type": "execute_result"
    }
   ],
   "source": [
    "len(df_comments), len(comment_sentiments)"
   ]
  },
  {
   "cell_type": "code",
   "execution_count": 23,
   "id": "890db45c",
   "metadata": {},
   "outputs": [],
   "source": [
    "df_comments['sentiment_label'] = [cs[0]['label'] for cs in comment_sentiments]\n",
    "df_comments['sentiment_score'] = [cs[0]['score'] for cs in comment_sentiments]"
   ]
  },
  {
   "cell_type": "code",
   "execution_count": 24,
   "id": "d03985d8",
   "metadata": {},
   "outputs": [
    {
     "data": {
      "text/html": [
       "<div>\n",
       "<style scoped>\n",
       "    .dataframe tbody tr th:only-of-type {\n",
       "        vertical-align: middle;\n",
       "    }\n",
       "\n",
       "    .dataframe tbody tr th {\n",
       "        vertical-align: top;\n",
       "    }\n",
       "\n",
       "    .dataframe thead th {\n",
       "        text-align: right;\n",
       "    }\n",
       "</style>\n",
       "<table border=\"1\" class=\"dataframe\">\n",
       "  <thead>\n",
       "    <tr style=\"text-align: right;\">\n",
       "      <th></th>\n",
       "      <th>Unnamed: 0</th>\n",
       "      <th>author</th>\n",
       "      <th>channel</th>\n",
       "      <th>cid</th>\n",
       "      <th>heart</th>\n",
       "      <th>reply</th>\n",
       "      <th>text</th>\n",
       "      <th>time</th>\n",
       "      <th>time_parsed</th>\n",
       "      <th>votes</th>\n",
       "      <th>video_id</th>\n",
       "      <th>date</th>\n",
       "      <th>sentiment_label</th>\n",
       "      <th>sentiment_score</th>\n",
       "    </tr>\n",
       "  </thead>\n",
       "  <tbody>\n",
       "    <tr>\n",
       "      <th>0</th>\n",
       "      <td>0</td>\n",
       "      <td>@LMLewis</td>\n",
       "      <td>UCNUa3f8nwYg-Kn1v4u5wrtQ</td>\n",
       "      <td>UgxbXce9xz7a27nVOyl4AaABAg</td>\n",
       "      <td>False</td>\n",
       "      <td>False</td>\n",
       "      <td>Blinken deserves to be known as the Butcher of Foggy Bottom, using empty words to try to deflect criticism of the US government's participation in genocide.</td>\n",
       "      <td>2 hours ago</td>\n",
       "      <td>1.699120e+09</td>\n",
       "      <td>0</td>\n",
       "      <td>FUzLx1l37RE</td>\n",
       "      <td>2023-11-04 18:38:34</td>\n",
       "      <td>NEGATIVE</td>\n",
       "      <td>0.998373</td>\n",
       "    </tr>\n",
       "    <tr>\n",
       "      <th>1</th>\n",
       "      <td>1</td>\n",
       "      <td>@lovellewilliams5531</td>\n",
       "      <td>UCm9ztdJUAMpUNipdNxAHN_g</td>\n",
       "      <td>Ugx7aiPfji7zYkmV1k54AaABAg</td>\n",
       "      <td>False</td>\n",
       "      <td>False</td>\n",
       "      <td>The United States are supporting the killing of civilians</td>\n",
       "      <td>4 hours ago</td>\n",
       "      <td>1.699112e+09</td>\n",
       "      <td>0</td>\n",
       "      <td>FUzLx1l37RE</td>\n",
       "      <td>2023-11-04 16:38:34</td>\n",
       "      <td>NEGATIVE</td>\n",
       "      <td>0.877355</td>\n",
       "    </tr>\n",
       "    <tr>\n",
       "      <th>2</th>\n",
       "      <td>2</td>\n",
       "      <td>@noryaminmatariffin3029</td>\n",
       "      <td>UCCyvX_gd5zANsFYXnDBpuXw</td>\n",
       "      <td>UgywKu6FT8TWbssFsnJ4AaABAg</td>\n",
       "      <td>False</td>\n",
       "      <td>False</td>\n",
       "      <td>So why hospitals, ambulance, civiliance, refuge camp  are bombing is IDF blind! or you just a clown</td>\n",
       "      <td>16 hours ago</td>\n",
       "      <td>1.699069e+09</td>\n",
       "      <td>0</td>\n",
       "      <td>FUzLx1l37RE</td>\n",
       "      <td>2023-11-04 04:38:34</td>\n",
       "      <td>NEGATIVE</td>\n",
       "      <td>0.999448</td>\n",
       "    </tr>\n",
       "    <tr>\n",
       "      <th>3</th>\n",
       "      <td>3</td>\n",
       "      <td>@Not_Today___</td>\n",
       "      <td>UCmicKai8OhhPUpOfG3VTFvA</td>\n",
       "      <td>UgwXQG7Qt7HVKsSTC7F4AaABAg</td>\n",
       "      <td>False</td>\n",
       "      <td>False</td>\n",
       "      <td>I'm an American. I think this war started on October 7th and that before that Israel never did anything wrong. I have the right to free speech and I'm gonna use it, even though I'm this: 🤣</td>\n",
       "      <td>1 day ago</td>\n",
       "      <td>1.699040e+09</td>\n",
       "      <td>0</td>\n",
       "      <td>FUzLx1l37RE</td>\n",
       "      <td>2023-11-03 20:38:34</td>\n",
       "      <td>POSITIVE</td>\n",
       "      <td>0.989705</td>\n",
       "    </tr>\n",
       "    <tr>\n",
       "      <th>4</th>\n",
       "      <td>4</td>\n",
       "      <td>@benzo2632</td>\n",
       "      <td>UCA0boZvrgR4mbnQ2Bi65QKQ</td>\n",
       "      <td>UgxnJo7jgnD3Qcg6aAB4AaABAg</td>\n",
       "      <td>False</td>\n",
       "      <td>False</td>\n",
       "      <td>WAR CRIMES SUPORTED BY USA ,,,,</td>\n",
       "      <td>1 day ago</td>\n",
       "      <td>1.699040e+09</td>\n",
       "      <td>0</td>\n",
       "      <td>FUzLx1l37RE</td>\n",
       "      <td>2023-11-03 20:38:34</td>\n",
       "      <td>NEGATIVE</td>\n",
       "      <td>0.986656</td>\n",
       "    </tr>\n",
       "  </tbody>\n",
       "</table>\n",
       "</div>"
      ],
      "text/plain": [
       "   Unnamed: 0                   author                   channel  \\\n",
       "0           0                 @LMLewis  UCNUa3f8nwYg-Kn1v4u5wrtQ   \n",
       "1           1     @lovellewilliams5531  UCm9ztdJUAMpUNipdNxAHN_g   \n",
       "2           2  @noryaminmatariffin3029  UCCyvX_gd5zANsFYXnDBpuXw   \n",
       "3           3            @Not_Today___  UCmicKai8OhhPUpOfG3VTFvA   \n",
       "4           4               @benzo2632  UCA0boZvrgR4mbnQ2Bi65QKQ   \n",
       "\n",
       "                          cid  heart  reply  \\\n",
       "0  UgxbXce9xz7a27nVOyl4AaABAg  False  False   \n",
       "1  Ugx7aiPfji7zYkmV1k54AaABAg  False  False   \n",
       "2  UgywKu6FT8TWbssFsnJ4AaABAg  False  False   \n",
       "3  UgwXQG7Qt7HVKsSTC7F4AaABAg  False  False   \n",
       "4  UgxnJo7jgnD3Qcg6aAB4AaABAg  False  False   \n",
       "\n",
       "                                                                                                                                                                                           text  \\\n",
       "0                                  Blinken deserves to be known as the Butcher of Foggy Bottom, using empty words to try to deflect criticism of the US government's participation in genocide.   \n",
       "1                                                                                                                                     The United States are supporting the killing of civilians   \n",
       "2                                                                                           So why hospitals, ambulance, civiliance, refuge camp  are bombing is IDF blind! or you just a clown   \n",
       "3  I'm an American. I think this war started on October 7th and that before that Israel never did anything wrong. I have the right to free speech and I'm gonna use it, even though I'm this: 🤣   \n",
       "4                                                                                                                                                               WAR CRIMES SUPORTED BY USA ,,,,   \n",
       "\n",
       "           time   time_parsed votes     video_id                date  \\\n",
       "0   2 hours ago  1.699120e+09     0  FUzLx1l37RE 2023-11-04 18:38:34   \n",
       "1   4 hours ago  1.699112e+09     0  FUzLx1l37RE 2023-11-04 16:38:34   \n",
       "2  16 hours ago  1.699069e+09     0  FUzLx1l37RE 2023-11-04 04:38:34   \n",
       "3     1 day ago  1.699040e+09     0  FUzLx1l37RE 2023-11-03 20:38:34   \n",
       "4     1 day ago  1.699040e+09     0  FUzLx1l37RE 2023-11-03 20:38:34   \n",
       "\n",
       "  sentiment_label  sentiment_score  \n",
       "0        NEGATIVE         0.998373  \n",
       "1        NEGATIVE         0.877355  \n",
       "2        NEGATIVE         0.999448  \n",
       "3        POSITIVE         0.989705  \n",
       "4        NEGATIVE         0.986656  "
      ]
     },
     "execution_count": 24,
     "metadata": {},
     "output_type": "execute_result"
    }
   ],
   "source": [
    "df_comments.head()"
   ]
  }
 ],
 "metadata": {
  "kernelspec": {
   "display_name": "Python 3 (ipykernel)",
   "language": "python",
   "name": "python3"
  },
  "language_info": {
   "codemirror_mode": {
    "name": "ipython",
    "version": 3
   },
   "file_extension": ".py",
   "mimetype": "text/x-python",
   "name": "python",
   "nbconvert_exporter": "python",
   "pygments_lexer": "ipython3",
   "version": "3.11.5"
  }
 },
 "nbformat": 4,
 "nbformat_minor": 5
}
