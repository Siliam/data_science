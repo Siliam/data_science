{
 "cells": [
  {
   "cell_type": "code",
   "execution_count": 1,
   "id": "789a9a55",
   "metadata": {},
   "outputs": [],
   "source": [
    "import os\n",
    "import time\n",
    "import requests\n",
    "from bs4 import BeautifulSoup\n",
    "from tqdm.notebook import tqdm\n",
    "import string\n",
    "from unidecode import unidecode\n",
    "import pickle\n",
    "import json"
   ]
  },
  {
   "cell_type": "code",
   "execution_count": 2,
   "id": "79d8661f",
   "metadata": {},
   "outputs": [],
   "source": [
    "# List from: https://fr.wikipedia.org/wiki/Cat%C3%A9gorie:Rappeur_fran%C3%A7ais\n",
    "rappers_list = [unidecode(l.strip().lower()) for l in open('rappers.txt', encoding=\"utf8\")]"
   ]
  },
  {
   "cell_type": "code",
   "execution_count": 3,
   "id": "027ba163",
   "metadata": {},
   "outputs": [],
   "source": [
    "rappers_list = [''.join(c if c in string.ascii_lowercase or c.isnumeric() else '-' for c in name ) for name in rappers_list]"
   ]
  },
  {
   "cell_type": "code",
   "execution_count": 4,
   "id": "07ee0ab3",
   "metadata": {},
   "outputs": [
    {
     "data": {
      "text/plain": [
       "381"
      ]
     },
     "execution_count": 4,
     "metadata": {},
     "output_type": "execute_result"
    }
   ],
   "source": [
    "len(rappers_list)"
   ]
  },
  {
   "cell_type": "code",
   "execution_count": 5,
   "id": "015f1e87",
   "metadata": {},
   "outputs": [],
   "source": [
    "def get_song_names(artist_name):\n",
    "    response = requests.get(f'https://www.paroles.net/{artist_name}')\n",
    "    soup = BeautifulSoup(response.text, 'html.parser')\n",
    "    songs_list = []\n",
    "    main_div = soup.find(\"div\", {\"id\": \"main\"})\n",
    "    \n",
    "    if main_div:\n",
    "        for table in main_div.find_all(\"table\", {\"class\": \"song-list\"}):\n",
    "            if 'tab-mobile' in table.attrs['class']:\n",
    "                continue\n",
    "            for song in table.find_all(\"td\", {\"class\": \"song-name\"}):\n",
    "                try:\n",
    "                    song_name = song.find('a').text\n",
    "                    song_link = song.find('a')['href']\n",
    "                    songs_list.append((song_name, song_link))\n",
    "                except:\n",
    "                    print(\"Problem with\", artist_name)\n",
    "    return songs_list"
   ]
  },
  {
   "cell_type": "raw",
   "id": "067c1281",
   "metadata": {
    "scrolled": false
   },
   "source": [
    "songs_lists = {}\n",
    "for i, name in enumerate(tqdm(rappers_list)):\n",
    "    songs_lists[name] = get_song_names(name)\n",
    "    if len(songs_lists[name]) > 0:\n",
    "        extra_songs = get_song_names(name+'-2')\n",
    "        time.sleep(1)\n",
    "        if extra_songs != songs_lists[name]:\n",
    "            songs_lists[name].extend(extra_songs)\n",
    "            time.sleep(1)"
   ]
  },
  {
   "cell_type": "markdown",
   "id": "b4a56c80",
   "metadata": {},
   "source": [
    "pickle.dump(songs_lists, open('songs_lists.pickle', 'wb'))"
   ]
  },
  {
   "cell_type": "code",
   "execution_count": 6,
   "id": "dea161f6",
   "metadata": {},
   "outputs": [],
   "source": [
    "songs_lists = pickle.load(open('songs_lists.pickle', 'rb'))"
   ]
  },
  {
   "cell_type": "code",
   "execution_count": 7,
   "id": "5a228e5a",
   "metadata": {
    "scrolled": true
   },
   "outputs": [
    {
     "data": {
      "text/plain": [
       "[('Tandem', '/bigflo-oli/paroles-tandem'),\n",
       " ('FREESTYLE EN MODE NEW WAVE !',\n",
       "  '/bigflo-oli/paroles-freestyle-en-mode-new-wave'),\n",
       " ('FREESTYLE TECHNIQUE 2023 !',\n",
       "  '/bigflo-oli/paroles-freestyle-technique-2023'),\n",
       " (\"FREESTYLE À L'ANCIENNE\", '/bigflo-oli/paroles-freestyle-a-l-ancienne'),\n",
       " ('30 ans', '/bigflo-oli/paroles-30-ans'),\n",
       " ('OLI Freestyle Planète Rap',\n",
       "  '/bigflo-oli/paroles-oli-freestyle-planete-rap'),\n",
       " ('Alors Alors', '/bigflo-oli/paroles-alors-alors'),\n",
       " ('Bienvenue Chez Moi', '/bigflo-oli/paroles-bienvenue-chez-moi'),\n",
       " ('Comme d’hab', '/bigflo-oli/paroles-comme-d-hab'),\n",
       " ('Coup De Blues/Soleil', '/bigflo-oli/paroles-coup-de-blues-soleil'),\n",
       " ('Coup De Vieux', '/bigflo-oli/paroles-coup-de-vieux'),\n",
       " ('Demain', '/bigflo-oli/paroles-demain'),\n",
       " ('Dernière', '/bigflo-oli/paroles-derniere'),\n",
       " ('Dommage', '/bigflo-oli/paroles-dommage'),\n",
       " ('Gangsta', '/bigflo-oli/paroles-gangsta'),\n",
       " ('Insolent #4', '/bigflo-oli/paroles-insolent-4'),\n",
       " (\"J'étais Pas Là\", '/bigflo-oli/paroles-j-etais-pas-la'),\n",
       " ('Je suis', '/bigflo-oli/paroles-je-suis'),\n",
       " (\"La Vie D'après\", '/bigflo-oli/paroles-la-vie-d-apres'),\n",
       " ('Les Gens Tristes', '/bigflo-oli/paroles-les-gens-tristes'),\n",
       " ('Mytho', '/bigflo-oli/paroles-mytho'),\n",
       " ('OLI Freestyle Planète Rap',\n",
       "  '/bigflo-oli/paroles-oli-freestyle-planete-rap'),\n",
       " ('Papa', '/bigflo-oli/paroles-papa'),\n",
       " ('Personne', '/bigflo-oli/paroles-personne'),\n",
       " ('Plus tard', '/bigflo-oli/paroles-plus-tard'),\n",
       " ('Pour Un Pote  (Brice de Nice 3)',\n",
       "  '/bigflo-oli/paroles-pour-un-pote-brice-de-nice-3'),\n",
       " ('Promesses', '/bigflo-oli/paroles-promesses'),\n",
       " ('Sacré Bordel', '/bigflo-oli/paroles-sacre-bordel'),\n",
       " ('Salope !', '/bigflo-oli/paroles-salope'),\n",
       " ('Sur La Lune', '/bigflo-oli/paroles-sur-la-lune'),\n",
       " ('30 ans', '/bigflo-oli/paroles-30-ans'),\n",
       " ('À mon retour', '/bigflo-oli/paroles-a-mon-retour'),\n",
       " ('Allez le stade !', '/bigflo-oli/paroles-allez-le-stade'),\n",
       " ('Alors Alors', '/bigflo-oli/paroles-alors-alors'),\n",
       " ('Atlantis', '/bigflo-oli/paroles-atlantis'),\n",
       " ('Au Revoir', '/bigflo-oli/paroles-au-revoir'),\n",
       " (\"Aujourd'hui\", '/bigflo-oli/paroles-aujourd-hui'),\n",
       " ('Autre Part', '/bigflo-oli/paroles-autre-part'),\n",
       " ('Bienvenue Chez Moi', '/bigflo-oli/paroles-bienvenue-chez-moi'),\n",
       " ('Bigflo - Dioscures (Freestyle)',\n",
       "  '/bigflo-oli/paroles-bigflo-dioscures-freestyle'),\n",
       " ('Bons élèves', '/bigflo-oli/paroles-bons-eleves'),\n",
       " ('Booba', '/bigflo-oli/paroles-booba'),\n",
       " (\"C'est Pas Du Rap\", '/bigflo-oli/paroles-c-est-pas-du-rap'),\n",
       " (\"C'est Que Du Rap\", '/bigflo-oli/paroles-c-est-que-du-rap'),\n",
       " (\"C'est que le début\", '/bigflo-oli/paroles-c-est-que-le-debut'),\n",
       " (\"C'est Qui Ces Deux-Là?\", '/bigflo-oli/paroles-c-est-qui-ces-deux-la'),\n",
       " ('Ca Coute Rien', '/bigflo-oli/paroles-ca-coute-rien'),\n",
       " ('Ca Va Beaucoup Trop Vite', '/bigflo-oli/paroles-ca-va-beaucoup-trop-vite'),\n",
       " ('Ça va trop vite', '/bigflo-oli/paroles-ca-va-trop-vite'),\n",
       " ('Château De Sable', '/bigflo-oli/paroles-chateau-de-sable'),\n",
       " ('Cigarette', '/bigflo-oli/paroles-cigarette'),\n",
       " ('Comme d’hab', '/bigflo-oli/paroles-comme-d-hab'),\n",
       " ('Copier/Coller', '/bigflo-oli/paroles-copier-coller'),\n",
       " ('Coup De Blues/Soleil', '/bigflo-oli/paroles-coup-de-blues-soleil'),\n",
       " ('Coup De Vieux', '/bigflo-oli/paroles-coup-de-vieux'),\n",
       " ('Dans Mon Lit', '/bigflo-oli/paroles-dans-mon-lit'),\n",
       " (\"Début d'Empire\", '/bigflo-oli/paroles-debut-d-empire'),\n",
       " ('Demain', '/bigflo-oli/paroles-demain'),\n",
       " (\"Demain C'est Nous\", '/bigflo-oli/paroles-demain-c-est-nous'),\n",
       " ('Dernière', '/bigflo-oli/paroles-derniere'),\n",
       " ('Dites rien à ma mère', '/bigflo-oli/paroles-dites-rien-a-ma-mere'),\n",
       " ('Dommage', '/bigflo-oli/paroles-dommage'),\n",
       " (\"Du Disque Dur Au Disque D'or\",\n",
       "  '/bigflo-oli/paroles-du-disque-dur-au-disque-d-or'),\n",
       " ('Fan  ', '/bigflo-oli/paroles-fan'),\n",
       " ('Ferme Les Yeux', '/bigflo-oli/paroles-ferme-les-yeux'),\n",
       " ('Florian Par\\xa0Bigflo', '/bigflo-oli/paroles-florian-par-bigflo'),\n",
       " ('Freestyle', '/bigflo-oli/paroles-freestyle'),\n",
       " (\"FREESTYLE À L'ANCIENNE\", '/bigflo-oli/paroles-freestyle-a-l-ancienne'),\n",
       " ('FREESTYLE EN MODE NEW WAVE !',\n",
       "  '/bigflo-oli/paroles-freestyle-en-mode-new-wave'),\n",
       " ('FREESTYLE TECHNIQUE 2023 !',\n",
       "  '/bigflo-oli/paroles-freestyle-technique-2023'),\n",
       " ('Gangsta', '/bigflo-oli/paroles-gangsta'),\n",
       " (\"Ici c'est Toulouse\", '/bigflo-oli/paroles-ici-c-est-toulouse'),\n",
       " ('Il Est Où Ton Frère ?', '/bigflo-oli/paroles-il-est-ou-ton-frere-r'),\n",
       " ('Insolent #1 : Un soir au studio',\n",
       "  '/bigflo-oli/paroles-insolent-1-un-soir-au-studio'),\n",
       " ('Insolent #2', '/bigflo-oli/paroles-insolent-2'),\n",
       " ('Insolent #3', '/bigflo-oli/paroles-insolent-3'),\n",
       " ('Insolent #4', '/bigflo-oli/paroles-insolent-4'),\n",
       " (\"J'attends la vague (Solo Bigflo)\",\n",
       "  '/bigflo-oli/paroles-j-attends-la-vague-solo-bigflo'),\n",
       " (\"J'étais Pas Là\", '/bigflo-oli/paroles-j-etais-pas-la'),\n",
       " ('Je suis', '/bigflo-oli/paroles-je-suis'),\n",
       " ('Jeunesse Influençable', '/bigflo-oli/paroles-jeunesse-influencable'),\n",
       " ('José et Amar', '/bigflo-oli/paroles-jose-et-amar'),\n",
       " (\"L'héritage\", '/bigflo-oli/paroles-l-heritage'),\n",
       " ('La Cour Des Grands', '/bigflo-oli/paroles-la-cour-des-grands'),\n",
       " ('La Familia', '/bigflo-oli/paroles-la-familia'),\n",
       " ('La Lettre', '/bigflo-oli/paroles-la-lettre'),\n",
       " ('La seule', '/bigflo-oli/paroles-la-seule'),\n",
       " ('La Tempête', '/bigflo-oli/paroles-la-tempete'),\n",
       " (\"La Vie D'après\", '/bigflo-oli/paroles-la-vie-d-apres'),\n",
       " ('La Vie De Rêve', '/bigflo-oli/paroles-la-vie-de-reve'),\n",
       " ('La Vie Normale', '/bigflo-oli/paroles-la-vie-normale'),\n",
       " ('La Vraie Vie', '/bigflo-oli/paroles-la-vraie-vie'),\n",
       " ('Le Bijoutier', '/bigflo-oli/paroles-le-bijoutier'),\n",
       " ('Le Bouchon', '/bigflo-oli/paroles-le-bouchon'),\n",
       " ('Le Cordon', '/bigflo-oli/paroles-le-cordon'),\n",
       " ('Le Philosophe Sans La Barbe',\n",
       "  '/bigflo-oli/paroles-le-philosophe-sans-la-barbe'),\n",
       " ('Le Rap Avant La Tempête #1',\n",
       "  '/bigflo-oli/paroles-le-rap-avant-la-tempete-1'),\n",
       " ('Le rap avant la tempête #2 ',\n",
       "  '/bigflo-oli/paroles-le-rap-avant-la-tempete-2'),\n",
       " ('Le Son Préféré De Mes Potes',\n",
       "  '/bigflo-oli/paroles-le-son-prefere-de-mes-potes'),\n",
       " ('Les Gens Tristes', '/bigflo-oli/paroles-les-gens-tristes'),\n",
       " ('Libre', '/bigflo-oli/paroles-libre'),\n",
       " ('Lili', '/bigflo-oli/paroles-lili'),\n",
       " ('Maman', '/bigflo-oli/paroles-maman'),\n",
       " ('Marco', '/bigflo-oli/paroles-marco'),\n",
       " ('Miroir', '/bigflo-oli/paroles-miroir'),\n",
       " ('Monsieur tout le monde', '/bigflo-oli/paroles-monsieur-tout-le-monde'),\n",
       " ('Mytho', '/bigflo-oli/paroles-mytho'),\n",
       " ('Nik Ta Mère', '/bigflo-oli/paroles-nik-ta-mere'),\n",
       " ('Nous Aussi', '/bigflo-oli/paroles-nous-aussi'),\n",
       " ('Nous Aussi 2', '/bigflo-oli/paroles-nous-aussi-2'),\n",
       " ('Oli - Dioscures (Freestyle)',\n",
       "  '/bigflo-oli/paroles-oli-dioscures-freestyle'),\n",
       " ('OLI Freestyle Planète Rap',\n",
       "  '/bigflo-oli/paroles-oli-freestyle-planete-rap'),\n",
       " ('Olivio', '/bigflo-oli/paroles-olivio'),\n",
       " ('Papa', '/bigflo-oli/paroles-papa'),\n",
       " ('Personne', '/bigflo-oli/paroles-personne'),\n",
       " ('Plus tard', '/bigflo-oli/paroles-plus-tard'),\n",
       " ('Pour Un Pote  (Brice de Nice 3)',\n",
       "  '/bigflo-oli/paroles-pour-un-pote-brice-de-nice-3'),\n",
       " ('Pourquoi pas nous ?', '/bigflo-oli/paroles-pourquoi-pas-nous'),\n",
       " ('Promesses', '/bigflo-oli/paroles-promesses'),\n",
       " ('Quand même', '/bigflo-oli/paroles-quand-meme'),\n",
       " ('Raccroche', '/bigflo-oli/paroles-raccroche'),\n",
       " ('Rendez vous là-haut', '/bigflo-oli/paroles-rendez-vous-la-haut'),\n",
       " ('Rentrez Chez Vous !', '/bigflo-oli/paroles-rentrez-chez-vous'),\n",
       " ('Répondez-Moi', '/bigflo-oli/paroles-repondez-moi'),\n",
       " ('Sac À Dos', '/bigflo-oli/paroles-sac-a-dos'),\n",
       " ('Sacré Bordel', '/bigflo-oli/paroles-sacre-bordel'),\n",
       " ('Salope !', '/bigflo-oli/paroles-salope'),\n",
       " ('Sans Transition', '/bigflo-oli/paroles-sans-transition'),\n",
       " ('Shape of you - Berywam', '/bigflo-oli/paroles-shape-of-you-berywam'),\n",
       " ('Stade', '/bigflo-oli/paroles-stade')]"
      ]
     },
     "execution_count": 7,
     "metadata": {},
     "output_type": "execute_result"
    }
   ],
   "source": [
    "songs_lists['bigflo-oli']"
   ]
  },
  {
   "cell_type": "code",
   "execution_count": 8,
   "id": "5cb5f022",
   "metadata": {
    "scrolled": false
   },
   "outputs": [
    {
     "data": {
      "text/plain": [
       "[('Chérie', '/aya-nakamura/paroles-cherie'),\n",
       " ('Come back', '/aya-nakamura/paroles-come-back'),\n",
       " ('Bisous', '/aya-nakamura/paroles-bisous'),\n",
       " ('Fin', '/aya-nakamura/paroles-fin'),\n",
       " ('Chacun', '/aya-nakamura/paroles-chacun'),\n",
       " ('Coller', '/aya-nakamura/paroles-coller'),\n",
       " ('40%', '/aya-nakamura/paroles-40'),\n",
       " ('Baby', '/aya-nakamura/paroles-baby'),\n",
       " ('Belek', '/aya-nakamura/paroles-bellek'),\n",
       " ('Biff', '/aya-nakamura/paroles-biff'),\n",
       " ('Bloqué', '/aya-nakamura/paroles-bloque'),\n",
       " ('Bobo', '/aya-nakamura/paroles-bobo'),\n",
       " ('Ça Blesse', '/aya-nakamura/paroles-ca-blesse'),\n",
       " ('Cadeau', '/aya-nakamura/paroles-cadeau'),\n",
       " ('Chacun', '/aya-nakamura/paroles-chacun'),\n",
       " ('Chérie', '/aya-nakamura/paroles-cherie'),\n",
       " ('Claqué', '/aya-nakamura/paroles-claque'),\n",
       " ('Coller', '/aya-nakamura/paroles-coller'),\n",
       " ('Comportement', '/aya-nakamura/paroles-comportement'),\n",
       " ('Copines', '/aya-nakamura/paroles-copines'),\n",
       " ('Corazon', '/aya-nakamura/paroles-corazon'),\n",
       " ('Daddy', '/aya-nakamura/paroles-daddy'),\n",
       " ('Dégaine', '/aya-nakamura/paroles-degaine'),\n",
       " ('Djadja', '/aya-nakamura/paroles-djadja'),\n",
       " ('Djadja (Remix)', '/aya-nakamura/paroles-djadja-remix'),\n",
       " ('Doudou', '/aya-nakamura/paroles-doudou'),\n",
       " ('Fly', '/aya-nakamura/paroles-fly'),\n",
       " ('Haut niveau', '/aya-nakamura/paroles-haut-niveau'),\n",
       " ('Hot', '/aya-nakamura/paroles-hot'),\n",
       " ('Idiot', '/aya-nakamura/paroles-idiot'),\n",
       " (\"J'ai Mal\", '/aya-nakamura/paroles-j-ai-mal'),\n",
       " (\"J'ai Mal (DNK 2023)\", '/aya-nakamura/paroles-j-ai-mal-dnk-2023'),\n",
       " ('Jolie Nana', '/aya-nakamura/paroles-jolie-nana'),\n",
       " ('La dot', '/aya-nakamura/paroles-la-dot'),\n",
       " ('La Machine', '/aya-nakamura/paroles-la-machine'),\n",
       " ('Le goût', '/aya-nakamura/paroles-le-gout'),\n",
       " ('Love De Moi', '/aya-nakamura/paroles-love-de-moi'),\n",
       " ('Méchante', '/aya-nakamura/paroles-mechante'),\n",
       " ('Mon Chéri', '/aya-nakamura/paroles-mon-cheri'),\n",
       " ('Mon Lossa', '/aya-nakamura/paroles-mon-lossa'),\n",
       " ('Nirvana', '/aya-nakamura/paroles-nirvana'),\n",
       " ('Plus jamais', '/aya-nakamura/paroles-plus-jamais'),\n",
       " ('Pookie', '/aya-nakamura/paroles-pookie'),\n",
       " ('Pookie (Remix Capo Plaza)',\n",
       "  '/aya-nakamura/paroles-pookie-remix-capo-plaza'),\n",
       " ('Pookie (Remix eat Lil Pump)',\n",
       "  '/aya-nakamura/paroles-pookie-remix-eat-lil-pump'),\n",
       " ('Préféré', '/aya-nakamura/paroles-prefere'),\n",
       " ('Sentiments grandissants', '/aya-nakamura/paroles-sentiments-grandissants'),\n",
       " ('SMS', '/aya-nakamura/paroles-sms'),\n",
       " ('Soldat', '/aya-nakamura/paroles-soldat'),\n",
       " ('Sucette', '/aya-nakamura/paroles-sucette'),\n",
       " ('Sucette (Remix)', '/aya-nakamura/paroles-sucette-remix'),\n",
       " (\"T'as peur\", '/aya-nakamura/paroles-t-as-peur'),\n",
       " ('Tchop', '/aya-nakamura/paroles-tchop'),\n",
       " ('Tous les jours', '/aya-nakamura/paroles-tous-les-jours'),\n",
       " ('VIP', '/aya-nakamura/paroles-vip'),\n",
       " ('40%', '/aya-nakamura/paroles-40'),\n",
       " ('Ailleurs', '/aya-nakamura/paroles-ailleurs'),\n",
       " ('Angela', '/aya-nakamura/paroles-angela'),\n",
       " ('Baby', '/aya-nakamura/paroles-baby'),\n",
       " ('Belek', '/aya-nakamura/paroles-bellek'),\n",
       " ('Biff', '/aya-nakamura/paroles-biff'),\n",
       " ('Bisous', '/aya-nakamura/paroles-bisous'),\n",
       " ('Bloqué', '/aya-nakamura/paroles-bloque'),\n",
       " ('Bobo', '/aya-nakamura/paroles-bobo'),\n",
       " ('Brisé', '/aya-nakamura/paroles-brise'),\n",
       " ('Ça Blesse', '/aya-nakamura/paroles-ca-blesse'),\n",
       " ('Ça fait mal', '/aya-nakamura/paroles-ca-fait-mal'),\n",
       " ('Cadeau', '/aya-nakamura/paroles-cadeau'),\n",
       " ('Chacun', '/aya-nakamura/paroles-chacun'),\n",
       " ('Chérie', '/aya-nakamura/paroles-cherie'),\n",
       " ('Claqué', '/aya-nakamura/paroles-claque'),\n",
       " ('Coller', '/aya-nakamura/paroles-coller'),\n",
       " ('Come back', '/aya-nakamura/paroles-come-back'),\n",
       " ('Comportement', '/aya-nakamura/paroles-comportement'),\n",
       " ('Copines', '/aya-nakamura/paroles-copines'),\n",
       " ('Corazon', '/aya-nakamura/paroles-corazon'),\n",
       " ('Criminel', '/aya-nakamura/paroles-criminel'),\n",
       " ('Daddy', '/aya-nakamura/paroles-daddy'),\n",
       " ('Dans ma bulle', '/aya-nakamura/paroles-dans-ma-bulle'),\n",
       " ('Debout', '/aya-nakamura/paroles-debout'),\n",
       " ('Dégaine', '/aya-nakamura/paroles-degaine'),\n",
       " ('Djadja', '/aya-nakamura/paroles-djadja'),\n",
       " ('Djadja (Remix)', '/aya-nakamura/paroles-djadja-remix'),\n",
       " ('Doudou', '/aya-nakamura/paroles-doudou'),\n",
       " ('Drogué', '/aya-nakamura/paroles-drogue'),\n",
       " ('Faya', '/aya-nakamura/paroles-faya'),\n",
       " ('Fin', '/aya-nakamura/paroles-fin'),\n",
       " ('Fly', '/aya-nakamura/paroles-fly'),\n",
       " ('Fuego', '/aya-nakamura/paroles-fuego'),\n",
       " ('Gang', '/aya-nakamura/paroles-gang'),\n",
       " ('Gangster', '/aya-nakamura/paroles-gangster'),\n",
       " ('Haut niveau', '/aya-nakamura/paroles-haut-niveau'),\n",
       " ('Hot', '/aya-nakamura/paroles-hot'),\n",
       " ('Idiot', '/aya-nakamura/paroles-idiot'),\n",
       " (\"J'ai Mal\", '/aya-nakamura/paroles-j-ai-mal'),\n",
       " (\"J'ai Mal (DNK 2023)\", '/aya-nakamura/paroles-j-ai-mal-dnk-2023'),\n",
       " (\"J'ai mal part. 2\", '/aya-nakamura/paroles-j-ai-mal-part-2'),\n",
       " ('Jalousie', '/aya-nakamura/paroles-jalousie'),\n",
       " (\"Je n'ai pas besoin de toi\",\n",
       "  '/aya-nakamura/paroles-je-n-ai-pas-besoin-de-toi'),\n",
       " ('Jolie Nana', '/aya-nakamura/paroles-jolie-nana'),\n",
       " ('Karma', '/aya-nakamura/paroles-karma'),\n",
       " ('La dot', '/aya-nakamura/paroles-la-dot'),\n",
       " ('La Machine', '/aya-nakamura/paroles-la-machine'),\n",
       " ('Le goût', '/aya-nakamura/paroles-le-gout'),\n",
       " ('Le Passé', '/aya-nakamura/paroles-le-passe'),\n",
       " ('Love', '/aya-nakamura/paroles-love'),\n",
       " ('Love De Moi', '/aya-nakamura/paroles-love-de-moi'),\n",
       " ('Méchante', '/aya-nakamura/paroles-mechante'),\n",
       " ('Moi', '/aya-nakamura/paroles-moi'),\n",
       " ('Mon Chéri', '/aya-nakamura/paroles-mon-cheri'),\n",
       " ('Mon Lossa', '/aya-nakamura/paroles-mon-lossa'),\n",
       " ('Monaco', '/aya-nakamura/paroles-monaco'),\n",
       " ('Nirvana', '/aya-nakamura/paroles-nirvana'),\n",
       " ('Orphelin', '/aya-nakamura/paroles-orphelin'),\n",
       " ('Oublier', '/aya-nakamura/paroles-oublier'),\n",
       " ('Oula', '/aya-nakamura/paroles-oula'),\n",
       " ('Oumou Sangaré', '/aya-nakamura/paroles-oumou-sangare'),\n",
       " ('Papys', '/aya-nakamura/paroles-papys'),\n",
       " ('Plus jamais', '/aya-nakamura/paroles-plus-jamais'),\n",
       " ('Plus La Même', '/aya-nakamura/paroles-plus-la-meme'),\n",
       " ('Pompom', '/aya-nakamura/paroles-pompom'),\n",
       " ('Pookie', '/aya-nakamura/paroles-pookie'),\n",
       " ('Pookie (Remix Capo Plaza)',\n",
       "  '/aya-nakamura/paroles-pookie-remix-capo-plaza'),\n",
       " ('Pookie (Remix eat Lil Pump)',\n",
       "  '/aya-nakamura/paroles-pookie-remix-eat-lil-pump'),\n",
       " ('Préféré', '/aya-nakamura/paroles-prefere'),\n",
       " ('Problèmes', '/aya-nakamura/paroles-problemes'),\n",
       " ('Réponds', '/aya-nakamura/paroles-reponds'),\n",
       " ('Sentiments grandissants', '/aya-nakamura/paroles-sentiments-grandissants'),\n",
       " ('Si tu savais', '/aya-nakamura/paroles-si-tu-savais'),\n",
       " ('SMS', '/aya-nakamura/paroles-sms'),\n",
       " ('Soirée parisienne', '/aya-nakamura/paroles-soiree-parisienne'),\n",
       " ('Soldat', '/aya-nakamura/paroles-soldat'),\n",
       " ('Sucette', '/aya-nakamura/paroles-sucette'),\n",
       " ('Sucette (Remix)', '/aya-nakamura/paroles-sucette-remix'),\n",
       " ('Super Héros', '/aya-nakamura/paroles-super-heros'),\n",
       " (\"T'as peur\", '/aya-nakamura/paroles-t-as-peur'),\n",
       " (\"T'as peur (Traduction)\", '/aya-nakamura/paroles-t-as-peur-traduction'),\n",
       " ('Tchop', '/aya-nakamura/paroles-tchop'),\n",
       " ('Tous les jours', '/aya-nakamura/paroles-tous-les-jours'),\n",
       " ('VIP', '/aya-nakamura/paroles-vip'),\n",
       " ('Whine up', '/aya-nakamura/paroles-whine-up')]"
      ]
     },
     "execution_count": 8,
     "metadata": {},
     "output_type": "execute_result"
    }
   ],
   "source": [
    "songs_lists['aya-nakamura']"
   ]
  },
  {
   "cell_type": "code",
   "execution_count": 9,
   "id": "1bcae83e",
   "metadata": {},
   "outputs": [
    {
     "data": {
      "text/plain": [
       "141"
      ]
     },
     "execution_count": 9,
     "metadata": {},
     "output_type": "execute_result"
    }
   ],
   "source": [
    "len(_)"
   ]
  },
  {
   "cell_type": "code",
   "execution_count": 10,
   "id": "a9876eba",
   "metadata": {},
   "outputs": [
    {
     "data": {
      "text/plain": [
       "55"
      ]
     },
     "execution_count": 10,
     "metadata": {},
     "output_type": "execute_result"
    }
   ],
   "source": [
    "len(get_song_names('aya-nakamura'))"
   ]
  },
  {
   "cell_type": "code",
   "execution_count": 11,
   "id": "3bc526eb",
   "metadata": {},
   "outputs": [],
   "source": [
    "def get_song_lyrics(song_url):\n",
    "    response = requests.get(f'https://www.paroles.net/{song_url}')\n",
    "    soup = BeautifulSoup(response.text, 'html.parser')\n",
    "    main_div = soup.find(\"div\", {\"class\": \"song-text\"})\n",
    "    \n",
    "    song_text = []\n",
    "    if main_div:\n",
    "        for div in main_div.find_all(\"div\"):\n",
    "            line = div.text.strip()\n",
    "            if line:\n",
    "                lines = line.split('\\r\\n')\n",
    "                song_text.extend(lines)\n",
    "    return song_text"
   ]
  },
  {
   "cell_type": "code",
   "execution_count": 12,
   "id": "78655a70",
   "metadata": {
    "scrolled": true
   },
   "outputs": [
    {
     "data": {
      "application/vnd.jupyter.widget-view+json": {
       "model_id": "b2c49c4d8796451cba190fe85af397f5",
       "version_major": 2,
       "version_minor": 0
      },
      "text/plain": [
       "  0%|          | 0/380 [00:00<?, ?it/s]"
      ]
     },
     "metadata": {},
     "output_type": "display_data"
    }
   ],
   "source": [
    "lyrics = {}\n",
    "progress = tqdm(songs_lists)\n",
    "for artist in progress:\n",
    "    songs_list = songs_lists[artist]\n",
    "    if songs_list == []:\n",
    "        continue\n",
    "    \n",
    "    progress.set_description(\"Processing \" + artist)\n",
    "    lyrics[artist] = {}\n",
    "    for song_title, song_url in songs_list:\n",
    "        song_lyrics = get_song_lyrics(song_url)\n",
    "        if lyrics:\n",
    "            lyrics[artist][song_title] = song_lyrics\n",
    "        time.sleep(0.5)"
   ]
  },
  {
   "cell_type": "code",
   "execution_count": 18,
   "id": "bf8e14cb",
   "metadata": {},
   "outputs": [
    {
     "data": {
      "text/plain": [
       "277"
      ]
     },
     "execution_count": 18,
     "metadata": {},
     "output_type": "execute_result"
    }
   ],
   "source": [
    "len(lyrics)"
   ]
  },
  {
   "cell_type": "code",
   "execution_count": 19,
   "id": "b18f30e0",
   "metadata": {},
   "outputs": [],
   "source": [
    "import json\n",
    "with open('all_lyrics_v2.json', 'w') as fp:\n",
    "    json.dump(lyrics, fp)"
   ]
  },
  {
   "cell_type": "code",
   "execution_count": 22,
   "id": "a6b5cf98",
   "metadata": {},
   "outputs": [],
   "source": [
    "pickle.dump(lyrics, open('songs_lyrics_v2.pickle', 'wb'))"
   ]
  },
  {
   "cell_type": "code",
   "execution_count": 25,
   "id": "2ecf595c",
   "metadata": {},
   "outputs": [],
   "source": [
    "from lingua import Language, LanguageDetectorBuilder\n",
    "languages = [Language.ENGLISH, Language.FRENCH]\n",
    "detector = LanguageDetectorBuilder.from_languages(*languages).build()"
   ]
  },
  {
   "cell_type": "code",
   "execution_count": 26,
   "id": "e39d0e70",
   "metadata": {},
   "outputs": [
    {
     "data": {
      "application/vnd.jupyter.widget-view+json": {
       "model_id": "e72de6a83fbf4465a936012ec34ccf25",
       "version_major": 2,
       "version_minor": 0
      },
      "text/plain": [
       "  0%|          | 0/277 [00:00<?, ?it/s]"
      ]
     },
     "metadata": {},
     "output_type": "display_data"
    }
   ],
   "source": [
    "only_french_lyrics = {}\n",
    "for artist in tqdm(lyrics):\n",
    "    for title, song_lyrics in lyrics[artist].items():\n",
    "        if detector.detect_language_of(' '.join(song_lyrics)) == Language.FRENCH:\n",
    "            if artist not in only_french_lyrics:\n",
    "                only_french_lyrics[artist] = {}\n",
    "            only_french_lyrics[artist][title] = song_lyrics"
   ]
  },
  {
   "cell_type": "code",
   "execution_count": 70,
   "id": "105274c5",
   "metadata": {},
   "outputs": [
    {
     "data": {
      "text/plain": [
       "271"
      ]
     },
     "execution_count": 70,
     "metadata": {},
     "output_type": "execute_result"
    }
   ],
   "source": [
    "len(only_french_lyrics)"
   ]
  },
  {
   "cell_type": "code",
   "execution_count": 71,
   "id": "25d5b055",
   "metadata": {},
   "outputs": [
    {
     "data": {
      "text/plain": [
       "35077"
      ]
     },
     "execution_count": 71,
     "metadata": {},
     "output_type": "execute_result"
    }
   ],
   "source": [
    "sum([len(' '.join(song_lyrics).split()) for artist, song_lyrics in only_french_lyrics.items()])"
   ]
  },
  {
   "cell_type": "code",
   "execution_count": 28,
   "id": "1964c548",
   "metadata": {},
   "outputs": [],
   "source": [
    "import json\n",
    "with open('all_lyrics_fr_v2.json', 'w') as fp:\n",
    "    json.dump(only_french_lyrics, fp)"
   ]
  },
  {
   "cell_type": "code",
   "execution_count": 29,
   "id": "42d7b24c",
   "metadata": {},
   "outputs": [],
   "source": [
    "pickle.dump(only_french_lyrics, open('french_lyrics_only_v2.pickle', 'wb'))"
   ]
  },
  {
   "cell_type": "code",
   "execution_count": 30,
   "id": "4aaa0161",
   "metadata": {},
   "outputs": [
    {
     "data": {
      "text/plain": [
       "dict_keys(['abd-al-malik', 'ademo', 'admiral-t', 'aketo', 'akhenaton', 'l-algerino', 'ali', 'alkpote', 'alonzo', 'alpha-5-20', 'ap', 'arm', 'ateyaba', 'axiom', 'aya-nakamura', 'pit-baccardi', 'bakar', 'gerard-baste', 'bekar', 'ben-j', 'benab', 'benash', 'bigflo-oli', 'big-red', 'black-kent', 'black-m', 'blacko', 'boef', 'bolemvn', 'booba', 'boostee', 'bosh', 'bouga', 'brasco', 'brav', 'lucio-bukowski', 'deen-burbigo', 'busta-flex', 'canardo', 'nick-conrad', 'cuizinier', 'da-uzi', 'daddy-lord-c', 'dadoo', 'dany-dan', 'abou-debeing', 'dee-nasty', 'def-bond', 'james-delleck', 'demi-portion', 'demon-one', 'diamond-deuklo', 'souleymane-diamanka', 'disiz', 'doc-gyneco', 'don-choa', 'doomams', 'dooz-kawa', 'dosseh', 'doums', 'driver', 'edge', 'ejm', 'eklips', 'elams', 'elh-kmer', 'benjamin-epps', 'eureka', 'f', 'fababy', 'fabe', 'faf-larage', 'fave', 'gael-faye', 'fefe', 'fisto', 'flynt', 'la-fouine', 'freeman', 'freeze-corleone', 'fuzati', 'gambi', 'gazo', 'georgio', 'gradur', 'grand-corps-malade', 'grems', 'gringe', 'seth-gueko', 'guizmo', 'guts', 'guy2bezbar', 'h-magnum', 'hk', 'hatik', 'hayce-lemsi', 'heuss-l-enfoire', 'hippocampe-fou', 'hornet-la-frappe', 'hyacinthe', 'j9ueve', 'kery-james', 'jarod', 'jazzy-bazz', 'joeystarr', 'sly-johnson', 'jok-air', 'jorrdee', 'josman', 'jp-manova', 'jr-o-crom', 'jul', 'kaaris', 'kacem-wapalek', 'kalash', 'kalash-criminel', 'kalash-l-afro', 'kamelancien', 'kamini', 'karlito', 'keblack', 'kekra', 'kemmler', 'kerchak', 'keros-n', 'manu-key', 'khali', 'kikesa', 'kobzx2z', 'kofs', 'kohndo', 'koma', 'kool-shen', 'lord-kossity', 'lacrim', 'la-feve', 'landy', 'larry', 'lartiste', 'laylow', 'leck', 'leeroy', 'lefa', 'jeff-le-nerf', 'lesram', 'leto', 'lim', 'lino', 'lionel-d', 'lomepal', 'lorenzo', 'joe-lucazz', 'luidji', 'lujipeka', 'luv-resval', 'm', 'mac-kregor', 'mac-tyer', 'maj-trafyk', 'maska', 'mc-circulaire', 'mc-janik', 'mc-solaar', 'mister-v', 'mister-you', 'moha-k', 'moha-la-squale', 'moha-mmz', 'mokobe', 'alibi-montana', 'morsay', 'mystik', 'n-o-s', 'nakk', 'naps', 'naza', 'nekfeu', 'nelick', 'nemir', 'nepal', 'nessbeal', 'nikus-pokus', 'ninho', 'niro', 'niska', 'nubi', 'o', 'oboy', 'ogb', 'okis', 'ol-kainry', 'oldpee', 'orelsan', 'panama-bende', 'passi', 'benjamin-paulin', 'al-peco', 'plk', 'eddy-de-pretto', 'prince-waly', 'oxmo-puccino', 'monsieur-r', 'le-rat-luciano', 'remy', 'retro-x', 'ridsa', 'riles', 'rim-k', 'riski', 'rk', 'rocca', 'roce', 'rohff', 'rouda', 'rounhaa', 'sadek', 'sako', 'salif', 'sir-samuel', 'sat-l-artificier', 'sauveur-eloheem', 'sch', 'sdm', 'sefyu', 'serane', 'shurik-n', 'siboy', 'sinik', 'six', 'sneazzy', 'so-la-lune', 'soon-e-mc', 'sopico', 'soprano', 'soso-maness', 's-pri-noir', 'still-fresh', 'stomy-bugsy', 'sultan', 'swagg-man', 'iron-sy', 'syrano', 'teki-latex', 'tepa', 'tiakola', 'tiitof', 'timal', 'tlf', 'tsew-the-kid', 'tunisiano', 'usky', 'vald', 'vegedream', 'vicelow', 'vin-s', 'vincha', 'virus', 'wacko', 'alpha-wann', 'werenoi', 'yannick', 'yl', 'young-chang-mc', 'youssoupha', 'youv-dee', 'zamdane', 'zesau', 'darryl-zeuja', 'ziak', 'zkr', 'zoxea'])"
      ]
     },
     "execution_count": 30,
     "metadata": {},
     "output_type": "execute_result"
    }
   ],
   "source": [
    "only_french_lyrics.keys()"
   ]
  },
  {
   "cell_type": "code",
   "execution_count": null,
   "id": "ecdfd857",
   "metadata": {},
   "outputs": [],
   "source": []
  }
 ],
 "metadata": {
  "kernelspec": {
   "display_name": "Python 3 (ipykernel)",
   "language": "python",
   "name": "python3"
  },
  "language_info": {
   "codemirror_mode": {
    "name": "ipython",
    "version": 3
   },
   "file_extension": ".py",
   "mimetype": "text/x-python",
   "name": "python",
   "nbconvert_exporter": "python",
   "pygments_lexer": "ipython3",
   "version": "3.11.5"
  }
 },
 "nbformat": 4,
 "nbformat_minor": 5
}
